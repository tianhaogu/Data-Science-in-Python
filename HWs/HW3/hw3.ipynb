{
 "cells": [
  {
   "cell_type": "markdown",
   "metadata": {
    "deletable": false,
    "editable": false,
    "nbgrader": {
     "cell_type": "markdown",
     "checksum": "2084ca4fae80eec62d4072e52e9766cf",
     "grade": false,
     "grade_id": "cell-2b9e17fb2c08a0f1",
     "locked": true,
     "schema_version": 3,
     "solution": false,
     "task": false
    }
   },
   "source": [
    "# Homework 3: Files, Objects, and Functional Programming (26 points)"
   ]
  },
  {
   "cell_type": "markdown",
   "metadata": {},
   "source": [
    "name: Tianhao Gu\n",
    "\n",
    "email: gtianhao@umich.edu\n",
    "\n",
    "This homework assignment took me 10 hours in total to complete. (Please help us to gauge the difficulty of the assignment.)"
   ]
  },
  {
   "cell_type": "markdown",
   "metadata": {
    "deletable": false,
    "editable": false,
    "nbgrader": {
     "cell_type": "markdown",
     "checksum": "dcd41b0916cd2e2b3552fd65ff6fd51f",
     "grade": false,
     "grade_id": "cell-9fc8abaaecff0e9a",
     "locked": true,
     "schema_version": 3,
     "solution": false,
     "task": false
    }
   },
   "source": [
    "## Collaboration Disclosure\n",
    "\n",
    "In the cell below, please list *everyone* with whom you discussed any of the homework problems, excluding only the GSIs and the course instructor. \n",
    "\n",
    "If you did not discuss the homework with anyone else, write __\"I did not discuss this homework with anyone.\"__\n",
    "\n",
    "Even if you discuss questions with other, the code you submit must be only yours. All work is checked with the [MOSS plagiarism detector](https://theory.stanford.edu/~aiken/moss/)."
   ]
  },
  {
   "cell_type": "markdown",
   "metadata": {},
   "source": [
    "I discussed Problem 2 with Yiyang Zhang, Problem 3 with Wentao Xiong. "
   ]
  },
  {
   "cell_type": "markdown",
   "metadata": {},
   "source": [
    "## Submission Instructions\n",
    "Your homework solutions should be written entirely in this Jupyter notebook file. Once it contains your solutions, you should submit this notebook through Canvas. \n",
    "\n",
    "\n",
    "Before submitting, please make sure to __Cells->Run All__ executes without errors; errors in your code translate directly to point deductions. \n",
    "In general, you don't need to do explicitly raise errors (e.g. with the ```raise``` function) if we don't ask you to in the problem statement.\n",
    "However, even in cases where we ask you to check for errors, your submission should not contain any examples of your functions actually raising those errors.\n",
    "\n",
    "Note that many parts of this homework where you are expected to type in code will have ```NotImplementedError()``` as a placeholder. You need to delete this function and replace it with your own code.\n",
    "\n",
    "## Importing libaries\n",
    "\n",
    "Unless specifically prohibited, you can import any Python library that comes included with Python (e.g. ```math```, ```datetime```) or that has been used in the lecture or homework prompts. You do not need any other libraries to complete the homework. Note that the graders will not install any additional libraries to grade an assignment.\n",
    "\n",
    "\n",
    "<!-- ## Coding style\n",
    "Please follow the [PEP8 guidelines](https://www.python.org/dev/peps/pep-0008/). The `pycodestyle_magic` package will remind you if you are not. To install it, run\n",
    "```\n",
    "pip install flake8 pycodestyle_magic\n",
    "```\n",
    "Once it is installed the following two Jupyter directives will enable syntax checking: -->\n",
    "\n",
    "## Homework tips \n",
    "\n",
    "1. **Start early!** If you run into trouble installing things or importing packages, it’s\n",
    "best to find those problems well in advance, not the night before your assignment is\n",
    "due when we cannot help you!\n",
    "\n",
    "2. **Make sure you back up your work!** At a minimum, do your work in a Dropbox\n",
    "folder. Better yet, use git, which is well worth your time and effort to learn.\n",
    "\n",
    "3. **Be careful to follow directions!** Remember that Python is case sensitive. If\n",
    "you are ask you to define a function called my_function and you define a function\n",
    "called My_Function, you will not receive full credit. You may want to copy-paste\n",
    "the function names below to make sure that the functions in your notebook match.\n",
    "\n",
    "## Error checking\n",
    "\n",
    "You do not need to do error checking (raising errors, etc.) in your code unless we explicitly ask you to so in a problem.\n",
    "\n",
    "## Coding style\n",
    "Please follow the [PEP8 guidelines](https://www.python.org/dev/peps/pep-0008/). The `pycodestyle_magic` package will remind you if you are not. To install it, run\n",
    "```\n",
    "pip install flake8 pycodestyle_magic\n",
    "```\n",
    "Once it is installed the following two Jupyter directives will enable syntax checking:\n",
    "\n",
    "\n",
    "## Nbgrader\n",
    "\n",
    "We will be using `nbgrader` to grade your jupyter notebook. You will notice some `read-only` cells in the assignment that contain `assert` statements. These are tests that your code must pass for your solution to be correct. If any of the tests fail, you will get an python error and not get points for that question. \n",
    "\n",
    "**Note:** The tests shown not are not comprehensive; additional tests will be used at grading time. You are encouraged to read the problem carefully and verify your code covers all possible cases.\n",
    "\n",
    "**Be careful:** If a jupyter notebook cell takes longer than `60s` to run, the autograder will not grade it and you will receive zero credit for that question."
   ]
  },
  {
   "cell_type": "markdown",
   "metadata": {
    "deletable": false,
    "editable": false,
    "nbgrader": {
     "cell_type": "markdown",
     "checksum": "cd56b86197f9bf75afa3ba851b6d7327",
     "grade": false,
     "grade_id": "cell-8f6047bb006e85ea",
     "locked": true,
     "schema_version": 3,
     "solution": false,
     "task": false
    }
   },
   "source": [
    "\n",
    "## Problem 1: Counting Word Bigrams (6 points) \n",
    "In your previous homework, you wrote a function for counting character bigrams. Now, let’s write a function for counting word bigrams. That is, for each pair of words, say, cat and dog, we want to count how many times the word “cat” occurred immediately before the word “dog”. We will represent this bigram by a tuple, `(’cat’, ’dog’)`. \n",
    "\n",
    "So, as an example, the fragment of poem,\n",
    "\n",
    "```\n",
    "Half a league, half a league, Half a league onward,\n",
    "All in the valley of Death Rode the six hundred.\n",
    "```\n",
    "\n",
    "includes the bigrams `(’half’, ’a’)` and `(’a’, ’league’)` both three times, the bigram `(’league’, ’half’)` appears twice, while the bigram `(’in’, ’the’)` appears only once.\n",
    "\n",
    "**Note:** For our purposes, we will ignore all spaces, newlines, punctuation and capitalization in our counting."
   ]
  },
  {
   "cell_type": "markdown",
   "metadata": {
    "deletable": false,
    "editable": false,
    "nbgrader": {
     "cell_type": "markdown",
     "checksum": "61a478e786df433699cd8037ae9305d5",
     "grade": false,
     "grade_id": "cell-b612215221758d6e",
     "locked": true,
     "schema_version": 3,
     "solution": false,
     "task": false
    }
   },
   "source": [
    "### Part 1 (2 points) \n",
    "Write a function `count_bigrams_in_file` that takes a ﬁlename `file` as its only argument. Your function should read from the given ﬁle, and return a dictionary whose keys are bigrams (given in the tuple form above), and values are the counts for those bigrams. \n",
    "\n",
    "Again, your function should ignore punctuation, spaces, newlines and capitalization.\n",
    "\n",
    "#### Hints\n",
    "\n",
    "- You will ﬁnd the Python function `str.strip()`, along with the string constants deﬁned in the string documentation (https://docs.python.org/3/library/string.html), useful in removing punctuation. You are free to use the `re` library for this problem but our solution does not use it. \n",
    "- Be careful to check that your function handles newlines correctly. For example, in the poem above, one of the `(’league’, ’half’)` bigrams spans a newline, but should be counted nonetheless. \n",
    "- For this function to be executed at a reasonable speed, you should attempt to remove all punctuation from the file in the text __before__ splitting it into words. For reference, our solution only uses one for loop over all the words in the given file's text. \n",
    "- Be careful that your function does not accidentally count the empty string as a word (this is a common bug if you aren’t careful about splitting the input text). Solutions that merely delete “bad” keys from the dictionary at the end will not receive full credit, as all edge cases can handled by correctly splitting the input.\n",
    "- Please replace instances of '--' with a space ' '. So that e.g. 'Bob--David' would be parsed as 'Bob David' (two separate words). Any other punctuation should be removed and treated the same, so for example 'Bob/David' would be parsed as 'BobDavid'. This includes punctuation inside words so e.g. \"they're\" would become \"theyre\""
   ]
  },
  {
   "cell_type": "code",
   "execution_count": 73,
   "metadata": {
    "deletable": false,
    "nbgrader": {
     "cell_type": "code",
     "checksum": "dbeaedd5894a4bcbf33fc1556d668692",
     "grade": false,
     "grade_id": "cell-00acb788c373a75a",
     "locked": false,
     "schema_version": 3,
     "solution": true,
     "task": false
    }
   },
   "outputs": [],
   "source": [
    "import string\n",
    "def count_bigrams_in_file(file):\n",
    "    myfile = open(file)\n",
    "    word_count = dict()\n",
    "    last_word = \"\"\n",
    "    for line in myfile:\n",
    "        line = line.lower()\n",
    "        line = line.translate(str.maketrans(\"\",\"\", string.punctuation))\n",
    "        line = line.replace(\"--\", \" \")\n",
    "        line = line.split()\n",
    "        for i in range(0, len(line)):\n",
    "            if i == 0:\n",
    "                if last_word != \"\":\n",
    "                    tup0 = (last_word, line[i])\n",
    "                    if tup0 in word_count:\n",
    "                        word_count[tup0] += 1\n",
    "                    else:\n",
    "                        word_count[tup0] = 1\n",
    "                continue\n",
    "            tup = (line[i-1], line[i])\n",
    "            if tup in word_count:\n",
    "                word_count[tup] += 1\n",
    "            else:\n",
    "                word_count[tup] = 1\n",
    "            if i == len(line) - 1:\n",
    "                last_word = line[i]\n",
    "    return word_count"
   ]
  },
  {
   "cell_type": "code",
   "execution_count": 74,
   "metadata": {
    "deletable": false,
    "editable": false,
    "nbgrader": {
     "cell_type": "code",
     "checksum": "52f50396bb9a6d417b9ce87190d7913e",
     "grade": true,
     "grade_id": "cell-64a1f6983f806530",
     "locked": true,
     "points": 2,
     "schema_version": 3,
     "solution": false,
     "task": false
    }
   },
   "outputs": [],
   "source": [
    "\"\"\"Test simple cases\"\"\"\n",
    "sol = {('a', 'league'): 3, ('half', 'a'): 3,\n",
    "       ('league', 'half'): 2, ('league', 'onward'): 1}\n",
    "with open('./test.txt', 'w') as f:\n",
    "    f.write('Half a league, half a league,\\n Half a league onward.')\n",
    "assert count_bigrams_in_file('test.txt') == sol"
   ]
  },
  {
   "cell_type": "markdown",
   "metadata": {
    "deletable": false,
    "editable": false,
    "nbgrader": {
     "cell_type": "markdown",
     "checksum": "023d4bdfd2b24fddd8c057d6022befb5",
     "grade": false,
     "grade_id": "cell-08623233129a3884",
     "locked": true,
     "schema_version": 3,
     "solution": false,
     "task": false
    }
   },
   "source": [
    "### Part 2 (1 point)  \n",
    "The ﬁle `WandP.txt`, which was included along with this jupyter notebook in `hw3.zip`, is an `ASCII` copy of all of Tolstoi’s novel War and Peace. Run your function on this ﬁle, and pickle the resulting dictionary in a ﬁle called `mb.bigrams.pickle`."
   ]
  },
  {
   "cell_type": "code",
   "execution_count": 75,
   "metadata": {
    "deletable": false,
    "nbgrader": {
     "cell_type": "code",
     "checksum": "ec9e3ac4e1ae4480e644868ab2ef5542",
     "grade": false,
     "grade_id": "cell-957e399ee02c11d9",
     "locked": false,
     "schema_version": 3,
     "solution": true,
     "task": false
    }
   },
   "outputs": [],
   "source": [
    "\"\"\"Code for creating 'mb.bigrams.pickle' here.\"\"\"\n",
    "import pickle\n",
    "file = \"WandP.txt\"\n",
    "mydict = count_bigrams_in_file(file)\n",
    "with open(\"mb.bigrams.pickle\", \"wb\") as save:\n",
    "    s = pickle.dump(mydict, save)"
   ]
  },
  {
   "cell_type": "code",
   "execution_count": 76,
   "metadata": {
    "deletable": false,
    "editable": false,
    "nbgrader": {
     "cell_type": "code",
     "checksum": "1030a4ffb8b985a3b4609b47fb2e4c86",
     "grade": true,
     "grade_id": "cell-43238c586b58202d",
     "locked": true,
     "points": 1,
     "schema_version": 3,
     "solution": false,
     "task": false
    }
   },
   "outputs": [],
   "source": [
    "\"\"\"Check that your pickled file is exists and is correct.\"\"\"\n",
    "import os\n",
    "import pickle\n",
    "\n",
    "assert os.path.isfile('mb.bigrams.pickle')"
   ]
  },
  {
   "cell_type": "markdown",
   "metadata": {
    "deletable": false,
    "editable": false,
    "nbgrader": {
     "cell_type": "markdown",
     "checksum": "102621456286f7948595c0d170ad52d3",
     "grade": false,
     "grade_id": "cell-d79506fc85afcebb",
     "locked": true,
     "schema_version": 3,
     "solution": false,
     "task": false
    }
   },
   "source": [
    "### Part 3 (2 points)\n",
    "\n",
    "We say that word `A` is _collocated_ with word `B` in a text if words `A` and `B` occur immediately one after another (in either order). That is, words `A` and `B` are collocated if and only if either of the tuples `(A, B)` or `(B, A)` are present in the text. \n",
    "\n",
    "Write a function `collocations` that takes a ﬁlename `file` as its only argument and returns a dictionary. Your function should read from the given ﬁle and return a dictionary whose keys are all the strings appearing in the ﬁle and the value of word `A` is a Python set containing all the words collocated with `A`. \n",
    "\n",
    "Follow the same conventions as Part 1/2 in ignoring case and stripping away all spaces, newlines and punctuation.\n",
    "\n",
    "Again using the poem fragment above as an example, the string `’league’` should appear as a key, and should have as its value the set `{’a’, ’half’, ’onward’}`, while the string `’in’` should have the set `{’all’, ’the’}` as its value. \n",
    "\n",
    "#### Hints\n",
    "- We didn’t discuss Python sets in lecture, because they are essentially just dictionaries without values. See the documentation at https://docs.python.org/3/tutorial/datastructures.html#sets for more information.\n",
    "- For this function to be executed at a reasonable speed, you should attempt to remove all punctuation from the file in the text __before__ splitting it into words. For reference, our solution only uses one for loop over all the words in the given file's text. "
   ]
  },
  {
   "cell_type": "code",
   "execution_count": 79,
   "metadata": {
    "deletable": false,
    "nbgrader": {
     "cell_type": "code",
     "checksum": "ec10859ed5559261af903b0810cad000",
     "grade": false,
     "grade_id": "cell-9a8dbd9611c8eb06",
     "locked": false,
     "schema_version": 3,
     "solution": true,
     "task": false
    }
   },
   "outputs": [],
   "source": [
    "import string\n",
    "def collocations(file):\n",
    "    myfile = open(file)\n",
    "    word_col = dict()\n",
    "    line = myfile.read()\n",
    "    line = line.lower()\n",
    "    line = line.translate(str.maketrans(\"\",\"\", string.punctuation))\n",
    "    line = line.replace(\"--\", \" \")\n",
    "    line = line.split()\n",
    "    count = 0\n",
    "    for word in line:\n",
    "        if word in word_col:\n",
    "            if count != len(line) - 1:\n",
    "                word_col[word].add(line[count+1])\n",
    "            word_col[word].add(line[count-1])\n",
    "        else:\n",
    "            if count == 0:\n",
    "                word_col[word] = {line[count+1]}\n",
    "            elif count == len(line) - 1:\n",
    "                word_col[word] = {line[count-1]}\n",
    "            else:\n",
    "                word_col[word] = {line[count-1], line[count+1]}\n",
    "        count += 1\n",
    "    return word_col"
   ]
  },
  {
   "cell_type": "code",
   "execution_count": 80,
   "metadata": {
    "deletable": false,
    "editable": false,
    "nbgrader": {
     "cell_type": "code",
     "checksum": "861983a93afa0963e52d2172e2023d00",
     "grade": true,
     "grade_id": "cell-9fa29d301a3567b5",
     "locked": true,
     "points": 2,
     "schema_version": 3,
     "solution": false,
     "task": false
    }
   },
   "outputs": [],
   "source": [
    "\"\"\"Test it works on simple case.\"\"\"\n",
    "with open('test.txt', 'w') as f:\n",
    "    f.write('Half a league, half a league,\\n Half a league onward.')\n",
    "assert collocations('test.txt') == {\n",
    "                             'half': {'league', 'a'},\n",
    "                             'a': {'half', 'league'},\n",
    "                             'league': {'onward', 'half', 'a'},\n",
    "                             'onward': {'league'}\n",
    "                              }"
   ]
  },
  {
   "cell_type": "markdown",
   "metadata": {
    "deletable": false,
    "editable": false,
    "nbgrader": {
     "cell_type": "markdown",
     "checksum": "9aaa4f0da1a0c704703b9d7ba594f8ee",
     "grade": false,
     "grade_id": "cell-f7e71bbec7e30e45",
     "locked": true,
     "schema_version": 3,
     "solution": false,
     "task": false
    }
   },
   "source": [
    "### Part 4 (1 point) \n",
    "Run your function on the ﬁle `WandP.txt` and pickle the resulting dictionary in a ﬁle called `mb.colloc.pickle.`"
   ]
  },
  {
   "cell_type": "code",
   "execution_count": 45,
   "metadata": {
    "deletable": false,
    "nbgrader": {
     "cell_type": "code",
     "checksum": "4a4e1036a7e6e0a46d05da6e65f394dd",
     "grade": false,
     "grade_id": "cell-49a3dcf4ea8de03f",
     "locked": false,
     "schema_version": 3,
     "solution": true,
     "task": false
    }
   },
   "outputs": [],
   "source": [
    "\"\"\"Code for creating 'mb.colloc.pickle'.\"\"\"\n",
    "import pickle\n",
    "file = \"WandP.txt\"\n",
    "mydict = collocations(file)\n",
    "with open(\"mb.colloc.pickle\", \"wb\") as save:\n",
    "    s = pickle.dump(mydict, save)"
   ]
  },
  {
   "cell_type": "code",
   "execution_count": 46,
   "metadata": {
    "deletable": false,
    "editable": false,
    "nbgrader": {
     "cell_type": "code",
     "checksum": "774e16446d0e0d2a73f270e442f33382",
     "grade": true,
     "grade_id": "cell-04c1ab0c9d863a66",
     "locked": true,
     "points": 1,
     "schema_version": 3,
     "solution": false,
     "task": false
    }
   },
   "outputs": [],
   "source": [
    "\"\"\"Check that your pickled file exists and is correct\"\"\"\n",
    "import os\n",
    "import pickle\n",
    "assert os.path.exists('mb.colloc.pickle')"
   ]
  },
  {
   "cell_type": "markdown",
   "metadata": {
    "deletable": false,
    "editable": false,
    "nbgrader": {
     "cell_type": "markdown",
     "checksum": "424f8883acb028e8fa7f199723bdfd71",
     "grade": false,
     "grade_id": "cell-c508562d46809e74",
     "locked": true,
     "schema_version": 3,
     "solution": false,
     "task": false
    }
   },
   "source": [
    "## Problem 2: More Fun with Vectors (12 points)\n",
    "\n",
    "In this exercise, we’ll encounter our old friend the vector yet again, this time taking an object-oriented approach.\n",
    "\n",
    "**Note:** Before starting this problem, you are strongly encouraged to read _Chapter 14: Python Objects_ in the textbook: https://www.py4e.com/html3/14-objects"
   ]
  },
  {
   "cell_type": "code",
   "execution_count": 47,
   "metadata": {
    "deletable": false,
    "nbgrader": {
     "cell_type": "code",
     "checksum": "e1b2710eb8b34f3f2737788d1b853f78",
     "grade": false,
     "grade_id": "cell-5b18f2366afe4b38",
     "locked": false,
     "schema_version": 3,
     "solution": true,
     "task": false
    }
   },
   "outputs": [],
   "source": [
    "\"\"\"Include all the code for the Vector class here.\"\"\"\n",
    "import math\n",
    "class Vector:\n",
    "    def __init__(self, dim=0, vector=tuple()):\n",
    "        if type(dim) != int:\n",
    "            raise TypeError(\"Input dim is not valid.\")\n",
    "        if dim < 0:\n",
    "            raise ValueError(\"Input dim is negative.\")\n",
    "        if (not(type(vector) == tuple or type(vector) == list)):\n",
    "            raise TypeError(\"Input vector is not valid.\")\n",
    "        for elem in vector:\n",
    "            if (not(type(elem) == int or type(elem) == float)):\n",
    "                raise TypeError(\"Input vector is not valid.\")\n",
    "        if len(vector) != dim:\n",
    "            raise ValueError(\"Dimension not match.\")\n",
    "        self.dimension = dim\n",
    "        if type(vector) == tuple:\n",
    "            self.entries = vector\n",
    "        if type(vector) == list:\n",
    "            self.entries = tuple(vector)\n",
    "    \n",
    "    def __eq__(self, rhs):\n",
    "        return self.entries == rhs.entries\n",
    "    def __ne__(self, rhs):\n",
    "        return self.entries != rhs.entries\n",
    "    def __lt__(self, rhs):\n",
    "        return self.entries < rhs.entries    \n",
    "    def __gt__(self, rhs):\n",
    "        return self.entries > rhs.entries\n",
    "    def __le__(self, rhs):\n",
    "        return self.entries <= rhs.entries\n",
    "    def __ge__(self, rhs):\n",
    "        return self.entries >= rhs.entries\n",
    "\n",
    "    def dot(self, rhs):\n",
    "        prod = 0\n",
    "        for i in range(len(self.entries)):\n",
    "            prod += (self.entries)[i] * (rhs.entries)[i]\n",
    "        return prod\n",
    "    \n",
    "    def __mul__(self, rhs):\n",
    "        newvec = []\n",
    "        if type(rhs) == int or type(rhs) == float:\n",
    "            for i in range(len(self.entries)):\n",
    "                newvec.append((self.entries)[i] * rhs)\n",
    "            if type(self.entries) == tuple:\n",
    "                newvec = tuple(newvec)\n",
    "            return Vector(self.dimension, newvec)\n",
    "        elif type(rhs) == Vector:\n",
    "            if self.dimension != rhs.dimension:\n",
    "                raise ValueError(\"Dimension not match.\")\n",
    "            for i in range(len(self.entries)):\n",
    "                if (not((type(self.entries[i]) == int or type(self.entries[i]) == float) and \n",
    "                         (type(rhs.entries[i]) == int or type(rhs.entries[i]) == float))):\n",
    "                    raise TypeError(\"Vector not valid.\")\n",
    "                newvec.append(self.entries[i] * rhs.entries[i])\n",
    "            if type(self.entries) == tuple:\n",
    "                newvec = tuple(newvec)\n",
    "            return Vector(self.dimension, newvec)\n",
    "    def __rmul__(self, rhs):\n",
    "        if type(rhs) == int or type(rhs) == float:\n",
    "            newvec = []\n",
    "            for i in range(len(self.entries)):\n",
    "                newvec.append((self.entries)[i]*rhs)\n",
    "            if type(self.entries) == tuple:\n",
    "                newvec = tuple(newvec)\n",
    "            return Vector(self.dimension, newvec)\n",
    "        \n",
    "    def norm(self, p):\n",
    "        if p == 0:\n",
    "            count = 0\n",
    "            for i in range(self.dimension):\n",
    "                if self.entries[i] != 0:\n",
    "                    count += 1\n",
    "            return count\n",
    "        elif type(p) == int and p > 0 and p < math.inf:\n",
    "            sumval = 0\n",
    "            for i in range(self.dimension):\n",
    "                sumval += pow(abs(self.entries[i]), p)\n",
    "            sumval = pow(sumval, 1/p)\n",
    "            return sumval\n",
    "        elif p == math.inf:\n",
    "            maxval = 0\n",
    "            for i in range(self.dimension):\n",
    "                if (abs(self.entries[i]) > maxval):\n",
    "                    maxval = abs(self.entries[i])\n",
    "            return maxval\n",
    "        else:\n",
    "            raise TypeError(\"Unknown p.\")\n",
    "        \n",
    "assert Vector(3, (1, 2, 3)) * 2 == Vector(3, (2, 4, 6))\n",
    "assert 2 * Vector(3, (1, 2, 3)) == Vector(3, (2, 4, 6))\n",
    "assert Vector(3, (1, 2, 3)) * Vector(3, (1, 2, 3)) == Vector(3, (1, 4, 9))"
   ]
  },
  {
   "cell_type": "markdown",
   "metadata": {
    "deletable": false,
    "editable": false,
    "nbgrader": {
     "cell_type": "markdown",
     "checksum": "ce3f73a8d8a61fef1c0c47628deb6088",
     "grade": false,
     "grade_id": "cell-0a50dfc61b0e82a1",
     "locked": true,
     "schema_version": 3,
     "solution": false,
     "task": false
    }
   },
   "source": [
    "### Part 1 (5 points)\n",
    "Deﬁne a class `Vector`. The initializer for your class should take the dimension as its ﬁrst argument and a `list` or `tuple` of numbers (`int`s or `ﬂoat`s), representing the vector’s entries, as its second argument (**Note:** your initializer should work correctly given either a list or a tuple of numbers). The initializer should create a vector with dimension $0$ and no entries (an empty tuple `tuple()`) if the user does not provide the corresponding arguments.\n",
    "\n",
    "Your class vector should have two __instance__ attributes: `dimension` and `entries`. The first containing the dimension of the vector as an `int` and the second containing the entries of the vector as a `tuple`. \n",
    "\n",
    "The initializer should raise an appropriate error in the case where the dimension is invalid (i.e., wrong type or a negative number), and should also raise an error in the event that the dimension and the number of supplied entries disagree.\n",
    "\n",
    "**Note:** Please raise `ValueError` or `TypeError` for your error checking in this problem. Raising either will work. "
   ]
  },
  {
   "cell_type": "code",
   "execution_count": 48,
   "metadata": {
    "deletable": false,
    "editable": false,
    "nbgrader": {
     "cell_type": "code",
     "checksum": "c7e38fff197bf17a903c55c184f16bbe",
     "grade": true,
     "grade_id": "cell-d84d85fc86863cd5",
     "locked": true,
     "points": 1,
     "schema_version": 3,
     "solution": false,
     "task": false
    }
   },
   "outputs": [],
   "source": [
    "\"\"\"Check initialization works on sensible cases\"\"\"\n",
    "v = Vector(4, (1, 2, 3, 4))\n",
    "v = Vector(4, [1, 2, 3, 4])\n",
    "v = Vector(1, [1])\n",
    "v = Vector(2, [2, 3])\n",
    "v = Vector(1, (1,))\n",
    "v = Vector(0, [])\n",
    "v = Vector(0)\n",
    "assert True"
   ]
  },
  {
   "cell_type": "code",
   "execution_count": 49,
   "metadata": {
    "deletable": false,
    "editable": false,
    "nbgrader": {
     "cell_type": "code",
     "checksum": "393835b669e534b193efe1d177a5a92e",
     "grade": true,
     "grade_id": "cell-ee5b2851ac09f0d4",
     "locked": true,
     "points": 1,
     "schema_version": 3,
     "solution": false,
     "task": false
    }
   },
   "outputs": [],
   "source": [
    "\"\"\"Vector has correct attributes\"\"\"\n",
    "v = Vector(4, (1, 2, 3, 4))\n",
    "assert isinstance(v, Vector)\n",
    "assert 'entries' in v.__dict__.keys()\n",
    "assert 'dimension' in v.__dict__.keys()\n",
    "assert type(v.dimension) == int\n",
    "assert type(v.entries) == tuple"
   ]
  },
  {
   "cell_type": "code",
   "execution_count": 50,
   "metadata": {
    "deletable": false,
    "editable": false,
    "nbgrader": {
     "cell_type": "code",
     "checksum": "fd24458925c9f2d2d9cb228470001c5c",
     "grade": true,
     "grade_id": "cell-556867b4cb67ffaf",
     "locked": true,
     "points": 1,
     "schema_version": 3,
     "solution": false,
     "task": false
    }
   },
   "outputs": [],
   "source": [
    "\"\"\"Check you can get entries from vector and they are correct when retrieved\"\"\"\n",
    "v = Vector(3, [1, 2, 3])\n",
    "assert tuple(v.entries) == (1, 2, 3)"
   ]
  },
  {
   "cell_type": "code",
   "execution_count": 51,
   "metadata": {
    "deletable": false,
    "editable": false,
    "nbgrader": {
     "cell_type": "code",
     "checksum": "719143bd619a35fcc8044662d6f78c21",
     "grade": true,
     "grade_id": "cell-9eac4809b5a757a5",
     "locked": true,
     "points": 2,
     "schema_version": 3,
     "solution": false,
     "task": false
    }
   },
   "outputs": [],
   "source": [
    "\"\"\"Check exceptions are handled correctly\"\"\"\n",
    "try:\n",
    "    Vector(5, (1, 2, 3, 4))\n",
    "    assert False\n",
    "except (ValueError, TypeError):\n",
    "    assert True\n",
    "\n",
    "try:\n",
    "    Vector(-4, (1, 2, 3, 4))\n",
    "    assert False\n",
    "except (ValueError, TypeError):\n",
    "    assert True\n",
    "\n",
    "try:\n",
    "    Vector('a', [1, 2, 3, 4])\n",
    "    assert False\n",
    "except (ValueError, TypeError):\n",
    "    assert True\n",
    "\n",
    "try:\n",
    "    Vector(1, [])\n",
    "    assert False\n",
    "except (ValueError, TypeError):\n",
    "    assert True"
   ]
  },
  {
   "cell_type": "markdown",
   "metadata": {
    "deletable": false,
    "editable": false,
    "nbgrader": {
     "cell_type": "markdown",
     "checksum": "cba35463d067a8f2577787f99466d28f",
     "grade": false,
     "grade_id": "cell-6292145a61d0fe54",
     "locked": true,
     "schema_version": 3,
     "solution": false,
     "task": false
    }
   },
   "source": [
    "### Part 2 (2 point)\n",
    "Implement the necessary operator(s) to support comparison (equality, less than, less or equal to, greater than, etc) of `Vector` objects. We will say that two `Vector` objects are equivalent if they have the same coordinates. Otherwise, comparison should be analogous to `tuple`s in Python, so that comparison is done on the ﬁrst coordinate ﬁrst, then the second coordinate, then the third, and so on. So, for example, the two-dimensional vector `(2, 4)` is ordered before (less than) `(2, 5)`. \n",
    "\n",
    "You can assume you are always comparing vectors of the same dimension. "
   ]
  },
  {
   "cell_type": "code",
   "execution_count": 52,
   "metadata": {
    "deletable": false,
    "editable": false,
    "nbgrader": {
     "cell_type": "code",
     "checksum": "9f86bbdd8ae8d3779130484475b3a47c",
     "grade": true,
     "grade_id": "cell-3a1c2f17cf2a4779",
     "locked": true,
     "points": 1,
     "schema_version": 3,
     "solution": false,
     "task": false
    }
   },
   "outputs": [],
   "source": [
    "assert Vector(3, [2, 1, 1]) != Vector(3, [1, 3, 3])\n",
    "assert Vector(3, [2, 1, 1]) >= Vector(3, [1, 3, 3])\n",
    "assert Vector(3, [1, 1, 1]) == Vector(3, [1, 1, 1])"
   ]
  },
  {
   "cell_type": "code",
   "execution_count": 53,
   "metadata": {
    "deletable": false,
    "editable": false,
    "nbgrader": {
     "cell_type": "code",
     "checksum": "f92fba1869963304ddba611c1b79d5f7",
     "grade": true,
     "grade_id": "cell-de890d7da24aa5f0",
     "locked": true,
     "points": 1,
     "schema_version": 3,
     "solution": false,
     "task": false
    }
   },
   "outputs": [],
   "source": [
    "assert Vector(3, [1, 1, 1]) != Vector(3, [1, 1, 3])\n",
    "assert Vector(3, [1, 3, 3]) <= Vector(3, [2, 1, 1])"
   ]
  },
  {
   "cell_type": "markdown",
   "metadata": {
    "deletable": false,
    "editable": false,
    "nbgrader": {
     "cell_type": "markdown",
     "checksum": "f249069dcf6f7ad21ac7d31d7e9e44ec",
     "grade": false,
     "grade_id": "cell-33ccb8c3448813d6",
     "locked": true,
     "schema_version": 3,
     "solution": false,
     "task": false
    }
   },
   "source": [
    "### Part 3 (1 point) \n",
    "Implement a method `Vector.dot` that takes a single Vector as its argument and returns the inner product of the caller with the given `Vector` object. You can assume the input is always a vector of the same dimension as the original one."
   ]
  },
  {
   "cell_type": "code",
   "execution_count": 54,
   "metadata": {
    "deletable": false,
    "editable": false,
    "nbgrader": {
     "cell_type": "code",
     "checksum": "8f7e76da6aa1fa4887ecc59f21748f78",
     "grade": true,
     "grade_id": "cell-2e45b3413aad5e1c",
     "locked": true,
     "points": 1,
     "schema_version": 3,
     "solution": false,
     "task": false
    }
   },
   "outputs": [],
   "source": [
    "\"\"\"Check your Vector.dot() method works correctly\"\"\"\n",
    "assert Vector(3, (1, 2, 3)).dot(Vector(3, (1, 2, 2))) == 11.0"
   ]
  },
  {
   "cell_type": "markdown",
   "metadata": {
    "deletable": false,
    "editable": false,
    "nbgrader": {
     "cell_type": "markdown",
     "checksum": "b7ba248032cb881ccc14ed85c17aa209",
     "grade": false,
     "grade_id": "cell-c765bf79202536dc",
     "locked": true,
     "schema_version": 3,
     "solution": false,
     "task": false
    }
   },
   "source": [
    "### Part 4 (2 points)\n",
    "We would also like our Vector class to support scalar multiplication. Left- or right multiplication by a scalar, e.g., `2*v` or `v*2`, where `v` is a Vector object, should result in a new `Vector` object with its entries all scaled by the given scalar. We will also follow `R` and `numpy` (which you will learn in a few weeks), and use `*` to denote entrywise vector-vector multiplication, so that for `Vector` objects `v` and `w`, `v*w` results in a new `Vector` object, with the i-th entry of `v*w` equal to the i-th entry of `v` multiplied by the i-th entry of `w`. Implement the appropriate operators to support this multiplication operation. \n",
    "\n",
    "Many languages have a convention for dealing with multiplication of vectors that diﬀer in their dimension, but we will not handle this case. Your method should raise a `ValueError` in the event that `v` and `w` disagree in their dimensions."
   ]
  },
  {
   "cell_type": "code",
   "execution_count": 55,
   "metadata": {
    "deletable": false,
    "editable": false,
    "nbgrader": {
     "cell_type": "code",
     "checksum": "ec7faa80a9197757da9e3686e02c20f0",
     "grade": true,
     "grade_id": "cell-a5f2178bd7c9f252",
     "locked": true,
     "points": 1,
     "schema_version": 3,
     "solution": false,
     "task": false
    }
   },
   "outputs": [],
   "source": [
    "assert 2 * Vector(3, (1, 2, 3)) == Vector(3, (2, 4, 6))\n",
    "assert Vector(3, (1, 2, 3)) * 2 == Vector(3, (2, 4, 6))\n",
    "assert Vector(3, (1, 2, 3)) * Vector(3, (1, 2, 3)) == Vector(3, (1, 4, 9))"
   ]
  },
  {
   "cell_type": "code",
   "execution_count": 56,
   "metadata": {
    "deletable": false,
    "editable": false,
    "nbgrader": {
     "cell_type": "code",
     "checksum": "d0281616dfc4e1b4185d4c2fb178dbf3",
     "grade": true,
     "grade_id": "cell-cd6422e310c07ed2",
     "locked": true,
     "points": 1,
     "schema_version": 3,
     "solution": false,
     "task": false
    }
   },
   "outputs": [],
   "source": [
    "try:\n",
    "    Vector(3, (1, 2, 3)) * Vector(2, (1, 2))\n",
    "    assert False\n",
    "except ValueError:\n",
    "    assert True"
   ]
  },
  {
   "cell_type": "markdown",
   "metadata": {
    "deletable": false,
    "editable": false,
    "nbgrader": {
     "cell_type": "markdown",
     "checksum": "9a1d59df3acc5820286a2c206a31fca7",
     "grade": false,
     "grade_id": "cell-310c8b288727a97d",
     "locked": true,
     "schema_version": 3,
     "solution": false,
     "task": false
    }
   },
   "source": [
    "### Part 5 (2 points)\n",
    "For a real number $0 \\leq p \\leq \\infty$, and a vector $v \\in \\mathbb{R}^{d}$, the $p$-norm of $v$, written $\\| v \\|_{p}$, is given by: \n",
    "\n",
    "$$ \n",
    "\\| v \\|_p = \\begin{cases}\n",
    "                        \\sum_{i=1}^d 1_{v_i \\neq 0} &\\mbox{ if } p = 0\\\\\n",
    "                        (\\sum_{i=1}^d |v_i|^p )^{1/p} &\\mbox{ if }\n",
    "                                                        0 < p < \\infty, \\\\\n",
    "                        \\max_{i=1,2,\\dots,d} |v_i| &\\mbox{ if } p=\\infty\n",
    "                        \\end{cases}\n",
    "$$\n",
    "\n",
    "where $v_i$ is the $i$-th component of the vector and the notation $1_{v_i \\neq 0}$ indicates: \n",
    "\n",
    "$$ \n",
    "1_{v_i \\neq 0} = \\begin{cases}\n",
    "                        1 &\\mbox{ if } v_i \\neq 0\\\\\n",
    "                        0 &\\mbox{ if } v_i = 0\n",
    "                        \\end{cases}. \n",
    "$$\n",
    "\n",
    "\n",
    "Implement a method `Vector.norm` that takes a single int or ﬂoat `p` as an argument and returns the $p$-norm of the calling `Vector` object. You can assume the input $p$ is always a non-negative integer or float.\n",
    "\n",
    "`Hint:` see https://docs.python.org/3/library/functions.html# float for documentation on representing positive inﬁnity in Python."
   ]
  },
  {
   "cell_type": "code",
   "execution_count": 57,
   "metadata": {
    "deletable": false,
    "editable": false,
    "nbgrader": {
     "cell_type": "code",
     "checksum": "7159f3e1e2a4f04b60f4626db798a310",
     "grade": true,
     "grade_id": "cell-2af28a606f1af266",
     "locked": true,
     "points": 1,
     "schema_version": 3,
     "solution": false,
     "task": false
    }
   },
   "outputs": [],
   "source": [
    "assert Vector(3, (1, 2, 3)).norm(1) == 6.0\n",
    "assert Vector(2, (1, 2)).norm(2) == math.sqrt(1**2 + 2**2)"
   ]
  },
  {
   "cell_type": "code",
   "execution_count": 58,
   "metadata": {
    "deletable": false,
    "editable": false,
    "nbgrader": {
     "cell_type": "code",
     "checksum": "65154249dab0a5bc217836fa7df7c0e3",
     "grade": true,
     "grade_id": "cell-a8f312c44b5334d0",
     "locked": true,
     "points": 1,
     "schema_version": 3,
     "solution": false,
     "task": false
    }
   },
   "outputs": [],
   "source": [
    "assert Vector(5, (3, 2, 1, 10, 5)).norm(math.inf) == 10\n",
    "assert Vector(5, (3, 2, 1, 10, 5)).norm(0) == 5"
   ]
  },
  {
   "cell_type": "markdown",
   "metadata": {
    "deletable": false,
    "editable": false,
    "nbgrader": {
     "cell_type": "markdown",
     "checksum": "d264265e1108e0564a50ba7b4039b6cb",
     "grade": false,
     "grade_id": "cell-fe23d345126255f3",
     "locked": true,
     "schema_version": 3,
     "solution": false,
     "task": false
    }
   },
   "source": [
    "##  Problem 3: Iterators and Generators (5 points) \n",
    "In this exercise, you’ll get some practice working with iterators and generators. \n",
    "\n",
    "**Note:** in this problem, the word enumerate is meant in the sense of returning elements, not in\n",
    "the sense of the Python function enumerate. So, if I say that \"an iterator enumerates a\n",
    "sequence $a_{0}, a_{1}, a_{2}, ...$\", I mean that these are the elements that it returns upon calls to\n",
    "the `__next__` method, not that it returns pairs $(i,a_{i})$ like the `enumerate` function."
   ]
  },
  {
   "cell_type": "markdown",
   "metadata": {
    "deletable": false,
    "editable": false,
    "nbgrader": {
     "cell_type": "markdown",
     "checksum": "b164bb41bdf3f74970eb9a3351fb0359",
     "grade": false,
     "grade_id": "cell-c26424e6f0691327",
     "locked": true,
     "schema_version": 3,
     "solution": false,
     "task": false
    }
   },
   "source": [
    "### Part 1 (1 point) \n",
    "Deﬁne a class `Fibo` of iterators that enumerate the Fibonacci numbers. For the purposes of this problem, the Fibonacci sequence begins $0, 1, 1, 2, 3, ...$ with the $n$-th Fibonacci number $F_{n}$ given by the recursive formula $F_{n} = F_{n-1} + F_{n-2}$  where $F_{0} = 0$ and $F_{1} = 1$. \n",
    "\n",
    "Your solution should not make use of any function aside from addition (i.e., you should not need to use the function `fibo()` deﬁned in lecture a few weeks ago). Your class should support, at a minimum, an initialization method, a `__iter__` method (so that we can get an iterator) and a `__next__` method. \n",
    "\n",
    "**Note:** there is an especially simple solution to this problem that can be expressed in just a few lines using tuple assignment."
   ]
  },
  {
   "cell_type": "code",
   "execution_count": 59,
   "metadata": {
    "deletable": false,
    "nbgrader": {
     "cell_type": "code",
     "checksum": "08e18680ee0c628201a5dcd1aad74fd4",
     "grade": false,
     "grade_id": "cell-bbaefcc15e4a7081",
     "locked": false,
     "schema_version": 3,
     "solution": true,
     "task": false
    }
   },
   "outputs": [],
   "source": [
    "class Fibo():\n",
    "    def __init__(self):\n",
    "        self.seq = (1,0)\n",
    "    def __next__(self):\n",
    "        self.seq = (self.seq[1], self.seq[0]+self.seq[1])\n",
    "        return self.seq[0]\n",
    "    def __iter__(self):\n",
    "        return (self)"
   ]
  },
  {
   "cell_type": "code",
   "execution_count": 60,
   "metadata": {
    "deletable": false,
    "editable": false,
    "nbgrader": {
     "cell_type": "code",
     "checksum": "a89ca645f5db370c199cb28741d79bc8",
     "grade": true,
     "grade_id": "cell-e98351d056391b0a",
     "locked": true,
     "points": 1,
     "schema_version": 3,
     "solution": false,
     "task": false
    }
   },
   "outputs": [],
   "source": [
    "ans1 = Fibo()\n",
    "assert [next(ans1) for _ in range(10)] == [0, 1, 1, 2, 3, 5, 8, 13, 21, 34]"
   ]
  },
  {
   "cell_type": "markdown",
   "metadata": {
    "deletable": false,
    "editable": false,
    "nbgrader": {
     "cell_type": "markdown",
     "checksum": "6abaf8dc8cd8b3e306e34efdc91b61c6",
     "grade": false,
     "grade_id": "cell-09e7eeecb14cd981",
     "locked": true,
     "schema_version": 3,
     "solution": false,
     "task": false
    }
   },
   "source": [
    "### Part 2 (2 points) \n",
    "\n",
    "Deﬁne a generator `primes` that enumerates the prime numbers. Recall that a prime number is any integer $p > 1$ whose only divisors are $p$ and $1$. \n",
    "\n",
    "**Note:** you may use the function `is_prime` that we deﬁned in class (or something similar to it) and receive full credit. But there is a more graceful solution that avoids declaring a separate function or method for directly checking primality. \n",
    "\n",
    "**Hint:** consider a pattern similar to the one seen in lecture using the any and/or all functions."
   ]
  },
  {
   "cell_type": "code",
   "execution_count": 61,
   "metadata": {
    "deletable": false,
    "nbgrader": {
     "cell_type": "code",
     "checksum": "2b98d05a375a95901a8461ee280be2de",
     "grade": false,
     "grade_id": "cell-6075e6fd4a6029d8",
     "locked": false,
     "schema_version": 3,
     "solution": true,
     "task": false
    }
   },
   "outputs": [],
   "source": [
    "import math\n",
    "\n",
    "def is_prime(n):\n",
    "    if n <= 1:\n",
    "        return False\n",
    "    elif n == 2:\n",
    "        return True\n",
    "    else:\n",
    "        ulim = math.ceil(math.sqrt(n))\n",
    "        for k in range(2, ulim+1):\n",
    "            if n % k == 0:\n",
    "                return False\n",
    "        return True\n",
    "\n",
    "def primes():\n",
    "    p = 1\n",
    "    while True:\n",
    "        if is_prime(p) == True:\n",
    "            yield p\n",
    "        p += 1"
   ]
  },
  {
   "cell_type": "code",
   "execution_count": 62,
   "metadata": {
    "deletable": false,
    "editable": false,
    "nbgrader": {
     "cell_type": "code",
     "checksum": "a896a29dc873084c679ebfd9f1e3e92b",
     "grade": true,
     "grade_id": "cell-39a0a188d4945486",
     "locked": true,
     "points": 1,
     "schema_version": 3,
     "solution": false,
     "task": false
    }
   },
   "outputs": [],
   "source": [
    "ans = primes()\n",
    "assert [next(ans) for _ in range(10)] == [2, 3, 5, 7, 11, 13, 17, 19, 23, 29]"
   ]
  },
  {
   "cell_type": "code",
   "execution_count": 63,
   "metadata": {
    "deletable": false,
    "editable": false,
    "nbgrader": {
     "cell_type": "code",
     "checksum": "320e21413321ba042c6ef638b206b031",
     "grade": true,
     "grade_id": "cell-b51f7843f8591a1f",
     "locked": true,
     "points": 1,
     "schema_version": 3,
     "solution": false,
     "task": false
    }
   },
   "outputs": [],
   "source": [
    "ans = primes()\n",
    "assert [next(ans) for _ in range(1)] == [2]\n",
    "ans = primes()\n",
    "assert [next(ans) for _ in range(0)] == []"
   ]
  },
  {
   "cell_type": "markdown",
   "metadata": {
    "deletable": false,
    "editable": false,
    "nbgrader": {
     "cell_type": "markdown",
     "checksum": "eb1e6a598dfda1e3ef940147d897bab0",
     "grade": false,
     "grade_id": "cell-990e8ce33085db99",
     "locked": true,
     "schema_version": 3,
     "solution": false,
     "task": false
    }
   },
   "source": [
    "### Part 3 (2 points) \n",
    "This one is good practice for coding interview questions. The _Ulam numbers_ are a sequence $u_1 , u_2 , u_3, ...$ of positive integers, deﬁned in the following way: $u_1 = 1$, and $u_2 = 2$. For all $n > 2$, $u_n$ is the smallest integer that is expressible as a sum of two distinct terms from earlier in the sequence in exactly one way. See the Examples section of the Wikipedia page for an illustration: https://en.wikipedia.org/wiki/Ulam_number. \n",
    "\n",
    "Deﬁne a generator `ulam` that enumerates the Ulam numbers. \n",
    "\n",
    "**Hint:** it will be helpful to try and break this problem into smaller, simpler subproblems. In particular, you may ﬁnd it helpful to write a function that takes a list of integers `t` and one additional integer `u`, and determines whether or not `u` is expressible as a sum of two distinct elements of `t` in exactly one way."
   ]
  },
  {
   "cell_type": "code",
   "execution_count": 64,
   "metadata": {
    "deletable": false,
    "nbgrader": {
     "cell_type": "code",
     "checksum": "b11e9cc6c041ffe34fed66baf448a05f",
     "grade": false,
     "grade_id": "cell-ae05ce7df31047af",
     "locked": false,
     "schema_version": 3,
     "solution": true,
     "task": false
    }
   },
   "outputs": [],
   "source": [
    "def is_ulam(t, n):\n",
    "    length = len(t)\n",
    "    if n <= t[length-1]:\n",
    "        return False\n",
    "    sum_lst = []\n",
    "    remove_lst = []\n",
    "    sum_lst.append(1)\n",
    "    sum_lst.append(2)\n",
    "    for i in range(length-1):\n",
    "        for j in range(i+1, length):\n",
    "            curr_sum = t[i] + t[j]\n",
    "            if (curr_sum not in sum_lst):\n",
    "                if (curr_sum not in remove_lst):\n",
    "                    sum_lst.append(curr_sum)\n",
    "            else:\n",
    "                if curr_sum == n:\n",
    "                    return False\n",
    "                sum_lst.remove(curr_sum)\n",
    "                remove_lst.append(curr_sum)\n",
    "    sum_lst.sort()\n",
    "    if (n == sum_lst[length]):\n",
    "        return True\n",
    "    else:\n",
    "        return False\n",
    "\n",
    "def ulam():\n",
    "    num = 1\n",
    "    seq = []\n",
    "    while True:\n",
    "        if num == 1 or num == 2:\n",
    "            yield num\n",
    "            seq.append(num)\n",
    "            num += 1\n",
    "        else:\n",
    "            if is_ulam(seq, num) == True:\n",
    "                seq.append(num)\n",
    "                yield num\n",
    "            num += 1"
   ]
  },
  {
   "cell_type": "code",
   "execution_count": 65,
   "metadata": {
    "deletable": false,
    "editable": false,
    "nbgrader": {
     "cell_type": "code",
     "checksum": "ea911382b57d1a6a51c9841e5f502876",
     "grade": true,
     "grade_id": "cell-88e21fdf334740cf",
     "locked": true,
     "points": 1,
     "schema_version": 3,
     "solution": false,
     "task": false
    }
   },
   "outputs": [],
   "source": [
    "ans = ulam()\n",
    "assert [next(ans) for _ in range(18)] == [1, 2, 3, 4, 6, 8, 11, 13, 16, 18,\n",
    "                                          26, 28, 36, 38, 47, 48, 53, 57]"
   ]
  },
  {
   "cell_type": "code",
   "execution_count": 66,
   "metadata": {
    "deletable": false,
    "editable": false,
    "nbgrader": {
     "cell_type": "code",
     "checksum": "cef8b395282948d5a2a160df74660700",
     "grade": true,
     "grade_id": "cell-f869c2e123a88ffc",
     "locked": true,
     "points": 1,
     "schema_version": 3,
     "solution": false,
     "task": false
    }
   },
   "outputs": [],
   "source": [
    "ans = ulam()\n",
    "assert [next(ans) for _ in range(5)] == [1, 2, 3, 4, 6]"
   ]
  },
  {
   "cell_type": "markdown",
   "metadata": {
    "deletable": false,
    "editable": false,
    "nbgrader": {
     "cell_type": "markdown",
     "checksum": "f86bb70856a14a9a0108c8af501214c1",
     "grade": false,
     "grade_id": "cell-5326d080e7b3964d",
     "locked": true,
     "schema_version": 3,
     "solution": false,
     "task": false
    }
   },
   "source": [
    "##  Problem 4: List Comprehensions and Generator Expressions (3 points)\n",
    "In this problem you’ll write a few simple list comprehensions and generator expressions."
   ]
  },
  {
   "cell_type": "markdown",
   "metadata": {
    "deletable": false,
    "editable": false,
    "nbgrader": {
     "cell_type": "markdown",
     "checksum": "fbb4188b4d7a88540dc5fa73fb400a93",
     "grade": false,
     "grade_id": "cell-c212f77ec3da08da",
     "locked": true,
     "schema_version": 3,
     "solution": false,
     "task": false
    }
   },
   "source": [
    "### Part 1 (1 point) \n",
    "Write a list comprehension where each element equals $3^{n}−1$ for $n = 1, 2, 3,..., 20$.\n",
    "\n",
    "For ease of grading, please assign this list comprehension to a variable called `pow3minus1`."
   ]
  },
  {
   "cell_type": "code",
   "execution_count": 67,
   "metadata": {
    "deletable": false,
    "nbgrader": {
     "cell_type": "code",
     "checksum": "201d7b0653aa3c0433c3633f77c06975",
     "grade": false,
     "grade_id": "cell-5453d98b9528fcce",
     "locked": false,
     "schema_version": 3,
     "solution": true,
     "task": false
    }
   },
   "outputs": [],
   "source": [
    "\"\"\"Write the list comprehension here. Make sure to assign it\n",
    "to a variable `pow3minus1`\"\"\"\n",
    "pow3minus1 = [3**x - 1 for x in range(1,21)]"
   ]
  },
  {
   "cell_type": "code",
   "execution_count": 68,
   "metadata": {
    "deletable": false,
    "editable": false,
    "nbgrader": {
     "cell_type": "code",
     "checksum": "756b9c22258fcce0d11c17933d5b55fd",
     "grade": true,
     "grade_id": "cell-3bb76ac1abf8f11e",
     "locked": true,
     "points": 1,
     "schema_version": 3,
     "solution": false,
     "task": false
    }
   },
   "outputs": [],
   "source": [
    "\"\"\"Check your pow3minus1 is correct.\"\"\"\n",
    "assert pow3minus1[0:2] == [2, 8]"
   ]
  },
  {
   "cell_type": "markdown",
   "metadata": {
    "deletable": false,
    "editable": false,
    "nbgrader": {
     "cell_type": "markdown",
     "checksum": "368f2995d285b9f706fefc7f4aa682d0",
     "grade": false,
     "grade_id": "cell-d53672c3d7980a60",
     "locked": true,
     "schema_version": 3,
     "solution": false,
     "task": false
    }
   },
   "source": [
    "### Part 2 (1 point) \n",
    "Write a generator expression for the **pyramid numbers**. The $n$-th pyramid number $P_{n}$ (for $n = 1, 2, ...$) counts the number of spheres in a pyramid with an $n$-by-$n$ based (see https://en.wikipedia.org/wiki/Square_pyramidal_number), and is given by:\n",
    "$$\n",
    "P_{n} = \\sum_{k=1}^{n}k^2 = \\frac{n (n+1) (2n+1)}{6}\n",
    "$$\n",
    "For ease of grading, please assign this generator expression to a variable called `pyramid`. \n",
    "\n",
    "**Hint:** You may ﬁnd it useful to first deﬁne a generator for the positive integers."
   ]
  },
  {
   "cell_type": "code",
   "execution_count": 69,
   "metadata": {
    "deletable": false,
    "nbgrader": {
     "cell_type": "code",
     "checksum": "0930a60bb221d4b7a16d1411e64260c0",
     "grade": false,
     "grade_id": "cell-191508c2cdde347d",
     "locked": false,
     "schema_version": 3,
     "solution": true,
     "task": false
    }
   },
   "outputs": [],
   "source": [
    "\"\"\"Your code for the pyramid generator goes here.\"\"\"\n",
    "def pyr_num():\n",
    "    n = 1\n",
    "    while True:\n",
    "        yield n\n",
    "        n += 1\n",
    "\n",
    "p = pyr_num()\n",
    "pyramid = (int(n * (n+1) * (2*n+1) / 6) for n in p)"
   ]
  },
  {
   "cell_type": "code",
   "execution_count": 70,
   "metadata": {
    "deletable": false,
    "editable": false,
    "nbgrader": {
     "cell_type": "code",
     "checksum": "5938295ac40345616d1c6493288e4750",
     "grade": true,
     "grade_id": "cell-8eb2d2188e8b54d2",
     "locked": true,
     "points": 1,
     "schema_version": 3,
     "solution": false,
     "task": false
    }
   },
   "outputs": [],
   "source": [
    "\"\"\"Check your pyramid generator is correct\"\"\"\n",
    "pyramid_list = [next(pyramid) for _ in range(10)]\n",
    "assert pyramid_list[:5] == [1, 5, 14, 30, 55]"
   ]
  },
  {
   "cell_type": "markdown",
   "metadata": {
    "deletable": false,
    "editable": false,
    "nbgrader": {
     "cell_type": "markdown",
     "checksum": "1c3fff3217adefafa759111bfa55d33c",
     "grade": false,
     "grade_id": "cell-c03c23d57486075c",
     "locked": true,
     "schema_version": 3,
     "solution": false,
     "task": false
    }
   },
   "source": [
    "### Part 3 (1 point) \n",
    "Write a generator expression that enumerates the _octahedral numbers_. The $n$-th octahedral number ($n = 1, 2, ...$) is given by \n",
    "\n",
    "$$O_{n} = \\frac{n(2n^{2}+1)}{3},$$ \n",
    "\n",
    "and counts the number of spheres in an octahedron with $n$ spheres to each edge (see https://en.wikipedia. org/wiki/Octahedral_number). \n",
    "\n",
    "For ease of grading, please assign this generator expression to a variable called `octa`. \n",
    "\n",
    "**Note:** You can solve this problem any way you see fit. However, a particularly clever solution uses the fact that the $n$-th octahedral number can be expressed as $O_{n} = P_{n} + P_{n-1}$ where $P_{n}$ denotes the $n$-th pyramidal number (which you implemented in the previous subproblem)."
   ]
  },
  {
   "cell_type": "code",
   "execution_count": 71,
   "metadata": {
    "deletable": false,
    "nbgrader": {
     "cell_type": "code",
     "checksum": "c5d2aff02e608397d3399b41adbaa7f9",
     "grade": false,
     "grade_id": "cell-94f79e207c8683e2",
     "locked": false,
     "schema_version": 3,
     "solution": true,
     "task": false
    }
   },
   "outputs": [],
   "source": [
    "\"\"\"Code for `octa` generator here.\"\"\"\n",
    "def oct_num():\n",
    "    n = 1\n",
    "    while True:\n",
    "        yield n\n",
    "        n += 1\n",
    "\n",
    "o = oct_num()\n",
    "octa = (int(n * (2 * n**2 + 1) / 3) for n in o)"
   ]
  },
  {
   "cell_type": "code",
   "execution_count": 72,
   "metadata": {
    "deletable": false,
    "editable": false,
    "nbgrader": {
     "cell_type": "code",
     "checksum": "b31b5539214f343d3bd25e4ecb9a325f",
     "grade": true,
     "grade_id": "cell-c0ec74ed06e7b6e9",
     "locked": true,
     "points": 1,
     "schema_version": 3,
     "solution": false,
     "task": false
    }
   },
   "outputs": [],
   "source": [
    "\"\"\"Test your octa generator is correct\"\"\"\n",
    "octa_list = [next(octa) for _ in range(10)]\n",
    "assert octa_list[:3] == [1, 6, 19]"
   ]
  },
  {
   "cell_type": "code",
   "execution_count": null,
   "metadata": {},
   "outputs": [],
   "source": []
  }
 ],
 "metadata": {
  "kernelspec": {
   "display_name": "Python 3",
   "language": "python",
   "name": "python3"
  },
  "language_info": {
   "codemirror_mode": {
    "name": "ipython",
    "version": 3
   },
   "file_extension": ".py",
   "mimetype": "text/x-python",
   "name": "python",
   "nbconvert_exporter": "python",
   "pygments_lexer": "ipython3",
   "version": "3.8.7"
  },
  "latex_envs": {
   "LaTeX_envs_menu_present": true,
   "autoclose": false,
   "autocomplete": true,
   "bibliofile": "biblio.bib",
   "cite_by": "apalike",
   "current_citInitial": 1,
   "eqLabelWithNumbers": true,
   "eqNumInitial": 1,
   "hotkeys": {
    "equation": "meta-shift-y"
   },
   "labels_anchors": false,
   "latex_user_defs": false,
   "report_style_numbering": false,
   "user_envs_cfg": false
  },
  "toc": {
   "base_numbering": 1,
   "nav_menu": {},
   "number_sections": false,
   "sideBar": true,
   "skip_h1_title": true,
   "title_cell": "Table of Contents",
   "title_sidebar": "Contents",
   "toc_cell": false,
   "toc_position": {
    "height": "calc(100% - 180px)",
    "left": "10px",
    "top": "150px",
    "width": "327.486px"
   },
   "toc_section_display": true,
   "toc_window_display": true
  }
 },
 "nbformat": 4,
 "nbformat_minor": 4
}
