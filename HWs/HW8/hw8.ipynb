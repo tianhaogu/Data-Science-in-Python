{
 "cells": [
  {
   "cell_type": "markdown",
   "metadata": {
    "deletable": false,
    "editable": false,
    "nbgrader": {
     "cell_type": "markdown",
     "checksum": "ce3324ea266cb2dbbf2d9a2f67293780",
     "grade": false,
     "grade_id": "cell-c26ceffb7ba8403d",
     "locked": true,
     "schema_version": 3,
     "solution": false,
     "task": false
    }
   },
   "source": [
    "# Homework 8 (30 points)"
   ]
  },
  {
   "cell_type": "markdown",
   "metadata": {},
   "source": [
    "name: Tianhao Gu\n",
    "\n",
    "email: gtianhao@umich.edu\n",
    "\n",
    "This homework assignment took me 12 hours in total to complete. (Please help us to gauge the difficulty of the assignment.)"
   ]
  },
  {
   "cell_type": "markdown",
   "metadata": {
    "deletable": false,
    "editable": false,
    "nbgrader": {
     "cell_type": "markdown",
     "checksum": "dcd41b0916cd2e2b3552fd65ff6fd51f",
     "grade": false,
     "grade_id": "cell-9fc8abaaecff0e9a",
     "locked": true,
     "schema_version": 3,
     "solution": false,
     "task": false
    }
   },
   "source": [
    "## Collaboration Disclosure\n",
    "\n",
    "In the cell below, please list *everyone* with whom you discussed any of the homework problems, excluding only the GSIs and the course instructor. \n",
    "\n",
    "If you did not discuss the homework with anyone else, write __\"I did not discuss this homework with anyone.\"__\n",
    "\n",
    "Even if you discuss questions with other, the code you submit must be only yours. All work is checked with the [MOSS plagiarism detector](https://theory.stanford.edu/~aiken/moss/)."
   ]
  },
  {
   "cell_type": "markdown",
   "metadata": {},
   "source": [
    "I discussed Problem 4 nad 6 with Bingyi Li, problem 5 with Zhengyang Shan. "
   ]
  },
  {
   "cell_type": "markdown",
   "metadata": {
    "deletable": false,
    "editable": false,
    "nbgrader": {
     "cell_type": "markdown",
     "checksum": "3ee6491f9e1e050171841b67357635bf",
     "grade": false,
     "grade_id": "submission",
     "locked": true,
     "schema_version": 3,
     "solution": false,
     "task": false
    }
   },
   "source": [
    "## Submission Instructions\n",
    "Your homework solutions should be written entirely in this Jupyter notebook file. Once it contains your solutions, you should submit this notebook through Canvas. Before submitting, please make sure make sure __Cells->Run__ executes without errors; errors in your code cause problems for our auto-grader. Thus, even though we may ask you to check for errors in your functions, you should not include in your submission any examples of your functions actually raising those errors.\n",
    "\n",
    "## Nbgrader\n",
    "\n",
    "We will be using nbgrader to grade your jupyter notebook. Additional tests will be used at grading time, you are encouraged to read the problem carefully and verify your code covers all appropriate cases.\n",
    "\n",
    "**Be careful:** If a jupyter notebook cell takes longer than **120 seconds** to run, the autograder will not grade it and you will receive zero credit for that question.\n",
    "\n",
    "## Error checking\n",
    "\n",
    "You do not need to do error checking (raising errors, etc.) in your code unless we explicitly ask you to so in a problem."
   ]
  },
  {
   "cell_type": "markdown",
   "metadata": {
    "deletable": false,
    "editable": false,
    "nbgrader": {
     "cell_type": "markdown",
     "checksum": "99a4b1f52b2a51fd259655608d2d5669",
     "grade": false,
     "grade_id": "coding-style",
     "locked": true,
     "schema_version": 3,
     "solution": false,
     "task": false
    }
   },
   "source": [
    "## Coding style\n",
    "Please follow the [PEP8 guidelines](https://www.python.org/dev/peps/pep-0008/). The `pycodestyle_magic` package will remind you if you are not. To install it, run\n",
    "```\n",
    "pip install flake8 pycodestyle_magic\n",
    "```\n",
    "Once it is installed the following two Jupyter directives will enable syntax checking:"
   ]
  },
  {
   "cell_type": "code",
   "execution_count": 66,
   "metadata": {
    "deletable": false,
    "editable": false,
    "nbgrader": {
     "cell_type": "code",
     "checksum": "11f994a1204f00eb8ea040c864033a8d",
     "grade": false,
     "grade_id": "cell-7311e8da28736726",
     "locked": true,
     "schema_version": 3,
     "solution": false,
     "task": false
    }
   },
   "outputs": [
    {
     "name": "stdout",
     "output_type": "stream",
     "text": [
      "The pycodestyle_magic extension is already loaded. To reload it, use:\n",
      "  %reload_ext pycodestyle_magic\n"
     ]
    }
   ],
   "source": [
    "%load_ext pycodestyle_magic\n",
    "%flake8_on --ignore E266 --max_line_length 99"
   ]
  },
  {
   "cell_type": "code",
   "execution_count": 67,
   "metadata": {
    "deletable": false,
    "editable": false,
    "nbgrader": {
     "cell_type": "code",
     "checksum": "01e62d6cc1f22792b0900e194df241be",
     "grade": false,
     "grade_id": "cell-3d5a350d3d08dde9",
     "locked": true,
     "schema_version": 3,
     "solution": false,
     "task": false
    }
   },
   "outputs": [],
   "source": [
    "%matplotlib inline\n",
    "import math\n",
    "import numpy as np\n",
    "import scipy as sp\n",
    "import pandas as pd\n",
    "import seaborn as sns\n",
    "import sklearn\n",
    "import matplotlib.pyplot as plt\n",
    "sns.set()"
   ]
  },
  {
   "cell_type": "markdown",
   "metadata": {
    "deletable": false,
    "editable": false,
    "nbgrader": {
     "cell_type": "markdown",
     "checksum": "0674267b210b27fbadb2b4b31c1b93e0",
     "grade": false,
     "grade_id": "cell-e7ace28d482d7730",
     "locked": true,
     "schema_version": 3,
     "solution": false,
     "task": false
    }
   },
   "source": [
    "## Prefix\n",
    "\n",
    "In this homework, you are encouraged to use any functions from the libraries numpy, scipy, pandas, seaborn, and sklearn in your solutions unless explicitly told not to."
   ]
  },
  {
   "cell_type": "markdown",
   "metadata": {
    "deletable": false,
    "editable": false,
    "nbgrader": {
     "cell_type": "markdown",
     "checksum": "7682202f651f680862b88dc8d1186ea8",
     "grade": false,
     "grade_id": "cell-07b65b8b2e46e669",
     "locked": true,
     "schema_version": 3,
     "solution": false,
     "task": false
    }
   },
   "source": [
    "## Part 1: Introduction to Data Loading, Merging, and Cleaning (3 points)\n",
    "\n",
    "Data science is one of quickest evolving disciplines in industry at the moment. Many people have the idea that data science is exclusively running models and making predictions; unfortunately, it is not that simple. In this exercise you will perform some data loading, merging, and cleaning so that your dataframes are ready for statistical exploration."
   ]
  },
  {
   "cell_type": "markdown",
   "metadata": {
    "deletable": false,
    "editable": false,
    "nbgrader": {
     "cell_type": "markdown",
     "checksum": "83f20b1108ab92c0167ab1582b91cae2",
     "grade": false,
     "grade_id": "cell-c12c62f6a21ebe94",
     "locked": true,
     "schema_version": 3,
     "solution": false,
     "task": false
    }
   },
   "source": [
    "**Data Loading (1 point)** \n",
    "\n",
    "Included in the folder with this week's homework is the folder *uber-tlc-foil-response*, which contains all the files with the data you will need to complete this assignment. PLEASE DO NOT MOVE THIS FOLDER TO A DIFFERENT LOCATION THAN WHERE YOU SUBMIT YOUR HOMEWORK. Doing this will break our solutions and will result in points lost. \n",
    "\n",
    "Read in __taxi-zone-lookup.csv__ located inside the *uber-trip-data* folder and call the dataframe `taxi_zone_df`. Additionally you will need the \"Trips Per Day\" and \"Trips Per Hour and Weekday\" sheets from __Aggregate FHV Data.xls__. \n",
    "Please read in those sheets and call the dataframes `tpd_df` and `tph_df`, respectively. Additionally, DO NOT do any data cleaning or merging until asked to.\n",
    "\n",
    "__Note:__ You may need to install the library `xlrd` to be able to use the `read_excel` function in `pandas`"
   ]
  },
  {
   "cell_type": "code",
   "execution_count": 68,
   "metadata": {
    "deletable": false,
    "nbgrader": {
     "cell_type": "code",
     "checksum": "a3d46113a11116b6e8f9f99cfcaf0aa0",
     "grade": false,
     "grade_id": "cell-2adc63ca348eb3e9",
     "locked": false,
     "schema_version": 3,
     "solution": true,
     "task": false
    }
   },
   "outputs": [
    {
     "data": {
      "text/html": [
       "<div>\n",
       "<style scoped>\n",
       "    .dataframe tbody tr th:only-of-type {\n",
       "        vertical-align: middle;\n",
       "    }\n",
       "\n",
       "    .dataframe tbody tr th {\n",
       "        vertical-align: top;\n",
       "    }\n",
       "\n",
       "    .dataframe thead th {\n",
       "        text-align: right;\n",
       "    }\n",
       "</style>\n",
       "<table border=\"1\" class=\"dataframe\">\n",
       "  <thead>\n",
       "    <tr style=\"text-align: right;\">\n",
       "      <th></th>\n",
       "      <th>.</th>\n",
       "      <th>Unnamed: 1</th>\n",
       "      <th>Average trips per hour and day of week</th>\n",
       "      <th>Unnamed: 3</th>\n",
       "      <th>Unnamed: 4</th>\n",
       "    </tr>\n",
       "  </thead>\n",
       "  <tbody>\n",
       "    <tr>\n",
       "      <th>0</th>\n",
       "      <td>Weekday</td>\n",
       "      <td>Hour</td>\n",
       "      <td>other 8 bases</td>\n",
       "      <td>Uber</td>\n",
       "      <td>Lyft</td>\n",
       "    </tr>\n",
       "    <tr>\n",
       "      <th>1</th>\n",
       "      <td>1</td>\n",
       "      <td>0</td>\n",
       "      <td>768.769231</td>\n",
       "      <td>1457.923077</td>\n",
       "      <td>322.6</td>\n",
       "    </tr>\n",
       "    <tr>\n",
       "      <th>2</th>\n",
       "      <td>1</td>\n",
       "      <td>1</td>\n",
       "      <td>645.076923</td>\n",
       "      <td>1077.692308</td>\n",
       "      <td>343.6</td>\n",
       "    </tr>\n",
       "    <tr>\n",
       "      <th>3</th>\n",
       "      <td>1</td>\n",
       "      <td>2</td>\n",
       "      <td>497.076923</td>\n",
       "      <td>756.769231</td>\n",
       "      <td>361.9</td>\n",
       "    </tr>\n",
       "    <tr>\n",
       "      <th>4</th>\n",
       "      <td>1</td>\n",
       "      <td>3</td>\n",
       "      <td>385.076923</td>\n",
       "      <td>512.692308</td>\n",
       "      <td>362</td>\n",
       "    </tr>\n",
       "    <tr>\n",
       "      <th>...</th>\n",
       "      <td>...</td>\n",
       "      <td>...</td>\n",
       "      <td>...</td>\n",
       "      <td>...</td>\n",
       "      <td>...</td>\n",
       "    </tr>\n",
       "    <tr>\n",
       "      <th>164</th>\n",
       "      <td>7</td>\n",
       "      <td>19</td>\n",
       "      <td>753.538462</td>\n",
       "      <td>1912.076923</td>\n",
       "      <td>217.9</td>\n",
       "    </tr>\n",
       "    <tr>\n",
       "      <th>165</th>\n",
       "      <td>7</td>\n",
       "      <td>20</td>\n",
       "      <td>791.384615</td>\n",
       "      <td>1802.230769</td>\n",
       "      <td>257.3</td>\n",
       "    </tr>\n",
       "    <tr>\n",
       "      <th>166</th>\n",
       "      <td>7</td>\n",
       "      <td>21</td>\n",
       "      <td>808.307692</td>\n",
       "      <td>1958</td>\n",
       "      <td>269</td>\n",
       "    </tr>\n",
       "    <tr>\n",
       "      <th>167</th>\n",
       "      <td>7</td>\n",
       "      <td>22</td>\n",
       "      <td>828.615385</td>\n",
       "      <td>2078.153846</td>\n",
       "      <td>294.5</td>\n",
       "    </tr>\n",
       "    <tr>\n",
       "      <th>168</th>\n",
       "      <td>7</td>\n",
       "      <td>23</td>\n",
       "      <td>864.538462</td>\n",
       "      <td>1859.846154</td>\n",
       "      <td>302.3</td>\n",
       "    </tr>\n",
       "  </tbody>\n",
       "</table>\n",
       "<p>169 rows × 5 columns</p>\n",
       "</div>"
      ],
      "text/plain": [
       "           . Unnamed: 1 Average trips per hour and day of week   Unnamed: 3  \\\n",
       "0    Weekday       Hour                          other 8 bases         Uber   \n",
       "1          1          0                             768.769231  1457.923077   \n",
       "2          1          1                             645.076923  1077.692308   \n",
       "3          1          2                             497.076923   756.769231   \n",
       "4          1          3                             385.076923   512.692308   \n",
       "..       ...        ...                                    ...          ...   \n",
       "164        7         19                             753.538462  1912.076923   \n",
       "165        7         20                             791.384615  1802.230769   \n",
       "166        7         21                             808.307692         1958   \n",
       "167        7         22                             828.615385  2078.153846   \n",
       "168        7         23                             864.538462  1859.846154   \n",
       "\n",
       "    Unnamed: 4  \n",
       "0         Lyft  \n",
       "1        322.6  \n",
       "2        343.6  \n",
       "3        361.9  \n",
       "4          362  \n",
       "..         ...  \n",
       "164      217.9  \n",
       "165      257.3  \n",
       "166        269  \n",
       "167      294.5  \n",
       "168      302.3  \n",
       "\n",
       "[169 rows x 5 columns]"
      ]
     },
     "execution_count": 68,
     "metadata": {},
     "output_type": "execute_result"
    },
    {
     "name": "stderr",
     "output_type": "stream",
     "text": [
      "3:100: E501 line too long (112 > 99 characters)\n"
     ]
    }
   ],
   "source": [
    "taxi_zone_df = pd.read_csv('uber-tlc-foil-response/uber-trip-data/taxi-zone-lookup.csv')\n",
    "tpd_df = pd.read_excel('uber-tlc-foil-response/Aggregate FHV Data.xls', sheet_name='Trips Per Day')\n",
    "tph_df = pd.read_excel('uber-tlc-foil-response/Aggregate FHV Data.xls', sheet_name='Trips Per Hour and Weekday')\n",
    "tph_df"
   ]
  },
  {
   "cell_type": "code",
   "execution_count": 69,
   "metadata": {
    "deletable": false,
    "editable": false,
    "nbgrader": {
     "cell_type": "code",
     "checksum": "8275761b16c3fe512561c7716fe7a946",
     "grade": true,
     "grade_id": "cell-930cc0f7752847a6",
     "locked": true,
     "points": 1,
     "schema_version": 3,
     "solution": false,
     "task": false
    }
   },
   "outputs": [],
   "source": [
    "assert taxi_zone_df.shape == (265, 3)\n",
    "assert tpd_df.shape == (92, 13)\n",
    "assert tph_df.shape == (169, 5)"
   ]
  },
  {
   "cell_type": "markdown",
   "metadata": {
    "deletable": false,
    "editable": false,
    "nbgrader": {
     "cell_type": "markdown",
     "checksum": "3486b9d6e3d6e0c2feebb962c8d3ea2c",
     "grade": false,
     "grade_id": "cell-2dc73cbe201725a5",
     "locked": true,
     "schema_version": 3,
     "solution": false,
     "task": false
    }
   },
   "source": [
    "**Data Merging (1 point)**\n",
    "   \n",
    "   1. In the *uber-trip-data* folder, you will see csv files containing uber trip data from April 14 to September 14. Please read in each of these csv files. You may choose whatever variable names you want for them. Then, concatenate these data sets. The resulting data set should contain all of the observations and should have the same column names as the ones provided in each individual monthly csv file. Call the result of this concatenation `uber_2014_df`.\n",
    "    \n",
    "    \n",
    "   2. In the *uber-trip-data* folder, you will see a folder called *uber-raw-janjune-15*. Within it is a csv file containing information about Uber trips taken in the first six months of 2015. Read this file in and perform an inner join of this data set with `taxi_zone_df` based on `LocationID`. Recall that an inner join is a merge that only keeps the keys (in this case Location IDs) that appear in both data sets. Call the result of this merge `uber_2015_df`."
   ]
  },
  {
   "cell_type": "code",
   "execution_count": 70,
   "metadata": {
    "deletable": false,
    "nbgrader": {
     "cell_type": "code",
     "checksum": "7a3833a079371606eb588f7b066b2dcf",
     "grade": false,
     "grade_id": "cell-2688e01d257b3e5d",
     "locked": false,
     "schema_version": 3,
     "solution": true,
     "task": false
    }
   },
   "outputs": [
    {
     "data": {
      "text/html": [
       "<div>\n",
       "<style scoped>\n",
       "    .dataframe tbody tr th:only-of-type {\n",
       "        vertical-align: middle;\n",
       "    }\n",
       "\n",
       "    .dataframe tbody tr th {\n",
       "        vertical-align: top;\n",
       "    }\n",
       "\n",
       "    .dataframe thead th {\n",
       "        text-align: right;\n",
       "    }\n",
       "</style>\n",
       "<table border=\"1\" class=\"dataframe\">\n",
       "  <thead>\n",
       "    <tr style=\"text-align: right;\">\n",
       "      <th></th>\n",
       "      <th>LocationID</th>\n",
       "      <th>Borough</th>\n",
       "      <th>Zone</th>\n",
       "      <th>Dispatching_base_num</th>\n",
       "      <th>Pickup_date</th>\n",
       "      <th>Affiliated_base_num</th>\n",
       "    </tr>\n",
       "  </thead>\n",
       "  <tbody>\n",
       "    <tr>\n",
       "      <th>0</th>\n",
       "      <td>1</td>\n",
       "      <td>EWR</td>\n",
       "      <td>Newark Airport</td>\n",
       "      <td>B02764</td>\n",
       "      <td>2/22/2015 13:00</td>\n",
       "      <td>B02764</td>\n",
       "    </tr>\n",
       "    <tr>\n",
       "      <th>1</th>\n",
       "      <td>1</td>\n",
       "      <td>EWR</td>\n",
       "      <td>Newark Airport</td>\n",
       "      <td>B02682</td>\n",
       "      <td>5/17/2015 8:15</td>\n",
       "      <td>B02682</td>\n",
       "    </tr>\n",
       "    <tr>\n",
       "      <th>2</th>\n",
       "      <td>1</td>\n",
       "      <td>EWR</td>\n",
       "      <td>Newark Airport</td>\n",
       "      <td>B02764</td>\n",
       "      <td>2/7/2015 14:57</td>\n",
       "      <td>B02764</td>\n",
       "    </tr>\n",
       "    <tr>\n",
       "      <th>3</th>\n",
       "      <td>1</td>\n",
       "      <td>EWR</td>\n",
       "      <td>Newark Airport</td>\n",
       "      <td>B02682</td>\n",
       "      <td>5/17/2015 11:43</td>\n",
       "      <td>B02682</td>\n",
       "    </tr>\n",
       "    <tr>\n",
       "      <th>4</th>\n",
       "      <td>1</td>\n",
       "      <td>EWR</td>\n",
       "      <td>Newark Airport</td>\n",
       "      <td>B02764</td>\n",
       "      <td>3/4/2015 15:14</td>\n",
       "      <td>B02764</td>\n",
       "    </tr>\n",
       "    <tr>\n",
       "      <th>...</th>\n",
       "      <td>...</td>\n",
       "      <td>...</td>\n",
       "      <td>...</td>\n",
       "      <td>...</td>\n",
       "      <td>...</td>\n",
       "      <td>...</td>\n",
       "    </tr>\n",
       "    <tr>\n",
       "      <th>1048570</th>\n",
       "      <td>265</td>\n",
       "      <td>Unknown</td>\n",
       "      <td>Unknown</td>\n",
       "      <td>B02764</td>\n",
       "      <td>3/11/2015 17:48</td>\n",
       "      <td>B00277</td>\n",
       "    </tr>\n",
       "    <tr>\n",
       "      <th>1048571</th>\n",
       "      <td>265</td>\n",
       "      <td>Unknown</td>\n",
       "      <td>Unknown</td>\n",
       "      <td>B02764</td>\n",
       "      <td>5/21/2015 19:00</td>\n",
       "      <td>B02764</td>\n",
       "    </tr>\n",
       "    <tr>\n",
       "      <th>1048572</th>\n",
       "      <td>265</td>\n",
       "      <td>Unknown</td>\n",
       "      <td>Unknown</td>\n",
       "      <td>B02617</td>\n",
       "      <td>5/27/2015 4:07</td>\n",
       "      <td>B02617</td>\n",
       "    </tr>\n",
       "    <tr>\n",
       "      <th>1048573</th>\n",
       "      <td>265</td>\n",
       "      <td>Unknown</td>\n",
       "      <td>Unknown</td>\n",
       "      <td>B02764</td>\n",
       "      <td>5/1/2015 7:07</td>\n",
       "      <td>B02764</td>\n",
       "    </tr>\n",
       "    <tr>\n",
       "      <th>1048574</th>\n",
       "      <td>265</td>\n",
       "      <td>Unknown</td>\n",
       "      <td>Unknown</td>\n",
       "      <td>B02617</td>\n",
       "      <td>5/27/2015 7:11</td>\n",
       "      <td>B02617</td>\n",
       "    </tr>\n",
       "  </tbody>\n",
       "</table>\n",
       "<p>1048575 rows × 6 columns</p>\n",
       "</div>"
      ],
      "text/plain": [
       "         LocationID  Borough            Zone Dispatching_base_num  \\\n",
       "0                 1      EWR  Newark Airport               B02764   \n",
       "1                 1      EWR  Newark Airport               B02682   \n",
       "2                 1      EWR  Newark Airport               B02764   \n",
       "3                 1      EWR  Newark Airport               B02682   \n",
       "4                 1      EWR  Newark Airport               B02764   \n",
       "...             ...      ...             ...                  ...   \n",
       "1048570         265  Unknown         Unknown               B02764   \n",
       "1048571         265  Unknown         Unknown               B02764   \n",
       "1048572         265  Unknown         Unknown               B02617   \n",
       "1048573         265  Unknown         Unknown               B02764   \n",
       "1048574         265  Unknown         Unknown               B02617   \n",
       "\n",
       "             Pickup_date Affiliated_base_num  \n",
       "0        2/22/2015 13:00              B02764  \n",
       "1         5/17/2015 8:15              B02682  \n",
       "2         2/7/2015 14:57              B02764  \n",
       "3        5/17/2015 11:43              B02682  \n",
       "4         3/4/2015 15:14              B02764  \n",
       "...                  ...                 ...  \n",
       "1048570  3/11/2015 17:48              B00277  \n",
       "1048571  5/21/2015 19:00              B02764  \n",
       "1048572   5/27/2015 4:07              B02617  \n",
       "1048573    5/1/2015 7:07              B02764  \n",
       "1048574   5/27/2015 7:11              B02617  \n",
       "\n",
       "[1048575 rows x 6 columns]"
      ]
     },
     "execution_count": 70,
     "metadata": {},
     "output_type": "execute_result"
    },
    {
     "name": "stderr",
     "output_type": "stream",
     "text": [
      "14:100: E501 line too long (120 > 99 characters)\n"
     ]
    }
   ],
   "source": [
    "uber_apr_df = pd.read_csv('uber-tlc-foil-response/uber-trip-data/uber-raw-data-apr14.csv')\n",
    "uber_may_df = pd.read_csv('uber-tlc-foil-response/uber-trip-data/uber-raw-data-may14.csv')\n",
    "uber_jun_df = pd.read_csv('uber-tlc-foil-response/uber-trip-data/uber-raw-data-jun14.csv')\n",
    "uber_jul_df = pd.read_csv('uber-tlc-foil-response/uber-trip-data/uber-raw-data-jul14.csv')\n",
    "uber_aug_df = pd.read_csv('uber-tlc-foil-response/uber-trip-data/uber-raw-data-aug14.csv')\n",
    "uber_sep_df = pd.read_csv('uber-tlc-foil-response/uber-trip-data/uber-raw-data-sep14.csv')\n",
    "uber_2014_df = uber_apr_df\n",
    "uber_2014_df = pd.concat([uber_2014_df, uber_may_df], axis=0)\n",
    "uber_2014_df = pd.concat([uber_2014_df, uber_jun_df], axis=0)\n",
    "uber_2014_df = pd.concat([uber_2014_df, uber_jul_df], axis=0)\n",
    "uber_2014_df = pd.concat([uber_2014_df, uber_aug_df], axis=0)\n",
    "uber_2014_df = pd.concat([uber_2014_df, uber_sep_df], axis=0)\n",
    "\n",
    "user_raw_janjune = pd.read_csv('uber-tlc-foil-response/uber-trip-data/uber-raw-janjune-15/uber-raw-data-janjune-15.csv')\n",
    "uber_2015_df = pd.merge(taxi_zone_df, user_raw_janjune, how=\"inner\", on=[\"LocationID\"])\n",
    "uber_2015_df"
   ]
  },
  {
   "cell_type": "code",
   "execution_count": 71,
   "metadata": {
    "deletable": false,
    "editable": false,
    "nbgrader": {
     "cell_type": "code",
     "checksum": "a309b55136f6f9cda54ac4a4fdb6a56f",
     "grade": true,
     "grade_id": "cell-422299a29d582d49",
     "locked": true,
     "points": 1,
     "schema_version": 3,
     "solution": false,
     "task": false
    }
   },
   "outputs": [],
   "source": [
    "assert uber_2014_df.shape == (4534327, 4)\n",
    "assert uber_2015_df.shape == (1048575, 6)"
   ]
  },
  {
   "cell_type": "markdown",
   "metadata": {
    "deletable": false,
    "editable": false,
    "nbgrader": {
     "cell_type": "markdown",
     "checksum": "96f2d7be1eb89a698f49b30e95299f84",
     "grade": false,
     "grade_id": "cell-f3fe0c010cd1fdfe",
     "locked": true,
     "schema_version": 3,
     "solution": false,
     "task": false
    }
   },
   "source": [
    "**Data Cleaning (1 point)** \n",
    "\n",
    "You may have noticed that the `tph_df` dataframe looks kind of funky. This is because the original Excel file had a nested header. Let's fix that! Make the first row (which has the column names we want) the column names of `tph_df`. Make sure that the column names are also deleted from the data set so that the data set contains only observations. Please keep the resulting dataframe named `tph_df`.\n",
    "\n",
    "After finishing Part 1 you should have five cleaned data sets: `taxi_zone_df`, `tpd_df`, `tph_df`, `uber_2014_df`, and `uber_2015_df`. You will use these data sets next."
   ]
  },
  {
   "cell_type": "code",
   "execution_count": 72,
   "metadata": {
    "deletable": false,
    "nbgrader": {
     "cell_type": "code",
     "checksum": "38b57aa5ca04e31b71ac2b1278b1fe5c",
     "grade": false,
     "grade_id": "cell-f534eeacf8aaf2a5",
     "locked": false,
     "schema_version": 3,
     "solution": true,
     "task": false
    }
   },
   "outputs": [
    {
     "data": {
      "text/html": [
       "<div>\n",
       "<style scoped>\n",
       "    .dataframe tbody tr th:only-of-type {\n",
       "        vertical-align: middle;\n",
       "    }\n",
       "\n",
       "    .dataframe tbody tr th {\n",
       "        vertical-align: top;\n",
       "    }\n",
       "\n",
       "    .dataframe thead th {\n",
       "        text-align: right;\n",
       "    }\n",
       "</style>\n",
       "<table border=\"1\" class=\"dataframe\">\n",
       "  <thead>\n",
       "    <tr style=\"text-align: right;\">\n",
       "      <th></th>\n",
       "      <th>Weekday</th>\n",
       "      <th>Hour</th>\n",
       "      <th>other 8 bases</th>\n",
       "      <th>Uber</th>\n",
       "      <th>Lyft</th>\n",
       "    </tr>\n",
       "  </thead>\n",
       "  <tbody>\n",
       "    <tr>\n",
       "      <th>1</th>\n",
       "      <td>1</td>\n",
       "      <td>0</td>\n",
       "      <td>768.769231</td>\n",
       "      <td>1457.923077</td>\n",
       "      <td>322.6</td>\n",
       "    </tr>\n",
       "    <tr>\n",
       "      <th>2</th>\n",
       "      <td>1</td>\n",
       "      <td>1</td>\n",
       "      <td>645.076923</td>\n",
       "      <td>1077.692308</td>\n",
       "      <td>343.6</td>\n",
       "    </tr>\n",
       "    <tr>\n",
       "      <th>3</th>\n",
       "      <td>1</td>\n",
       "      <td>2</td>\n",
       "      <td>497.076923</td>\n",
       "      <td>756.769231</td>\n",
       "      <td>361.9</td>\n",
       "    </tr>\n",
       "    <tr>\n",
       "      <th>4</th>\n",
       "      <td>1</td>\n",
       "      <td>3</td>\n",
       "      <td>385.076923</td>\n",
       "      <td>512.692308</td>\n",
       "      <td>362</td>\n",
       "    </tr>\n",
       "    <tr>\n",
       "      <th>5</th>\n",
       "      <td>1</td>\n",
       "      <td>4</td>\n",
       "      <td>435.153846</td>\n",
       "      <td>308.153846</td>\n",
       "      <td>332.8</td>\n",
       "    </tr>\n",
       "    <tr>\n",
       "      <th>...</th>\n",
       "      <td>...</td>\n",
       "      <td>...</td>\n",
       "      <td>...</td>\n",
       "      <td>...</td>\n",
       "      <td>...</td>\n",
       "    </tr>\n",
       "    <tr>\n",
       "      <th>164</th>\n",
       "      <td>7</td>\n",
       "      <td>19</td>\n",
       "      <td>753.538462</td>\n",
       "      <td>1912.076923</td>\n",
       "      <td>217.9</td>\n",
       "    </tr>\n",
       "    <tr>\n",
       "      <th>165</th>\n",
       "      <td>7</td>\n",
       "      <td>20</td>\n",
       "      <td>791.384615</td>\n",
       "      <td>1802.230769</td>\n",
       "      <td>257.3</td>\n",
       "    </tr>\n",
       "    <tr>\n",
       "      <th>166</th>\n",
       "      <td>7</td>\n",
       "      <td>21</td>\n",
       "      <td>808.307692</td>\n",
       "      <td>1958</td>\n",
       "      <td>269</td>\n",
       "    </tr>\n",
       "    <tr>\n",
       "      <th>167</th>\n",
       "      <td>7</td>\n",
       "      <td>22</td>\n",
       "      <td>828.615385</td>\n",
       "      <td>2078.153846</td>\n",
       "      <td>294.5</td>\n",
       "    </tr>\n",
       "    <tr>\n",
       "      <th>168</th>\n",
       "      <td>7</td>\n",
       "      <td>23</td>\n",
       "      <td>864.538462</td>\n",
       "      <td>1859.846154</td>\n",
       "      <td>302.3</td>\n",
       "    </tr>\n",
       "  </tbody>\n",
       "</table>\n",
       "<p>168 rows × 5 columns</p>\n",
       "</div>"
      ],
      "text/plain": [
       "0   Weekday Hour other 8 bases         Uber   Lyft\n",
       "1         1    0    768.769231  1457.923077  322.6\n",
       "2         1    1    645.076923  1077.692308  343.6\n",
       "3         1    2    497.076923   756.769231  361.9\n",
       "4         1    3    385.076923   512.692308    362\n",
       "5         1    4    435.153846   308.153846  332.8\n",
       "..      ...  ...           ...          ...    ...\n",
       "164       7   19    753.538462  1912.076923  217.9\n",
       "165       7   20    791.384615  1802.230769  257.3\n",
       "166       7   21    808.307692         1958    269\n",
       "167       7   22    828.615385  2078.153846  294.5\n",
       "168       7   23    864.538462  1859.846154  302.3\n",
       "\n",
       "[168 rows x 5 columns]"
      ]
     },
     "execution_count": 72,
     "metadata": {},
     "output_type": "execute_result"
    }
   ],
   "source": [
    "colnames = tph_df.loc[0]\n",
    "tph_df.columns = colnames\n",
    "tph_df = tph_df[1:]\n",
    "tph_df"
   ]
  },
  {
   "cell_type": "code",
   "execution_count": 73,
   "metadata": {
    "deletable": false,
    "editable": false,
    "nbgrader": {
     "cell_type": "code",
     "checksum": "1e9041a041f0874e702dbdb5f173c1e2",
     "grade": true,
     "grade_id": "cell-1d91137a06444b09",
     "locked": true,
     "points": 1,
     "schema_version": 3,
     "solution": false,
     "task": false
    }
   },
   "outputs": [],
   "source": [
    "assert tph_df.shape == (168, 5)\n",
    "assert \"Unnamed\" not in str(tph_df.columns)"
   ]
  },
  {
   "cell_type": "markdown",
   "metadata": {
    "deletable": false,
    "editable": false,
    "nbgrader": {
     "cell_type": "markdown",
     "checksum": "bf954e9bb0a824530964af98dab6111b",
     "grade": false,
     "grade_id": "cell-ff663ec6c2a79c97",
     "locked": true,
     "schema_version": 3,
     "solution": false,
     "task": false
    }
   },
   "source": [
    "## Part 2: Basic Summary Statistics and Fact Checking (3 points)"
   ]
  },
  {
   "cell_type": "markdown",
   "metadata": {
    "deletable": false,
    "editable": false,
    "nbgrader": {
     "cell_type": "markdown",
     "checksum": "2aab233750634776fe768dbc348960db",
     "grade": false,
     "grade_id": "cell-7a81dafc668403f9",
     "locked": true,
     "schema_version": 3,
     "solution": false,
     "task": false
    }
   },
   "source": [
    "__(1 point) \"As of July 2015, one-third of all Uber rides started in the outer boroughs and Upper Manhattan — a trend that has been increasing since we first came to NYC.\"__ Let's assume that this statement is true. Let's also assume that Upper Manhattan would be labelled as \"Manhattan\" in the Borough column. If this were the case, calculate what percentage of all rides started in the outer boroughs. Store the float result in a variable called `outer_borough_ubers`. Outer boroughs are any borough that is not Manhattan (you should include Borough=='Unknown' as an outer borough as well). You should only use the 2015 data frame for this subproblem."
   ]
  },
  {
   "cell_type": "code",
   "execution_count": 74,
   "metadata": {
    "deletable": false,
    "nbgrader": {
     "cell_type": "code",
     "checksum": "fea503b4b9a5d434a9e1dba7ef2fb8b3",
     "grade": false,
     "grade_id": "cell-d4bed9a5dde3d49c",
     "locked": false,
     "schema_version": 3,
     "solution": true,
     "task": false
    }
   },
   "outputs": [
    {
     "data": {
      "text/plain": [
       "0.27444102710821827"
      ]
     },
     "execution_count": 74,
     "metadata": {},
     "output_type": "execute_result"
    }
   ],
   "source": [
    "out_Manhattan = sum(uber_2015_df['Borough'] != 'Manhattan')\n",
    "total = uber_2015_df['Borough'].count()\n",
    "outer_borough_ubers = out_Manhattan / total\n",
    "outer_borough_ubers"
   ]
  },
  {
   "cell_type": "code",
   "execution_count": 75,
   "metadata": {
    "deletable": false,
    "editable": false,
    "nbgrader": {
     "cell_type": "code",
     "checksum": "5106a3d3c45fedc8732a9cf588d21e0b",
     "grade": true,
     "grade_id": "cell-b553990a5880a3e9",
     "locked": true,
     "points": 1,
     "schema_version": 3,
     "solution": false,
     "task": false
    }
   },
   "outputs": [],
   "source": [
    "assert outer_borough_ubers < 0.34"
   ]
  },
  {
   "cell_type": "markdown",
   "metadata": {
    "deletable": false,
    "editable": false,
    "nbgrader": {
     "cell_type": "markdown",
     "checksum": "88d5eb49e2b5b392af88ebbd27d85de2",
     "grade": false,
     "grade_id": "cell-758374b6790df2dd",
     "locked": true,
     "schema_version": 3,
     "solution": false,
     "task": false
    }
   },
   "source": [
    "__(1 point) \"From April to September [of 2014]... Of the 4.4 million Uber rides for which the data shows a pickup location, 22 percent started outside of Manhattan.\"__ Verify this statement assuming that Manhattan is contained in a rectangular grid of Lat: [40.6997, 40.8784] and Lon: [-74.0114, -73.9278] and that these boundaries are inclusive. This assumption is just for simplicity of coding; in reality, this will make our proportion of non-Manhattan ubers a bit smaller than expected. Store your float answer in the variable `non_manhattan_ubers`."
   ]
  },
  {
   "cell_type": "code",
   "execution_count": 76,
   "metadata": {
    "deletable": false,
    "nbgrader": {
     "cell_type": "code",
     "checksum": "d835d171fdd3feb8726e8652d895c53e",
     "grade": false,
     "grade_id": "cell-5ce427806e71f351",
     "locked": false,
     "schema_version": 3,
     "solution": true,
     "task": false
    }
   },
   "outputs": [
    {
     "data": {
      "text/plain": [
       "0.20358853695377505"
      ]
     },
     "execution_count": 76,
     "metadata": {},
     "output_type": "execute_result"
    }
   ],
   "source": [
    "in_Manhattan = uber_2014_df.loc[(uber_2014_df.Lat >= 40.6997) & (uber_2014_df.Lat <= 40.8784) &\n",
    "                                (uber_2014_df.Lon >= -74.0114) & (uber_2014_df.Lon <= -73.9278)]\n",
    "in_Manhattan\n",
    "non_manhattan_ubers = (uber_2014_df.shape[0] - in_Manhattan.shape[0]) / uber_2014_df.shape[0]\n",
    "non_manhattan_ubers"
   ]
  },
  {
   "cell_type": "code",
   "execution_count": 77,
   "metadata": {
    "deletable": false,
    "editable": false,
    "nbgrader": {
     "cell_type": "code",
     "checksum": "8a9c3b5a98e921badcc053dfacfb56a2",
     "grade": true,
     "grade_id": "cell-eed79f71bc82002b",
     "locked": true,
     "points": 1,
     "schema_version": 3,
     "solution": false,
     "task": false
    }
   },
   "outputs": [],
   "source": [
    "assert abs(non_manhattan_ubers - 0.22) < 0.02"
   ]
  },
  {
   "cell_type": "markdown",
   "metadata": {
    "deletable": false,
    "editable": false,
    "nbgrader": {
     "cell_type": "markdown",
     "checksum": "8cee2b976fc3168a2ace20da2e02374c",
     "grade": false,
     "grade_id": "cell-3b71e38448b6ec32",
     "locked": true,
     "schema_version": 3,
     "solution": false,
     "task": false
    }
   },
   "source": [
    "__(1 point) \"[Uber's] drivers provided 82 percent more rides in September than in April [of 2014]\"__. Verify this statement by storing the exact percentage change in the variable `apr_to_sep`."
   ]
  },
  {
   "cell_type": "code",
   "execution_count": 78,
   "metadata": {
    "deletable": false,
    "nbgrader": {
     "cell_type": "code",
     "checksum": "6c5f97ab9810e83ecbd9c7cdb4690ef1",
     "grade": false,
     "grade_id": "cell-1b13abee6f1f04dd",
     "locked": false,
     "schema_version": 3,
     "solution": true,
     "task": false
    }
   },
   "outputs": [
    {
     "data": {
      "text/plain": [
       "0.8212699020045491"
      ]
     },
     "execution_count": 78,
     "metadata": {},
     "output_type": "execute_result"
    }
   ],
   "source": [
    "apr_to_sep = (uber_sep_df.shape[0] - uber_apr_df.shape[0]) / uber_apr_df.shape[0]\n",
    "apr_to_sep"
   ]
  },
  {
   "cell_type": "code",
   "execution_count": 79,
   "metadata": {
    "deletable": false,
    "editable": false,
    "nbgrader": {
     "cell_type": "code",
     "checksum": "3dbbd4666903bf0bcca133fea8704e73",
     "grade": true,
     "grade_id": "cell-b5a3e4028155f3f5",
     "locked": true,
     "points": 1,
     "schema_version": 3,
     "solution": false,
     "task": false
    }
   },
   "outputs": [],
   "source": [
    "assert abs(apr_to_sep - 0.82) < 0.02"
   ]
  },
  {
   "cell_type": "markdown",
   "metadata": {
    "deletable": false,
    "editable": false,
    "nbgrader": {
     "cell_type": "markdown",
     "checksum": "8488d19b6f332f66a0e16dc8f54aaa18",
     "grade": false,
     "grade_id": "cell-bf75087fb1504634",
     "locked": true,
     "schema_version": 3,
     "solution": false,
     "task": false
    }
   },
   "source": [
    "## Part 3: Creating a Summary Statistics Table (4 points)"
   ]
  },
  {
   "cell_type": "markdown",
   "metadata": {
    "deletable": false,
    "editable": false,
    "nbgrader": {
     "cell_type": "markdown",
     "checksum": "9cca4d0438e2a13f40355be217320530",
     "grade": false,
     "grade_id": "cell-780c9d5816ca3a64",
     "locked": true,
     "schema_version": 3,
     "solution": false,
     "task": false
    }
   },
   "source": [
    "1. Summary statistics are a great way to understand the spread of data. Write a function called `variable_summary` that takes in a pandas dataframe of numeric variables and returns a pandas dataframe with the following statistics summaries: \n",
    "\n",
    " - __count__ (The count is the number of times the variable has been observed (i.e. the number of observations minus missing values.))\n",
    " - __mean__ $$ \\frac{1}{n}\\sum_{i=1}^{n}x_{i} $$\n",
    " - __std__ (The unbiased standard deviation. Note: `np.var` returns the value expressed below but with n instead of n-1 in the denominator. Make sure to correct for that if you choose to use that function. __Hint:__ You may find the count useful in this calculation.) $$ \\sqrt{\\frac{1}{n-1}\\sum_{i=1}^{n}(x_{i}-\\bar{x})^{2}} $$\n",
    " - __min__ (The lowest valued observation.)\n",
    " - __25%__ (The 25th percentile or lower quantile).\n",
    " - __50%__ (The 50th percentile or median).\n",
    " - __75%__ (The 25th percentile or upper quantile).\n",
    " - __max__ (The highest valued observation.)\n",
    " \n",
    "   The row index values of the pandas dataframe you return should be replaced with the words in bold; the column names should be the variable names. Round all of your values to 4 decimal places. If you implemented this correctly, your function should behave identically to the `pd.Dataframe.describe` function except for the rounding. You may use the `pd.Dataframe.describe` function to check your work but are prohibited from using it as your solution. Solutions that directly use the describe function will receive no credit. <b> This question is graded all or nothing. </b> __Hint__: The numpy library, the `pd.Dataframe.index` method, and the `pd.Dataframe.astype` method might prove useful for this question."
   ]
  },
  {
   "cell_type": "code",
   "execution_count": 80,
   "metadata": {
    "deletable": false,
    "nbgrader": {
     "cell_type": "code",
     "checksum": "cecf8f83472ff756b61635a5452e5925",
     "grade": false,
     "grade_id": "cell-4f9493ccc74b284d",
     "locked": false,
     "schema_version": 3,
     "solution": true,
     "task": false
    }
   },
   "outputs": [
    {
     "name": "stderr",
     "output_type": "stream",
     "text": [
      "3:100: E501 line too long (125 > 99 characters)\n",
      "6:100: E501 line too long (122 > 99 characters)\n",
      "9:100: E501 line too long (119 > 99 characters)\n",
      "12:100: E501 line too long (119 > 99 characters)\n",
      "15:100: E501 line too long (137 > 99 characters)\n",
      "18:100: E501 line too long (135 > 99 characters)\n",
      "21:100: E501 line too long (137 > 99 characters)\n",
      "24:100: E501 line too long (119 > 99 characters)\n"
     ]
    }
   ],
   "source": [
    "def variable_summary(data):\n",
    "    stats = pd.DataFrame(columns=data.columns)\n",
    "    data1 = pd.DataFrame([[uber_2014_df[\"Lat\"].count(), uber_2014_df[\"Lon\"].count()]], columns=data.columns, index=['count'])\n",
    "    data1 = data1.round(4)\n",
    "    stats = stats.append(data1)\n",
    "    data2 = pd.DataFrame([[uber_2014_df[\"Lat\"].mean(), uber_2014_df[\"Lon\"].mean()]], columns=data.columns, index=['mean'])\n",
    "    data2 = data2.round(4)\n",
    "    stats = stats.append(data2)\n",
    "    data3 = pd.DataFrame([[uber_2014_df[\"Lat\"].std(), uber_2014_df[\"Lon\"].std()]], columns=data.columns, index=['std'])\n",
    "    data3 = data3.round(4)\n",
    "    stats = stats.append(data3)\n",
    "    data4 = pd.DataFrame([[uber_2014_df[\"Lat\"].min(), uber_2014_df[\"Lon\"].min()]], columns=data.columns, index=['min'])\n",
    "    data4 = data4.round(4)\n",
    "    stats = stats.append(data4)\n",
    "    data5 = pd.DataFrame([[uber_2014_df[\"Lat\"].quantile(0.25), uber_2014_df[\"Lon\"].quantile(0.25)]], columns=data.columns, index=['25%'])\n",
    "    data5 = data5.round(4)\n",
    "    stats = stats.append(data5)\n",
    "    data6 = pd.DataFrame([[uber_2014_df[\"Lat\"].quantile(0.5), uber_2014_df[\"Lon\"].quantile(0.5)]], columns=data.columns, index=['50%'])\n",
    "    data6 = data6.round(4)\n",
    "    stats = stats.append(data6)\n",
    "    data7 = pd.DataFrame([[uber_2014_df[\"Lat\"].quantile(0.75), uber_2014_df[\"Lon\"].quantile(0.75)]], columns=data.columns, index=['75%'])\n",
    "    data7 = data7.round(4)\n",
    "    stats = stats.append(data7)\n",
    "    data8 = pd.DataFrame([[uber_2014_df[\"Lat\"].max(), uber_2014_df[\"Lon\"].max()]], columns=data.columns, index=['max'])\n",
    "    data8 = data8.round(4)\n",
    "    stats = stats.append(data8)\n",
    "    return stats"
   ]
  },
  {
   "cell_type": "code",
   "execution_count": 81,
   "metadata": {
    "deletable": false,
    "editable": false,
    "nbgrader": {
     "cell_type": "code",
     "checksum": "afd45ce3f7606fdb79e98fdc38971bea",
     "grade": true,
     "grade_id": "cell-0d1c9f8f72d09303",
     "locked": true,
     "points": 4,
     "schema_version": 3,
     "solution": false,
     "task": false
    }
   },
   "outputs": [],
   "source": [
    "data = uber_2014_df[[\"Lat\", \"Lon\"]]\n",
    "assert all(variable_summary(data) == round(data.describe(), 4))"
   ]
  },
  {
   "cell_type": "markdown",
   "metadata": {
    "deletable": false,
    "editable": false,
    "nbgrader": {
     "cell_type": "markdown",
     "checksum": "5c3096c7de0a6ba775a3a1592e77fcc7",
     "grade": false,
     "grade_id": "cell-fb6a388ca6869dc1",
     "locked": true,
     "schema_version": 3,
     "solution": false,
     "task": false
    }
   },
   "source": [
    "## Part 4: Introduction to Seaborn Plots: Advanced Fact Checking (7 points)"
   ]
  },
  {
   "cell_type": "markdown",
   "metadata": {
    "deletable": false,
    "editable": false,
    "nbgrader": {
     "cell_type": "markdown",
     "checksum": "f20e2133bfc0bc70ffff4963b82d3649",
     "grade": false,
     "grade_id": "cell-844580e9f2c8da4b",
     "locked": true,
     "schema_version": 3,
     "solution": false,
     "task": false
    }
   },
   "source": [
    "According to the article *Uber Is Serving New York’s Outer Boroughs More Than Taxis Are*, \"Uber is busiest between 5 and 6 p.m.\" Additionally, the authors claim that \"Uber does the least business on Sundays.\" In this section, we will create some helpful visualizations that will help confirm (or raise doubt on) the claims."
   ]
  },
  {
   "cell_type": "markdown",
   "metadata": {
    "deletable": false,
    "editable": false,
    "nbgrader": {
     "cell_type": "markdown",
     "checksum": "affd6e712a90f4f1f3e11612da696401",
     "grade": false,
     "grade_id": "cell-9c66716d0030ddd7",
     "locked": true,
     "schema_version": 3,
     "solution": false,
     "task": false
    }
   },
   "source": [
    "<b> (1 point) </b>  Create a bar chart using Seaborn that plots the average number of trips taken at each time of day across every day of the week. This means your bar chart should have 24 different bars each representing a different hour of the day. __Note:__ By default, the chart will have error bars. Feel free to leave them in (or remove them if you like the challenge) for now. You will clean up this chart in the next problem."
   ]
  },
  {
   "cell_type": "code",
   "execution_count": 82,
   "metadata": {
    "deletable": false,
    "nbgrader": {
     "cell_type": "code",
     "checksum": "8342823f9ed1f639979f8673d70fac97",
     "grade": true,
     "grade_id": "cell-c0c3d480566a34f6",
     "locked": false,
     "points": 1,
     "schema_version": 3,
     "solution": true,
     "task": false
    }
   },
   "outputs": [
    {
     "data": {
      "image/png": "[encoded data removed]",
      "text/plain": [
       "<Figure size 1080x576 with 1 Axes>"
      ]
     },
     "metadata": {},
     "output_type": "display_data"
    }
   ],
   "source": [
    "tph_df\n",
    "plt.figure(figsize=(15, 8))\n",
    "ax = sns.barplot(x='Hour', y='Uber', data=tph_df)"
   ]
  },
  {
   "cell_type": "markdown",
   "metadata": {
    "deletable": false,
    "editable": false,
    "nbgrader": {
     "cell_type": "markdown",
     "checksum": "ef10c188142e8d3c3d6e6834c82c2114",
     "grade": false,
     "grade_id": "cell-5a294b87b599b1fc",
     "locked": true,
     "points": 3,
     "schema_version": 3,
     "solution": false,
     "task": true
    }
   },
   "source": [
    "2. <b> (3 points) </b> The last bar chart is helpful in analyzing trends hour by hour. However, we can make some additions that make the graph neater and more detailed. Please make the following changes:\n",
    "\n",
    "\n",
    "  1. Add caps to the confidence interval lines to make the confidence intervals more readable. \n",
    "  2. Color code the bars so that they correspond to the time of day as follows:\n",
    "     1. 12am-6am (0:00-6:00) (Graveyard Hours): Grey  \n",
    "     2. 6am-12pm (6:00-12:00) (Morning Hours): Yellow  \n",
    "     3. 12pm-6pm (12:00-18:00) (Afternoon Hours): Green  \n",
    "     4. 6pm-12am (18:00-0:00) (Evening Hours): Blue\n",
    "  3. Add a legend for the colors/labels you specified in 2A-D\n",
    "  4. Set the title of the graph to \"Uber Rides Throughout the Day\".\n",
    "  5. Set the y-axis label to be \"Average Number of Uber Rides\".\n",
    "  6. Make the color of the error bar black.\n",
    "  7. Change the transparency of the bar (parameter `alpha`) to 75% so that the confidence interval bars are more visible."
   ]
  },
  {
   "cell_type": "code",
   "execution_count": 83,
   "metadata": {
    "deletable": false,
    "nbgrader": {
     "cell_type": "code",
     "checksum": "2a1b48584e1bd8174faa054381458a2f",
     "grade": false,
     "grade_id": "cell-66a7a8c159a48b1d",
     "locked": false,
     "schema_version": 3,
     "solution": true,
     "task": false
    }
   },
   "outputs": [
    {
     "data": {
      "text/plain": [
       "<matplotlib.legend.Legend at 0x2fb0d635f70>"
      ]
     },
     "execution_count": 83,
     "metadata": {},
     "output_type": "execute_result"
    },
    {
     "data": {
      "image/png": "[encoded data removed]",
      "text/plain": [
       "<Figure size 1080x576 with 1 Axes>"
      ]
     },
     "metadata": {},
     "output_type": "display_data"
    },
    {
     "name": "stderr",
     "output_type": "stream",
     "text": [
      "5:100: E501 line too long (141 > 99 characters)\n",
      "6:100: E501 line too long (108 > 99 characters)\n",
      "11:12: E225 missing whitespace around operator\n",
      "12:100: E501 line too long (103 > 99 characters)\n"
     ]
    }
   ],
   "source": [
    "import matplotlib.patches as mpatches\n",
    "\n",
    "\n",
    "plt.figure(figsize=(15, 8))\n",
    "colors = ['grey' if (x <= 5) else 'yellow' if (x >= 6 and x <= 11) else 'green' if (x >= 12 and x <= 17) else 'blue' for x in tph_df['Hour']]\n",
    "ax = sns.barplot(x='Hour', y='Uber', capsize=0.3, palette=colors, errcolor='black', data=tph_df, alpha=0.75)\n",
    "plt.title('Uber Rides Throughout the Day', fontsize=16)\n",
    "plt.xlabel('Hours', fontsize=16)\n",
    "plt.ylabel('Average Number of Uber Rides', fontsize=16)\n",
    "color_array = ['grey', 'yellow', 'green', 'blue']\n",
    "label_array= ['12am-6am', '6am-12pm', '12pm-6pm', '6pm-12am']\n",
    "patches = [mpatches.Patch(color=color_array[i], label=label_array[i]) for i in range(len(label_array))]\n",
    "plt.legend(handles=patches, fontsize=14)"
   ]
  },
  {
   "cell_type": "markdown",
   "metadata": {
    "deletable": false,
    "editable": false,
    "nbgrader": {
     "cell_type": "markdown",
     "checksum": "f521f333e67c13a8b1f95be9020fbe28",
     "grade": false,
     "grade_id": "cell-872d2ea4a79d1cda",
     "locked": true,
     "points": 3,
     "schema_version": 3,
     "solution": false,
     "task": true
    }
   },
   "source": [
    "3. <b>(3 points)</b> Create a violin plot in that showcases the spread of the number of uber trips taken by weekday. You will want to use `tph_df` to do this task. Start by mapping the numbers in the \"Weekday\" variable of `tph_df` to their word representations where 1 is Sunday, 2 is Monday,..., 7 is Saturday. Then, plot the violin plot using the data provided by `tph_df` with a muted color palette. Give it a title and make that title and the axes titles more visible. You will be graded on the accuracy and visual readability of the plot. The readability plot means the title and axes are readable and are sensible labels for the data in question. __Hint:__ You may want to increase the figure size for this question."
   ]
  },
  {
   "cell_type": "code",
   "execution_count": 84,
   "metadata": {
    "deletable": false,
    "nbgrader": {
     "cell_type": "code",
     "checksum": "818edd33c0ec9c8438c63ed0d8b51761",
     "grade": false,
     "grade_id": "cell-df61795ce6714492",
     "locked": false,
     "schema_version": 3,
     "solution": true,
     "task": false
    }
   },
   "outputs": [
    {
     "name": "stderr",
     "output_type": "stream",
     "text": [
      "<ipython-input-84-1b21ba4a3db8>:18: SettingWithCopyWarning: \n",
      "A value is trying to be set on a copy of a slice from a DataFrame.\n",
      "Try using .loc[row_indexer,col_indexer] = value instead\n",
      "\n",
      "See the caveats in the documentation: https://pandas.pydata.org/pandas-docs/stable/user_guide/indexing.html#returning-a-view-versus-a-copy\n",
      "  tph_df['WeekdayMap'] = tph_df.apply(mapto, axis=1)\n",
      "<ipython-input-84-1b21ba4a3db8>:19: SettingWithCopyWarning: \n",
      "A value is trying to be set on a copy of a slice from a DataFrame.\n",
      "Try using .loc[row_indexer,col_indexer] = value instead\n",
      "\n",
      "See the caveats in the documentation: https://pandas.pydata.org/pandas-docs/stable/user_guide/indexing.html#returning-a-view-versus-a-copy\n",
      "  tph_df['Uber']=tph_df['Uber'].astype('float64')\n"
     ]
    },
    {
     "data": {
      "text/plain": [
       "Text(0, 0.5, 'Average Number of Uber Rides')"
      ]
     },
     "execution_count": 84,
     "metadata": {},
     "output_type": "execute_result"
    },
    {
     "data": {
      "image/png": "[encoded data removed]",
      "text/plain": [
       "<Figure size 1080x576 with 1 Axes>"
      ]
     },
     "metadata": {},
     "output_type": "display_data"
    },
    {
     "name": "stderr",
     "output_type": "stream",
     "text": [
      "18:1: E305 expected 2 blank lines after class or function definition, found 0\n",
      "19:15: E225 missing whitespace around operator\n"
     ]
    }
   ],
   "source": [
    "def mapto(tph_df):\n",
    "    val = ' '\n",
    "    if (tph_df['Weekday'] == 1):\n",
    "        val = 'Sunday'\n",
    "    if (tph_df['Weekday'] == 2):\n",
    "        val = 'Monday'\n",
    "    if (tph_df['Weekday'] == 3):\n",
    "        val = 'Tuesday'\n",
    "    if (tph_df['Weekday'] == 4):\n",
    "        val = 'Wednesday'\n",
    "    if (tph_df['Weekday'] == 5):\n",
    "        val = 'Thursday'\n",
    "    if (tph_df['Weekday'] == 6):\n",
    "        val = 'Friday'\n",
    "    if (tph_df['Weekday'] == 7):\n",
    "        val = 'Saturday'\n",
    "    return val\n",
    "tph_df['WeekdayMap'] = tph_df.apply(mapto, axis=1)\n",
    "tph_df['Uber']=tph_df['Uber'].astype('float64')\n",
    "plt.figure(figsize=(15, 8))\n",
    "ax = sns.violinplot(x='WeekdayMap', y='Uber', data=tph_df, palette=\"muted\")\n",
    "plt.title('Uber Rides throughout each Weekday', fontsize=16)\n",
    "plt.xlabel('Weekdays', fontsize=16)\n",
    "plt.ylabel('Average Number of Uber Rides', fontsize=16)"
   ]
  },
  {
   "cell_type": "markdown",
   "metadata": {
    "deletable": false,
    "editable": false,
    "nbgrader": {
     "cell_type": "markdown",
     "checksum": "6728293fcafbbc366e166a3679fc0d65",
     "grade": false,
     "grade_id": "cell-6231c94d96eedb78",
     "locked": true,
     "schema_version": 3,
     "solution": false,
     "task": false
    }
   },
   "source": [
    "## Part 5: Hypothesis Testing Based on Data (5 points)\n",
    "\n",
    "In this part, you will be using the data you have to answer some questions via hypothesis tests.\n",
    "\n",
    "Write a function called `higher_prop_uber_test` that takes in two lists of \"days\" `early_days` and `later_days` and a float `sig_level`. The two sets are constructed such that all of the days in `later days` will be later than the days in `early_days`; the test cases will follow this structure, so you do not need to ensure this is true. The elements of the two lists are row indices in the `tpd_df` data set. The `tpd_df` is by default in chronological order, but if you changed the order before this problem make sure you revert it back to chronological order. \n",
    "\n",
    "`higher_prop_uber_test` should run an unpooled 2-sample proportion upper-tailed test (https://ncss-wpengine.netdna-ssl.com/wp-content/themes/ncss/pdf/Procedures/PASS/Tests_for_Two_Proportions.pdf) that tests if the proportion of ubers described in `later_days` is statistically significantly greater than the proportion of ubers described in `early_days` at the specified significance level `sig_level`. Regardless of the sample size, you can use the normal distribution to find the critical value. The proportion of ubers can be calculated as follows: $$p = \\frac{Uber}{Uber + Yellow Cab + Green Cab} $$ The hypothesis test looks like this: $$ H_{0}: p_{later} - p_{early} \\leq 0 \\\\ H_{1}: p_{later} - p_{early} > 0 $$ The function should return the string __\"Reject Null\"__ if it rejects the null hypothesis and __\"Fails to Reject Null\"__ if it doesn't. Please make sure your function returns these strings exactly as written. Typos will receive no credit.\n",
    "\n",
    "**Note:** We would like to take days at random from subsets but because this is autograded, we are putting in the additional feature that it should work with any set of days provided by `early_days` and `later_days` that satisfy the constraint mentioned above."
   ]
  },
  {
   "cell_type": "code",
   "execution_count": 85,
   "metadata": {
    "deletable": false,
    "nbgrader": {
     "cell_type": "code",
     "checksum": "7d930082ec8bd19f50e84aae3cf35406",
     "grade": false,
     "grade_id": "cell-4156f9e4ecdfcbe9",
     "locked": false,
     "schema_version": 3,
     "solution": true,
     "task": false
    }
   },
   "outputs": [
    {
     "name": "stderr",
     "output_type": "stream",
     "text": [
      "9:100: E501 line too long (128 > 99 characters)\n",
      "10:100: E501 line too long (123 > 99 characters)\n",
      "12:100: E501 line too long (137 > 99 characters)\n",
      "12:138: W291 trailing whitespace\n",
      "13:100: E501 line too long (131 > 99 characters)\n"
     ]
    }
   ],
   "source": [
    "from scipy.stats import norm\n",
    "\n",
    "\n",
    "def higher_prop_uber_test(early_days, later_days, sig_level):\n",
    "    early_days = list(early_days)\n",
    "    later_days = list(later_days)\n",
    "    early_df = tpd_df.loc[early_days]\n",
    "    late_df = tpd_df.loc[later_days]\n",
    "    p_early = early_df['Uber'].sum() / (early_df['Uber'].sum() + early_df['Yellow Taxis'].sum() + early_df['Green Taxis'].sum())\n",
    "    p_late = late_df['Uber'].sum() / (late_df['Uber'].sum() + late_df['Yellow Taxis'].sum() + late_df['Green Taxis'].sum())\n",
    "    p_value = norm.ppf(1 - sig_level)\n",
    "    sigma = np.sqrt(p_early * (1 - p_early) / (early_df['Uber'].sum() + early_df['Yellow Taxis'].sum() + early_df['Green Taxis'].sum()) + \n",
    "                    p_late * (1 - p_late) / (late_df['Uber'].sum() + late_df['Yellow Taxis'].sum() + late_df['Green Taxis'].sum()))\n",
    "    z_static = (p_late - p_early) / sigma\n",
    "    if (p_value < z_static):\n",
    "        return 'Reject Null'\n",
    "    else:\n",
    "        return 'Fails to Reject Null'"
   ]
  },
  {
   "cell_type": "code",
   "execution_count": 86,
   "metadata": {
    "deletable": false,
    "editable": false,
    "nbgrader": {
     "cell_type": "code",
     "checksum": "96462effdcf6c056ac0db68a8ffea344",
     "grade": true,
     "grade_id": "cell-3d4165382d0782a6",
     "locked": true,
     "points": 1,
     "schema_version": 3,
     "solution": false,
     "task": false
    }
   },
   "outputs": [],
   "source": [
    "# Tests if the second 2 weeks of September had a statisitically\n",
    "# significant higher proportion of Uber trips than its first 2 weeks.\n",
    "assert higher_prop_uber_test(range(62, 77), range(77, 92), 0.05) == \"Reject Null\""
   ]
  },
  {
   "cell_type": "code",
   "execution_count": 87,
   "metadata": {
    "deletable": false,
    "editable": false,
    "nbgrader": {
     "cell_type": "code",
     "checksum": "6b98c9660797bb0c90b30e55459fdf92",
     "grade": true,
     "grade_id": "cell-8d3f46ee1251f11b",
     "locked": true,
     "points": 1,
     "schema_version": 3,
     "solution": false,
     "task": false
    }
   },
   "outputs": [],
   "source": [
    "# Tests if the second 45 days of measurements had a statisitically\n",
    "# significant higher proportion of Uber trips than the first 45 days.\n",
    "assert higher_prop_uber_test(range(1, 45), range(46, 90), 0.05) == \"Reject Null\""
   ]
  },
  {
   "cell_type": "code",
   "execution_count": 88,
   "metadata": {
    "deletable": false,
    "editable": false,
    "nbgrader": {
     "cell_type": "code",
     "checksum": "81b288aaef42ff5d4b2fc35897198ff1",
     "grade": true,
     "grade_id": "cell-14a5e2027036448a",
     "locked": true,
     "points": 1,
     "schema_version": 3,
     "solution": false,
     "task": false
    }
   },
   "outputs": [],
   "source": [
    "# This is a case of high variability since the proportion of Ubers\n",
    "# can change day to day. This is a case that should fail to reject.\n",
    "assert higher_prop_uber_test([3], [4], 0.05) == \"Fails to Reject Null\""
   ]
  },
  {
   "cell_type": "code",
   "execution_count": 89,
   "metadata": {
    "deletable": false,
    "editable": false,
    "nbgrader": {
     "cell_type": "code",
     "checksum": "1b3d3d1574fb9bbbd1de330ea5ab6872",
     "grade": true,
     "grade_id": "cell-eebad70febb6cbbc",
     "locked": true,
     "points": 1,
     "schema_version": 3,
     "solution": false,
     "task": false
    }
   },
   "outputs": [],
   "source": [
    "# Silly cases for autograding purposes\n",
    "assert higher_prop_uber_test(range(1, 20, 3), range(71, 92, 7), 0.05) == \"Reject Null\""
   ]
  },
  {
   "cell_type": "code",
   "execution_count": 90,
   "metadata": {
    "deletable": false,
    "editable": false,
    "nbgrader": {
     "cell_type": "code",
     "checksum": "e01f4b18ccc04166b06f7ba753d333db",
     "grade": true,
     "grade_id": "cell-ec1103078dd59bfd",
     "locked": true,
     "points": 1,
     "schema_version": 3,
     "solution": false,
     "task": false
    }
   },
   "outputs": [],
   "source": [
    "# Silly cases for autograding purposes\n",
    "assert higher_prop_uber_test([2, 3, 5, 7, 11], [67, 71, 73], 0.05) == \"Reject Null\""
   ]
  },
  {
   "cell_type": "markdown",
   "metadata": {
    "deletable": false,
    "editable": false,
    "nbgrader": {
     "cell_type": "markdown",
     "checksum": "bdf17e7e9530108384d654ccb85d5168",
     "grade": false,
     "grade_id": "cell-0a31f64a161bda18",
     "locked": true,
     "schema_version": 3,
     "solution": false,
     "task": false
    }
   },
   "source": [
    "## Part 6: Clustering (8 points)"
   ]
  },
  {
   "cell_type": "markdown",
   "metadata": {
    "deletable": false,
    "editable": false,
    "nbgrader": {
     "cell_type": "markdown",
     "checksum": "8fed56e73272aeebd043844024fc43ee",
     "grade": false,
     "grade_id": "cell-54497631421fb9c1",
     "locked": true,
     "schema_version": 3,
     "solution": false,
     "task": false
    }
   },
   "source": [
    "Clustering is an incredibly powerful tool in data science that allows us to group large amount of information into categories. These categories can prove to have intuitive interpretations or can reveal something interesting about the data that was previously unknown. For this exercise we will use a clustering algorithm called the Gaussian Mixture Model Cluster. While the theory of this clustering algorithm is quite dense, the synopsis is that k different Gaussian distributions are learned that represent k different clusters. Using this information, we can probabilistically determine which cluster a data point belongs to by simply assigning it to Gaussian distribution $j$ which maximizes the probability of $X_i$ being in that cluster. More information can be found here: https://medium.com/clustering-with-gaussian-mixture-model/clustering-with-gaussian-mixture-model-c695b6cd60da.\n",
    "\n",
    "That being said, let's get started!"
   ]
  },
  {
   "cell_type": "markdown",
   "metadata": {
    "deletable": false,
    "editable": false,
    "nbgrader": {
     "cell_type": "markdown",
     "checksum": "f8ba973080d699a9249f0e8c04ccce6a",
     "grade": false,
     "grade_id": "cell-3c95272d65780c2e",
     "locked": true,
     "schema_version": 3,
     "solution": false,
     "task": false
    }
   },
   "source": [
    "**(1 point)** For this question, we are only going to be interested in Ubers that started within NYC. Create a new data frame called `nyc` that limits the observations found in `uber_2014_df` to ones found within $[40.5, 40.91]$ latitude and $[-74.25, -73.68]$ longitude."
   ]
  },
  {
   "cell_type": "code",
   "execution_count": 91,
   "metadata": {
    "deletable": false,
    "nbgrader": {
     "cell_type": "code",
     "checksum": "25acd960a471c99590795720fe07a06c",
     "grade": false,
     "grade_id": "cell-121a1b3c97d75cf7",
     "locked": false,
     "schema_version": 3,
     "solution": true,
     "task": false
    }
   },
   "outputs": [
    {
     "data": {
      "text/html": [
       "<div>\n",
       "<style scoped>\n",
       "    .dataframe tbody tr th:only-of-type {\n",
       "        vertical-align: middle;\n",
       "    }\n",
       "\n",
       "    .dataframe tbody tr th {\n",
       "        vertical-align: top;\n",
       "    }\n",
       "\n",
       "    .dataframe thead th {\n",
       "        text-align: right;\n",
       "    }\n",
       "</style>\n",
       "<table border=\"1\" class=\"dataframe\">\n",
       "  <thead>\n",
       "    <tr style=\"text-align: right;\">\n",
       "      <th></th>\n",
       "      <th>Date/Time</th>\n",
       "      <th>Lat</th>\n",
       "      <th>Lon</th>\n",
       "      <th>Base</th>\n",
       "    </tr>\n",
       "  </thead>\n",
       "  <tbody>\n",
       "    <tr>\n",
       "      <th>0</th>\n",
       "      <td>4/1/2014 0:11:00</td>\n",
       "      <td>40.7690</td>\n",
       "      <td>-73.9549</td>\n",
       "      <td>B02512</td>\n",
       "    </tr>\n",
       "    <tr>\n",
       "      <th>1</th>\n",
       "      <td>4/1/2014 0:17:00</td>\n",
       "      <td>40.7267</td>\n",
       "      <td>-74.0345</td>\n",
       "      <td>B02512</td>\n",
       "    </tr>\n",
       "    <tr>\n",
       "      <th>2</th>\n",
       "      <td>4/1/2014 0:21:00</td>\n",
       "      <td>40.7316</td>\n",
       "      <td>-73.9873</td>\n",
       "      <td>B02512</td>\n",
       "    </tr>\n",
       "    <tr>\n",
       "      <th>3</th>\n",
       "      <td>4/1/2014 0:28:00</td>\n",
       "      <td>40.7588</td>\n",
       "      <td>-73.9776</td>\n",
       "      <td>B02512</td>\n",
       "    </tr>\n",
       "    <tr>\n",
       "      <th>4</th>\n",
       "      <td>4/1/2014 0:33:00</td>\n",
       "      <td>40.7594</td>\n",
       "      <td>-73.9722</td>\n",
       "      <td>B02512</td>\n",
       "    </tr>\n",
       "    <tr>\n",
       "      <th>...</th>\n",
       "      <td>...</td>\n",
       "      <td>...</td>\n",
       "      <td>...</td>\n",
       "      <td>...</td>\n",
       "    </tr>\n",
       "    <tr>\n",
       "      <th>1028131</th>\n",
       "      <td>9/30/2014 22:57:00</td>\n",
       "      <td>40.7668</td>\n",
       "      <td>-73.9845</td>\n",
       "      <td>B02764</td>\n",
       "    </tr>\n",
       "    <tr>\n",
       "      <th>1028132</th>\n",
       "      <td>9/30/2014 22:57:00</td>\n",
       "      <td>40.6911</td>\n",
       "      <td>-74.1773</td>\n",
       "      <td>B02764</td>\n",
       "    </tr>\n",
       "    <tr>\n",
       "      <th>1028133</th>\n",
       "      <td>9/30/2014 22:58:00</td>\n",
       "      <td>40.8519</td>\n",
       "      <td>-73.9319</td>\n",
       "      <td>B02764</td>\n",
       "    </tr>\n",
       "    <tr>\n",
       "      <th>1028134</th>\n",
       "      <td>9/30/2014 22:58:00</td>\n",
       "      <td>40.7081</td>\n",
       "      <td>-74.0066</td>\n",
       "      <td>B02764</td>\n",
       "    </tr>\n",
       "    <tr>\n",
       "      <th>1028135</th>\n",
       "      <td>9/30/2014 22:58:00</td>\n",
       "      <td>40.7140</td>\n",
       "      <td>-73.9496</td>\n",
       "      <td>B02764</td>\n",
       "    </tr>\n",
       "  </tbody>\n",
       "</table>\n",
       "<p>4502775 rows × 4 columns</p>\n",
       "</div>"
      ],
      "text/plain": [
       "                  Date/Time      Lat      Lon    Base\n",
       "0          4/1/2014 0:11:00  40.7690 -73.9549  B02512\n",
       "1          4/1/2014 0:17:00  40.7267 -74.0345  B02512\n",
       "2          4/1/2014 0:21:00  40.7316 -73.9873  B02512\n",
       "3          4/1/2014 0:28:00  40.7588 -73.9776  B02512\n",
       "4          4/1/2014 0:33:00  40.7594 -73.9722  B02512\n",
       "...                     ...      ...      ...     ...\n",
       "1028131  9/30/2014 22:57:00  40.7668 -73.9845  B02764\n",
       "1028132  9/30/2014 22:57:00  40.6911 -74.1773  B02764\n",
       "1028133  9/30/2014 22:58:00  40.8519 -73.9319  B02764\n",
       "1028134  9/30/2014 22:58:00  40.7081 -74.0066  B02764\n",
       "1028135  9/30/2014 22:58:00  40.7140 -73.9496  B02764\n",
       "\n",
       "[4502775 rows x 4 columns]"
      ]
     },
     "execution_count": 91,
     "metadata": {},
     "output_type": "execute_result"
    }
   ],
   "source": [
    "nyc = uber_2014_df.loc[(uber_2014_df.Lat >= 40.5) & (uber_2014_df.Lat <= 40.91) &\n",
    "                       (uber_2014_df.Lon >= -74.25) & (uber_2014_df.Lon <= -73.68)]\n",
    "nyc"
   ]
  },
  {
   "cell_type": "code",
   "execution_count": 92,
   "metadata": {
    "deletable": false,
    "editable": false,
    "nbgrader": {
     "cell_type": "code",
     "checksum": "a6a508861b2aa9ab115bbb5802df5a8d",
     "grade": true,
     "grade_id": "cell-3ea9bf8447b7c441",
     "locked": true,
     "points": 1,
     "schema_version": 3,
     "solution": false,
     "task": false
    }
   },
   "outputs": [],
   "source": [
    "assert nyc.shape == (4502775, 4)"
   ]
  },
  {
   "cell_type": "markdown",
   "metadata": {
    "deletable": false,
    "editable": false,
    "nbgrader": {
     "cell_type": "markdown",
     "checksum": "d955bb73682f814d4e0c42ebf29adfd4",
     "grade": false,
     "grade_id": "cell-1eb773111c8fc1e7",
     "locked": true,
     "schema_version": 3,
     "solution": false,
     "task": false
    }
   },
   "source": [
    "**(3 points)** Write a function called `GMM_Cluster` that takes 2 arguments: a data set of only Latitude (`Lat`) and Longitude (`Lon`) values, and an integer `K` representing the number of clusters. The function should return the original data frame with an additional column called \"Cluster\" representing the cluster each observation has been assigned to. \n",
    "\n",
    "   __Hint__: You may find the class `sklearn.mixture.GaussianMixture` and methods `fit` and `fit_predict` incredibly useful. This will automatically perform Gaussian Mixture Model Clustering for you, but implementing it from scratch is perfectly acceptable if you're up for the challenge."
   ]
  },
  {
   "cell_type": "code",
   "execution_count": 93,
   "metadata": {
    "deletable": false,
    "nbgrader": {
     "cell_type": "code",
     "checksum": "19f57dd8fe080cb6ae67ab7c740abf9e",
     "grade": false,
     "grade_id": "cell-e393a31746de52e9",
     "locked": false,
     "schema_version": 3,
     "solution": true,
     "task": false
    }
   },
   "outputs": [],
   "source": [
    "from sklearn.mixture import GaussianMixture\n",
    "\n",
    "\n",
    "def GMM_Cluster(data, K):\n",
    "    gmm = GaussianMixture(n_components=K).fit(data)\n",
    "    labels = gmm.fit_predict(data)\n",
    "    data['Cluster'] = labels\n",
    "    return data"
   ]
  },
  {
   "cell_type": "code",
   "execution_count": 94,
   "metadata": {
    "deletable": false,
    "editable": false,
    "nbgrader": {
     "cell_type": "code",
     "checksum": "7c4d240b6e434971b6e32c447cf9d3db",
     "grade": true,
     "grade_id": "cell-35bcda211d929434",
     "locked": true,
     "points": 3,
     "schema_version": 3,
     "solution": false,
     "task": false
    }
   },
   "outputs": [],
   "source": [
    "assert list(GMM_Cluster(nyc.iloc[1:3][[\"Lat\", \"Lon\"]], 1).columns) == ['Lat', 'Lon', 'Cluster']"
   ]
  },
  {
   "cell_type": "markdown",
   "metadata": {
    "deletable": false,
    "editable": false,
    "nbgrader": {
     "cell_type": "markdown",
     "checksum": "3c151b1a5c81e6e8cae963156f0db1b3",
     "grade": false,
     "grade_id": "cell-fa9e74ae894ffafd",
     "locked": true,
     "schema_version": 3,
     "solution": false,
     "task": false
    }
   },
   "source": [
    "Sometimes, our different variables are on wildly different locations and scales and we want to standardize our data in order to make better sense of our conclusions. Given our only numeric variables in `uber_2014_df` are \"Lat\" and \"Lon\", this will probably not be the case, but it is still good to know how to do."
   ]
  },
  {
   "cell_type": "markdown",
   "metadata": {
    "deletable": false,
    "editable": false,
    "nbgrader": {
     "cell_type": "markdown",
     "checksum": "da0eae8d7429e3803b72b584d3e691c8",
     "grade": false,
     "grade_id": "cell-89a2488d36cf1990",
     "locked": true,
     "schema_version": 3,
     "solution": false,
     "task": false
    }
   },
   "source": [
    "<b> (3 points) </b> Write a function called `standardized_GMM_Cluster` which takes in the same inputs and returns the same output but runs the GMM_Cluster algorithm on standardized data. You may find the class\n",
    "```\n",
    "sklearn.preprocessing.StandardScaler\n",
    "```\n",
    "useful here (it's good practice to use functions written by a library like sklearn even to do 'simple' operations).  __Hint:__ You may also use the function you developed in the previous question."
   ]
  },
  {
   "cell_type": "code",
   "execution_count": 95,
   "metadata": {
    "deletable": false,
    "nbgrader": {
     "cell_type": "code",
     "checksum": "768c2aaa5b33fd73a7640b83b81ffa21",
     "grade": false,
     "grade_id": "cell-d5e54679ffc21934",
     "locked": false,
     "schema_version": 3,
     "solution": true,
     "task": false
    }
   },
   "outputs": [],
   "source": [
    "from sklearn.preprocessing import StandardScaler\n",
    "\n",
    "\n",
    "def standardized_GMM_Cluster(data, K):\n",
    "    myobject = StandardScaler()\n",
    "    scale = myobject.fit_transform(data)\n",
    "    gmm = GaussianMixture(n_components=K).fit(scale)\n",
    "    labels = gmm.fit_predict(scale)\n",
    "    df = pd.DataFrame(scale, columns=data.columns)\n",
    "    lb = pd.DataFrame(labels, columns=['Cluster'])\n",
    "    ret = pd.concat([df, lb], axis=1)\n",
    "    return ret"
   ]
  },
  {
   "cell_type": "code",
   "execution_count": 96,
   "metadata": {
    "deletable": false,
    "editable": false,
    "nbgrader": {
     "cell_type": "code",
     "checksum": "ac2a583a3b84bcf217ed205d3d1ddd36",
     "grade": true,
     "grade_id": "cell-fdd789956886d6b2",
     "locked": true,
     "points": 3,
     "schema_version": 3,
     "solution": false,
     "task": false
    }
   },
   "outputs": [],
   "source": [
    "expected_columns = list(standardized_GMM_Cluster(nyc.iloc[1:3][[\"Lat\", \"Lon\"]], 1).columns)\n",
    "assert expected_columns == ['Lat', 'Lon', 'Cluster']"
   ]
  },
  {
   "cell_type": "markdown",
   "metadata": {
    "deletable": false,
    "editable": false,
    "nbgrader": {
     "cell_type": "markdown",
     "checksum": "841fec669d1b73b281e1242cdd983f30",
     "grade": false,
     "grade_id": "cell-e2c76bc348d50ea2",
     "locked": true,
     "points": 1,
     "schema_version": 3,
     "solution": false,
     "task": true
    }
   },
   "source": [
    "<b> (1 point) </b> The code below plots a rough sketch of the boundary of Manhattan. This is not a coincidence. Write some additional code within the cell that runs `GMM_Cluster` on `K = 2` and plots the result. The result should include \"Lat\" and \"Lon\" on the appropriate axes (see a map if you need the right mapping). Additionally, the color of each point should be the cluster it belongs to. For faster runtime, feel free to just plot any random 100,000 observations (I did ones with indices in `range(0, 4000000, 40)`). You should see that from the geographical coordinates alone, `GMM_Cluster` with `K = 2` was able to cluster trips that happened in Manhattan, particularly the lower half of it, separately of all other Uber pickup locations. "
   ]
  },
  {
   "cell_type": "code",
   "execution_count": 97,
   "metadata": {
    "deletable": false,
    "nbgrader": {
     "cell_type": "code",
     "checksum": "d11e7650d2c9353d75bafc411a48dc01",
     "grade": false,
     "grade_id": "cell-880565be48ff3d7f",
     "locked": false,
     "schema_version": 3,
     "solution": true,
     "task": false
    }
   },
   "outputs": [
    {
     "data": {
      "text/plain": [
       "0    76815\n",
       "1    23185\n",
       "Name: Cluster, dtype: int64"
      ]
     },
     "execution_count": 97,
     "metadata": {},
     "output_type": "execute_result"
    },
    {
     "data": {
      "image/png": "[encoded data removed]",
      "text/plain": [
       "<Figure size 432x288 with 1 Axes>"
      ]
     },
     "metadata": {},
     "output_type": "display_data"
    },
    {
     "name": "stderr",
     "output_type": "stream",
     "text": [
      "14:48: E251 unexpected spaces around keyword / parameter equals\n",
      "14:50: E251 unexpected spaces around keyword / parameter equals\n"
     ]
    }
   ],
   "source": [
    "x = [-74.0114, -73.975, -73.975, -73.94, -73.9097, -74.0114]\n",
    "y = [40.699, 40.71, 40.748, 40.797, 40.873, 40.75]\n",
    "for i in range(len(x)):\n",
    "    if i != len(x)-1:\n",
    "        plt.plot([x[i], x[i+1]], [y[i], y[i+1]], c=\"green\")\n",
    "    else:\n",
    "        plt.plot([x[i], x[0]], [y[i], y[0]], c=\"green\")\n",
    "plt.xlabel(\"Lon\")\n",
    "plt.ylabel(\"Lat\")\n",
    "myidx = list(range(0, 4000000, 40))\n",
    "result = GMM_Cluster(nyc.iloc[myidx][[\"Lat\", \"Lon\"]], 2)\n",
    "result['Color'] = result['Cluster']\n",
    "result['Color'] = np.where(result['Cluster'] == 0, 'blue', 'red')\n",
    "plt.scatter(result[\"Lon\"], result[\"Lat\"], color = result['Color'])\n",
    "result['Cluster'].value_counts()"
   ]
  },
  {
   "cell_type": "markdown",
   "metadata": {
    "deletable": false,
    "editable": false,
    "nbgrader": {
     "cell_type": "markdown",
     "checksum": "2da5baebc0e30cd744b9dffceca6ff49",
     "grade": false,
     "grade_id": "cell-bd0d6d3ceedbfdf0",
     "locked": true,
     "schema_version": 3,
     "solution": false,
     "task": false
    }
   },
   "source": [
    "This clustering exercise was a minimal example. In practice, these clustering algorithms improve with certain data conditions and more variables to work with."
   ]
  },
  {
   "cell_type": "markdown",
   "metadata": {
    "deletable": false,
    "editable": false,
    "nbgrader": {
     "cell_type": "markdown",
     "checksum": "2022967735c44c3dbd0dd32d57b423bc",
     "grade": false,
     "grade_id": "cell-c1be945d115b8e92",
     "locked": true,
     "points": 0,
     "schema_version": 3,
     "solution": false,
     "task": true
    }
   },
   "source": [
    "<b>(Optional)</b> In `uber_2014_df` we could actually create another numerical variable out of the date and time variable. In particular, it is reasonable to assume that as the months go by, the destinations in NYC don't really change, but at different hours of the day, Uber pickup locations would certainly vary. Write some code that creates a variable called \"Time_Mins\" that represents $hour*60+min$ of each pickup time. For example, if the Date/Time value of an observation say that a pickup happened at 22:58:00 (10:58PM), then the resulting Time_Mins value would be $22*60+58=1378$. Then, run `standardized_GMM_Cluster` with K = 2,3,5, and 7. Finally, plot all 4 of these graphs in a 2x2 grid of plots that have the same axis titles and Manhattan outline. The axes should be the UNSTANDARDIZED values of Lat and Lon, each plot should have an appropriate title (\"K = 5\" is fine for example), and the color of the points should be their associated cluster."
   ]
  },
  {
   "cell_type": "code",
   "execution_count": null,
   "metadata": {
    "deletable": false,
    "nbgrader": {
     "cell_type": "code",
     "checksum": "e767a7fb6ff6078ac54e23fc8be7993e",
     "grade": false,
     "grade_id": "cell-96fd79da4b899ba0",
     "locked": false,
     "schema_version": 3,
     "solution": true,
     "task": false
    }
   },
   "outputs": [],
   "source": []
  }
 ],
 "metadata": {
  "kernelspec": {
   "display_name": "Python 3",
   "language": "python",
   "name": "python3"
  },
  "language_info": {
   "codemirror_mode": {
    "name": "ipython",
    "version": 3
   },
   "file_extension": ".py",
   "mimetype": "text/x-python",
   "name": "python",
   "nbconvert_exporter": "python",
   "pygments_lexer": "ipython3",
   "version": "3.8.7"
  },
  "latex_envs": {
   "LaTeX_envs_menu_present": true,
   "autoclose": false,
   "autocomplete": true,
   "bibliofile": "biblio.bib",
   "cite_by": "apalike",
   "current_citInitial": 1,
   "eqLabelWithNumbers": true,
   "eqNumInitial": 1,
   "hotkeys": {
    "equation": "meta-shift-y"
   },
   "labels_anchors": false,
   "latex_user_defs": false,
   "report_style_numbering": false,
   "user_envs_cfg": false
  },
  "toc": {
   "base_numbering": 1,
   "nav_menu": {},
   "number_sections": false,
   "sideBar": true,
   "skip_h1_title": false,
   "title_cell": "Table of Contents",
   "title_sidebar": "Contents",
   "toc_cell": false,
   "toc_position": {
    "height": "calc(100% - 180px)",
    "left": "10px",
    "top": "150px",
    "width": "337.391px"
   },
   "toc_section_display": true,
   "toc_window_display": true
  }
 },
 "nbformat": 4,
 "nbformat_minor": 2
}
