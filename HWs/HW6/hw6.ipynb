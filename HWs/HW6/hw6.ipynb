{
 "cells": [
  {
   "cell_type": "markdown",
   "metadata": {
    "deletable": false,
    "editable": false,
    "nbgrader": {
     "cell_type": "markdown",
     "checksum": "cbfb874aeebd98c13356800b75691477",
     "grade": false,
     "grade_id": "cell-c40158ec29b15206",
     "locked": true,
     "schema_version": 3,
     "solution": false,
     "task": false
    }
   },
   "source": [
    "# Homework 6: Sklearn and Pandas (25 points)"
   ]
  },
  {
   "cell_type": "markdown",
   "metadata": {},
   "source": [
    "#### name: Tianhao Gu\n",
    "\n",
    "email: gtianhao@umich.edu\n",
    "\n",
    "This homework assignment took me 14 hours in total to complete. (Please help us to gauge the difficulty of the assignment.)"
   ]
  },
  {
   "cell_type": "markdown",
   "metadata": {
    "deletable": false,
    "editable": false,
    "nbgrader": {
     "cell_type": "markdown",
     "checksum": "dcd41b0916cd2e2b3552fd65ff6fd51f",
     "grade": false,
     "grade_id": "cell-9fc8abaaecff0e9a",
     "locked": true,
     "schema_version": 3,
     "solution": false,
     "task": false
    }
   },
   "source": [
    "## Collaboration Disclosure\n",
    "\n",
    "In the cell below, please list *everyone* with whom you discussed any of the homework problems, excluding only the GSIs and the course instructor. \n",
    "\n",
    "If you did not discuss the homework with anyone else, write __\"I did not discuss this homework with anyone.\"__\n",
    "\n",
    "Even if you discuss questions with other, the code you submit must be only yours. All work is checked with the [MOSS plagiarism detector](https://theory.stanford.edu/~aiken/moss/)."
   ]
  },
  {
   "cell_type": "markdown",
   "metadata": {},
   "source": [
    "I discussed Problem 1 with Wentao Xiong and Yiyang Zhang. "
   ]
  },
  {
   "cell_type": "markdown",
   "metadata": {
    "deletable": false,
    "editable": false,
    "nbgrader": {
     "cell_type": "markdown",
     "checksum": "67d1cebd5332a880b36d813916b69dbe",
     "grade": false,
     "grade_id": "submission",
     "locked": true,
     "schema_version": 3,
     "solution": false,
     "task": false
    }
   },
   "source": [
    "## Submission Instructions\n",
    "Your homework solutions should be written entirely in this Jupyter notebook file. Once it contains your solutions, you should submit this notebook through Canvas. Before submitting, please make sure make sure __Cells->Run__ executes without errors; errors in your code cause problems for our auto-grader. Thus, even though we may ask you to check for errors in your functions, you should not include in your submission any examples of your functions actually raising those errors.\n",
    "\n",
    "## Nbgrader\n",
    "\n",
    "We will be using `nbgrader` to grade your jupyter notebook. Additional tests will be used at grading time, you are encouraged to read the problem carefully and verify your code covers all appropriate cases.\n",
    "\n",
    "**Be careful:** If a jupyter notebook cell takes longer than `60s` to run, the autograder will not grade it and you will receive zero credit for that question.\n",
    "\n",
    "## Error checking\n",
    "\n",
    "You do not need to do error checking (raising errors, etc.) in your code unless we explicitly ask you to so in a problem."
   ]
  },
  {
   "cell_type": "markdown",
   "metadata": {
    "deletable": false,
    "editable": false,
    "nbgrader": {
     "cell_type": "markdown",
     "checksum": "99a4b1f52b2a51fd259655608d2d5669",
     "grade": false,
     "grade_id": "coding-style",
     "locked": true,
     "schema_version": 3,
     "solution": false,
     "task": false
    }
   },
   "source": [
    "## Coding style\n",
    "Please follow the [PEP8 guidelines](https://www.python.org/dev/peps/pep-0008/). The `pycodestyle_magic` package will remind you if you are not. To install it, run\n",
    "```\n",
    "pip install flake8 pycodestyle_magic\n",
    "```\n",
    "Once it is installed the following two Jupyter directives will enable syntax checking:"
   ]
  },
  {
   "cell_type": "code",
   "execution_count": 20,
   "metadata": {
    "deletable": false,
    "editable": false,
    "nbgrader": {
     "cell_type": "code",
     "checksum": "11f994a1204f00eb8ea040c864033a8d",
     "grade": false,
     "grade_id": "cell-7311e8da28736726",
     "locked": true,
     "schema_version": 3,
     "solution": false,
     "task": false
    }
   },
   "outputs": [
    {
     "name": "stdout",
     "output_type": "stream",
     "text": [
      "The pycodestyle_magic extension is already loaded. To reload it, use:\n",
      "  %reload_ext pycodestyle_magic\n"
     ]
    }
   ],
   "source": [
    "%load_ext pycodestyle_magic\n",
    "%flake8_on --ignore E266 --max_line_length 99"
   ]
  },
  {
   "cell_type": "markdown",
   "metadata": {
    "deletable": false,
    "editable": false,
    "nbgrader": {
     "cell_type": "markdown",
     "checksum": "cd856916b74dd5b338baaa1642946293",
     "grade": false,
     "grade_id": "cell-35aef9eb37bfbba7",
     "locked": true,
     "schema_version": 3,
     "solution": false,
     "task": false
    }
   },
   "source": [
    "## Problem 1: Classification with sklearn (9 points)\n",
    "In this problem, you'll learn how to build simple supervised classification models using [scikit-learn](https://scikit-learn.org/stable/), a popular python library for machine learning models."
   ]
  },
  {
   "cell_type": "code",
   "execution_count": 21,
   "metadata": {
    "deletable": false,
    "editable": false,
    "nbgrader": {
     "cell_type": "code",
     "checksum": "725c97fae7ee0c59f461140759142b91",
     "grade": false,
     "grade_id": "cell-e266648196304ea4",
     "locked": true,
     "schema_version": 3,
     "solution": false,
     "task": false
    }
   },
   "outputs": [],
   "source": [
    "import numpy as np\n",
    "import sklearn\n",
    "from sklearn import datasets\n",
    "import matplotlib.pyplot as plt"
   ]
  },
  {
   "cell_type": "markdown",
   "metadata": {
    "deletable": false,
    "editable": false,
    "nbgrader": {
     "cell_type": "markdown",
     "checksum": "4e86f04fcecc959026efb820c532a82a",
     "grade": false,
     "grade_id": "cell-30f89629dc4d96d2",
     "locked": true,
     "schema_version": 3,
     "solution": false,
     "task": false
    }
   },
   "source": [
    "### Part 1 (1 point) \n",
    "\n",
    "We will be working with the `digits` dataset, which is available in `sklearn.datasets` and which you briefly saw in class. It consists of images of handwritten digits, where the objective is predicting the true label of each digit given the image. \n",
    "\n",
    "The first step in buiding any machine learning model is to visualize and understand your data. Load the `digits` dataset from the `sklearn.datasets` module using the `load_digits` method into a variable called `digits`. Answer the following questions about the dataset by creating the corresponding variable in parenthesis with your answer. \n",
    "\n",
    "- What is the size of the dataset? (`N`)\n",
    "\n",
    "- How many handwritten 6s are in the dataset? (`n_six`)\n",
    "\n",
    "- What are the dimensions of the images with the handwritten digits? (`dims = (h, w)` a tuple) \n",
    "\n",
    "**Hint:** Take a look at the attributes of `digits` and try to figure out what they correspond to. You can use the `dir()` python function. "
   ]
  },
  {
   "cell_type": "code",
   "execution_count": 22,
   "metadata": {
    "deletable": false,
    "nbgrader": {
     "cell_type": "code",
     "checksum": "cfe5e71a08004c0b908b682e6301ac8f",
     "grade": false,
     "grade_id": "cell-858c90fba7926618",
     "locked": false,
     "schema_version": 3,
     "solution": true,
     "task": false
    }
   },
   "outputs": [],
   "source": [
    "digits = datasets.load_digits()\n",
    "N = digits.data.size\n",
    "n_six = 0\n",
    "for item in digits.target:\n",
    "    if item == 6:\n",
    "        n_six += 1\n",
    "h = digits.images[0].shape[0]\n",
    "w = digits.images[0].shape[1]\n",
    "dims = (h, w)"
   ]
  },
  {
   "cell_type": "code",
   "execution_count": 23,
   "metadata": {
    "deletable": false,
    "editable": false,
    "nbgrader": {
     "cell_type": "code",
     "checksum": "b803a834b50987b07e5e4cc0e7c8283f",
     "grade": true,
     "grade_id": "cell-db5760b11de712e1",
     "locked": true,
     "points": 1,
     "schema_version": 3,
     "solution": false,
     "task": false
    }
   },
   "outputs": [],
   "source": [
    "assert N > 100\n",
    "assert n_six > 10\n",
    "assert type(dims) == tuple"
   ]
  },
  {
   "cell_type": "markdown",
   "metadata": {
    "deletable": false,
    "editable": false,
    "nbgrader": {
     "cell_type": "markdown",
     "checksum": "1bc0aeb36bfbfb2d39db5717303647c4",
     "grade": false,
     "grade_id": "cell-f410d6a4b51f826d",
     "locked": true,
     "points": 1,
     "schema_version": 3,
     "solution": false,
     "task": true
    }
   },
   "source": [
    "### Part 2 (1 point)\n",
    "Visualize the first three digits of your dataset using `matplotlib.pyplot` (`plt`). You should use the `add_subplot` method for `plt.figure` to create your three digits in a single `matplotlib` figure. In your plot of each digit, also include the true label for that digit (see the `ax.text` function). Make sure your figure is rendered in the cell below. "
   ]
  },
  {
   "cell_type": "code",
   "execution_count": 24,
   "metadata": {
    "deletable": false,
    "nbgrader": {
     "cell_type": "code",
     "checksum": "e002ae6c3ec354ee5aaf57bb34a7d598",
     "grade": false,
     "grade_id": "cell-72b8f2c7b523c326",
     "locked": false,
     "schema_version": 3,
     "solution": true,
     "task": false
    }
   },
   "outputs": [
    {
     "data": {
      "image/png": "[encoded data removed]",
      "text/plain": [
       "<Figure size 432x288 with 6 Axes>"
      ]
     },
     "metadata": {
      "needs_background": "light"
     },
     "output_type": "display_data"
    }
   ],
   "source": [
    "%matplotlib inline \n",
    "fig, ax = plt.subplots(1, 3)\n",
    "for i in range(0,3):\n",
    "    ax = fig.add_subplot(1, 3, i+1)\n",
    "    plt.imshow(digits.images[i], cmap = 'binary')\n",
    "    ax.text(x=0, y=0, s=digits.target[i])"
   ]
  },
  {
   "cell_type": "markdown",
   "metadata": {
    "deletable": false,
    "editable": false,
    "nbgrader": {
     "cell_type": "markdown",
     "checksum": "6cc7d7b387750cb0bccabff8172c022a",
     "grade": false,
     "grade_id": "cell-43884003b3fc04ab",
     "locked": true,
     "schema_version": 3,
     "solution": false,
     "task": false
    }
   },
   "source": [
    "### Part 3 (1 point)\n",
    "The next step is to create __training__ and __testing__ datasets. It is important to split your dataset into these two parts to check whether your algorithm is _generalizing_ well and not just _overfitting_ to your data. Use the __first 100 datapoints for the testing set and the rest for training__. \n",
    "\n",
    "You should create 4 variables: \n",
    "\n",
    "- `X_train`: Training set of digit images \n",
    "\n",
    "- `X_test`: Testing set of digit images\n",
    "\n",
    "- `y_train`: Labels of training set \n",
    "\n",
    "- `y_test`: Labels of testing set. \n",
    "\n",
    "__Note:__ We won't be using the image structure of the data to do our classification. Make sure that the shape of your training/testing set of images is `(N_train/N_test x flat_dim)` where `N_train/N_test` is the size of the training/test dataset and `flat_dim = height*width` so that `flat_dim` is the flattened dimension of the digits' images. "
   ]
  },
  {
   "cell_type": "code",
   "execution_count": 25,
   "metadata": {
    "deletable": false,
    "nbgrader": {
     "cell_type": "code",
     "checksum": "ff7f6bec0e645cb976f8c1391a7332c5",
     "grade": false,
     "grade_id": "cell-cc1a7809b505f1fd",
     "locked": false,
     "schema_version": 3,
     "solution": true,
     "task": false
    }
   },
   "outputs": [],
   "source": [
    "X_train = digits.data[100:, ]\n",
    "X_test = digits.data[0:100, ]\n",
    "y_train = digits.target[100:, ]\n",
    "y_test = digits.target[0:100, ]"
   ]
  },
  {
   "cell_type": "code",
   "execution_count": 26,
   "metadata": {
    "deletable": false,
    "editable": false,
    "nbgrader": {
     "cell_type": "code",
     "checksum": "f4600d2a29ccafa27636a6c5e5800f35",
     "grade": true,
     "grade_id": "cell-00f17b5b3c95d54f",
     "locked": true,
     "points": 1,
     "schema_version": 3,
     "solution": false,
     "task": false
    }
   },
   "outputs": [],
   "source": [
    "assert len(X_train.shape) == len(X_test.shape) == 2\n",
    "assert len(y_train.shape) == len(y_test.shape) == 1"
   ]
  },
  {
   "cell_type": "markdown",
   "metadata": {
    "deletable": false,
    "editable": false,
    "nbgrader": {
     "cell_type": "markdown",
     "checksum": "17a9d9c6c3aa1e23115032c8274f4d83",
     "grade": false,
     "grade_id": "cell-328c1c69288e8ad2",
     "locked": true,
     "schema_version": 3,
     "solution": false,
     "task": false
    }
   },
   "source": [
    "### Part 4 (1 point) \n",
    "Now we can create our classifier and fit it to our training set.\n",
    "\n",
    "Create a __Gaussian Naive Bayes__ classifier with implementation in `sklearn` [here](https://scikit-learn.org/stable/modules/generated/sklearn.naive_bayes.GaussianNB.html#sklearn.naive_bayes.GaussianNB) and fit it to your train data.   \n",
    "\n",
    "__Note:__ You will notice that this classifier takes in two (optional parameters) `priors` and `var_smoothing`. You should leave both of these optional arguments blank."
   ]
  },
  {
   "cell_type": "code",
   "execution_count": 27,
   "metadata": {
    "deletable": false,
    "nbgrader": {
     "cell_type": "code",
     "checksum": "32f3bc73ad8fe80a44f55bae371cc311",
     "grade": false,
     "grade_id": "cell-6762c1b704dbf82b",
     "locked": false,
     "schema_version": 3,
     "solution": true,
     "task": false
    }
   },
   "outputs": [
    {
     "data": {
      "text/plain": [
       "0.5007512965925065"
      ]
     },
     "execution_count": 27,
     "metadata": {},
     "output_type": "execute_result"
    }
   ],
   "source": [
    "from sklearn.naive_bayes import GaussianNB\n",
    "from sklearn.metrics import r2_score\n",
    "\n",
    "\n",
    "clf = GaussianNB()\n",
    "clf.fit(X_train, y_train)\n",
    "y_pred_gaussian = clf.predict(X_test)\n",
    "r2_score(y_test, y_pred_gaussian)"
   ]
  },
  {
   "cell_type": "code",
   "execution_count": 28,
   "metadata": {
    "deletable": false,
    "editable": false,
    "nbgrader": {
     "cell_type": "code",
     "checksum": "b8f397fa54ab3be9f0efc75bf2ba5d97",
     "grade": true,
     "grade_id": "cell-20300d58cc17ce56",
     "locked": true,
     "points": 1,
     "schema_version": 3,
     "solution": false,
     "task": false
    }
   },
   "outputs": [],
   "source": [
    "assert type(clf) == GaussianNB\n",
    "assert clf.predict(X_train[4, None]) == [6]"
   ]
  },
  {
   "cell_type": "markdown",
   "metadata": {
    "deletable": false,
    "editable": false,
    "nbgrader": {
     "cell_type": "markdown",
     "checksum": "d79f909a348d61e630c7bcd7f0f46c8b",
     "grade": false,
     "grade_id": "cell-9903aeab7fba204c",
     "locked": true,
     "schema_version": 3,
     "solution": false,
     "task": false
    }
   },
   "source": [
    "### Part 5 (1 point) \n",
    "There are multiple ways in which you can evaluate the performance of your classifier. One nice visual way of doing it creating a __confusion matrix__. \n",
    "\n",
    "Create a `confusion matrix` to evaluate your classifier, using the `sklearn.metrics.confusion_matrix` module and store it in a variable `cf_matrix`. You will need to obtain predicted labels for the testing set using your classifier. \n",
    "\n",
    "To understand the meaning of the row and columns of the confusion matrix and how they are sorted, make sure you look at the [documentation](https://scikit-learn.org/stable/modules/generated/sklearn.metrics.confusion_matrix.html#sklearn.metrics.confusion_matrix). \n",
    "\n",
    "What seems to be the most \"confusing\" digit (the one that was misclassified the most often in terms of absolute counts)? Enter your answer as `confusing_digit` in the cell below. Break ties by selecting the largest digit."
   ]
  },
  {
   "cell_type": "code",
   "execution_count": 29,
   "metadata": {
    "deletable": false,
    "nbgrader": {
     "cell_type": "code",
     "checksum": "c84c425f2097a1dd0051f72edc172e7d",
     "grade": false,
     "grade_id": "cell-f4303cd0b3b979b5",
     "locked": false,
     "schema_version": 3,
     "solution": true,
     "task": false
    }
   },
   "outputs": [],
   "source": [
    "from sklearn.metrics import confusion_matrix\n",
    "\n",
    "\n",
    "cf_matrix = confusion_matrix(y_test, y_pred_gaussian)\n",
    "total_lst = []\n",
    "total_num = 0\n",
    "length = cf_matrix.shape[0]\n",
    "for i in range(0, length):\n",
    "    for j in range(0, length):\n",
    "        total_num += cf_matrix[i][j]\n",
    "    total_lst.append(total_num)\n",
    "    total_num = 0\n",
    "confusing_digit = 0\n",
    "max_mis = 0\n",
    "for i in range(0, length):\n",
    "    correct = np.diag(cf_matrix)[i]\n",
    "    if total_lst[i] - correct >= max_mis:\n",
    "        confusing_digit = i\n",
    "        max_mis = total_lst[i] - correct\n"
   ]
  },
  {
   "cell_type": "code",
   "execution_count": 30,
   "metadata": {
    "deletable": false,
    "editable": false,
    "nbgrader": {
     "cell_type": "code",
     "checksum": "a0250fcc7d958044bcb3ad0d60ca2b50",
     "grade": true,
     "grade_id": "cell-8a87528089d91908",
     "locked": true,
     "points": 1,
     "schema_version": 3,
     "solution": false,
     "task": false
    }
   },
   "outputs": [],
   "source": [
    "assert np.all(np.diag(cf_matrix) == np.array([11, 12,  3, 12,  7,  7, 11,  9,  6,  2]))\n",
    "assert type(confusing_digit) == int"
   ]
  },
  {
   "cell_type": "markdown",
   "metadata": {
    "deletable": false,
    "editable": false,
    "nbgrader": {
     "cell_type": "markdown",
     "checksum": "b2c7a101e734b6458a9e8a902c128e93",
     "grade": false,
     "grade_id": "cell-be1a17c36e7e4b55",
     "locked": true,
     "schema_version": 3,
     "solution": false,
     "task": false
    }
   },
   "source": [
    "### Part 6 (4 points) \n",
    "\n",
    "The digit you found above is not guaranteed to be the most overall confusing digit. Our training and testing dataset were not chosen at random in the answer above and you did not take into account the relative frequency of the digits in the testing set. We will fix both of these issues in this part.\n",
    "\n",
    "- Write a function called `most_confusing_digit` which takes in `X_train, y_train, X_test, y_test`, creates a Gaussian Naive Bayes classifier, trains it, and returns the most confusing digit of the given test set (You can reuse your code from previous parts). Your function should take into account relative frequency, i.e. it should return the digit $n$ that maximizes $m_{n}/N_{n}$ where $m_{n}$ is the total misclassifications of digit $n$ and $N_{n}$ is the total number of times $n$ appears in the testing set. Break up ties by returning the smallest digit.\n",
    "\n",
    "- Write a function, `confusion_candidates` that takes in the `digits` dataset and uses the `sklearn.model_selection.KFold` function to perform cross validation with 18 folds. Returning a python list with containing with the most confusing digit in each of the folds. Store it in a variable called `candidates`. The `most_confusing_digit` function you just wrote should be helpful. \n",
    "\n",
    "- Finally, write a function called `majority_voting` that takes in a list of digits `candidates` and returns the digit that appears the most frequently in this list. Break up ties by returning the smallest digit.\n",
    "\n",
    "Combine these three functions to find the most confusing digit across the 18 folds, store it in a variable `confusion_digit`.\n",
    "\n",
    "**Note:** Make sure to NOT use `shuffle=True` in `sklearn.model_selection.KFold`, randomness will break our tests."
   ]
  },
  {
   "cell_type": "code",
   "execution_count": 31,
   "metadata": {
    "deletable": false,
    "nbgrader": {
     "cell_type": "code",
     "checksum": "2de18570a70fdf5052130366d09e55a9",
     "grade": false,
     "grade_id": "cell-bcdced5bcf64dd55",
     "locked": false,
     "schema_version": 3,
     "solution": true,
     "task": false
    }
   },
   "outputs": [
    {
     "name": "stderr",
     "output_type": "stream",
     "text": [
      "26:1: W293 blank line contains whitespace\n",
      "38:1: W293 blank line contains whitespace\n",
      "41:5: F841 local variable 'smallest_digit' is assigned to but never used\n"
     ]
    }
   ],
   "source": [
    "from sklearn.model_selection import KFold\n",
    "\n",
    "\n",
    "def most_confusing_digit(X_train, y_train, X_test, y_test):\n",
    "    clf = GaussianNB()\n",
    "    clf.fit(X_train, y_train)\n",
    "    y_pred_gaussian = clf.predict(X_test)\n",
    "    cf_matrix = confusion_matrix(y_test, y_pred_gaussian)\n",
    "    total_lst = []\n",
    "    total_num = 0\n",
    "    length = cf_matrix.shape[0]\n",
    "    for i in range(0, length):\n",
    "        for j in range(0, length):\n",
    "            total_num += cf_matrix[i][j]\n",
    "        total_lst.append(total_num)\n",
    "        total_num = 0\n",
    "    confusing_digit = 0\n",
    "    correct_prop = 1.0\n",
    "    for i in range(0, length):\n",
    "        correct = np.diag(cf_matrix)[i]\n",
    "        if correct / total_lst[i] <= correct_prop:\n",
    "            confusing_digit = i\n",
    "            correct_prop = correct / total_lst[i]\n",
    "    return confusing_digit\n",
    "\n",
    "            \n",
    "def confusion_candidates(digits):\n",
    "    kf = KFold(n_splits=18)\n",
    "    X = digits.data\n",
    "    y = digits.target\n",
    "    most_confusing = []\n",
    "    for train_index, test_index in kf.split(digits.data):\n",
    "        X_train0, X_test0 = X[train_index], X[test_index]\n",
    "        y_train0, y_test0 = y[train_index], y[test_index]\n",
    "        confusing_digit = most_confusing_digit(X_train0, y_train0, X_test0, y_test0)\n",
    "        most_confusing.append(confusing_digit)\n",
    "    return most_confusing\n",
    "    \n",
    "\n",
    "def majority_voting(candidates):\n",
    "    smallest_digit = 0\n",
    "    freq_dict = dict()\n",
    "    for item in candidates:\n",
    "        if item not in freq_dict:\n",
    "            freq_dict[item] = 1\n",
    "        else:\n",
    "            freq_dict[item] += 1\n",
    "    most_freq = 0\n",
    "    most_digit = 0\n",
    "    for keys in freq_dict:\n",
    "        if freq_dict[keys] >= most_freq:\n",
    "            most_digit = keys\n",
    "            most_freq = freq_dict[keys]\n",
    "    return most_digit"
   ]
  },
  {
   "cell_type": "code",
   "execution_count": 32,
   "metadata": {
    "deletable": false,
    "nbgrader": {
     "cell_type": "code",
     "checksum": "bc13cc238421369ec8b895e0b1b57db9",
     "grade": false,
     "grade_id": "cell-bc29bed314d1cd51",
     "locked": false,
     "schema_version": 3,
     "solution": true,
     "task": false
    }
   },
   "outputs": [],
   "source": [
    "# Code here to find the most confusing digit.\n",
    "# YOUR CODE HERE\n",
    "candidate = confusion_candidates(digits)\n",
    "confusion_digit = majority_voting(candidate)"
   ]
  },
  {
   "cell_type": "code",
   "execution_count": 33,
   "metadata": {
    "deletable": false,
    "editable": false,
    "nbgrader": {
     "cell_type": "code",
     "checksum": "973e31b111bc9e4776156b3945b1bb32",
     "grade": true,
     "grade_id": "cell-1d92637815745f54",
     "locked": true,
     "points": 1,
     "schema_version": 3,
     "solution": false,
     "task": false
    }
   },
   "outputs": [],
   "source": [
    "assert type(confusion_digit) == int"
   ]
  },
  {
   "cell_type": "code",
   "execution_count": 34,
   "metadata": {
    "deletable": false,
    "editable": false,
    "nbgrader": {
     "cell_type": "code",
     "checksum": "0456286ee28bd96262c30556d6508343",
     "grade": true,
     "grade_id": "cell-1ebda96ef8f7b01f",
     "locked": true,
     "points": 1,
     "schema_version": 3,
     "solution": false,
     "task": false
    }
   },
   "outputs": [],
   "source": [
    "assert most_confusing_digit(X_train, y_train, X_test, y_test) == 9\n",
    "assert majority_voting([1, 2, 3, 4, 2]) == 2"
   ]
  },
  {
   "cell_type": "code",
   "execution_count": 35,
   "metadata": {
    "deletable": false,
    "editable": false,
    "nbgrader": {
     "cell_type": "code",
     "checksum": "6d08c66c7e787b8d67dbcbc0179ee173",
     "grade": true,
     "grade_id": "cell-6f83afff32c16a2f",
     "locked": true,
     "points": 1,
     "schema_version": 3,
     "solution": false,
     "task": false
    }
   },
   "outputs": [],
   "source": [
    "assert type(confusion_candidates(digits)) == list\n",
    "assert confusion_candidates(digits)[-1] == 3"
   ]
  },
  {
   "cell_type": "code",
   "execution_count": 36,
   "metadata": {
    "deletable": false,
    "editable": false,
    "nbgrader": {
     "cell_type": "code",
     "checksum": "db184f49de6a4606de463a4257b79aa4",
     "grade": true,
     "grade_id": "cell-f088a7d2a467cf6f",
     "locked": true,
     "points": 1,
     "schema_version": 3,
     "solution": false,
     "task": false
    }
   },
   "outputs": [],
   "source": [
    "assert type(confusion_candidates(digits)) == list\n",
    "assert confusion_candidates(digits)[2] == 2"
   ]
  },
  {
   "cell_type": "markdown",
   "metadata": {
    "deletable": false,
    "editable": false,
    "nbgrader": {
     "cell_type": "markdown",
     "checksum": "f89ad053bc26af5572faea72f2d12f17",
     "grade": false,
     "grade_id": "cell-e0d05b9d090cd8ad",
     "locked": true,
     "schema_version": 3,
     "solution": false,
     "task": false
    }
   },
   "source": [
    "## Problem 2: Constructing `pandas` objects (3 points)\n",
    "In this problem, you will create two simple `pandas` objects."
   ]
  },
  {
   "cell_type": "markdown",
   "metadata": {
    "deletable": false,
    "editable": false,
    "nbgrader": {
     "cell_type": "markdown",
     "checksum": "55a3b0e0d894f0ff996343720a8d6571",
     "grade": false,
     "grade_id": "cell-a6e0d076416708b0",
     "locked": true,
     "schema_version": 3,
     "solution": false,
     "task": false
    }
   },
   "source": [
    "### Part 1 (1 point) \n",
    "\n",
    "Create a $pandas$ Series object with indices given by the first 10 (lower case) letters of the English alphabet and values given by the first 10 primes. Assign this object to a variable called `alphaprimes`."
   ]
  },
  {
   "cell_type": "code",
   "execution_count": 37,
   "metadata": {
    "deletable": false,
    "nbgrader": {
     "cell_type": "code",
     "checksum": "b36ae59e2b4f47f81b72c39671528c0e",
     "grade": false,
     "grade_id": "cell-5e7a162171cc22eb",
     "locked": false,
     "schema_version": 3,
     "solution": true,
     "task": false
    }
   },
   "outputs": [
    {
     "data": {
      "text/plain": [
       "a     2\n",
       "b     3\n",
       "c     5\n",
       "d     7\n",
       "e    11\n",
       "f    13\n",
       "g    17\n",
       "h    19\n",
       "i    23\n",
       "j    29\n",
       "dtype: int64"
      ]
     },
     "execution_count": 37,
     "metadata": {},
     "output_type": "execute_result"
    }
   ],
   "source": [
    "import pandas as pd\n",
    "\n",
    "\n",
    "idx = ['a', 'b', 'c', 'd', 'e', 'f', 'g', 'h', 'i', 'j']\n",
    "val = [2, 3, 5, 7, 11, 13, 17, 19, 23, 29]\n",
    "alphaprimes = pd.Series(val, idx)\n",
    "alphaprimes"
   ]
  },
  {
   "cell_type": "code",
   "execution_count": 38,
   "metadata": {
    "deletable": false,
    "editable": false,
    "nbgrader": {
     "cell_type": "code",
     "checksum": "a323e1086255cc06badad8d9e9429cd0",
     "grade": true,
     "grade_id": "cell-5b7d9b7307618480",
     "locked": true,
     "points": 1,
     "schema_version": 3,
     "solution": false,
     "task": false
    }
   },
   "outputs": [],
   "source": [
    "assert type(alphaprimes) is pd.core.series.Series\n",
    "assert alphaprimes['a'] == 2"
   ]
  },
  {
   "attachments": {
    "table.png": {
     "image/png": "[encoded data removed]"
    }
   },
   "cell_type": "markdown",
   "metadata": {
    "deletable": false,
    "editable": false,
    "nbgrader": {
     "cell_type": "markdown",
     "checksum": "cbbb8570392baf85f324b32d7ae415a6",
     "grade": false,
     "grade_id": "cell-1c1b590826546853",
     "locked": true,
     "schema_version": 3,
     "solution": false,
     "task": false
    }
   },
   "source": [
    "### Part 2 (2 points)\n",
    "\n",
    "Below is a table that might arise in a genetics experiment. Reconstruct this as a $pandas$ DataFrame and assign it to a variable called __animals__.\n",
    "\n",
    "**Hint:** The `pandas.MultiIndex.from_arrays` function might be helpful. You can print your table inside the jupyter notebook to make sure it looks the same as the one we have here. \n",
    "![table.png](attachment:table.png)"
   ]
  },
  {
   "cell_type": "code",
   "execution_count": 39,
   "metadata": {
    "deletable": false,
    "nbgrader": {
     "cell_type": "code",
     "checksum": "ab7b0dbfecaec1a910fefe47baea936b",
     "grade": false,
     "grade_id": "cell-3ff83aad97e5574c",
     "locked": false,
     "schema_version": 3,
     "solution": true,
     "task": false
    }
   },
   "outputs": [
    {
     "data": {
      "text/html": [
       "<div>\n",
       "<style scoped>\n",
       "    .dataframe tbody tr th:only-of-type {\n",
       "        vertical-align: middle;\n",
       "    }\n",
       "\n",
       "    .dataframe tbody tr th {\n",
       "        vertical-align: top;\n",
       "    }\n",
       "\n",
       "    .dataframe thead th {\n",
       "        text-align: right;\n",
       "    }\n",
       "</style>\n",
       "<table border=\"1\" class=\"dataframe\">\n",
       "  <thead>\n",
       "    <tr style=\"text-align: right;\">\n",
       "      <th></th>\n",
       "      <th></th>\n",
       "      <th></th>\n",
       "      <th>score1</th>\n",
       "      <th>score2</th>\n",
       "    </tr>\n",
       "    <tr>\n",
       "      <th>animal</th>\n",
       "      <th>parent1</th>\n",
       "      <th>parent2</th>\n",
       "      <th></th>\n",
       "      <th></th>\n",
       "    </tr>\n",
       "  </thead>\n",
       "  <tbody>\n",
       "    <tr>\n",
       "      <th rowspan=\"4\" valign=\"top\">goat</th>\n",
       "      <th rowspan=\"2\" valign=\"top\">A</th>\n",
       "      <th>A</th>\n",
       "      <td>1</td>\n",
       "      <td>2</td>\n",
       "    </tr>\n",
       "    <tr>\n",
       "      <th>a</th>\n",
       "      <td>2</td>\n",
       "      <td>4</td>\n",
       "    </tr>\n",
       "    <tr>\n",
       "      <th rowspan=\"2\" valign=\"top\">a</th>\n",
       "      <th>A</th>\n",
       "      <td>3</td>\n",
       "      <td>4</td>\n",
       "    </tr>\n",
       "    <tr>\n",
       "      <th>a</th>\n",
       "      <td>4</td>\n",
       "      <td>6</td>\n",
       "    </tr>\n",
       "    <tr>\n",
       "      <th rowspan=\"4\" valign=\"top\">bird</th>\n",
       "      <th rowspan=\"2\" valign=\"top\">A</th>\n",
       "      <th>A</th>\n",
       "      <td>5</td>\n",
       "      <td>6</td>\n",
       "    </tr>\n",
       "    <tr>\n",
       "      <th>a</th>\n",
       "      <td>6</td>\n",
       "      <td>8</td>\n",
       "    </tr>\n",
       "    <tr>\n",
       "      <th rowspan=\"2\" valign=\"top\">a</th>\n",
       "      <th>A</th>\n",
       "      <td>7</td>\n",
       "      <td>8</td>\n",
       "    </tr>\n",
       "    <tr>\n",
       "      <th>a</th>\n",
       "      <td>8</td>\n",
       "      <td>10</td>\n",
       "    </tr>\n",
       "    <tr>\n",
       "      <th rowspan=\"4\" valign=\"top\">llama</th>\n",
       "      <th rowspan=\"2\" valign=\"top\">A</th>\n",
       "      <th>A</th>\n",
       "      <td>9</td>\n",
       "      <td>10</td>\n",
       "    </tr>\n",
       "    <tr>\n",
       "      <th>a</th>\n",
       "      <td>10</td>\n",
       "      <td>12</td>\n",
       "    </tr>\n",
       "    <tr>\n",
       "      <th rowspan=\"2\" valign=\"top\">a</th>\n",
       "      <th>A</th>\n",
       "      <td>11</td>\n",
       "      <td>12</td>\n",
       "    </tr>\n",
       "    <tr>\n",
       "      <th>a</th>\n",
       "      <td>12</td>\n",
       "      <td>14</td>\n",
       "    </tr>\n",
       "  </tbody>\n",
       "</table>\n",
       "</div>"
      ],
      "text/plain": [
       "                        score1  score2\n",
       "animal parent1 parent2                \n",
       "goat   A       A             1       2\n",
       "               a             2       4\n",
       "       a       A             3       4\n",
       "               a             4       6\n",
       "bird   A       A             5       6\n",
       "               a             6       8\n",
       "       a       A             7       8\n",
       "               a             8      10\n",
       "llama  A       A             9      10\n",
       "               a            10      12\n",
       "       a       A            11      12\n",
       "               a            12      14"
      ]
     },
     "execution_count": 39,
     "metadata": {},
     "output_type": "execute_result"
    },
    {
     "name": "stderr",
     "output_type": "stream",
     "text": [
      "4:100: E501 line too long (109 > 99 characters)\n",
      "7:46: E251 unexpected spaces around keyword / parameter equals\n",
      "7:48: E251 unexpected spaces around keyword / parameter equals\n",
      "8:75: W291 trailing whitespace\n",
      "9:84: E251 unexpected spaces around keyword / parameter equals\n",
      "9:86: E251 unexpected spaces around keyword / parameter equals\n"
     ]
    }
   ],
   "source": [
    "import pandas as pd\n",
    "\n",
    "\n",
    "arrs = [['goat', 'goat', 'goat', 'goat', 'bird', 'bird', 'bird', 'bird', 'llama', 'llama', 'llama', 'llama'],\n",
    "        ['A', 'A', 'a', 'a', 'A', 'A', 'a', 'a', 'A', 'A', 'a', 'a'],\n",
    "        ['A', 'a', 'A', 'a', 'A', 'a', 'A', 'a', 'A', 'a', 'A', 'a']]\n",
    "index = pd.MultiIndex.from_arrays(arrs, names = ['animal', 'parent1', 'parent2'])\n",
    "animals = pd.DataFrame({'score1': [1, 2, 3, 4, 5, 6, 7, 8, 9, 10, 11, 12], \n",
    "                        'score2': [2, 4, 4, 6, 6, 8, 8, 10, 10, 12, 12, 14]}, index = index)\n",
    "animals"
   ]
  },
  {
   "cell_type": "code",
   "execution_count": 40,
   "metadata": {
    "deletable": false,
    "editable": false,
    "nbgrader": {
     "cell_type": "code",
     "checksum": "19880dedc5cc9ad23a9d088202445904",
     "grade": true,
     "grade_id": "cell-7e849b53df0eb514",
     "locked": true,
     "points": 1,
     "schema_version": 3,
     "solution": false,
     "task": false
    }
   },
   "outputs": [],
   "source": [
    "assert type(animals) == pd.core.frame.DataFrame\n",
    "assert animals.loc[('goat', 'A', 'A'), 'score2'] == 2"
   ]
  },
  {
   "cell_type": "code",
   "execution_count": 41,
   "metadata": {
    "deletable": false,
    "editable": false,
    "nbgrader": {
     "cell_type": "code",
     "checksum": "7641c19ab969d289d448552a94739265",
     "grade": true,
     "grade_id": "cell-9139f16ac1b25566",
     "locked": true,
     "points": 1,
     "schema_version": 3,
     "solution": false,
     "task": false
    }
   },
   "outputs": [],
   "source": [
    "assert type(animals) == pd.core.frame.DataFrame\n",
    "assert animals.loc[('goat', 'A', 'A'), 'score1'] == 1"
   ]
  },
  {
   "cell_type": "markdown",
   "metadata": {
    "deletable": false,
    "editable": false,
    "nbgrader": {
     "cell_type": "markdown",
     "checksum": "36e15e22c7bec42083659e5c9cbd6a04",
     "grade": false,
     "grade_id": "cell-ec38781db83fb6f7",
     "locked": true,
     "schema_version": 3,
     "solution": false,
     "task": false
    }
   },
   "source": [
    "## Problem 3: Working with `pandas` DataFrames (6 points)\n",
    "\n",
    "In this problem, you'll get practice working with `pandas` DataFrames, reading them into and out of memory, changing their contents, and performing aggregation operations. For this problem, you'll use the celebrated __iris__ data set, which is contained in the `iris.csv` file that should be included with this notebook in `hw6.zip`. \n",
    "\n",
    "__Note:__ for the sake of consistency, please use this version of the CSV, and not one from elsewhere."
   ]
  },
  {
   "cell_type": "markdown",
   "metadata": {
    "deletable": false,
    "editable": false,
    "nbgrader": {
     "cell_type": "markdown",
     "checksum": "00789e849457d09deba3e843cc9ea7f8",
     "grade": false,
     "grade_id": "cell-e236195475ba4d3d",
     "locked": true,
     "schema_version": 3,
     "solution": false,
     "task": false
    }
   },
   "source": [
    "### Part 1 (2 points)\n",
    "\n",
    "Read `iris.csv` into Python as a $pandas$ DataFrame. Note that the CSV file includes column headers. Store the following into python variables:\n",
    "\n",
    "- How many data points are there in this data set? Store into a variable `n_points`\n",
    "\n",
    "- What are the data types of the columns? Store as a list `dtypes`. \n",
    "\n",
    "- What are the column names? Store into a list variable `colnames` \n",
    "\n",
    "- The column names correspond to flower species names, as well as four basic measurements one can make of a flower: the width and length of its petals and the width and length of its sepal (the part of the pant that supports and protects the flower itself). What are the species of flower that are included in the data? Store the names into a set `flower_species`\n",
    "\n",
    "**Hint:** All can be obtained directly by various methods applied to the pandas dataframe you read from `iris.csv`. You should stick with the default order given by the columns of the table. "
   ]
  },
  {
   "cell_type": "code",
   "execution_count": 42,
   "metadata": {
    "deletable": false,
    "nbgrader": {
     "cell_type": "code",
     "checksum": "7e0db1824c36046ed14ca019aa001c3b",
     "grade": false,
     "grade_id": "cell-def1c4600223d685",
     "locked": false,
     "schema_version": 3,
     "solution": true,
     "task": false
    }
   },
   "outputs": [],
   "source": [
    "iris = pd.read_csv('iris.csv')\n",
    "n_points = iris.shape[0]\n",
    "dtypes = iris.dtypes\n",
    "colnames = iris.columns\n",
    "flower_species = set(iris['Species'])"
   ]
  },
  {
   "cell_type": "code",
   "execution_count": 43,
   "metadata": {
    "deletable": false,
    "editable": false,
    "nbgrader": {
     "cell_type": "code",
     "checksum": "bdebeebaa5f37586fa5bc672f077ced0",
     "grade": true,
     "grade_id": "cell-0d7c8beb9f89dba8",
     "locked": true,
     "points": 1,
     "schema_version": 3,
     "solution": false,
     "task": false
    }
   },
   "outputs": [],
   "source": [
    "assert type(n_points) == int\n",
    "assert n_points > 10\n",
    "assert dtypes[0] == np.dtype('float64')"
   ]
  },
  {
   "cell_type": "code",
   "execution_count": 44,
   "metadata": {
    "deletable": false,
    "editable": false,
    "nbgrader": {
     "cell_type": "code",
     "checksum": "d6b1e52a094c84ccd61af2c7558ab7ae",
     "grade": true,
     "grade_id": "cell-bc4ab74e515df4bc",
     "locked": true,
     "points": 1,
     "schema_version": 3,
     "solution": false,
     "task": false
    }
   },
   "outputs": [],
   "source": [
    "assert colnames[0] == 'Sepal.Length'\n",
    "assert type(flower_species) == set"
   ]
  },
  {
   "cell_type": "markdown",
   "metadata": {
    "deletable": false,
    "editable": false,
    "nbgrader": {
     "cell_type": "markdown",
     "checksum": "941a9eba679511b7f9b6a289829997da",
     "grade": false,
     "grade_id": "cell-dbf855efa13793fc",
     "locked": true,
     "schema_version": 3,
     "solution": false,
     "task": false
    }
   },
   "source": [
    "### Part 2 (1 point) \n",
    "\n",
    "The data we posted on Canvas, which you have downloaded, is based on the data initially uploaded to the UC Irvine machine learning repository. It is now known that this data contains errors in two of its rows (see the documentation at https://archive.ics.uci.edu/ml/datasets/Iris). \n",
    "\n",
    "Using 1-indexing, these errors are in the 35th and 38th rows. The 35th row should read __4.9,3.1,1.5,0.2,\"setosa\"__, where the fourth feature is incorrect as it appears in the file, and the 38th row should read __4.9,3.6,1.4,0.1,\"setosa\"__, where the second and third features are incorrect as they appear in the file. Correct these entries of your DataFrame."
   ]
  },
  {
   "cell_type": "code",
   "execution_count": 45,
   "metadata": {
    "deletable": false,
    "nbgrader": {
     "cell_type": "code",
     "checksum": "7fad3880222f1c9cd38d8578dccb20b3",
     "grade": false,
     "grade_id": "cell-b4d1c46875380a07",
     "locked": false,
     "schema_version": 3,
     "solution": true,
     "task": false
    }
   },
   "outputs": [],
   "source": [
    "iris.iloc[34, 3] = 0.2\n",
    "iris.iloc[37, 1] = 3.6\n",
    "iris.iloc[37, 2] = 1.4"
   ]
  },
  {
   "cell_type": "code",
   "execution_count": 46,
   "metadata": {
    "deletable": false,
    "editable": false,
    "nbgrader": {
     "cell_type": "code",
     "checksum": "3e2cdbe8b49b25c49f437a09bfad734f",
     "grade": true,
     "grade_id": "cell-eb19d3e0701c75a5",
     "locked": true,
     "points": 1,
     "schema_version": 3,
     "solution": false,
     "task": false
    }
   },
   "outputs": [],
   "source": [
    "assert iris.iloc[34, 3] == 0.2"
   ]
  },
  {
   "cell_type": "markdown",
   "metadata": {
    "deletable": false,
    "editable": false,
    "nbgrader": {
     "cell_type": "markdown",
     "checksum": "5f30fcef7f819513bdd639f4669c0676",
     "grade": false,
     "grade_id": "cell-9ce12207d96fb22e",
     "locked": true,
     "schema_version": 3,
     "solution": false,
     "task": false
    }
   },
   "source": [
    "### Part 3 (1 point) \n",
    "\n",
    "The iris dataset is commonly used in machine learning as a proving ground for clustering and classification algorithms. Some researchers have found it useful to use two additional features, called _Petal ratio_ and _Sepal ratio_, defined as the ratio of the petal length to petal width and the ratio of the sepal length to sepal width, respectively. Add two columns to your DataFrame corresponding to these two new features. Name these columns `Petal.Ratio` and `Sepal.Ratio`, respectively."
   ]
  },
  {
   "cell_type": "code",
   "execution_count": 47,
   "metadata": {
    "deletable": false,
    "nbgrader": {
     "cell_type": "code",
     "checksum": "f25b49ab1ef66ff6353d7387a15ebda9",
     "grade": false,
     "grade_id": "cell-0b5acb6b9e60b472",
     "locked": false,
     "schema_version": 3,
     "solution": true,
     "task": false
    }
   },
   "outputs": [],
   "source": [
    "iris['Petal.Ratio'] = iris['Petal.Length'] / iris['Petal.Width']\n",
    "iris['Sepal.Ratio'] = iris['Sepal.Length'] / iris['Sepal.Width']"
   ]
  },
  {
   "cell_type": "code",
   "execution_count": 48,
   "metadata": {
    "deletable": false,
    "editable": false,
    "nbgrader": {
     "cell_type": "code",
     "checksum": "28065e4566b2abd4b105759d2677a597",
     "grade": true,
     "grade_id": "cell-23bca0f4d339f690",
     "locked": true,
     "points": 1,
     "schema_version": 3,
     "solution": false,
     "task": false
    }
   },
   "outputs": [],
   "source": [
    "assert 'Petal.Ratio' in iris.columns\n",
    "assert 'Sepal.Ratio' in iris.columns\n",
    "### BEGIN HIDDENT TESTS\n",
    "assert np.all(iris['Petal.Ratio'] == iris['Petal.Length']/iris['Petal.Width'])\n",
    "assert np.all(iris['Sepal.Ratio'] == iris['Sepal.Length']/iris['Sepal.Width'])\n",
    "### END HIDDENT TESTS"
   ]
  },
  {
   "cell_type": "markdown",
   "metadata": {
    "deletable": false,
    "editable": false,
    "nbgrader": {
     "cell_type": "markdown",
     "checksum": "100159b4ac936681c8ced7a588dd36d8",
     "grade": false,
     "grade_id": "cell-ec31a9ba3624e7b5",
     "locked": true,
     "schema_version": 3,
     "solution": false,
     "task": false
    }
   },
   "source": [
    "### Part 4 (2 points)\n",
    "\n",
    "Use a `pandas` aggregate operation to determine the mean (`mean`), median (`median`), minimum (`min`), maximum (`max`) and standard deviation (`std`) of the petal and sepal ratio for each of the three species in the data set. Store these results in a pandas dataframe callend `results`. \n",
    "\n",
    "__Note:__ you should be able to get all five numbers in a single table (indeed, using a single line of code) using a well-chosen group-by or aggregate operation. The names of your columns should be 'mean', 'median', 'min', 'max', 'std'"
   ]
  },
  {
   "cell_type": "code",
   "execution_count": 49,
   "metadata": {
    "deletable": false,
    "nbgrader": {
     "cell_type": "code",
     "checksum": "b8b16bc3b4da1b3a8a01b996fe0d2a07",
     "grade": false,
     "grade_id": "cell-88fafe573a7bf3d6",
     "locked": false,
     "schema_version": 3,
     "solution": true,
     "task": false
    }
   },
   "outputs": [
    {
     "data": {
      "text/html": [
       "<div>\n",
       "<style scoped>\n",
       "    .dataframe tbody tr th:only-of-type {\n",
       "        vertical-align: middle;\n",
       "    }\n",
       "\n",
       "    .dataframe tbody tr th {\n",
       "        vertical-align: top;\n",
       "    }\n",
       "\n",
       "    .dataframe thead tr th {\n",
       "        text-align: left;\n",
       "    }\n",
       "\n",
       "    .dataframe thead tr:last-of-type th {\n",
       "        text-align: right;\n",
       "    }\n",
       "</style>\n",
       "<table border=\"1\" class=\"dataframe\">\n",
       "  <thead>\n",
       "    <tr>\n",
       "      <th></th>\n",
       "      <th colspan=\"5\" halign=\"left\">Petal.Ratio</th>\n",
       "      <th colspan=\"5\" halign=\"left\">Sepal.Ratio</th>\n",
       "    </tr>\n",
       "    <tr>\n",
       "      <th></th>\n",
       "      <th>mean</th>\n",
       "      <th>median</th>\n",
       "      <th>min</th>\n",
       "      <th>max</th>\n",
       "      <th>std</th>\n",
       "      <th>mean</th>\n",
       "      <th>median</th>\n",
       "      <th>min</th>\n",
       "      <th>max</th>\n",
       "      <th>std</th>\n",
       "    </tr>\n",
       "    <tr>\n",
       "      <th>Species</th>\n",
       "      <th></th>\n",
       "      <th></th>\n",
       "      <th></th>\n",
       "      <th></th>\n",
       "      <th></th>\n",
       "      <th></th>\n",
       "      <th></th>\n",
       "      <th></th>\n",
       "      <th></th>\n",
       "      <th></th>\n",
       "    </tr>\n",
       "  </thead>\n",
       "  <tbody>\n",
       "    <tr>\n",
       "      <th>setosa</th>\n",
       "      <td>6.908000</td>\n",
       "      <td>7.000000</td>\n",
       "      <td>2.666667</td>\n",
       "      <td>15.0</td>\n",
       "      <td>2.854545</td>\n",
       "      <td>1.470188</td>\n",
       "      <td>1.463063</td>\n",
       "      <td>1.268293</td>\n",
       "      <td>1.956522</td>\n",
       "      <td>0.118750</td>\n",
       "    </tr>\n",
       "    <tr>\n",
       "      <th>versicolor</th>\n",
       "      <td>3.242837</td>\n",
       "      <td>3.240385</td>\n",
       "      <td>2.666667</td>\n",
       "      <td>4.1</td>\n",
       "      <td>0.312456</td>\n",
       "      <td>2.160402</td>\n",
       "      <td>2.161290</td>\n",
       "      <td>1.764706</td>\n",
       "      <td>2.818182</td>\n",
       "      <td>0.228658</td>\n",
       "    </tr>\n",
       "    <tr>\n",
       "      <th>virginica</th>\n",
       "      <td>2.780662</td>\n",
       "      <td>2.666667</td>\n",
       "      <td>2.125000</td>\n",
       "      <td>4.0</td>\n",
       "      <td>0.407367</td>\n",
       "      <td>2.230453</td>\n",
       "      <td>2.169540</td>\n",
       "      <td>1.823529</td>\n",
       "      <td>2.961538</td>\n",
       "      <td>0.246992</td>\n",
       "    </tr>\n",
       "  </tbody>\n",
       "</table>\n",
       "</div>"
      ],
      "text/plain": [
       "           Petal.Ratio                                     Sepal.Ratio  \\\n",
       "                  mean    median       min   max       std        mean   \n",
       "Species                                                                  \n",
       "setosa        6.908000  7.000000  2.666667  15.0  2.854545    1.470188   \n",
       "versicolor    3.242837  3.240385  2.666667   4.1  0.312456    2.160402   \n",
       "virginica     2.780662  2.666667  2.125000   4.0  0.407367    2.230453   \n",
       "\n",
       "                                                    \n",
       "              median       min       max       std  \n",
       "Species                                             \n",
       "setosa      1.463063  1.268293  1.956522  0.118750  \n",
       "versicolor  2.161290  1.764706  2.818182  0.228658  \n",
       "virginica   2.169540  1.823529  2.961538  0.246992  "
      ]
     },
     "execution_count": 49,
     "metadata": {},
     "output_type": "execute_result"
    }
   ],
   "source": [
    "target = ['Petal.Ratio', 'Sepal.Ratio']\n",
    "mygroup = iris.groupby('Species')\n",
    "results = mygroup[target].aggregate(['mean', 'median', 'min', 'max', 'std'])\n",
    "results"
   ]
  },
  {
   "cell_type": "code",
   "execution_count": 50,
   "metadata": {
    "deletable": false,
    "editable": false,
    "nbgrader": {
     "cell_type": "code",
     "checksum": "1c7e6436fbe7d39394fb25790ef3785c",
     "grade": true,
     "grade_id": "cell-c7fac9de07e74ed1",
     "locked": true,
     "points": 1,
     "schema_version": 3,
     "solution": false,
     "task": false
    }
   },
   "outputs": [],
   "source": [
    "assert round(results['Petal.Ratio']['mean']['setosa'], 2) == 6.91"
   ]
  },
  {
   "cell_type": "code",
   "execution_count": 51,
   "metadata": {
    "deletable": false,
    "editable": false,
    "nbgrader": {
     "cell_type": "code",
     "checksum": "912b221ef39ad2113c58a8ce4753b00e",
     "grade": true,
     "grade_id": "cell-a38107a6f71a4125",
     "locked": true,
     "points": 1,
     "schema_version": 3,
     "solution": false,
     "task": false
    }
   },
   "outputs": [],
   "source": [
    "assert round(results['Sepal.Ratio']['std']['virginica'], 2) == 0.25"
   ]
  },
  {
   "cell_type": "markdown",
   "metadata": {
    "deletable": false,
    "editable": false,
    "nbgrader": {
     "cell_type": "markdown",
     "checksum": "6f11a1d8e19e3a66415701de081b0f4b",
     "grade": false,
     "grade_id": "cell-2ca1493e79f3caad",
     "locked": true,
     "schema_version": 3,
     "solution": false,
     "task": false
    }
   },
   "source": [
    "## Problem 4: Plotting Dataframes: Major League Baseball (7 points)\n",
    "\n",
    "In this problem, you'll get more practice working with `pandas` data frames and perform some basic plotting. We'll work with a data set consisting of all the baseball games from the 2018 Major League Baseball (MLB) regular season, compiled by _retrosheet.org_. Don't worry--- you don't need to know anything about baseball to complete this assignment! The relevant CSV file `GL2018.TXT` should have been included in `hw6.zip` along with this jupyter notebook. \n",
    "\n",
    "__Note:__ even though the zipped file is named as a `.txt` file, it is in fact a CSV file, which `pandas` will still be able to read. \n",
    "\n",
    "__Requisite legal boilerplate:__ The information used here was obtained free of charge from and is copyrighted by Retrosheet.  Interested parties may contact Retrosheet at \"www.retrosheet.org\"."
   ]
  },
  {
   "cell_type": "markdown",
   "metadata": {
    "deletable": false,
    "editable": false,
    "nbgrader": {
     "cell_type": "markdown",
     "checksum": "cd3614fa6fec5657d1f921c4bc54e793",
     "grade": false,
     "grade_id": "cell-7599159e10428b83",
     "locked": true,
     "schema_version": 3,
     "solution": false,
     "task": false
    }
   },
   "source": [
    "### Part 1 (1 point)  \n",
    "\n",
    "Read the data into a table called `mlb_df`. Each row of the table represents the outcome of a single game from the 2018 MLB season. Take note that the file does not have columns names; see the `header` keyword to the `pandas.read_csv` function. The columns are explained in a `.txt` file which you can download from https://www.retrosheet.org/gamelogs/glfields.txt, but we will only make use of a few of them in this problem. \n",
    "\n",
    "The 10-th and 11-th columns (using 1-indexing) are the scores of the visiting and home teams, respectively. Rename these columns `v_score` and `h_score`, respectively. MLB comprises two leagues, the American League and the National League, encoded as `AL` and `NL` in the table. The 5-th and 8-th columns (also 1-indexed) are the league affiliations of the visiting and home team, respectively. Rename these columns `v_league` and `h_league`.\n",
    "\n",
    "__Hint:__ Use `header=None` when reading in a file that does not have a header"
   ]
  },
  {
   "cell_type": "code",
   "execution_count": 52,
   "metadata": {
    "deletable": false,
    "nbgrader": {
     "cell_type": "code",
     "checksum": "ae97a929b3a0d9f15307c6edabab2b75",
     "grade": false,
     "grade_id": "cell-359c37822a5abe4e",
     "locked": false,
     "schema_version": 3,
     "solution": true,
     "task": false
    }
   },
   "outputs": [
    {
     "data": {
      "text/html": [
       "<div>\n",
       "<style scoped>\n",
       "    .dataframe tbody tr th:only-of-type {\n",
       "        vertical-align: middle;\n",
       "    }\n",
       "\n",
       "    .dataframe tbody tr th {\n",
       "        vertical-align: top;\n",
       "    }\n",
       "\n",
       "    .dataframe thead th {\n",
       "        text-align: right;\n",
       "    }\n",
       "</style>\n",
       "<table border=\"1\" class=\"dataframe\">\n",
       "  <thead>\n",
       "    <tr style=\"text-align: right;\">\n",
       "      <th></th>\n",
       "      <th>0</th>\n",
       "      <th>1</th>\n",
       "      <th>2</th>\n",
       "      <th>3</th>\n",
       "      <th>v_league</th>\n",
       "      <th>5</th>\n",
       "      <th>6</th>\n",
       "      <th>h_league</th>\n",
       "      <th>8</th>\n",
       "      <th>v_score</th>\n",
       "      <th>...</th>\n",
       "      <th>151</th>\n",
       "      <th>152</th>\n",
       "      <th>153</th>\n",
       "      <th>154</th>\n",
       "      <th>155</th>\n",
       "      <th>156</th>\n",
       "      <th>157</th>\n",
       "      <th>158</th>\n",
       "      <th>159</th>\n",
       "      <th>160</th>\n",
       "    </tr>\n",
       "  </thead>\n",
       "  <tbody>\n",
       "    <tr>\n",
       "      <th>0</th>\n",
       "      <td>20180329</td>\n",
       "      <td>0</td>\n",
       "      <td>Thu</td>\n",
       "      <td>COL</td>\n",
       "      <td>NL</td>\n",
       "      <td>1</td>\n",
       "      <td>ARI</td>\n",
       "      <td>NL</td>\n",
       "      <td>1</td>\n",
       "      <td>2</td>\n",
       "      <td>...</td>\n",
       "      <td>Nick Ahmed</td>\n",
       "      <td>6</td>\n",
       "      <td>dysoj001</td>\n",
       "      <td>Jarrod Dyson</td>\n",
       "      <td>9</td>\n",
       "      <td>corbp001</td>\n",
       "      <td>Patrick Corbin</td>\n",
       "      <td>1</td>\n",
       "      <td>NaN</td>\n",
       "      <td>Y</td>\n",
       "    </tr>\n",
       "    <tr>\n",
       "      <th>1</th>\n",
       "      <td>20180329</td>\n",
       "      <td>0</td>\n",
       "      <td>Thu</td>\n",
       "      <td>PHI</td>\n",
       "      <td>NL</td>\n",
       "      <td>1</td>\n",
       "      <td>ATL</td>\n",
       "      <td>NL</td>\n",
       "      <td>1</td>\n",
       "      <td>5</td>\n",
       "      <td>...</td>\n",
       "      <td>Dansby Swanson</td>\n",
       "      <td>6</td>\n",
       "      <td>flahr001</td>\n",
       "      <td>Ryan Flaherty</td>\n",
       "      <td>5</td>\n",
       "      <td>tehej001</td>\n",
       "      <td>Julio Teheran</td>\n",
       "      <td>1</td>\n",
       "      <td>NaN</td>\n",
       "      <td>Y</td>\n",
       "    </tr>\n",
       "    <tr>\n",
       "      <th>2</th>\n",
       "      <td>20180329</td>\n",
       "      <td>0</td>\n",
       "      <td>Thu</td>\n",
       "      <td>SFN</td>\n",
       "      <td>NL</td>\n",
       "      <td>1</td>\n",
       "      <td>LAN</td>\n",
       "      <td>NL</td>\n",
       "      <td>1</td>\n",
       "      <td>1</td>\n",
       "      <td>...</td>\n",
       "      <td>Yasmani Grandal</td>\n",
       "      <td>2</td>\n",
       "      <td>forsl001</td>\n",
       "      <td>Logan Forsythe</td>\n",
       "      <td>5</td>\n",
       "      <td>kersc001</td>\n",
       "      <td>Clayton Kershaw</td>\n",
       "      <td>1</td>\n",
       "      <td>NaN</td>\n",
       "      <td>Y</td>\n",
       "    </tr>\n",
       "    <tr>\n",
       "      <th>3</th>\n",
       "      <td>20180329</td>\n",
       "      <td>0</td>\n",
       "      <td>Thu</td>\n",
       "      <td>CHN</td>\n",
       "      <td>NL</td>\n",
       "      <td>1</td>\n",
       "      <td>MIA</td>\n",
       "      <td>NL</td>\n",
       "      <td>1</td>\n",
       "      <td>8</td>\n",
       "      <td>...</td>\n",
       "      <td>Miguel Rojas</td>\n",
       "      <td>6</td>\n",
       "      <td>wallc001</td>\n",
       "      <td>Chad Wallach</td>\n",
       "      <td>2</td>\n",
       "      <td>urenj001</td>\n",
       "      <td>Jose Urena</td>\n",
       "      <td>1</td>\n",
       "      <td>NaN</td>\n",
       "      <td>Y</td>\n",
       "    </tr>\n",
       "    <tr>\n",
       "      <th>4</th>\n",
       "      <td>20180329</td>\n",
       "      <td>0</td>\n",
       "      <td>Thu</td>\n",
       "      <td>SLN</td>\n",
       "      <td>NL</td>\n",
       "      <td>1</td>\n",
       "      <td>NYN</td>\n",
       "      <td>NL</td>\n",
       "      <td>1</td>\n",
       "      <td>4</td>\n",
       "      <td>...</td>\n",
       "      <td>Kevin Plawecki</td>\n",
       "      <td>2</td>\n",
       "      <td>syndn001</td>\n",
       "      <td>Noah Syndergaard</td>\n",
       "      <td>1</td>\n",
       "      <td>rosaa003</td>\n",
       "      <td>Amed Rosario</td>\n",
       "      <td>6</td>\n",
       "      <td>NaN</td>\n",
       "      <td>Y</td>\n",
       "    </tr>\n",
       "    <tr>\n",
       "      <th>...</th>\n",
       "      <td>...</td>\n",
       "      <td>...</td>\n",
       "      <td>...</td>\n",
       "      <td>...</td>\n",
       "      <td>...</td>\n",
       "      <td>...</td>\n",
       "      <td>...</td>\n",
       "      <td>...</td>\n",
       "      <td>...</td>\n",
       "      <td>...</td>\n",
       "      <td>...</td>\n",
       "      <td>...</td>\n",
       "      <td>...</td>\n",
       "      <td>...</td>\n",
       "      <td>...</td>\n",
       "      <td>...</td>\n",
       "      <td>...</td>\n",
       "      <td>...</td>\n",
       "      <td>...</td>\n",
       "      <td>...</td>\n",
       "      <td>...</td>\n",
       "    </tr>\n",
       "    <tr>\n",
       "      <th>2426</th>\n",
       "      <td>20180930</td>\n",
       "      <td>0</td>\n",
       "      <td>Sun</td>\n",
       "      <td>CHA</td>\n",
       "      <td>AL</td>\n",
       "      <td>162</td>\n",
       "      <td>MIN</td>\n",
       "      <td>AL</td>\n",
       "      <td>162</td>\n",
       "      <td>4</td>\n",
       "      <td>...</td>\n",
       "      <td>Logan Forsythe</td>\n",
       "      <td>4</td>\n",
       "      <td>astuw001</td>\n",
       "      <td>Willians Astudillo</td>\n",
       "      <td>5</td>\n",
       "      <td>gratj001</td>\n",
       "      <td>Juan Graterol</td>\n",
       "      <td>2</td>\n",
       "      <td>NaN</td>\n",
       "      <td>Y</td>\n",
       "    </tr>\n",
       "    <tr>\n",
       "      <th>2427</th>\n",
       "      <td>20180930</td>\n",
       "      <td>0</td>\n",
       "      <td>Sun</td>\n",
       "      <td>TEX</td>\n",
       "      <td>AL</td>\n",
       "      <td>162</td>\n",
       "      <td>SEA</td>\n",
       "      <td>AL</td>\n",
       "      <td>162</td>\n",
       "      <td>1</td>\n",
       "      <td>...</td>\n",
       "      <td>Kristopher Negron</td>\n",
       "      <td>4</td>\n",
       "      <td>freid001</td>\n",
       "      <td>David Freitas</td>\n",
       "      <td>2</td>\n",
       "      <td>romia001</td>\n",
       "      <td>Andrew Romine</td>\n",
       "      <td>6</td>\n",
       "      <td>NaN</td>\n",
       "      <td>Y</td>\n",
       "    </tr>\n",
       "    <tr>\n",
       "      <th>2428</th>\n",
       "      <td>20180930</td>\n",
       "      <td>0</td>\n",
       "      <td>Sun</td>\n",
       "      <td>TOR</td>\n",
       "      <td>AL</td>\n",
       "      <td>162</td>\n",
       "      <td>TBA</td>\n",
       "      <td>AL</td>\n",
       "      <td>162</td>\n",
       "      <td>4</td>\n",
       "      <td>...</td>\n",
       "      <td>Austin Meadows</td>\n",
       "      <td>9</td>\n",
       "      <td>bauej001</td>\n",
       "      <td>Jake Bauers</td>\n",
       "      <td>3</td>\n",
       "      <td>ciufn001</td>\n",
       "      <td>Nick Ciuffo</td>\n",
       "      <td>2</td>\n",
       "      <td>NaN</td>\n",
       "      <td>Y</td>\n",
       "    </tr>\n",
       "    <tr>\n",
       "      <th>2429</th>\n",
       "      <td>20181001</td>\n",
       "      <td>0</td>\n",
       "      <td>Mon</td>\n",
       "      <td>MIL</td>\n",
       "      <td>NL</td>\n",
       "      <td>163</td>\n",
       "      <td>CHN</td>\n",
       "      <td>NL</td>\n",
       "      <td>163</td>\n",
       "      <td>3</td>\n",
       "      <td>...</td>\n",
       "      <td>Jason Heyward</td>\n",
       "      <td>8</td>\n",
       "      <td>quinj001</td>\n",
       "      <td>Jose Quintana</td>\n",
       "      <td>1</td>\n",
       "      <td>contw001</td>\n",
       "      <td>Willson Contreras</td>\n",
       "      <td>2</td>\n",
       "      <td>NaN</td>\n",
       "      <td>Y</td>\n",
       "    </tr>\n",
       "    <tr>\n",
       "      <th>2430</th>\n",
       "      <td>20181001</td>\n",
       "      <td>0</td>\n",
       "      <td>Mon</td>\n",
       "      <td>COL</td>\n",
       "      <td>NL</td>\n",
       "      <td>163</td>\n",
       "      <td>LAN</td>\n",
       "      <td>NL</td>\n",
       "      <td>163</td>\n",
       "      <td>2</td>\n",
       "      <td>...</td>\n",
       "      <td>Yasiel Puig</td>\n",
       "      <td>9</td>\n",
       "      <td>herne001</td>\n",
       "      <td>Enrique Hernandez</td>\n",
       "      <td>4</td>\n",
       "      <td>buehw001</td>\n",
       "      <td>Walker Buehler</td>\n",
       "      <td>1</td>\n",
       "      <td>NaN</td>\n",
       "      <td>Y</td>\n",
       "    </tr>\n",
       "  </tbody>\n",
       "</table>\n",
       "<p>2431 rows × 161 columns</p>\n",
       "</div>"
      ],
      "text/plain": [
       "             0  1    2    3 v_league    5    6 h_league    8  v_score  ...  \\\n",
       "0     20180329  0  Thu  COL       NL    1  ARI       NL    1        2  ...   \n",
       "1     20180329  0  Thu  PHI       NL    1  ATL       NL    1        5  ...   \n",
       "2     20180329  0  Thu  SFN       NL    1  LAN       NL    1        1  ...   \n",
       "3     20180329  0  Thu  CHN       NL    1  MIA       NL    1        8  ...   \n",
       "4     20180329  0  Thu  SLN       NL    1  NYN       NL    1        4  ...   \n",
       "...        ... ..  ...  ...      ...  ...  ...      ...  ...      ...  ...   \n",
       "2426  20180930  0  Sun  CHA       AL  162  MIN       AL  162        4  ...   \n",
       "2427  20180930  0  Sun  TEX       AL  162  SEA       AL  162        1  ...   \n",
       "2428  20180930  0  Sun  TOR       AL  162  TBA       AL  162        4  ...   \n",
       "2429  20181001  0  Mon  MIL       NL  163  CHN       NL  163        3  ...   \n",
       "2430  20181001  0  Mon  COL       NL  163  LAN       NL  163        2  ...   \n",
       "\n",
       "                    151  152       153                 154  155       156  \\\n",
       "0            Nick Ahmed    6  dysoj001        Jarrod Dyson    9  corbp001   \n",
       "1        Dansby Swanson    6  flahr001       Ryan Flaherty    5  tehej001   \n",
       "2       Yasmani Grandal    2  forsl001      Logan Forsythe    5  kersc001   \n",
       "3          Miguel Rojas    6  wallc001        Chad Wallach    2  urenj001   \n",
       "4        Kevin Plawecki    2  syndn001    Noah Syndergaard    1  rosaa003   \n",
       "...                 ...  ...       ...                 ...  ...       ...   \n",
       "2426     Logan Forsythe    4  astuw001  Willians Astudillo    5  gratj001   \n",
       "2427  Kristopher Negron    4  freid001       David Freitas    2  romia001   \n",
       "2428     Austin Meadows    9  bauej001         Jake Bauers    3  ciufn001   \n",
       "2429      Jason Heyward    8  quinj001       Jose Quintana    1  contw001   \n",
       "2430        Yasiel Puig    9  herne001   Enrique Hernandez    4  buehw001   \n",
       "\n",
       "                    157  158  159 160  \n",
       "0        Patrick Corbin    1  NaN   Y  \n",
       "1         Julio Teheran    1  NaN   Y  \n",
       "2       Clayton Kershaw    1  NaN   Y  \n",
       "3            Jose Urena    1  NaN   Y  \n",
       "4          Amed Rosario    6  NaN   Y  \n",
       "...                 ...  ...  ...  ..  \n",
       "2426      Juan Graterol    2  NaN   Y  \n",
       "2427      Andrew Romine    6  NaN   Y  \n",
       "2428        Nick Ciuffo    2  NaN   Y  \n",
       "2429  Willson Contreras    2  NaN   Y  \n",
       "2430     Walker Buehler    1  NaN   Y  \n",
       "\n",
       "[2431 rows x 161 columns]"
      ]
     },
     "execution_count": 52,
     "metadata": {},
     "output_type": "execute_result"
    },
    {
     "name": "stderr",
     "output_type": "stream",
     "text": [
      "8:31: E251 unexpected spaces around keyword / parameter equals\n",
      "8:33: E251 unexpected spaces around keyword / parameter equals\n"
     ]
    }
   ],
   "source": [
    "# Follow the instructions above and modify the `mlb_df`\n",
    "# pandas dataframe (keep this name throughout)\n",
    "import numpy as np\n",
    "import pandas as pd\n",
    "\n",
    "\n",
    "mlb_df = pd.read_csv('GL2018.TXT', header=None)\n",
    "mlb_df = mlb_df.rename(columns = {9: 'v_score', 10: 'h_score', 4: 'v_league', 7: 'h_league'})\n",
    "mlb_df"
   ]
  },
  {
   "cell_type": "code",
   "execution_count": 53,
   "metadata": {
    "deletable": false,
    "editable": false,
    "nbgrader": {
     "cell_type": "code",
     "checksum": "5bb0256dc92b073d00bd858c95148868",
     "grade": true,
     "grade_id": "cell-a02fe6236008638a",
     "locked": true,
     "points": 1,
     "schema_version": 3,
     "solution": false,
     "task": false
    }
   },
   "outputs": [],
   "source": [
    "assert round(np.mean(mlb_df['h_score'].values), 3) == 4.526"
   ]
  },
  {
   "cell_type": "markdown",
   "metadata": {
    "deletable": false,
    "editable": false,
    "nbgrader": {
     "cell_type": "markdown",
     "checksum": "add43bcfe703180f46d0872af5cbe6fb",
     "grade": false,
     "grade_id": "cell-300ec7555fcfb1cc",
     "locked": true,
     "points": 3,
     "schema_version": 3,
     "solution": false,
     "task": true
    }
   },
   "source": [
    "### Part 2 (3 points) \n",
    "\n",
    "Create a plot with two subplots, placed side-by-side. Each subplot should be a scatter plot in which the x- and y-axes correspond to the home and visitor scores, respectively, and in which each point corresponds to a game from the season. In the left-hand plot, include all games in which both teams were in the NL, and in the right-hand plot, include all games in which both teams were in the AL. Games in which the teams were from different leagues should be ignored. Follow these instructions: \n",
    "\n",
    "- Specify the transparency (cf. the `alpha` parameter in the `matplotlib` documentation) so that scores that occur more often will be shaded darker than rare scores. (Check that your final plot has some points that are more transparent than others)\n",
    "\n",
    "- Color the points in the scatter plot according to the league affiliation of the two teams as follows: games between two teams both in the AL should be rendered as red points in the scatter plot. Games between two teams both in the NL should be rendered as blue points in the scatter plot. \n",
    "\n",
    "- Label your axes and provide an appropriate title for your plot as well as its subplots. \n",
    "\n",
    "- Check that your plot is rendered in the notebook when you run the cell below. \n",
    "\n",
    "__Note:__ you may find it useful to create an extra column in the dataframe of whether a given game is AL vs AL, NL vs NL or mixed."
   ]
  },
  {
   "cell_type": "code",
   "execution_count": 54,
   "metadata": {
    "deletable": false,
    "nbgrader": {
     "cell_type": "code",
     "checksum": "a9fb4ae636574ec93fe2389f37c271bb",
     "grade": false,
     "grade_id": "cell-bcfcdc1b4d394cfd",
     "locked": false,
     "schema_version": 3,
     "solution": true,
     "task": false
    }
   },
   "outputs": [
    {
     "data": {
      "text/plain": [
       "Text(0.5, 0.98, 'Scores between home match and away match')"
      ]
     },
     "execution_count": 54,
     "metadata": {},
     "output_type": "execute_result"
    },
    {
     "data": {
      "image/png": "[encoded data removed]",
      "text/plain": [
       "<Figure size 720x360 with 2 Axes>"
      ]
     },
     "metadata": {
      "needs_background": "light"
     },
     "output_type": "display_data"
    }
   ],
   "source": [
    "%matplotlib inline\n",
    "import matplotlib as mp\n",
    "import matplotlib.pyplot as plt \n",
    "\n",
    "\n",
    "fig, ax = plt.subplots(1, 2, figsize=(10, 5))\n",
    "target_column = ['v_league', 'h_league', 'v_score', 'h_score']\n",
    "target_df = mlb_df[target_column]\n",
    "left_df = target_df.loc[(target_df.v_league == 'NL') & (target_df.h_league == 'NL')]\n",
    "right_df = target_df.loc[(target_df.v_league == 'AL') & (target_df.h_league == 'AL')]\n",
    "ax1 = plt.subplot(121)\n",
    "plt.scatter(x=left_df['h_score'], y=left_df['v_score'], c = 'b', alpha=0.25)\n",
    "plt.xlabel('h_score')\n",
    "plt.ylabel('v_score')\n",
    "ax = plt.subplot(122)\n",
    "plt.scatter(x=right_df['h_score'], y=right_df['v_score'], c = 'r', alpha=0.25)\n",
    "plt.xlabel('h_score')\n",
    "plt.ylabel('v_score')\n",
    "fig.suptitle('Scores between home match and away match')"
   ]
  },
  {
   "cell_type": "markdown",
   "metadata": {
    "deletable": false,
    "editable": false,
    "nbgrader": {
     "cell_type": "markdown",
     "checksum": "8e459a95d072eb77c81329dade350744",
     "grade": false,
     "grade_id": "cell-634f956d533bfbeb",
     "locked": true,
     "points": 2,
     "schema_version": 3,
     "solution": false,
     "task": true
    }
   },
   "source": [
    "### Part 3 (2 points) \n",
    "\n",
    "The Skellam distribution https://en.wikipedia.org/wiki/Skellam_distribution) is the distribution that results from taking the difference between two Poisson random variables. It is often suggested as a model for the difference between scores in sports games, particularly baseball. Add a new column to the data frame called `score_diff`, given by the home score minus the away score. Make a histogram of this score difference and give the plot an appropriate title/axis titles.\n",
    "\n",
    "**Note:** Make sure the cell below displays the plot in this notebook. "
   ]
  },
  {
   "cell_type": "code",
   "execution_count": 55,
   "metadata": {
    "deletable": false,
    "nbgrader": {
     "cell_type": "code",
     "checksum": "e843a7c20f79d36684467edb070117e5",
     "grade": false,
     "grade_id": "cell-b7c0aab1aaf22e69",
     "locked": false,
     "schema_version": 3,
     "solution": true,
     "task": false
    }
   },
   "outputs": [
    {
     "data": {
      "image/png": "[encoded data removed]",
      "text/plain": [
       "<Figure size 576x576 with 1 Axes>"
      ]
     },
     "metadata": {
      "needs_background": "light"
     },
     "output_type": "display_data"
    }
   ],
   "source": [
    "%matplotlib inline\n",
    "\n",
    "\n",
    "plt.figure(figsize=(8, 8))\n",
    "mlb_df['score_diff'] = mlb_df['h_score'] - mlb_df['v_score']\n",
    "plt.hist(mlb_df['score_diff'])\n",
    "plt.xlabel('Score Difference')\n",
    "plt.ylabel('Distribution')\n",
    "plt.title('Distribution of score difference between home match and away match')\n",
    "_ = plt.show()"
   ]
  },
  {
   "cell_type": "markdown",
   "metadata": {
    "deletable": false,
    "editable": false,
    "nbgrader": {
     "cell_type": "markdown",
     "checksum": "351814acf19f88c85401c2fadd8bb8de",
     "grade": false,
     "grade_id": "cell-4d893b6ff397473c",
     "locked": true,
     "schema_version": 3,
     "solution": false,
     "task": false
    }
   },
   "source": [
    "### Part 4 (1 point)\n",
    "\n",
    "Read the documentation about the __scipy__ implementation of the Skellam distribution at https://docs.scipy.org/doc/scipy/reference/generated/scipy.stats.skellam.html . If $\\lambda_H$ and $\\lambda_V$ are the means of two independent Poisson random variables $K_H$ and $K_V$, respectively, then the Skellam distribution that describes the difference $K_H - K_V$ has parameters $\\lambda_H$ and $\\lambda_V$. \n",
    "\n",
    "Estimate parameters $\\hat{\\lambda}_H$ and $\\hat{\\lambda}_V$ as the means of the home and visitor scores, respectively. Save your estimates in variables `lambda_home` and `lambda_visitor`, respectively."
   ]
  },
  {
   "cell_type": "code",
   "execution_count": 56,
   "metadata": {
    "deletable": false,
    "nbgrader": {
     "cell_type": "code",
     "checksum": "973eb9e7bed9b8e5816ab61d2d09db3e",
     "grade": false,
     "grade_id": "cell-8058f1077187586e",
     "locked": false,
     "schema_version": 3,
     "solution": true,
     "task": false
    }
   },
   "outputs": [],
   "source": [
    "from scipy.stats import skellam\n",
    "\n",
    "\n",
    "lambda_home = mlb_df['h_score'].mean()\n",
    "lambda_visitor = mlb_df['v_score'].mean()"
   ]
  },
  {
   "cell_type": "code",
   "execution_count": 57,
   "metadata": {
    "deletable": false,
    "editable": false,
    "nbgrader": {
     "cell_type": "code",
     "checksum": "080dae6fb266ac1d8eb1d2ca8b26b147",
     "grade": true,
     "grade_id": "cell-e688a0461b4bc73e",
     "locked": true,
     "points": 1,
     "schema_version": 3,
     "solution": false,
     "task": false
    }
   },
   "outputs": [],
   "source": [
    "assert round(lambda_home, 3) == 4.526"
   ]
  },
  {
   "cell_type": "code",
   "execution_count": null,
   "metadata": {},
   "outputs": [],
   "source": []
  }
 ],
 "metadata": {
  "kernelspec": {
   "display_name": "Python 3",
   "language": "python",
   "name": "python3"
  },
  "language_info": {
   "codemirror_mode": {
    "name": "ipython",
    "version": 3
   },
   "file_extension": ".py",
   "mimetype": "text/x-python",
   "name": "python",
   "nbconvert_exporter": "python",
   "pygments_lexer": "ipython3",
   "version": "3.8.7"
  },
  "latex_envs": {
   "LaTeX_envs_menu_present": true,
   "autoclose": false,
   "autocomplete": true,
   "bibliofile": "biblio.bib",
   "cite_by": "apalike",
   "current_citInitial": 1,
   "eqLabelWithNumbers": true,
   "eqNumInitial": 1,
   "hotkeys": {
    "equation": "meta-shift-y"
   },
   "labels_anchors": false,
   "latex_user_defs": false,
   "report_style_numbering": false,
   "user_envs_cfg": false
  },
  "toc": {
   "base_numbering": 1,
   "nav_menu": {},
   "number_sections": false,
   "sideBar": true,
   "skip_h1_title": false,
   "title_cell": "Table of Contents",
   "title_sidebar": "Contents",
   "toc_cell": false,
   "toc_position": {
    "height": "calc(100% - 180px)",
    "left": "10px",
    "top": "150px",
    "width": "303.640625px"
   },
   "toc_section_display": true,
   "toc_window_display": true
  }
 },
 "nbformat": 4,
 "nbformat_minor": 2
}
