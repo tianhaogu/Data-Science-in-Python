{
 "cells": [
  {
   "cell_type": "markdown",
   "metadata": {
    "deletable": false,
    "editable": false,
    "nbgrader": {
     "cell_type": "markdown",
     "checksum": "1a2f17ab75ff752be6c8987c96cd9a9b",
     "grade": false,
     "grade_id": "cell-c40158ec29b15206",
     "locked": true,
     "schema_version": 3,
     "solution": false,
     "task": false
    }
   },
   "source": [
    "# Homework 7: Regexes and Structured Data (27 points)"
   ]
  },
  {
   "cell_type": "markdown",
   "metadata": {},
   "source": [
    "name: Tianhao Gu\n",
    "\n",
    "email: gtianhao@umich.edu\n",
    "\n",
    "This homework assignment took me 13 hours in total to complete. (Please help us to gauge the difficulty of the assignment.)"
   ]
  },
  {
   "cell_type": "markdown",
   "metadata": {
    "deletable": false,
    "editable": false,
    "nbgrader": {
     "cell_type": "markdown",
     "checksum": "dcd41b0916cd2e2b3552fd65ff6fd51f",
     "grade": false,
     "grade_id": "cell-9fc8abaaecff0e9a",
     "locked": true,
     "schema_version": 3,
     "solution": false,
     "task": false
    }
   },
   "source": [
    "## Collaboration Disclosure\n",
    "\n",
    "In the cell below, please list *everyone* with whom you discussed any of the homework problems, excluding only the GSIs and the course instructor. \n",
    "\n",
    "If you did not discuss the homework with anyone else, write __\"I did not discuss this homework with anyone.\"__\n",
    "\n",
    "Even if you discuss questions with other, the code you submit must be only yours. All work is checked with the [MOSS plagiarism detector](https://theory.stanford.edu/~aiken/moss/)."
   ]
  },
  {
   "cell_type": "markdown",
   "metadata": {},
   "source": [
    "I discussed Problem 2 Part 2 with Zhengyang Shan, Problem 3 Part 2 with Zhengyang Shan, Wentao Xiong, Yiyang Zhang."
   ]
  },
  {
   "cell_type": "markdown",
   "metadata": {
    "deletable": false,
    "editable": false,
    "nbgrader": {
     "cell_type": "markdown",
     "checksum": "67d1cebd5332a880b36d813916b69dbe",
     "grade": false,
     "grade_id": "submission",
     "locked": true,
     "schema_version": 3,
     "solution": false,
     "task": false
    }
   },
   "source": [
    "## Submission Instructions\n",
    "Your homework solutions should be written entirely in this Jupyter notebook file. Once it contains your solutions, you should submit this notebook through Canvas. Before submitting, please make sure make sure __Cells->Run__ executes without errors; errors in your code cause problems for our auto-grader. Thus, even though we may ask you to check for errors in your functions, you should not include in your submission any examples of your functions actually raising those errors.\n",
    "\n",
    "## Nbgrader\n",
    "\n",
    "We will be using `nbgrader` to grade your jupyter notebook. Additional tests will be used at grading time, you are encouraged to read the problem carefully and verify your code covers all appropriate cases.\n",
    "\n",
    "**Be careful:** If a jupyter notebook cell takes longer than `60s` to run, the autograder will not grade it and you will receive zero credit for that question.\n",
    "\n",
    "## Error checking\n",
    "\n",
    "You do not need to do error checking (raising errors, etc.) in your code unless we explicitly ask you to so in a problem."
   ]
  },
  {
   "cell_type": "markdown",
   "metadata": {
    "deletable": false,
    "editable": false,
    "nbgrader": {
     "cell_type": "markdown",
     "checksum": "99a4b1f52b2a51fd259655608d2d5669",
     "grade": false,
     "grade_id": "coding-style",
     "locked": true,
     "schema_version": 3,
     "solution": false,
     "task": false
    }
   },
   "source": [
    "## Coding style\n",
    "Please follow the [PEP8 guidelines](https://www.python.org/dev/peps/pep-0008/). The `pycodestyle_magic` package will remind you if you are not. To install it, run\n",
    "```\n",
    "pip install flake8 pycodestyle_magic\n",
    "```\n",
    "Once it is installed the following two Jupyter directives will enable syntax checking:"
   ]
  },
  {
   "cell_type": "code",
   "execution_count": 127,
   "metadata": {
    "deletable": false,
    "editable": false,
    "nbgrader": {
     "cell_type": "code",
     "checksum": "adc2dd72889f65739158011373320c9e",
     "grade": false,
     "grade_id": "cell-7311e8da28736726",
     "locked": true,
     "schema_version": 3,
     "solution": false,
     "task": false
    }
   },
   "outputs": [
    {
     "name": "stdout",
     "output_type": "stream",
     "text": [
      "The pycodestyle_magic extension is already loaded. To reload it, use:\n",
      "  %reload_ext pycodestyle_magic\n"
     ]
    }
   ],
   "source": [
    "%load_ext pycodestyle_magic\n",
    "%flake8_on --ignore E266 --max_line_length=99"
   ]
  },
  {
   "cell_type": "markdown",
   "metadata": {
    "deletable": false,
    "editable": false,
    "nbgrader": {
     "cell_type": "markdown",
     "checksum": "28a763d0876a8e4af9f6c999db19cfb7",
     "grade": false,
     "grade_id": "cell-05fdbcbd6a551279",
     "locked": true,
     "schema_version": 3,
     "solution": false,
     "task": false
    }
   },
   "source": [
    "## 1 Regular Expressions: Warmup (10 points)\n",
    "\n",
    "In this problem, you'll get practice with basic regular expressions. Pay particular attention to edge cases such as the empty string and single-character strings when writing your regexes. At the URL http://www.greenteapress.com/thinkpython/code/words.txt is a list of about 100,000 English words.\n",
    "\n",
    "**Note:** For this problem, you can assume all characters/words are lower-case. "
   ]
  },
  {
   "cell_type": "markdown",
   "metadata": {
    "deletable": false,
    "editable": false,
    "nbgrader": {
     "cell_type": "markdown",
     "checksum": "a274bfdd2ebe946cc181f0988f9a1af0",
     "grade": false,
     "grade_id": "cell-89ef2c7b16a663de",
     "locked": true,
     "schema_version": 3,
     "solution": false,
     "task": false
    }
   },
   "source": [
    "### Part 1 (1 point) \n",
    "Use the `urllib` python module to open the URL and read the file, and produce a list named `ascii_list` of ASCII strings so that each line of the file corresponds to an element of the list. "
   ]
  },
  {
   "cell_type": "code",
   "execution_count": 128,
   "metadata": {
    "deletable": false,
    "nbgrader": {
     "cell_type": "code",
     "checksum": "220d2aa9691242eda7a295a6e6c393fe",
     "grade": false,
     "grade_id": "cell-a0aba8b2f9988a7b",
     "locked": false,
     "schema_version": 3,
     "solution": true,
     "task": false
    }
   },
   "outputs": [],
   "source": [
    "import urllib.request\n",
    "import re\n",
    "from urllib.request import urlopen\n",
    "\n",
    "response = urlopen(\"http://www.greenteapress.com/thinkpython/code/words.txt\")\n",
    "ascii_list = []\n",
    "for item in response:\n",
    "    item = item.strip(b'\\r\\n')\n",
    "    ascii_list.append(item)"
   ]
  },
  {
   "cell_type": "code",
   "execution_count": 129,
   "metadata": {
    "deletable": false,
    "editable": false,
    "nbgrader": {
     "cell_type": "code",
     "checksum": "dbf5272892dc063a458d9f83bc2d011f",
     "grade": true,
     "grade_id": "cell-0d008655e95238cb",
     "locked": true,
     "points": 1,
     "schema_version": 3,
     "solution": false,
     "task": false
    }
   },
   "outputs": [],
   "source": [
    "assert type(ascii_list) == list, \"Variable ascii_list does not \\\n",
    "                                  exist or not a list.\"\n",
    "assert isinstance(ascii_list[0], bytes)\n",
    "assert ascii_list[0] == b'aa'\n",
    "assert len(ascii_list) == 113809"
   ]
  },
  {
   "cell_type": "markdown",
   "metadata": {
    "deletable": false,
    "editable": false,
    "nbgrader": {
     "cell_type": "markdown",
     "checksum": "4dc0c44202272fab89e3ad92f2559c59",
     "grade": false,
     "grade_id": "cell-6d4da480ac49bb72",
     "locked": true,
     "schema_version": 3,
     "solution": false,
     "task": false
    }
   },
   "source": [
    "### Part 2 (1 point) \n",
    "Each element of the `ascii_list` you produced in the previous problem is a byte string.\n",
    "Convert each element of `ascii_list` to a regular string and store the output as `word_list`."
   ]
  },
  {
   "cell_type": "code",
   "execution_count": 130,
   "metadata": {
    "deletable": false,
    "nbgrader": {
     "cell_type": "code",
     "checksum": "b1098d3d18bdf9d04256130895499f40",
     "grade": false,
     "grade_id": "cell-232c4a74e8edb4d1",
     "locked": false,
     "schema_version": 3,
     "solution": true,
     "task": false
    }
   },
   "outputs": [],
   "source": [
    "word_list = [item.decode('ascii') for item in ascii_list]"
   ]
  },
  {
   "cell_type": "code",
   "execution_count": 131,
   "metadata": {
    "deletable": false,
    "editable": false,
    "nbgrader": {
     "cell_type": "code",
     "checksum": "98dfa7f35251896b83f7db5065cf68a3",
     "grade": true,
     "grade_id": "cell-b1cd5d3b26cbc441",
     "locked": true,
     "points": 1,
     "schema_version": 3,
     "solution": false,
     "task": false
    }
   },
   "outputs": [],
   "source": [
    "assert len(ascii_list) == len(word_list)\n",
    "assert word_list[0] == 'aa'\n",
    "assert isinstance(word_list[5], str)"
   ]
  },
  {
   "cell_type": "markdown",
   "metadata": {
    "deletable": false,
    "editable": false,
    "nbgrader": {
     "cell_type": "markdown",
     "checksum": "fa8f0526ee8c94e3e3d5d62442e206a7",
     "grade": false,
     "grade_id": "cell-70f58d8785a59034",
     "locked": true,
     "schema_version": 3,
     "solution": false,
     "task": false
    }
   },
   "source": [
    "### Part 3 (2 points)\n",
    "Write a regular expression that matches any string containing exactly three consecutive vowels. Compile this regular expression, and assign it to a variable called `three_consecutive_vowels`. The compiled regular expression should match and return the whole word.\n",
    "\n",
    "Use this regex to determine the words in `word_list` which contain exactly three consecutive vowels. For the purposes of this **specific** subproblem, the vowels are \"a, e, i, o, u\". All other letters are consonants. Produce a list `q1_3` of all such words."
   ]
  },
  {
   "cell_type": "code",
   "execution_count": 132,
   "metadata": {
    "deletable": false,
    "nbgrader": {
     "cell_type": "code",
     "checksum": "a3098a026566186cdf2d53cd9b7334a4",
     "grade": false,
     "grade_id": "cell-438a47acf51d9852",
     "locked": false,
     "schema_version": 3,
     "solution": true,
     "task": false
    }
   },
   "outputs": [],
   "source": [
    "three_consecutive_vowels = re.compile(r'[aeiou]{3}')\n",
    "three_consecutive_vowels\n",
    "q1_3 = []\n",
    "for item in word_list:\n",
    "    if re.search(three_consecutive_vowels, item) is not None:\n",
    "        q1_3.append(item)"
   ]
  },
  {
   "cell_type": "code",
   "execution_count": 133,
   "metadata": {
    "deletable": false,
    "editable": false,
    "nbgrader": {
     "cell_type": "code",
     "checksum": "633db5e588fd4b54c4cfc02e18a1c14b",
     "grade": true,
     "grade_id": "cell-e4aa7890a4bcfcb5",
     "locked": true,
     "points": 1,
     "schema_version": 3,
     "solution": false,
     "task": false
    }
   },
   "outputs": [],
   "source": [
    "assert q1_3[0] == 'aboideau'\n",
    "assert q1_3[-1] == 'zouaves'"
   ]
  },
  {
   "cell_type": "code",
   "execution_count": 134,
   "metadata": {
    "deletable": false,
    "editable": false,
    "nbgrader": {
     "cell_type": "code",
     "checksum": "8829f59c5594e7552aea0133cf8e9477",
     "grade": true,
     "grade_id": "cell-ad89d2e5664ed4a1",
     "locked": true,
     "points": 1,
     "schema_version": 3,
     "solution": false,
     "task": false
    }
   },
   "outputs": [],
   "source": [
    "assert three_consecutive_vowels.match(\"aei\").group(0) == \"aei\""
   ]
  },
  {
   "cell_type": "markdown",
   "metadata": {
    "deletable": false,
    "editable": false,
    "nbgrader": {
     "cell_type": "markdown",
     "checksum": "b135a1408f5f2e797f11e016cf732567",
     "grade": false,
     "grade_id": "cell-ff0645c1403a18ef",
     "locked": true,
     "schema_version": 3,
     "solution": false,
     "task": false
    }
   },
   "source": [
    "### Part 4  (2 point) \n",
    "Write a regular expression that matches any lowercase alphanumeric string  which does not contain the letter 'e'. Compile this regular expression, and assign it to a variable called `gadsby`. (\"Gadsby\" is the title of an English novel written in the 1930s that contains __almost__ no instances of the letter \"e\"). \n",
    "\n",
    "How many words in `word_list` do not contain the letter \"e\"? Enter your answer as a variable called `num_words_no_e`.\n",
    "\n",
    "**Note:** A lowercase alphanumeric string consists of only lower-case letters and digits. You can assume this is the only input your regular expression will receive."
   ]
  },
  {
   "cell_type": "code",
   "execution_count": 135,
   "metadata": {
    "deletable": false,
    "nbgrader": {
     "cell_type": "code",
     "checksum": "6bba4eae5c09c5d459b734f3f3244987",
     "grade": false,
     "grade_id": "cell-0d5a69a9d7b78b42",
     "locked": false,
     "schema_version": 3,
     "solution": true,
     "task": false
    }
   },
   "outputs": [
    {
     "data": {
      "text/plain": [
       "37641"
      ]
     },
     "execution_count": 135,
     "metadata": {},
     "output_type": "execute_result"
    }
   ],
   "source": [
    "# Create your variable 'gadsby' here.\n",
    "gadsby = re.compile(r'^[^e]*$')\n",
    "num_words_no_e = 0\n",
    "for item in word_list:\n",
    "    if re.search(gadsby, item) is not None:\n",
    "        num_words_no_e += 1\n",
    "num_words_no_e"
   ]
  },
  {
   "cell_type": "code",
   "execution_count": 136,
   "metadata": {
    "deletable": false,
    "editable": false,
    "nbgrader": {
     "cell_type": "code",
     "checksum": "82f040bcc3119da9414a22fb56bf0c94",
     "grade": true,
     "grade_id": "cell-2bf17210c874ff96",
     "locked": true,
     "points": 1,
     "schema_version": 3,
     "solution": false,
     "task": false
    }
   },
   "outputs": [],
   "source": [
    "assert gadsby.match(\"stats\").group(0) == 'stats'\n",
    "assert gadsby.match(\"state\") is None"
   ]
  },
  {
   "cell_type": "code",
   "execution_count": 137,
   "metadata": {
    "deletable": false,
    "editable": false,
    "nbgrader": {
     "cell_type": "code",
     "checksum": "16483b47b0389a757799cf94826f030b",
     "grade": true,
     "grade_id": "cell-6fe115d6cdbced12",
     "locked": true,
     "points": 1,
     "schema_version": 3,
     "solution": false,
     "task": false
    }
   },
   "outputs": [],
   "source": [
    "assert type(num_words_no_e) == int\n",
    "assert num_words_no_e > 0"
   ]
  },
  {
   "cell_type": "markdown",
   "metadata": {
    "deletable": false,
    "editable": false,
    "nbgrader": {
     "cell_type": "markdown",
     "checksum": "7259a273577424b44dfc9593a3f79d9a",
     "grade": false,
     "grade_id": "cell-08ed7b4c8d0a61c4",
     "locked": true,
     "schema_version": 3,
     "solution": false,
     "task": false
    }
   },
   "source": [
    "### Part 5 (2 points)\n",
    "\n",
    "Write a regular expression that matches any string that begins and ends with a consonant and has no consonants in between. \n",
    "For the purposes of this __specific__ subproblem, \"y\" is neither a consonant nor vowel, so consonants are the 20 letters that are not one of \"a, e, i, o, u, y\" and vowels are \"a, e, i, o, u\". \n",
    "\n",
    "The words need not begin and end with the _same_ consonant, so 'door' is a valid match. Compile this regular expression, and assign it to a variable called `consonant_consonant`. \n",
    "\n",
    "How many words in `word_list` begin and end with a consonant with no consonants in between? Assign this answer to a variable `num_words_consonants`"
   ]
  },
  {
   "cell_type": "code",
   "execution_count": 138,
   "metadata": {
    "deletable": false,
    "nbgrader": {
     "cell_type": "code",
     "checksum": "1d992c044272c6fa5e036d582ab82332",
     "grade": false,
     "grade_id": "cell-7a11ee912d6ade8e",
     "locked": false,
     "schema_version": 3,
     "solution": true,
     "task": false
    }
   },
   "outputs": [
    {
     "data": {
      "text/plain": [
       "1106"
      ]
     },
     "execution_count": 138,
     "metadata": {},
     "output_type": "execute_result"
    }
   ],
   "source": [
    "# create your variables 'consonant_consonant' and `num_words_consonants` here.\n",
    "consonant_consonant = re.compile(r'^[^aeiouy]{1}[aeiou]*[^aeiouy]{1}$')\n",
    "num_words_consonants = 0\n",
    "for item in word_list:\n",
    "    if re.search(consonant_consonant, item) is not None:\n",
    "        num_words_consonants += 1\n",
    "num_words_consonants"
   ]
  },
  {
   "cell_type": "code",
   "execution_count": 139,
   "metadata": {
    "deletable": false,
    "editable": false,
    "nbgrader": {
     "cell_type": "code",
     "checksum": "7978a725b19f15621bc96f657445b865",
     "grade": true,
     "grade_id": "cell-0c55b19997db9a14",
     "locked": true,
     "points": 1,
     "schema_version": 3,
     "solution": false,
     "task": false
    }
   },
   "outputs": [],
   "source": [
    "assert consonant_consonant.match(\"door\").group(0) == 'door'\n",
    "assert consonant_consonant.match(\"bb\").group(0) == \"bb\"\n",
    "assert consonant_consonant.match(\"aaabaaa\") is None\n",
    "assert consonant_consonant.match(\"stats\") is None\n",
    "assert consonant_consonant.match(\"by\") is None"
   ]
  },
  {
   "cell_type": "code",
   "execution_count": 140,
   "metadata": {
    "deletable": false,
    "editable": false,
    "nbgrader": {
     "cell_type": "code",
     "checksum": "73e2e5dce3ede8167ee51740fb7f2069",
     "grade": true,
     "grade_id": "cell-f2393d4ff60240f2",
     "locked": true,
     "points": 1,
     "schema_version": 3,
     "solution": false,
     "task": false
    }
   },
   "outputs": [],
   "source": [
    "assert type(num_words_consonants) == int\n",
    "assert num_words_consonants > 0"
   ]
  },
  {
   "cell_type": "markdown",
   "metadata": {
    "deletable": false,
    "editable": false,
    "nbgrader": {
     "cell_type": "markdown",
     "checksum": "99764cafd724a33857cd54a397614b90",
     "grade": false,
     "grade_id": "cell-c1f7402679082a29",
     "locked": true,
     "schema_version": 3,
     "solution": false,
     "task": false
    }
   },
   "source": [
    "### Part 6  (2 points)\n",
    "Write a regular expression that matches any string whose last two characters are the first two characters in reverse order. So, for example, your regex should match \"repeater\" and \"stats\", but not \"neoprene\". Compile this regular expression and assign it to a variable called `bookends`. \n",
    "\n",
    "How many words in `word_list` have this property? Assign this number to a variable `num_words_bookends`\n",
    "\n",
    "__Note:__ Your regex should NOT match cases where the word has a length of 3 or less. "
   ]
  },
  {
   "cell_type": "code",
   "execution_count": 141,
   "metadata": {
    "deletable": false,
    "nbgrader": {
     "cell_type": "code",
     "checksum": "fa563207824b18f06c920732d632b5e5",
     "grade": false,
     "grade_id": "cell-a6983727569760ac",
     "locked": false,
     "schema_version": 3,
     "solution": true,
     "task": false
    }
   },
   "outputs": [
    {
     "data": {
      "text/plain": [
       "840"
      ]
     },
     "execution_count": 141,
     "metadata": {},
     "output_type": "execute_result"
    }
   ],
   "source": [
    "bookends = re.compile(r'^(\\S)(\\S).*\\2\\1$')\n",
    "num_words_bookends = 0\n",
    "for item in word_list:\n",
    "    if re.search(bookends, item) is not None:\n",
    "        num_words_bookends += 1\n",
    "num_words_bookends"
   ]
  },
  {
   "cell_type": "code",
   "execution_count": 142,
   "metadata": {
    "deletable": false,
    "editable": false,
    "nbgrader": {
     "cell_type": "code",
     "checksum": "1c60bb7fc64e8e07a10786427ee8ae09",
     "grade": true,
     "grade_id": "cell-596b63551ef1fbd4",
     "locked": true,
     "points": 1,
     "schema_version": 3,
     "solution": false,
     "task": false
    }
   },
   "outputs": [],
   "source": [
    "assert bookends.match(\"repeater\").group(0) == 'repeater'\n",
    "assert bookends.match(\"stats\").group(0) == 'stats'\n",
    "assert bookends.match(\"fallinaf\").group(0) == 'fallinaf'\n",
    "\n",
    "assert bookends.match(\"neoprene\") is None\n",
    "assert bookends.match(\"afa\") is None"
   ]
  },
  {
   "cell_type": "code",
   "execution_count": 143,
   "metadata": {
    "deletable": false,
    "editable": false,
    "nbgrader": {
     "cell_type": "code",
     "checksum": "e072d8c34fd382b2a4d2e8c8a576ffa7",
     "grade": true,
     "grade_id": "cell-9352a33a43e8dca5",
     "locked": true,
     "points": 1,
     "schema_version": 3,
     "solution": false,
     "task": false
    }
   },
   "outputs": [],
   "source": [
    "assert num_words_bookends > 0\n",
    "assert type(num_words_bookends) == int"
   ]
  },
  {
   "cell_type": "markdown",
   "metadata": {
    "deletable": false,
    "editable": false,
    "nbgrader": {
     "cell_type": "markdown",
     "checksum": "9ecb801e821792293e3a2ffede073647",
     "grade": false,
     "grade_id": "cell-f66c1ee9209824f5",
     "locked": true,
     "schema_version": 3,
     "solution": false,
     "task": false
    }
   },
   "source": [
    "## 2 Exploring Internet Traffic with Regexes (6 points)\n",
    "\n",
    "In this problem, you'll get a taste of a more realistic application of regular expressions. The file `SkypeIRC.txt` (which was included along with this homework in `hw7.zip`) contains data generated by web traffic associated with Skype and IRC, captured using the Wireshark program, a common tool for analyzing web traffic. "
   ]
  },
  {
   "cell_type": "markdown",
   "metadata": {
    "deletable": false,
    "editable": false,
    "nbgrader": {
     "cell_type": "markdown",
     "checksum": "2130fb6782cf95c3c6bd7dd3a653fcea",
     "grade": false,
     "grade_id": "cell-e55690a7c723d04c",
     "locked": true,
     "schema_version": 3,
     "solution": false,
     "task": false
    }
   },
   "source": [
    "### Part 1 (1 point) \n",
    "\n",
    "Open the file `SkypeIRC.txt` and read its contents into a string. Each line of this file corresponds to a single packet sent over the internet. Save a list containing each packet into a variable called `packets`.\n",
    "\n",
    "How many packets are in this file? Save the answer in a variable `n_packets`. "
   ]
  },
  {
   "cell_type": "code",
   "execution_count": 144,
   "metadata": {
    "deletable": false,
    "nbgrader": {
     "cell_type": "code",
     "checksum": "bdb75772342cd877e4002a9896daa513",
     "grade": false,
     "grade_id": "cell-5570fccf90767335",
     "locked": false,
     "schema_version": 3,
     "solution": true,
     "task": false
    }
   },
   "outputs": [
    {
     "data": {
      "text/plain": [
       "['1   0.000000  192.168.1.2 → 212.204.214.114 IRC 96 Request (ISON)',\n",
       " '2   0.125852 212.204.214.114 → 192.168.1.2  TCP 66 6667 → 2848 [ACK] Seq=1 Ack=31 Win=57890 Len=0 TSval=2196036564 TSecr=14215752',\n",
       " '3   0.137361 212.204.214.114 → 192.168.1.2  IRC 112 Response (303)',\n",
       " '4   0.137413  192.168.1.2 → 212.204.214.114 TCP 66 2848 → 6667 [ACK] Seq=31 Ack=47 Win=8011 Len=0 TSval=14215889 TSecr=2196036565',\n",
       " '5   0.235960  192.168.1.2 → 192.168.1.1  DNS 84 Standard query 0x311f PTR 2.1.168.192.in-addr.arpa',\n",
       " '6   0.236116  192.168.1.2 → 192.168.1.1  DNS 88 Standard query 0x3120 PTR 114.214.204.212.in-addr.arpa',\n",
       " '7   0.270252  192.168.1.1 → 192.168.1.2  DNS 84 Standard query response 0x311f PTR 2.1.168.192.in-addr.arpa',\n",
       " '8   0.294105  192.168.1.1 → 192.168.1.2  DNS 123 Standard query response 0x3120 PTR 114.214.204.212.in-addr.arpa PTR sterling.freenode.net',\n",
       " '9   0.985963  192.168.1.2 → 192.168.1.1  DNS 81 Standard query 0x3121 A sterling.freenode.net',\n",
       " '10   0.988328  192.168.1.1 → 192.168.1.2  DNS 97 Standard query response 0x3121 A sterling.freenode.net A 212.204.214.114',\n",
       " '11   1.735567  192.168.1.2 → 192.168.1.1  DNS 84 Standard query 0x3122 PTR 1.1.168.192.in-addr.arpa',\n",
       " '12   1.737982  192.168.1.1 → 192.168.1.2  DNS 110 Standard query response 0x3122 PTR 1.1.168.192.in-addr.arpa PTR voyager.home',\n",
       " '13   2.485441  192.168.1.2 → 192.168.1.1  DNS 72 Standard query 0x3123 A voyager.home',\n",
       " '14   2.487702  192.168.1.1 → 192.168.1.2  DNS 88 Standard query response 0x3123 A voyager.home A 192.168.1.1',\n",
       " '15   3.343603 71.10.179.129 → 192.168.1.2  TCP 93 14232 → 4026 [PSH, ACK] Seq=1 Ack=1 Win=63807 Len=27 TSval=1887947 TSecr=14211796',\n",
       " '16   3.343657  192.168.1.2 → 71.10.179.129 TCP 66 4026 → 14232 [ACK] Seq=1 Ack=28 Win=742 Len=0 TSval=14219096 TSecr=1887947',\n",
       " '17   3.542328  192.168.1.2 → 71.10.179.129 TCP 90 4026 → 14232 [PSH, ACK] Seq=1 Ack=28 Win=768 Len=24 TSval=14219295 TSecr=1887947',\n",
       " '18   3.563622 212.204.214.114 → 192.168.1.2  IRC 157 Response (PRIVMSG)',\n",
       " '19   3.563675  192.168.1.2 → 212.204.214.114 TCP 66 2848 → 6667 [ACK] Seq=31 Ack=138 Win=8011 Len=0 TSval=14219316 TSecr=2196036907',\n",
       " '20   3.835582 71.10.179.129 → 192.168.1.2  TCP 66 14232 → 4026 [ACK] Seq=28 Ack=25 Win=63783 Len=0 TSval=1887953 TSecr=14219295',\n",
       " '21   3.985200  192.168.1.2 → 192.168.1.1  DNS 86 Standard query 0x3124 PTR 129.179.10.71.in-addr.arpa',\n",
       " '22   4.246622  192.168.1.1 → 192.168.1.2  DNS 138 Standard query response 0x3124 PTR 129.179.10.71.in-addr.arpa PTR 71-10-179-129.dhcp.stls.mo.charter.com',\n",
       " '23   4.555073 172.200.160.242 → 192.168.1.2  TCP 108 11352 → 4984 [PSH, ACK] Seq=1 Ack=1 Win=65127 Len=42 TSval=1744627 TSecr=14208134',\n",
       " '24   4.555122  192.168.1.2 → 172.200.160.242 TCP 66 4984 → 11352 [ACK] Seq=1 Ack=43 Win=747 Len=0 TSval=14220308 TSecr=1744627',\n",
       " '25   4.735117  192.168.1.2 → 192.168.1.1  DNS 88 Standard query 0x3125 PTR 242.160.200.172.in-addr.arpa',\n",
       " '26   4.735183  192.168.1.2 → 192.168.1.1  DNS 98 Standard query 0x3126 A 71-10-179-129.dhcp.stls.mo.charter.com',\n",
       " '27   4.743793  192.168.1.1 → 192.168.1.2  DNS 114 Standard query response 0x3126 A 71-10-179-129.dhcp.stls.mo.charter.com A 71.10.179.129',\n",
       " '28   4.844321  192.168.1.1 → 192.168.1.2  DNS 122 Standard query response 0x3125 PTR 242.160.200.172.in-addr.arpa PTR ACC8A0F2.ipt.aol.com',\n",
       " '29   5.485025  192.168.1.2 → 192.168.1.1  DNS 80 Standard query 0x3127 A ACC8A0F2.ipt.aol.com',\n",
       " '30   5.487428  192.168.1.1 → 192.168.1.2  DNS 96 Standard query response 0x3127 A ACC8A0F2.ipt.aol.com A 172.200.160.242',\n",
       " '31   5.839974 212.204.214.114 → 192.168.1.2  IRC 136 Response (PRIVMSG)',\n",
       " '32   5.840024  192.168.1.2 → 212.204.214.114 TCP 66 2848 → 6667 [ACK] Seq=31 Ack=208 Win=8011 Len=0 TSval=14221593 TSecr=2196037135',\n",
       " '33   8.052271 212.204.214.114 → 192.168.1.2  IRC 143 Response (PRIVMSG)',\n",
       " '34   8.052316  192.168.1.2 → 212.204.214.114 TCP 66 2848 → 6667 [ACK] Seq=31 Ack=285 Win=8011 Len=0 TSval=14223805 TSecr=2196037356',\n",
       " '35   9.261266 71.10.179.129 → 192.168.1.2  TCP 111 14232 → 4026 [PSH, ACK] Seq=28 Ack=25 Win=63783 Len=45 TSval=1888007 TSecr=14219295',\n",
       " '36   9.261328  192.168.1.2 → 71.10.179.129 TCP 66 4026 → 14232 [ACK] Seq=25 Ack=73 Win=762 Len=0 TSval=14225014 TSecr=1888007',\n",
       " '37  10.650161 3Com_96:7b:da → Broadcast    AoE 32 Query Config Information Request',\n",
       " '38  12.894007 86.128.100.24 → 192.168.1.2  TCP 78 2029 → 135 [SYN] Seq=0 Win=53760 Len=0 MSS=1452 WS=8 TSval=0 TSecr=0 SACK_PERM=1',\n",
       " '39  12.894075  192.168.1.2 → 86.128.100.24 TCP 54 135 → 2029 [RST, ACK] Seq=1 Ack=1 Win=0 Len=0',\n",
       " '40  12.941784 172.200.160.242 → 192.168.1.2  TCP 93 11352 → 4984 [PSH, ACK] Seq=43 Ack=1 Win=65127 Len=27 TSval=1744712 TSecr=14220308',\n",
       " '41  12.941834  192.168.1.2 → 172.200.160.242 TCP 66 4984 → 11352 [ACK] Seq=1 Ack=70 Win=744 Len=0 TSval=14228696 TSecr=1744712',\n",
       " '42  12.983830  192.168.1.2 → 192.168.1.1  DNS 86 Standard query 0x3128 PTR 24.100.128.86.in-addr.arpa',\n",
       " '43  13.015618  192.168.1.1 → 192.168.1.2  DNS 147 Standard query response 0x3128 PTR 24.100.128.86.in-addr.arpa PTR host86-128-100-24.range86-128.btcentralplus.com',\n",
       " '44  13.140851  192.168.1.2 → 172.200.160.242 TCP 90 4984 → 11352 [PSH, ACK] Seq=1 Ack=70 Win=768 Len=24 TSval=14228895 TSecr=1744712',\n",
       " '45  13.409946 172.200.160.242 → 192.168.1.2  TCP 66 11352 → 4984 [ACK] Seq=70 Ack=25 Win=65103 Len=0 TSval=1744717 TSecr=14228895',\n",
       " '46  13.410436 68.95.198.126 → 192.168.1.2  TCP 73 1928 → 2996 [PSH, ACK] Seq=1 Ack=1 Win=65419 Len=7 TSval=71317 TSecr=14133959',\n",
       " '47  13.410471  192.168.1.2 → 68.95.198.126 TCP 66 2996 → 1928 [ACK] Seq=1 Ack=8 Win=1452 Len=0 TSval=14229164 TSecr=71317',\n",
       " '48  13.733730  192.168.1.2 → 192.168.1.1  DNS 107 Standard query 0x3129 A host86-128-100-24.range86-128.btcentralplus.com',\n",
       " '49  13.736371  192.168.1.1 → 192.168.1.2  DNS 123 Standard query response 0x3129 A host86-128-100-24.range86-128.btcentralplus.com A 86.128.100.24',\n",
       " '50  13.934761 86.128.187.110 → 192.168.1.2  TCP 62 4048 → 139 [SYN] Seq=0 Win=65535 Len=0 MSS=1452 SACK_PERM=1',\n",
       " '51  13.934833  192.168.1.2 → 86.128.187.110 TCP 54 139 → 4048 [RST, ACK] Seq=1 Ack=1 Win=0 Len=0',\n",
       " '52  14.308410 24.177.122.79 → 192.168.1.2  ASAP 91 Unknown ASAP type [Packet size limited during capture]',\n",
       " '53  14.308461  192.168.1.2 → 24.177.122.79 TCP 66 3863 → 8022 [ACK] Seq=1 Ack=26 Win=764 Len=0 TSval=14230062 TSecr=3339898',\n",
       " '54  14.507644  192.168.1.2 → 24.177.122.79 ASAP 91 Unknown ASAP type [Packet size limited during capture]',\n",
       " '55  14.800928 24.177.122.79 → 192.168.1.2  TCP 66 8022 → 3863 [ACK] Seq=26 Ack=26 Win=16296 Len=0 TSval=3339904 TSecr=14230262',\n",
       " '56  14.860289 212.204.214.114 → 192.168.1.2  IRC 132 Response (PRIVMSG)',\n",
       " '57  14.860338  192.168.1.2 → 212.204.214.114 TCP 66 2848 → 6667 [ACK] Seq=31 Ack=351 Win=8011 Len=0 TSval=14230614 TSecr=2196038037',\n",
       " '58  15.233520  192.168.1.2 → 192.168.1.1  DNS 86 Standard query 0x312a PTR 126.198.95.68.in-addr.arpa',\n",
       " '59  15.233581  192.168.1.2 → 192.168.1.1  DNS 87 Standard query 0x312b PTR 110.187.128.86.in-addr.arpa',\n",
       " '60  15.233608  192.168.1.2 → 192.168.1.1  DNS 86 Standard query 0x312c PTR 79.122.177.24.in-addr.arpa',\n",
       " '61  15.273294  192.168.1.1 → 192.168.1.2  DNS 149 Standard query response 0x312b PTR 110.187.128.86.in-addr.arpa PTR host86-128-187-110.range86-128.btcentralplus.com',\n",
       " '62  15.441443  192.168.1.1 → 192.168.1.2  DNS 143 Standard query response 0x312a PTR 126.198.95.68.in-addr.arpa PTR adsl-68-95-198-126.dsl.wlfrct.sbcglobal.net',\n",
       " '63  15.465692  192.168.1.1 → 192.168.1.2  DNS 138 Standard query response 0x312c PTR 79.122.177.24.in-addr.arpa PTR 24-177-122-79.dhcp.mdsn.wi.charter.com',\n",
       " '64  15.510644  192.168.1.2 → 212.204.214.114 IRC 82 Request (WHO)',\n",
       " '65  15.635477 212.204.214.114 → 192.168.1.2  TCP 66 6667 → 2848 [ACK] Seq=351 Ack=47 Win=57904 Len=0 TSval=2196038115 TSecr=14231265',\n",
       " '66  15.680903 212.204.214.114 → 192.168.1.2  IRC 1090 Response (352) (352) (352) (352) (352) (352) (352) (352)',\n",
       " '67  15.680936  192.168.1.2 → 212.204.214.114 TCP 66 2848 → 6667 [ACK] Seq=47 Ack=1375 Win=8011 Len=0 TSval=14231435 TSecr=2196038119',\n",
       " '68  15.719610 212.204.214.114 → 192.168.1.2  IRC 1152 Response (aul) (352) (352) (352) (352) (352) (352) (352) (352) (315)',\n",
       " '69  15.719647  192.168.1.2 → 212.204.214.114 TCP 66 2848 → 6667 [ACK] Seq=47 Ack=2461 Win=8011 Len=0 TSval=14231474 TSecr=2196038122',\n",
       " '70  15.990754  192.168.1.2 → 192.168.1.1  DNS 108 Standard query 0x312d A host86-128-187-110.range86-128.btcentralplus.com',\n",
       " '71  15.990820  192.168.1.2 → 192.168.1.1  DNS 103 Standard query 0x312e A adsl-68-95-198-126.dsl.wlfrct.sbcglobal.net',\n",
       " '72  15.990854  192.168.1.2 → 192.168.1.1  DNS 98 Standard query 0x312f A 24-177-122-79.dhcp.mdsn.wi.charter.com',\n",
       " '73  15.993707  192.168.1.1 → 192.168.1.2  DNS 124 Standard query response 0x312d A host86-128-187-110.range86-128.btcentralplus.com A 86.128.187.110',\n",
       " '74  15.996119  192.168.1.1 → 192.168.1.2  DNS 119 Standard query response 0x312e A adsl-68-95-198-126.dsl.wlfrct.sbcglobal.net A 68.95.198.126',\n",
       " '75  15.998392  192.168.1.1 → 192.168.1.2  DNS 114 Standard query response 0x312f A 24-177-122-79.dhcp.mdsn.wi.charter.com A 24.177.122.79',\n",
       " '76  16.497352 212.204.214.114 → 192.168.1.2  IRC 160 Response (PRIVMSG)',\n",
       " '77  16.497407  192.168.1.2 → 212.204.214.114 TCP 66 2848 → 6667 [ACK] Seq=47 Ack=2555 Win=8011 Len=0 TSval=14232252 TSecr=2196038201',\n",
       " '78  16.616793 172.200.160.242 → 192.168.1.2  TCP 99 11352 → 4984 [PSH, ACK] Seq=70 Ack=25 Win=65103 Len=33 TSval=1744748 TSecr=14228895',\n",
       " '79  16.616850  192.168.1.2 → 172.200.160.242 TCP 66 4984 → 11352 [ACK] Seq=25 Ack=103 Win=763 Len=0 TSval=14232371 TSecr=1744748',\n",
       " '80  16.881600 86.128.187.110 → 192.168.1.2  TCP 62 [TCP Retransmission] 4048 → 139 [SYN] Seq=0 Win=65535 Len=0 MSS=1452 SACK_PERM=1',\n",
       " '81  16.881655  192.168.1.2 → 86.128.187.110 TCP 54 139 → 4048 [RST, ACK] Seq=1 Ack=1 Win=0 Len=0',\n",
       " '82  20.240865  192.168.1.2 → 212.204.214.114 IRC 96 Request (ISON)',\n",
       " '83  20.354439 212.204.214.114 → 192.168.1.2  IRC 112 Response (303)',\n",
       " '84  20.354491  192.168.1.2 → 212.204.214.114 TCP 66 2848 → 6667 [ACK] Seq=77 Ack=2601 Win=8011 Len=0 TSval=14236109 TSecr=2196038586',\n",
       " '85  21.353539 71.10.179.129 → 192.168.1.2  TCP 112 14232 → 4026 [PSH, ACK] Seq=73 Ack=25 Win=63783 Len=46 TSval=1888127 TSecr=14225014',\n",
       " '86  21.353587  192.168.1.2 → 71.10.179.129 TCP 66 4026 → 14232 [ACK] Seq=25 Ack=119 Win=756 Len=0 TSval=14237109 TSecr=1888127',\n",
       " '87  28.326676  192.168.1.2 → 68.32.70.119 TCP 70 3563 → 1215 [PSH, ACK] Seq=1 Ack=1 Win=864 Len=4 TSval=14244083 TSecr=14268207',\n",
       " '88  28.455768 68.32.70.119 → 192.168.1.2  TCP 82 1215 → 3563 [PSH, ACK] Seq=1 Ack=5 Win=16324 Len=16 TSval=14269405 TSecr=14244083',\n",
       " '89  28.455831  192.168.1.2 → 68.32.70.119 TCP 70 3563 → 1215 [PSH, ACK] Seq=5 Ack=17 Win=864 Len=4 TSval=14244212 TSecr=14269405',\n",
       " '90  28.637656 172.200.160.242 → 192.168.1.2  TCP 108 11352 → 4984 [PSH, ACK] Seq=103 Ack=25 Win=65103 Len=42 TSval=1744869 TSecr=14232371',\n",
       " '91  28.637705  192.168.1.2 → 172.200.160.242 TCP 66 4984 → 11352 [ACK] Seq=25 Ack=145 Win=758 Len=0 TSval=14244394 TSecr=1744869',\n",
       " '92  28.736442  192.168.1.2 → 192.168.1.1  DNS 85 Standard query 0x3130 PTR 119.70.32.68.in-addr.arpa',\n",
       " '93  28.765268 68.32.70.119 → 192.168.1.2  TCP 70 1215 → 3563 [PSH, ACK] Seq=17 Ack=9 Win=16320 Len=4 TSval=14269407 TSecr=14244212',\n",
       " '94  28.804379  192.168.1.2 → 68.32.70.119 TCP 66 3563 → 1215 [ACK] Seq=9 Ack=21 Win=864 Len=0 TSval=14244561 TSecr=14269407',\n",
       " '95  28.843010  192.168.1.1 → 192.168.1.2  DNS 133 Standard query response 0x3130 PTR 119.70.32.68.in-addr.arpa PTR c-68-32-70-119.hsd1.ga.comcast.net',\n",
       " '96  29.489652  192.168.1.2 → 192.168.1.1  DNS 94 Standard query 0x3131 A c-68-32-70-119.hsd1.ga.comcast.net',\n",
       " '97  29.492249  192.168.1.1 → 192.168.1.2  DNS 110 Standard query response 0x3131 A c-68-32-70-119.hsd1.ga.comcast.net A 68.32.70.119',\n",
       " '98  29.774411  192.168.1.2 → 71.10.179.129 TCP 92 4026 → 14232 [PSH, ACK] Seq=25 Ack=119 Win=768 Len=26 TSval=14245531 TSecr=1888127',\n",
       " '99  29.774446  192.168.1.2 → 172.200.160.242 TCP 92 4984 → 11352 [PSH, ACK] Seq=25 Ack=145 Win=768 Len=26 TSval=14245531 TSecr=1744869',\n",
       " '100  29.774464  192.168.1.2 → 24.177.122.79 ASAP 92 Unknown ASAP type [Packet size limited during capture]',\n",
       " '101  29.971776 172.200.160.242 → 192.168.1.2  TCP 66 11352 → 4984 [ACK] Seq=145 Ack=51 Win=65077 Len=0 TSval=1744883 TSecr=14245531',\n",
       " '102  30.050840 24.177.122.79 → 192.168.1.2  TCP 66 8022 → 3863 [ACK] Seq=26 Ack=52 Win=16270 Len=0 TSval=3340057 TSecr=14245531',\n",
       " '103  30.076690 71.10.179.129 → 192.168.1.2  TCP 66 14232 → 4026 [ACK] Seq=119 Ack=51 Win=63757 Len=0 TSval=1888215 TSecr=14245531',\n",
       " '104  31.422311 212.204.214.114 → 192.168.1.2  IRC 186 Response (PRIVMSG)',\n",
       " '105  31.422367  192.168.1.2 → 212.204.214.114 TCP 66 2848 → 6667 [ACK] Seq=77 Ack=2721 Win=8011 Len=0 TSval=14247179 TSecr=2196039693',\n",
       " '106  32.642907 212.204.214.114 → 192.168.1.2  IRC 171 Response (PRIVMSG)',\n",
       " '107  32.642957  192.168.1.2 → 212.204.214.114 TCP 66 2848 → 6667 [ACK] Seq=77 Ack=2826 Win=8011 Len=0 TSval=14248400 TSecr=2196039815',\n",
       " '108  33.935899 71.10.179.129 → 192.168.1.2  TCP 107 14232 → 4026 [PSH, ACK] Seq=119 Ack=51 Win=63757 Len=41 TSval=1888253 TSecr=14245531',\n",
       " '109  33.935953  192.168.1.2 → 71.10.179.129 TCP 66 4026 → 14232 [ACK] Seq=51 Ack=160 Win=762 Len=0 TSval=14249693 TSecr=1888253',\n",
       " '110  35.396949 24.177.122.79 → 192.168.1.2  ASAP 92 Unknown ASAP type [Packet size limited during capture]',\n",
       " '111  35.397001  192.168.1.2 → 24.177.122.79 TCP 66 3863 → 8022 [ACK] Seq=52 Ack=52 Win=764 Len=0 TSval=14251154 TSecr=3340109',\n",
       " '112  37.774119 212.204.214.114 → 192.168.1.2  IRC 144 Response (PRIVMSG)',\n",
       " '113  37.774166  192.168.1.2 → 212.204.214.114 TCP 66 2848 → 6667 [ACK] Seq=77 Ack=2904 Win=8011 Len=0 TSval=14253532 TSecr=2196040328',\n",
       " '114  38.217999  192.168.1.2 → 68.95.198.126 TCP 67 2996 → 1928 [PSH, ACK] Seq=1 Ack=8 Win=1452 Len=1 TSval=14253976 TSecr=71317',\n",
       " '115  38.440981 68.95.198.126 → 192.168.1.2  TCP 67 1928 → 2996 [PSH, ACK] Seq=8 Ack=2 Win=65418 Len=1 TSval=71567 TSecr=14253976',\n",
       " '116  38.441086  192.168.1.2 → 68.95.198.126 TCP 66 2996 → 1928 [ACK] Seq=2 Ack=9 Win=1452 Len=0 TSval=14254199 TSecr=71567',\n",
       " '117  38.501122  192.168.1.2 → 212.204.214.114 IRC 78 Request (WHO)',\n",
       " '118  38.634436 212.204.214.114 → 192.168.1.2  TCP 66 6667 → 2848 [ACK] Seq=2904 Ack=89 Win=57908 Len=0 TSval=2196040415 TSecr=14254259',\n",
       " '119  38.683169 212.204.214.114 → 192.168.1.2  IRC 1090 Response (352) (352) (352) (352) (352) (352) (352) (352)',\n",
       " '120  38.683226  192.168.1.2 → 212.204.214.114 TCP 66 2848 → 6667 [ACK] Seq=89 Ack=3928 Win=8011 Len=0 TSval=14254441 TSecr=2196040419',\n",
       " '121  38.689423 212.204.214.114 → 192.168.1.2  IRC 1514 Response (de.net) (352) (352) (352) (352) (352) (352) (352) (352) (352) (352) (352) (352)',\n",
       " '122  38.689474  192.168.1.2 → 212.204.214.114 TCP 66 2848 → 6667 [ACK] Seq=89 Ack=5376 Win=8011 Len=0 TSval=14254447 TSecr=2196040419',\n",
       " '123  38.722365 212.204.214.114 → 192.168.1.2  IRC 1514 Response (on) (352) (352) (352) (352) (352) (352) (352) (352) (352) (352) (352)',\n",
       " '124  38.722417  192.168.1.2 → 212.204.214.114 TCP 66 2848 → 6667 [ACK] Seq=89 Ack=6824 Win=8011 Len=0 TSval=14254480 TSecr=2196040423',\n",
       " '125  38.728295 212.204.214.114 → 192.168.1.2  IRC 1514 Response (pussinboots) (352) (352) (352) (352) (352) (352) (352) (352) (352) (352) (352) (352)',\n",
       " '126  38.728344  192.168.1.2 → 212.204.214.114 TCP 66 2848 → 6667 [ACK] Seq=89 Ack=8272 Win=8011 Len=0 TSval=14254486 TSecr=2196040423',\n",
       " '127  38.734163 212.204.214.114 → 192.168.1.2  IRC 1514 Response (freenode.net) (352) (352) (352) (352) (352) (352) (352) (352) (352) (352) (352)',\n",
       " '128  38.734208  192.168.1.2 → 212.204.214.114 TCP 66 2848 → 6667 [ACK] Seq=89 Ack=9720 Win=8011 Len=0 TSval=14254492 TSecr=2196040423',\n",
       " \"129  38.762244 212.204.214.114 → 192.168.1.2  IRC 1514 Response ('Realia') (352) (352) (352) (352) (352) (352) (352) (352) (352) (352) (352) (352)\",\n",
       " '130  38.762291  192.168.1.2 → 212.204.214.114 TCP 66 2848 → 6667 [ACK] Seq=89 Ack=11168 Win=8011 Len=0 TSval=14254520 TSecr=2196040427',\n",
       " '131  38.768156 212.204.214.114 → 192.168.1.2  IRC 1514 Response (t) (352) (352) (352) (352) (352) (352) (352) (352) (352) (352) (352) (352)',\n",
       " '132  38.768198  192.168.1.2 → 212.204.214.114 TCP 66 2848 → 6667 [ACK] Seq=89 Ack=12616 Win=8011 Len=0 TSval=14254526 TSecr=2196040427',\n",
       " '133  38.773838 212.204.214.114 → 192.168.1.2  IRC 1514 Response (irc.freenode.net) (352) (352) (352) (352) (352) (352) (352) (352) (352) (352) (352)',\n",
       " '134  38.773887  192.168.1.2 → 212.204.214.114 TCP 66 2848 → 6667 [ACK] Seq=89 Ack=14064 Win=8011 Len=0 TSval=14254532 TSecr=2196040428',\n",
       " '135  38.779754 212.204.214.114 → 192.168.1.2  IRC 1514 Response (g.freenode.net) (352) (352) (352) (352) (352) (352) (352) (352) (352) (352) (352) (352)',\n",
       " '136  38.779793  192.168.1.2 → 212.204.214.114 TCP 66 2848 → 6667 [ACK] Seq=89 Ack=15512 Win=8011 Len=0 TSval=14254537 TSecr=2196040428',\n",
       " '137  38.801683 212.204.214.114 → 192.168.1.2  IRC 1514 Response (-183.winn.adsl.virgin.net) (352) (352) (352) (352) (352) (352) (352) (352) (352) (352) (352) (352) (352)',\n",
       " '138  38.801733  192.168.1.2 → 212.204.214.114 TCP 66 2848 → 6667 [ACK] Seq=89 Ack=16960 Win=8011 Len=0 TSval=14254559 TSecr=2196040431',\n",
       " '139  38.807825 212.204.214.114 → 192.168.1.2  IRC 1514 Response (amarok) (352) (352) (352) (352) (352) (352) (352) (352) (352) (352) (352) (352)',\n",
       " '140  38.807858  192.168.1.2 → 212.204.214.114 TCP 66 2848 → 6667 [ACK] Seq=89 Ack=18408 Win=8011 Len=0 TSval=14254566 TSecr=2196040431',\n",
       " '141  38.813745 212.204.214.114 → 192.168.1.2  IRC 1514 Response (.freenode.net) (352) (352) (352) (352) (352) (352) (352) (352) (352) (352) (352)',\n",
       " '142  38.813776  192.168.1.2 → 212.204.214.114 TCP 66 2848 → 6667 [ACK] Seq=89 Ack=19856 Win=8011 Len=0 TSval=14254571 TSecr=2196040432',\n",
       " '143  38.819661 212.204.214.114 → 192.168.1.2  IRC 1514 Response (terling.freenode.net) (352) (352) (352) (352) (352) (352) (352) (352) (352) (352) (352) (352)',\n",
       " '144  38.819687  192.168.1.2 → 212.204.214.114 TCP 66 2848 → 6667 [ACK] Seq=89 Ack=21304 Win=8011 Len=0 TSval=14254577 TSecr=2196040432',\n",
       " '145  38.825827 212.204.214.114 → 192.168.1.2  IRC 1514 Response (illefiz.de) (352) (352) (352) (352) (352) (352) (352) (352) (352) (352) (352) (352)',\n",
       " '146  38.825876  192.168.1.2 → 212.204.214.114 TCP 66 2848 → 6667 [ACK] Seq=89 Ack=22752 Win=8011 Len=0 TSval=14254584 TSecr=2196040432',\n",
       " '147  38.841821 212.204.214.114 → 192.168.1.2  IRC 1514 Response (r) (352) (352) (352) (352) (352) (352) (352) (352) (352) (352) (352) (352) (352)',\n",
       " '148  38.841853  192.168.1.2 → 212.204.214.114 TCP 66 2848 → 6667 [ACK] Seq=89 Ack=24200 Win=8011 Len=0 TSval=14254600 TSecr=2196040435',\n",
       " '149  38.878684 212.204.214.114 → 192.168.1.2  IRC 881 Response (net) (352) (352) (352) (352) (352) (315)',\n",
       " '150  38.878731  192.168.1.2 → 212.204.214.114 TCP 66 2848 → 6667 [ACK] Seq=89 Ack=25015 Win=8011 Len=0 TSval=14254636 TSecr=2196040439',\n",
       " '151  40.371818  192.168.1.2 → 212.204.214.114 IRC 96 Request (ISON)',\n",
       " '152  40.456680 212.204.214.114 → 192.168.1.2  IRC 112 Response (303)',\n",
       " '153  40.456731  192.168.1.2 → 212.204.214.114 TCP 66 2848 → 6667 [ACK] Seq=119 Ack=25061 Win=8011 Len=0 TSval=14256215 TSecr=2196040597',\n",
       " '154  41.063549 172.200.160.242 → 192.168.1.2  TCP 109 11352 → 4984 [PSH, ACK] Seq=145 Ack=51 Win=65077 Len=43 TSval=1744992 TSecr=14245531',\n",
       " '155  41.063603  192.168.1.2 → 172.200.160.242 TCP 66 4984 → 11352 [ACK] Seq=51 Ack=188 Win=762 Len=0 TSval=14256822 TSecr=1744992',\n",
       " '156  43.445162 212.204.214.114 → 192.168.1.2  IRC 155 Response (PRIVMSG)',\n",
       " '157  43.445212  192.168.1.2 → 212.204.214.114 TCP 66 2848 → 6667 [ACK] Seq=119 Ack=25150 Win=8011 Len=0 TSval=14259204 TSecr=2196040776',\n",
       " '158  43.445541 212.204.214.114 → 192.168.1.2  IRC 155 [TCP Spurious Retransmission] Response (PRIVMSG)',\n",
       " '159  43.445564  192.168.1.2 → 212.204.214.114 TCP 66 [TCP Dup ACK 157#1] 2848 → 6667 [ACK] Seq=119 Ack=25150 Win=8011 Len=0 TSval=14259204 TSecr=2196040896',\n",
       " '160  46.062197 71.10.179.129 → 192.168.1.2  TCP 102 14232 → 4026 [PSH, ACK] Seq=160 Ack=51 Win=63757 Len=36 TSval=1888375 TSecr=14249693',\n",
       " '161  46.062246  192.168.1.2 → 71.10.179.129 TCP 66 4026 → 14232 [ACK] Seq=51 Ack=196 Win=758 Len=0 TSval=14261821 TSecr=1888375',\n",
       " '162  48.386328 71.10.179.129 → 192.168.1.2  TCP 93 14232 → 4026 [PSH, ACK] Seq=196 Ack=51 Win=63757 Len=27 TSval=1888398 TSecr=14261821',\n",
       " '163  48.386383  192.168.1.2 → 71.10.179.129 TCP 66 4026 → 14232 [ACK] Seq=51 Ack=223 Win=755 Len=0 TSval=14264145 TSecr=1888398',\n",
       " '164  48.585467  192.168.1.2 → 71.10.179.129 TCP 90 4026 → 14232 [PSH, ACK] Seq=51 Ack=223 Win=768 Len=24 TSval=14264345 TSecr=1888398',\n",
       " '165  48.909402 71.10.179.129 → 192.168.1.2  TCP 66 14232 → 4026 [ACK] Seq=223 Ack=75 Win=63733 Len=0 TSval=1888404 TSecr=14264345',\n",
       " '166  53.854605 172.200.160.242 → 192.168.1.2  TCP 109 11352 → 4984 [PSH, ACK] Seq=188 Ack=51 Win=65077 Len=43 TSval=1745120 TSecr=14256822',\n",
       " '167  53.854653  192.168.1.2 → 172.200.160.242 TCP 66 4984 → 11352 [ACK] Seq=51 Ack=231 Win=757 Len=0 TSval=14269615 TSecr=1745120',\n",
       " '168  57.999281 172.200.160.242 → 192.168.1.2  TCP 93 11352 → 4984 [PSH, ACK] Seq=231 Ack=51 Win=65077 Len=27 TSval=1745162 TSecr=14269615',\n",
       " '169  57.999330  192.168.1.2 → 172.200.160.242 TCP 66 4984 → 11352 [ACK] Seq=51 Ack=258 Win=753 Len=0 TSval=14273760 TSecr=1745162',\n",
       " '170  58.065534 71.10.179.129 → 192.168.1.2  TCP 106 14232 → 4026 [PSH, ACK] Seq=223 Ack=75 Win=63733 Len=40 TSval=1888495 TSecr=14264345',\n",
       " '171  58.065585  192.168.1.2 → 71.10.179.129 TCP 66 4026 → 14232 [ACK] Seq=75 Ack=263 Win=763 Len=0 TSval=14273826 TSecr=1888495',\n",
       " '172  58.198005  192.168.1.2 → 172.200.160.242 TCP 91 4984 → 11352 [PSH, ACK] Seq=51 Ack=258 Win=768 Len=25 TSval=14273959 TSecr=1745162',\n",
       " '173  58.342665 172.200.160.242 → 192.168.1.2  TCP 66 11352 → 4984 [ACK] Seq=258 Ack=76 Win=65052 Len=0 TSval=1745167 TSecr=14273959',\n",
       " '174  58.850187 AskeyCom_19:27:15 → 3Com_96:7b:da ARP 60 Who has 192.168.1.2? Tell 192.168.1.1',\n",
       " '175  58.850216 3Com_96:7b:da → AskeyCom_19:27:15 ARP 42 192.168.1.2 is at 00:04:76:96:7b:da',\n",
       " '176  59.980506  192.168.1.2 → 86.197.95.238 UDP 60 35990 → 44019 Len=18',\n",
       " '177  60.296652  192.168.1.2 → 192.168.1.1  DNS 86 Standard query 0x3132 PTR 238.95.197.86.in-addr.arpa',\n",
       " '178  60.349634  192.168.1.1 → 192.168.1.2  DNS 146 Standard query response 0x3132 PTR 238.95.197.86.in-addr.arpa PTR AMarseille-253-1-68-238.w86-197.abo.wanadoo.fr',\n",
       " '179  60.502729  192.168.1.2 → 212.204.214.114 IRC 96 Request (ISON)',\n",
       " '180  60.545156 212.204.214.114 → 192.168.1.2  IRC 112 Response (303)',\n",
       " '181  60.545207  192.168.1.2 → 212.204.214.114 TCP 66 2848 → 6667 [ACK] Seq=149 Ack=25196 Win=8011 Len=0 TSval=14276306 TSecr=2196042606',\n",
       " '182  61.046539  192.168.1.2 → 192.168.1.1  DNS 106 Standard query 0x3133 A AMarseille-253-1-68-238.w86-197.abo.wanadoo.fr',\n",
       " '183  61.049174  192.168.1.1 → 192.168.1.2  DNS 122 Standard query response 0x3133 A AMarseille-253-1-68-238.w86-197.abo.wanadoo.fr A 86.197.95.238',\n",
       " '184  61.058676  192.168.1.2 → 86.31.70.81  UDP 60 35990 → 43870 Len=18',\n",
       " '185  61.058779  192.168.1.2 → 86.220.100.25 UDP 60 35990 → 1378 Len=18',\n",
       " '186  61.058832  192.168.1.2 → 86.130.63.111 UDP 60 35990 → 12505 Len=18',\n",
       " '187  61.058898  192.168.1.2 → 80.216.195.140 UDP 60 35990 → 1277 Len=18',\n",
       " '188  61.508252 24.177.122.79 → 192.168.1.2  ASAP 91 Unknown ASAP type [Packet size limited during capture]',\n",
       " '189  61.508298  192.168.1.2 → 24.177.122.79 TCP 66 3863 → 8022 [ACK] Seq=52 Ack=77 Win=761 Len=0 TSval=14277269 TSecr=3340370',\n",
       " '190  61.707579  192.168.1.2 → 24.177.122.79 ASAP 91 Unknown ASAP type [Packet size limited during capture]',\n",
       " '191  61.796427  192.168.1.2 → 192.168.1.1  DNS 84 Standard query 0x3134 PTR 81.70.31.86.in-addr.arpa',\n",
       " '192  61.796492  192.168.1.2 → 192.168.1.1  DNS 86 Standard query 0x3135 PTR 25.100.220.86.in-addr.arpa',\n",
       " '193  61.796519  192.168.1.2 → 192.168.1.1  DNS 86 Standard query 0x3136 PTR 111.63.130.86.in-addr.arpa',\n",
       " '194  61.796545  192.168.1.2 → 192.168.1.1  DNS 87 Standard query 0x3137 PTR 140.195.216.80.in-addr.arpa',\n",
       " '195  61.833926  192.168.1.1 → 192.168.1.2  DNS 137 Standard query response 0x3134 PTR 81.70.31.86.in-addr.arpa PTR client-86-31-70-81.midd.adsl.virgin.net',\n",
       " '196  61.851872  192.168.1.1 → 192.168.1.2  DNS 147 Standard query response 0x3136 PTR 111.63.130.86.in-addr.arpa PTR host86-130-63-111.range86-130.btcentralplus.com',\n",
       " '197  61.857341  192.168.1.1 → 192.168.1.2  DNS 143 Standard query response 0x3135 PTR 25.100.220.86.in-addr.arpa PTR AOrleans-257-1-93-25.w86-220.abo.wanadoo.fr',\n",
       " '198  61.869551  192.168.1.1 → 192.168.1.2  DNS 133 Standard query response 0x3137 PTR 140.195.216.80.in-addr.arpa PTR c80-216-195-140.cm-upc.chello.se',\n",
       " '199  61.958161 24.177.122.79 → 192.168.1.2  TCP 66 8022 → 3863 [ACK] Seq=77 Ack=77 Win=16245 Len=0 TSval=3340376 TSecr=14277469',\n",
       " '200  62.546310  192.168.1.2 → 192.168.1.1  DNS 99 Standard query 0x3138 A client-86-31-70-81.midd.adsl.virgin.net',\n",
       " '201  62.546352  192.168.1.2 → 192.168.1.1  DNS 107 Standard query 0x3139 A host86-130-63-111.range86-130.btcentralplus.com',\n",
       " '202  62.546377  192.168.1.2 → 192.168.1.1  DNS 103 Standard query 0x313a A AOrleans-257-1-93-25.w86-220.abo.wanadoo.fr',\n",
       " '203  62.546401  192.168.1.2 → 192.168.1.1  DNS 92 Standard query 0x313b A c80-216-195-140.cm-upc.chello.se',\n",
       " '204  62.549479  192.168.1.1 → 192.168.1.2  DNS 115 Standard query response 0x3138 A client-86-31-70-81.midd.adsl.virgin.net A 86.31.70.81',\n",
       " '205  62.551917  192.168.1.1 → 192.168.1.2  DNS 123 Standard query response 0x3139 A host86-130-63-111.range86-130.btcentralplus.com A 86.130.63.111',\n",
       " '206  62.554242  192.168.1.1 → 192.168.1.2  DNS 119 Standard query response 0x313a A AOrleans-257-1-93-25.w86-220.abo.wanadoo.fr A 86.220.100.25',\n",
       " '207  62.556683  192.168.1.1 → 192.168.1.2  DNS 108 Standard query response 0x313b A c80-216-195-140.cm-upc.chello.se A 80.216.195.140',\n",
       " '208  63.283730 212.204.214.114 → 192.168.1.2  IRC 137 Response (PRIVMSG)',\n",
       " '209  63.283784  192.168.1.2 → 212.204.214.114 TCP 66 2848 → 6667 [ACK] Seq=149 Ack=25267 Win=8011 Len=0 TSval=14279045 TSecr=2196042879',\n",
       " '210  64.421739 24.177.122.79 → 192.168.1.2  ASAP 91 Unknown ASAP type [Packet size limited during capture]',\n",
       " '211  64.421795  192.168.1.2 → 24.177.122.79 TCP 66 3863 → 8022 [ACK] Seq=77 Ack=102 Win=764 Len=0 TSval=14280183 TSecr=3340400',\n",
       " '212  64.574303 65.190.6.124 → 192.168.1.2  TCP 231 47452 → 2967 [PSH, ACK] Seq=1 Ack=1 Win=64399 Len=165 TSval=3302578 TSecr=13945552',\n",
       " '213  64.574359  192.168.1.2 → 65.190.6.124 TCP 66 2967 → 47452 [ACK] Seq=1 Ack=166 Win=998 Len=0 TSval=14280336 TSecr=3302578',\n",
       " '214  66.122955  192.168.1.2 → 165.124.253.241 UDP 60 35990 → 15294 Len=18',\n",
       " '215  66.249381 165.124.253.241 → 192.168.1.2  UDP 60 15294 → 35990 Len=11',\n",
       " '216  66.249507  192.168.1.2 → 165.124.253.241 UDP 65 35990 → 15294 Len=23',\n",
       " '217  66.357031  192.168.1.2 → 192.168.1.1  DNS 85 Standard query 0x313c PTR 124.6.190.65.in-addr.arpa',\n",
       " '218  66.357080  192.168.1.2 → 192.168.1.1  DNS 88 Standard query 0x313d PTR 241.253.124.165.in-addr.arpa',\n",
       " '219  66.370892 165.124.253.241 → 192.168.1.2  UDP 93 15294 → 35990 Len=51',\n",
       " '220  66.371270  192.168.1.2 → 81.236.228.111 UDP 60 35990 → 42764 Len=18',\n",
       " '221  66.431975 81.236.228.111 → 192.168.1.2  UDP 93 42764 → 35990 Len=51',\n",
       " '222  66.432373  192.168.1.2 → 86.142.117.124 UDP 60 35990 → 36474 Len=18',\n",
       " '223  66.468533  192.168.1.1 → 192.168.1.2  DNS 135 Standard query response 0x313c PTR 124.6.190.65.in-addr.arpa PTR cpe-065-190-006-124.triad.res.rr.com',\n",
       " '224  66.712287  192.168.1.1 → 192.168.1.2  DNS 140 Standard query response 0x313d PTR 241.253.124.165.in-addr.arpa PTR engmanlab10.pathology.northwestern.edu',\n",
       " '225  67.092614  192.168.1.2 → 192.168.1.1  DNS 96 Standard query 0x313e A cpe-065-190-006-124.triad.res.rr.com',\n",
       " '226  67.092654  192.168.1.2 → 192.168.1.1  DNS 98 Standard query 0x313f A engmanlab10.pathology.northwestern.edu',\n",
       " '227  67.095968  192.168.1.1 → 192.168.1.2  DNS 112 Standard query response 0x313e A cpe-065-190-006-124.triad.res.rr.com A 65.190.6.124',\n",
       " '228  67.098311  192.168.1.1 → 192.168.1.2  DNS 114 Standard query response 0x313f A engmanlab10.pathology.northwestern.edu A 165.124.253.241',\n",
       " '229  67.177962  192.168.1.2 → 86.142.178.222 UDP 60 35990 → 12881 Len=18',\n",
       " '230  67.178065  192.168.1.2 → 86.128.163.125 UDP 60 35990 → 25906 Len=18',\n",
       " '231  67.178116  192.168.1.2 → 86.134.79.66 UDP 60 35990 → 3444 Len=18',\n",
       " '232  67.178159  192.168.1.2 → 86.136.192.70 UDP 60 35990 → 16329 Len=18',\n",
       " '233  67.211756 86.128.163.125 → 192.168.1.2  ICMP 70 Destination unreachable (Port unreachable)',\n",
       " '234  67.221831 86.134.79.66 → 192.168.1.2  ICMP 70 Destination unreachable (Port unreachable)',\n",
       " '235  67.277765 172.200.160.242 → 192.168.1.2  TCP 112 11352 → 4984 [PSH, ACK] Seq=258 Ack=76 Win=65052 Len=46 TSval=1745255 TSecr=14273959',\n",
       " '236  67.277815  192.168.1.2 → 172.200.160.242 TCP 66 4984 → 11352 [ACK] Seq=76 Ack=304 Win=762 Len=0 TSval=14283040 TSecr=1745255',\n",
       " '237  70.138116 71.10.179.129 → 192.168.1.2  TCP 114 14232 → 4026 [PSH, ACK] Seq=263 Ack=75 Win=63733 Len=48 TSval=1888615 TSecr=14273826',\n",
       " '238  70.138164  192.168.1.2 → 71.10.179.129 TCP 66 4026 → 14232 [ACK] Seq=75 Ack=311 Win=757 Len=0 TSval=14285901 TSecr=1888615',\n",
       " '239  70.641037 3Com_96:7b:da → Broadcast    AoE 32 Query Config Information Request',\n",
       " '240  70.846034  192.168.1.2 → 192.168.1.1  DNS 87 Standard query 0x3140 PTR 111.228.236.81.in-addr.arpa',\n",
       " '241  70.846083  192.168.1.2 → 192.168.1.1  DNS 87 Standard query 0x3141 PTR 124.117.142.86.in-addr.arpa',\n",
       " '242  70.846110  192.168.1.2 → 192.168.1.1  DNS 87 Standard query 0x3142 PTR 222.178.142.86.in-addr.arpa',\n",
       " '243  70.846138  192.168.1.2 → 192.168.1.1  DNS 87 Standard query 0x3143 PTR 125.163.128.86.in-addr.arpa',\n",
       " '244  70.846165  192.168.1.2 → 192.168.1.1  DNS 85 Standard query 0x3144 PTR 66.79.134.86.in-addr.arpa',\n",
       " '245  70.846191  192.168.1.2 → 192.168.1.1  DNS 86 Standard query 0x3145 PTR 70.192.136.86.in-addr.arpa',\n",
       " '246  70.893064  192.168.1.1 → 192.168.1.2  DNS 149 Standard query response 0x3141 PTR 124.117.142.86.in-addr.arpa PTR host86-142-117-124.range86-142.btcentralplus.com',\n",
       " '247  70.898426  192.168.1.1 → 192.168.1.2  DNS 149 Standard query response 0x3142 PTR 222.178.142.86.in-addr.arpa PTR host86-142-178-222.range86-142.btcentralplus.com',\n",
       " '248  70.906310  192.168.1.1 → 192.168.1.2  DNS 149 Standard query response 0x3143 PTR 125.163.128.86.in-addr.arpa PTR host86-128-163-125.range86-128.btcentralplus.com',\n",
       " '249  70.910193  192.168.1.1 → 192.168.1.2  DNS 135 Standard query response 0x3140 PTR 111.228.236.81.in-addr.arpa PTR 81-236-228-111-no37.tbcn.telia.com',\n",
       " '250  70.914329  192.168.1.1 → 192.168.1.2  DNS 145 Standard query response 0x3144 PTR 66.79.134.86.in-addr.arpa PTR host86-134-79-66.range86-134.btcentralplus.com',\n",
       " '251  70.918736  192.168.1.1 → 192.168.1.2  DNS 147 Standard query response 0x3145 PTR 70.192.136.86.in-addr.arpa PTR host86-136-192-70.range86-136.btcentralplus.com',\n",
       " '252  71.595939  192.168.1.2 → 192.168.1.1  DNS 108 Standard query 0x3146 A host86-142-117-124.range86-142.btcentralplus.com',\n",
       " '253  71.595982  192.168.1.2 → 192.168.1.1  DNS 108 Standard query 0x3147 A host86-142-178-222.range86-142.btcentralplus.com',\n",
       " '254  71.596007  192.168.1.2 → 192.168.1.1  DNS 108 Standard query 0x3148 A host86-128-163-125.range86-128.btcentralplus.com',\n",
       " '255  71.596031  192.168.1.2 → 192.168.1.1  DNS 94 Standard query 0x3149 A 81-236-228-111-no37.tbcn.telia.com',\n",
       " '256  71.596056  192.168.1.2 → 192.168.1.1  DNS 106 Standard query 0x314a A host86-134-79-66.range86-134.btcentralplus.com',\n",
       " '257  71.596080  192.168.1.2 → 192.168.1.1  DNS 107 Standard query 0x314b A host86-136-192-70.range86-136.btcentralplus.com',\n",
       " '258  71.599631  192.168.1.1 → 192.168.1.2  DNS 124 Standard query response 0x3146 A host86-142-117-124.range86-142.btcentralplus.com A 86.142.117.124',\n",
       " '259  71.602195  192.168.1.1 → 192.168.1.2  DNS 124 Standard query response 0x3147 A host86-142-178-222.range86-142.btcentralplus.com A 86.142.178.222',\n",
       " '260  71.604560  192.168.1.1 → 192.168.1.2  DNS 124 Standard query response 0x3148 A host86-128-163-125.range86-128.btcentralplus.com A 86.128.163.125',\n",
       " '261  71.607073  192.168.1.1 → 192.168.1.2  DNS 110 Standard query response 0x3149 A 81-236-228-111-no37.tbcn.telia.com A 81.236.228.111',\n",
       " '262  71.609505  192.168.1.1 → 192.168.1.2  DNS 122 Standard query response 0x314a A host86-134-79-66.range86-134.btcentralplus.com A 86.134.79.66',\n",
       " '263  71.612115  192.168.1.1 → 192.168.1.2  DNS 123 Standard query response 0x314b A host86-136-192-70.range86-136.btcentralplus.com A 86.136.192.70',\n",
       " '264  72.197961  192.168.1.2 → 80.186.57.176 UDP 60 35990 → 8788 Len=18',\n",
       " '265  72.274479 80.186.57.176 → 192.168.1.2  UDP 93 8788 → 35990 Len=51',\n",
       " '266  72.274824  192.168.1.2 → 68.206.150.243 UDP 60 35990 → 57322 Len=18',\n",
       " '267  72.423135 68.206.150.243 → 192.168.1.2  UDP 60 57322 → 35990 Len=18',\n",
       " '268  72.423544  192.168.1.2 → 68.206.150.243 TCP 74 1312 → 57322 [SYN] Seq=0 Win=5840 Len=0 MSS=1460 SACK_PERM=1 TSval=14288186 TSecr=0 WS=8',\n",
       " '269  72.481883  192.168.1.2 → 82.128.194.105 UDP 60 35990 → 60142 Len=18',\n",
       " '270  72.560107 212.50.132.237 → 192.168.1.2  ICMP 70 Time-to-live exceeded (Time to live exceeded in transit)',\n",
       " '271  72.570621 68.206.150.243 → 192.168.1.2  TCP 78 57322 → 1312 [SYN, ACK] Seq=0 Ack=1 Win=65535 Len=0 MSS=1460 WS=1 TSval=0 TSecr=0 SACK_PERM=1',\n",
       " '272  72.570680  192.168.1.2 → 68.206.150.243 TCP 66 1312 → 57322 [ACK] Seq=1 Ack=1 Win=5840 Len=0 TSval=14288333 TSecr=0',\n",
       " '273  72.571013  192.168.1.2 → 68.206.150.243 TCP 80 1312 → 57322 [PSH, ACK] Seq=1 Ack=1 Win=5840 Len=14 TSval=14288334 TSecr=0',\n",
       " '274  72.718991 68.206.150.243 → 192.168.1.2  TCP 139 57322 → 1312 [PSH, ACK] Seq=1 Ack=15 Win=65521 Len=73 TSval=2294351 TSecr=14288334',\n",
       " '275  72.719049  192.168.1.2 → 68.206.150.243 TCP 66 1312 → 57322 [ACK] Seq=15 Ack=74 Win=5840 Len=0 TSval=14288482 TSecr=2294351',\n",
       " '276  72.719358  192.168.1.2 → 68.206.150.243 TCP 91 1312 → 57322 [PSH, ACK] Seq=15 Ack=74 Win=5840 Len=25 TSval=14288482 TSecr=2294351',\n",
       " '277  72.869554 68.206.150.243 → 192.168.1.2  TCP 653 57322 → 1312 [PSH, ACK] Seq=74 Ack=40 Win=65496 Len=587 TSval=2294353 TSecr=14288482',\n",
       " '278  72.872568  192.168.1.2 → 68.206.150.243 TCP 82 1312 → 57322 [PSH, ACK] Seq=40 Ack=661 Win=7016 Len=16 TSval=14288635 TSecr=2294353',\n",
       " '279  73.019589 68.206.150.243 → 192.168.1.2  TCP 340 57322 → 1312 [PSH, ACK] Seq=661 Ack=56 Win=65480 Len=274 TSval=2294354 TSecr=14288635',\n",
       " '280  73.059659  192.168.1.2 → 68.206.150.243 TCP 66 1312 → 57322 [ACK] Seq=56 Ack=935 Win=8192 Len=0 TSval=14288823 TSecr=2294354',\n",
       " '281  73.130966  192.168.1.2 → 192.168.1.1  DNS 86 Standard query 0x314c PTR 176.57.186.80.in-addr.arpa',\n",
       " '282  73.131039  192.168.1.2 → 192.168.1.1  DNS 87 Standard query 0x314d PTR 243.150.206.68.in-addr.arpa',\n",
       " '283  73.218650  192.168.1.1 → 192.168.1.2  DNS 135 Standard query response 0x314c PTR 176.57.186.80.in-addr.arpa PTR a80-186-57-176.elisa-laajakaista.fi',\n",
       " '284  73.226490  192.168.1.2 → 68.206.150.243 TCP 77 1312 → 57322 [PSH, ACK] Seq=56 Ack=935 Win=8192 Len=11 TSval=14288989 TSecr=2294354',\n",
       " '285  73.236155  192.168.1.2 → 204.152.205.205 UDP 78 60577 → 33435 Len=36',\n",
       " '286  73.248439  192.168.1.1 → 192.168.1.2  DNS 134 Standard query response 0x314d PTR 243.150.206.68.in-addr.arpa PTR cpe-68-206-150-243.hot.res.rr.com',\n",
       " '287  73.252664 217.47.73.141 → 192.168.1.2  ICMP 70 Time-to-live exceeded (Time to live exceeded in transit)',\n",
       " '288  73.376132 68.206.150.243 → 192.168.1.2  TCP 725 57322 → 1312 [PSH, ACK] Seq=935 Ack=67 Win=65469 Len=659 TSval=2294358 TSecr=14288989',\n",
       " '289  73.376187  192.168.1.2 → 68.206.150.243 TCP 111 1312 → 57322 [PSH, ACK] Seq=67 Ack=1594 Win=9512 Len=45 TSval=14289139 TSecr=2294358',\n",
       " '290  73.527127 68.206.150.243 → 192.168.1.2  TCP 70 57322 → 1312 [PSH, ACK] Seq=1594 Ack=112 Win=65424 Len=4 TSval=2294359 TSecr=14289139',\n",
       " '291  73.566583  192.168.1.2 → 68.206.150.243 TCP 66 1312 → 57322 [ACK] Seq=112 Ack=1598 Win=9512 Len=0 TSval=14289330 TSecr=2294359',\n",
       " '292  73.756705  192.168.1.2 → 195.215.8.141 TCP 74 1325 → 33033 [SYN] Seq=0 Win=5840 Len=0 MSS=1460 SACK_PERM=1 TSval=14289520 TSecr=0 WS=8',\n",
       " '293  73.829254 195.215.8.141 → 192.168.1.2  TCP 74 33033 → 1325 [SYN, ACK] Seq=0 Ack=1 Win=5792 Len=0 MSS=1460 SACK_PERM=1 TSval=1049909348 TSecr=14289520 WS=1',\n",
       " '294  73.829316  192.168.1.2 → 195.215.8.141 TCP 66 1325 → 33033 [ACK] Seq=1 Ack=1 Win=5840 Len=0 TSval=14289592 TSecr=1049909348',\n",
       " '295  73.840522  192.168.1.2 → 83.147.171.206 UDP 64 35990 → 6293 Len=22',\n",
       " '296  73.840590  192.168.1.2 → 172.207.190.217 UDP 64 35990 → 51361 Len=22',\n",
       " '297  73.840700  192.168.1.2 → 195.215.8.141 TCP 71 1325 → 33033 [PSH, ACK] Seq=1 Ack=1 Win=5840 Len=5 TSval=14289604 TSecr=1049909348',\n",
       " '298  73.867190  192.168.1.2 → 192.168.1.1  DNS 87 Standard query 0x314e PTR 105.194.128.82.in-addr.arpa',\n",
       " '299  73.867252  192.168.1.2 → 192.168.1.1  DNS 95 Standard query 0x314f A a80-186-57-176.elisa-laajakaista.fi',\n",
       " '300  73.867276  192.168.1.2 → 192.168.1.1  DNS 93 Standard query 0x3150 A cpe-68-206-150-243.hot.res.rr.com',\n",
       " '301  73.867300  192.168.1.2 → 192.168.1.1  DNS 87 Standard query 0x3151 PTR 237.132.50.212.in-addr.arpa',\n",
       " '302  73.867326  192.168.1.2 → 192.168.1.1  DNS 88 Standard query 0x3152 PTR 205.205.152.204.in-addr.arpa',\n",
       " '303  73.867354  192.168.1.2 → 192.168.1.1  DNS 86 Standard query 0x3153 PTR 141.73.47.217.in-addr.arpa',\n",
       " '304  73.877654  192.168.1.1 → 192.168.1.2  DNS 111 Standard query response 0x314f A a80-186-57-176.elisa-laajakaista.fi A 80.186.57.176',\n",
       " '305  73.880404  192.168.1.1 → 192.168.1.2  DNS 109 Standard query response 0x3150 A cpe-68-206-150-243.hot.res.rr.com A 68.206.150.243',\n",
       " '306  73.914410 83.147.171.206 → 192.168.1.2  UDP 700 6293 → 35990 Len=658',\n",
       " '307  73.917277  192.168.1.2 → 190.44.165.86 UDP 60 35990 → 57549 Len=18',\n",
       " '308  73.917335  192.168.1.2 → 83.130.238.168 UDP 60 35990 → 26744 Len=18',\n",
       " '309  73.917381  192.168.1.2 → 83.5.146.219 UDP 60 35990 → 1749 Len=18',\n",
       " '310  73.917450  192.168.1.2 → 82.253.163.244 UDP 60 35990 → 38930 Len=18',\n",
       " '311  73.919800 195.215.8.141 → 192.168.1.2  TCP 66 33033 → 1325 [ACK] Seq=1 Ack=6 Win=5792 Len=0 TSval=1049909357 TSecr=14289604',\n",
       " '312  73.933764  192.168.1.1 → 192.168.1.2  DNS 132 Standard query response 0x3153 PTR 141.73.47.217.in-addr.arpa PTR esr2.sheffield3.broadband.bt.net',\n",
       " '313  73.953845 172.207.190.217 → 192.168.1.2  UDP 711 51361 → 35990 Len=669',\n",
       " '314  73.958003 195.215.8.141 → 192.168.1.2  TCP 71 33033 → 1325 [PSH, ACK] Seq=1 Ack=6 Win=5792 Len=5 TSval=1049909361 TSecr=14289604',\n",
       " '315  73.958052  192.168.1.2 → 195.215.8.141 TCP 66 1325 → 33033 [ACK] Seq=6 Ack=6 Win=5840 Len=0 TSval=14289721 TSecr=1049909361',\n",
       " '316  73.959322  192.168.1.2 → 195.215.8.141 TCP 517 1325 → 33033 [PSH, ACK] Seq=6 Ack=6 Win=5840 Len=451 TSval=14289722 TSecr=1049909361',\n",
       " '317  73.965886  192.168.1.1 → 192.168.1.2  DNS 137 Standard query response 0x314e PTR 105.194.128.82.in-addr.arpa PTR Torik16-TR1-82-128-194-105.suomi.net',\n",
       " '318  73.972681  192.168.1.1 → 192.168.1.2  DNS 119 Standard query response 0x3151 PTR 237.132.50.212.in-addr.arpa PTR Torik16R1.opoy.net',\n",
       " '319  73.974354  192.168.1.2 → 202.139.177.147 UDP 78 60582 → 33435 Len=36',\n",
       " '320  73.979354  192.168.1.2 → 202.232.205.123 UDP 78 60583 → 33435 Len=36',\n",
       " '321  73.981045  192.168.1.2 → 130.244.145.31 UDP 78 60579 → 33435 Len=36',\n",
       " '322  73.981167  192.168.1.2 → 204.152.205.205 UDP 78 60577 → 33436 Len=36',\n",
       " '323  73.993520 217.47.73.141 → 192.168.1.2  ICMP 70 Time-to-live exceeded (Time to live exceeded in transit)',\n",
       " '324  73.994007  192.168.1.2 → 202.139.177.147 UDP 78 60582 → 33436 Len=36',\n",
       " '325  73.996685 217.47.73.141 → 192.168.1.2  ICMP 70 Time-to-live exceeded (Time to live exceeded in transit)',\n",
       " '326  73.996810  192.168.1.2 → 202.232.205.123 UDP 78 60583 → 33436 Len=36',\n",
       " '327  73.999166 217.47.73.141 → 192.168.1.2  ICMP 70 Time-to-live exceeded (Time to live exceeded in transit)',\n",
       " '328  73.999266  192.168.1.2 → 130.244.145.31 UDP 78 60579 → 33436 Len=36',\n",
       " '329  74.002112 217.47.73.30 → 192.168.1.2  ICMP 70 Time-to-live exceeded (Time to live exceeded in transit)',\n",
       " '330  74.002163  192.168.1.2 → 204.152.205.205 UDP 78 60577 → 33437 Len=36',\n",
       " '331  74.009547 217.47.73.30 → 192.168.1.2  ICMP 70 Time-to-live exceeded (Time to live exceeded in transit)',\n",
       " '332  74.010225  192.168.1.1 → 192.168.1.2  DNS 88 Standard query response 0x3152 PTR 205.205.152.204.in-addr.arpa',\n",
       " '333  74.010852 82.253.163.244 → 192.168.1.2  UDP 68 38930 → 35990 Len=26',\n",
       " '334  74.013000 217.47.73.30 → 192.168.1.2  ICMP 70 Time-to-live exceeded (Time to live exceeded in transit)',\n",
       " '335  74.015723 217.47.73.30 → 192.168.1.2  ICMP 70 Time-to-live exceeded (Time to live exceeded in transit)',\n",
       " '336  74.019067 217.41.176.21 → 192.168.1.2  ICMP 70 Time-to-live exceeded (Time to live exceeded in transit)',\n",
       " '337  74.021725  192.168.1.2 → 204.152.205.205 UDP 78 60577 → 33438 Len=36',\n",
       " '338  74.032769 83.130.238.168 → 192.168.1.2  UDP 68 26744 → 35990 Len=26',\n",
       " '339  74.033294  192.168.1.2 → 83.130.238.168 UDP 60 35990 → 26744 Len=18',\n",
       " '340  74.038076 217.41.176.118 → 192.168.1.2  ICMP 70 Time-to-live exceeded (Time to live exceeded in transit)',\n",
       " '341  74.047669 195.215.8.141 → 192.168.1.2  TCP 66 33033 → 1325 [ACK] Seq=6 Ack=457 Win=6432 Len=0 TSval=1049909370 TSecr=14289722',\n",
       " '342  74.092670  192.168.1.2 → 130.244.145.31 UDP 78 60579 → 33437 Len=36',\n",
       " '343  74.092811  192.168.1.2 → 202.232.205.123 UDP 78 60583 → 33437 Len=36',\n",
       " '344  74.092915  192.168.1.2 → 202.139.177.147 UDP 78 60582 → 33437 Len=36',\n",
       " '345  74.109020 217.41.176.21 → 192.168.1.2  ICMP 70 Time-to-live exceeded (Time to live exceeded in transit)',\n",
       " '346  74.109134  192.168.1.2 → 130.244.145.31 UDP 78 60579 → 33438 Len=36',\n",
       " '347  74.111994 217.41.176.21 → 192.168.1.2  ICMP 70 Time-to-live exceeded (Time to live exceeded in transit)',\n",
       " '348  74.112069  192.168.1.2 → 202.232.205.123 UDP 78 60583 → 33438 Len=36',\n",
       " '349  74.115796 217.41.176.21 → 192.168.1.2  ICMP 70 Time-to-live exceeded (Time to live exceeded in transit)',\n",
       " '350  74.115890  192.168.1.2 → 202.139.177.147 UDP 78 60582 → 33438 Len=36',\n",
       " '351  74.126532 217.41.176.118 → 192.168.1.2  ICMP 70 Time-to-live exceeded (Time to live exceeded in transit)',\n",
       " '352  74.130919 217.41.176.118 → 192.168.1.2  ICMP 70 Time-to-live exceeded (Time to live exceeded in transit)',\n",
       " '353  74.132633 217.41.176.118 → 192.168.1.2  ICMP 70 Time-to-live exceeded (Time to live exceeded in transit)',\n",
       " '354  74.140585 83.130.238.168 → 192.168.1.2  UDP 68 26744 → 35990 Len=26',\n",
       " '355  74.140924  192.168.1.2 → 83.130.238.168 UDP 60 35990 → 26744 Len=18',\n",
       " '356  74.238779 190.44.165.86 → 192.168.1.2  UDP 68 57549 → 35990 Len=26',\n",
       " '357  74.239498  192.168.1.2 → 190.44.165.86 UDP 60 35990 → 57549 Len=18',\n",
       " '358  74.247366  192.168.1.2 → 217.41.176.118 UDP 1464 60586 → 33435 Len=1422',\n",
       " '359  74.249231 83.130.238.168 → 192.168.1.2  UDP 68 26744 → 35990 Len=26',\n",
       " '360  74.249692  192.168.1.2 → 83.130.238.168 UDP 60 35990 → 26744 Len=18',\n",
       " '361  74.318508 195.215.8.141 → 192.168.1.2  TCP 298 33033 → 1325 [PSH, ACK] Seq=6 Ack=457 Win=6432 Len=232 TSval=1049909397 TSecr=14289722',\n",
       " '362  74.340773  192.168.1.2 → 195.215.8.141 TCP 84 1325 → 33033 [PSH, ACK] Seq=457 Ack=238 Win=6912 Len=18 TSval=14290104 TSecr=1049909397',\n",
       " '363  74.340964  192.168.1.2 → 212.72.49.142 UDP 69 35990 → 12350 Len=27',\n",
       " '364  74.341140  192.168.1.2 → 68.206.150.243 TCP 79 1312 → 57322 [PSH, ACK] Seq=112 Ack=1598 Win=9512 Len=13 TSval=14290104 TSecr=2294359',\n",
       " '365  74.401988 83.130.238.168 → 192.168.1.2  UDP 68 26744 → 35990 Len=26',\n",
       " '366  74.402406  192.168.1.2 → 83.130.238.168 UDP 60 35990 → 26744 Len=18',\n",
       " '367  74.413570 195.215.8.141 → 192.168.1.2  TCP 66 33033 → 1325 [ACK] Seq=238 Ack=475 Win=6432 Len=0 TSval=1049909406 TSecr=14290104',\n",
       " '368  74.449134 212.72.49.142 → 192.168.1.2  UDP 64 12350 → 35990 Len=22',\n",
       " '369  74.458147 195.215.8.141 → 192.168.1.2  TCP 133 33033 → 1325 [PSH, ACK] Seq=238 Ack=475 Win=6432 Len=67 TSval=1049909411 TSecr=14290104',\n",
       " '370  74.494120 68.206.150.243 → 192.168.1.2  TCP 114 57322 → 1312 [PSH, ACK] Seq=1598 Ack=125 Win=65411 Len=48 TSval=2294369 TSecr=14290104',\n",
       " '371  74.494172  192.168.1.2 → 68.206.150.243 TCP 66 1312 → 57322 [ACK] Seq=125 Ack=1646 Win=9512 Len=0 TSval=14290257 TSecr=2294369',\n",
       " '372  74.494827  192.168.1.2 → 212.149.248.49 UDP 72 35990 → 62738 Len=30',\n",
       " '373  74.494867  192.168.1.2 → 67.190.60.125 UDP 72 35990 → 3944 Len=30',\n",
       " '374  74.494910  192.168.1.2 → 24.242.109.92 UDP 72 35990 → 44872 Len=30',\n",
       " '375  74.497422  192.168.1.2 → 195.215.8.141 TCP 66 1325 → 33033 [ACK] Seq=475 Ack=305 Win=6912 Len=0 TSval=14290261 TSecr=1049909411',\n",
       " '376  74.510701 83.130.238.168 → 192.168.1.2  UDP 68 26744 → 35990 Len=26',\n",
       " '377  74.516546 190.44.165.86 → 192.168.1.2  UDP 68 57549 → 35990 Len=26',\n",
       " '378  74.516740  192.168.1.2 → 190.44.165.86 UDP 60 35990 → 57549 Len=18',\n",
       " '379  74.649716 24.242.109.92 → 192.168.1.2  UDP 60 44872 → 35990 Len=18',\n",
       " '380  74.650178  192.168.1.2 → 68.206.150.243 TCP 79 1312 → 57322 [PSH, ACK] Seq=125 Ack=1646 Win=9512 Len=13 TSval=14290413 TSecr=2294369',\n",
       " '381  74.672598 67.190.60.125 → 192.168.1.2  UDP 60 3944 → 35990 Len=18',\n",
       " '382  74.794971 68.206.150.243 → 192.168.1.2  TCP 148 57322 → 1312 [PSH, ACK] Seq=1646 Ack=138 Win=65398 Len=82 TSval=2294372 TSecr=14290413',\n",
       " '383  74.795017  192.168.1.2 → 68.206.150.243 TCP 66 1312 → 57322 [ACK] Seq=138 Ack=1728 Win=9512 Len=0 TSval=14290558 TSecr=2294372',\n",
       " '384  74.796190 190.44.165.86 → 192.168.1.2  UDP 68 57549 → 35990 Len=26',\n",
       " '385  74.890428  192.168.1.2 → 190.44.165.86 UDP 60 35990 → 57549 Len=18',\n",
       " '386  74.890513  192.168.1.2 → 129.11.125.169 UDP 72 35990 → 27256 Len=30',\n",
       " '387  74.890588  192.168.1.2 → 69.192.67.152 UDP 72 35990 → 18453 Len=30',\n",
       " '388  74.951288 129.11.125.169 → 192.168.1.2  UDP 60 27256 → 35990 Len=18',\n",
       " '389  74.952170  192.168.1.2 → 66.67.61.44  UDP 72 35990 → 58546 Len=30',\n",
       " '390  74.954148  192.168.1.2 → 192.168.1.1  DNS 92 Standard query 0x3154 A esr2.sheffield3.broadband.bt.net',\n",
       " '391  74.954189  192.168.1.2 → 192.168.1.1  DNS 96 Standard query 0x3155 A Torik16-TR1-82-128-194-105.suomi.net',\n",
       " '392  74.954213  192.168.1.2 → 192.168.1.1  DNS 78 Standard query 0x3156 A Torik16R1.opoy.net',\n",
       " '393  74.957643  192.168.1.1 → 192.168.1.2  DNS 108 Standard query response 0x3154 A esr2.sheffield3.broadband.bt.net A 217.47.73.141',\n",
       " '394  74.960076  192.168.1.1 → 192.168.1.2  DNS 112 Standard query response 0x3155 A Torik16-TR1-82-128-194-105.suomi.net A 82.128.194.105',\n",
       " '395  74.962685  192.168.1.1 → 192.168.1.2  DNS 94 Standard query response 0x3156 A Torik16R1.opoy.net A 212.50.132.237',\n",
       " '396  75.010107  192.168.1.2 → 192.168.1.1  DNS 72 Standard query 0x9bb6 A ui.skype.com',\n",
       " '397  75.010222  192.168.1.2 → 192.168.1.1  DNS 72 Standard query 0x9bb7 AAAA ui.skype.com',\n",
       " '398  75.042741 69.192.67.152 → 192.168.1.2  UDP 60 18453 → 35990 Len=18',\n",
       " '399  75.043641  192.168.1.2 → 24.61.5.13   UDP 72 35990 → 35466 Len=30',\n",
       " '400  75.043907  192.168.1.1 → 192.168.1.2  DNS 88 Standard query response 0x9bb6 A ui.skype.com A 212.72.49.131',\n",
       " '401  75.044368  192.168.1.2 → 212.72.49.131 TCP 74 3621 → 80 [SYN] Seq=0 Win=5840 Len=0 MSS=1460 SACK_PERM=1 TSval=14290808 TSecr=0 WS=8',\n",
       " '402  75.089278  66.67.61.44 → 192.168.1.2  UDP 60 58546 → 35990 Len=18',\n",
       " '403  75.089715  192.168.1.2 → 24.107.221.82 UDP 72 35990 → 55335 Len=30',\n",
       " '404  75.092251 212.72.49.131 → 192.168.1.2  TCP 74 80 → 3621 [SYN, ACK] Seq=0 Ack=1 Win=5792 Len=0 MSS=1460 SACK_PERM=1 TSval=4257102789 TSecr=14290808 WS=4',\n",
       " '405  75.092327  192.168.1.2 → 212.72.49.131 TCP 66 3621 → 80 [ACK] Seq=1 Ack=1 Win=5840 Len=0 TSval=14290855 TSecr=4257102789',\n",
       " '406  75.093533  192.168.1.2 → 212.72.49.131 HTTP 232 GET http://ui.skype.com/ui/2/1.2.0.18/en/getlatestversion?ver=1.2.0.18&uhash=632e1c9b593b0faf778e6de166448d93 HTTP/1.1',\n",
       " '407  75.144723 212.72.49.131 → 192.168.1.2  TCP 66 80 → 3621 [ACK] Seq=1 Ack=167 Win=6864 Len=0 TSval=4257102802 TSecr=14290857',\n",
       " '408  75.153248 212.72.49.131 → 192.168.1.2  HTTP 462 HTTP/1.1 200 OK  (text/html)',\n",
       " '409  75.153315  192.168.1.2 → 212.72.49.131 TCP 66 3621 → 80 [ACK] Seq=167 Ack=397 Win=6912 Len=0 TSval=14290916 TSecr=4257102804',\n",
       " '410  75.153734 212.72.49.131 → 192.168.1.2  TCP 66 80 → 3621 [FIN, ACK] Seq=397 Ack=167 Win=6864 Len=0 TSval=4257102804 TSecr=14290857',\n",
       " '411  75.153877  192.168.1.2 → 212.72.49.131 TCP 66 3621 → 80 [FIN, ACK] Seq=167 Ack=398 Win=6912 Len=0 TSval=14290917 TSecr=4257102804',\n",
       " '412  75.168991 190.44.165.86 → 192.168.1.2  UDP 68 57549 → 35990 Len=26',\n",
       " '413  75.170847  192.168.1.2 → 190.44.165.86 UDP 60 35990 → 57549 Len=18',\n",
       " '414  75.185105   24.61.5.13 → 192.168.1.2  UDP 60 35466 → 35990 Len=18',\n",
       " '415  75.192369  192.168.1.2 → 72.145.3.159 UDP 72 35990 → 3523 Len=30',\n",
       " '416  75.200579 212.72.49.131 → 192.168.1.2  TCP 66 80 → 3621 [ACK] Seq=398 Ack=168 Win=6864 Len=0 TSval=4257102816 TSecr=14290917',\n",
       " '417  75.219667 24.107.221.82 → 192.168.1.2  UDP 60 55335 → 35990 Len=18',\n",
       " '418  75.220174  192.168.1.2 → 212.149.248.49 UDP 63 35990 → 62738 Len=21',\n",
       " '419  75.336659 72.145.3.159 → 192.168.1.2  UDP 60 3523 → 35990 Len=18',\n",
       " '420  75.448105 190.44.165.86 → 192.168.1.2  UDP 68 57549 → 35990 Len=26',\n",
       " '421  75.708770  192.168.1.2 → 192.168.1.1  DNS 86 Standard query 0x3157 PTR 141.8.215.195.in-addr.arpa',\n",
       " '422  75.708874  192.168.1.2 → 192.168.1.1  DNS 87 Standard query 0x3158 PTR 206.171.147.83.in-addr.arpa',\n",
       " '423  75.708909  192.168.1.2 → 192.168.1.1  DNS 88 Standard query 0x3159 PTR 217.190.207.172.in-addr.arpa',\n",
       " '424  75.708943  192.168.1.2 → 192.168.1.1  DNS 86 Standard query 0x315a PTR 86.165.44.190.in-addr.arpa',\n",
       " '425  75.708977  192.168.1.2 → 192.168.1.1  DNS 87 Standard query 0x315b PTR 168.238.130.83.in-addr.arpa',\n",
       " '426  75.709011  192.168.1.2 → 192.168.1.1  DNS 85 Standard query 0x315c PTR 219.146.5.83.in-addr.arpa',\n",
       " '427  75.709046  192.168.1.2 → 192.168.1.1  DNS 87 Standard query 0x315d PTR 244.163.253.82.in-addr.arpa',\n",
       " '428  75.709080  192.168.1.2 → 192.168.1.1  DNS 88 Standard query 0x315e PTR 147.177.139.202.in-addr.arpa',\n",
       " '429  75.709115  192.168.1.2 → 192.168.1.1  DNS 88 Standard query 0x315f PTR 123.205.232.202.in-addr.arpa',\n",
       " '430  75.709149  192.168.1.2 → 192.168.1.1  DNS 87 Standard query 0x3160 PTR 31.145.244.130.in-addr.arpa',\n",
       " '431  75.709184  192.168.1.2 → 192.168.1.1  DNS 85 Standard query 0x3161 PTR 30.73.47.217.in-addr.arpa',\n",
       " '432  75.709230  192.168.1.2 → 192.168.1.1  DNS 86 Standard query 0x3162 PTR 21.176.41.217.in-addr.arpa',\n",
       " '433  75.709266  192.168.1.2 → 192.168.1.1  DNS 87 Standard query 0x3163 PTR 118.176.41.217.in-addr.arpa',\n",
       " '434  75.709301  192.168.1.2 → 192.168.1.1  DNS 86 Standard query 0x3164 PTR 142.49.72.212.in-addr.arpa',\n",
       " '435  75.709335  192.168.1.2 → 192.168.1.1  DNS 87 Standard query 0x3165 PTR 49.248.149.212.in-addr.arpa',\n",
       " '436  75.709370  192.168.1.2 → 192.168.1.1  DNS 86 Standard query 0x3166 PTR 125.60.190.67.in-addr.arpa',\n",
       " '437  75.709404  192.168.1.2 → 192.168.1.1  DNS 86 Standard query 0x3167 PTR 92.109.242.24.in-addr.arpa',\n",
       " '438  75.709439  192.168.1.2 → 192.168.1.1  DNS 87 Standard query 0x3168 PTR 169.125.11.129.in-addr.arpa',\n",
       " '439  75.709474  192.168.1.2 → 192.168.1.1  DNS 86 Standard query 0x3169 PTR 152.67.192.69.in-addr.arpa',\n",
       " '440  75.709509  192.168.1.2 → 192.168.1.1  DNS 84 Standard query 0x316a PTR 44.61.67.66.in-addr.arpa',\n",
       " '441  75.709543  192.168.1.2 → 192.168.1.1  DNS 83 Standard query 0x316b PTR 13.5.61.24.in-addr.arpa',\n",
       " '442  75.709577  192.168.1.2 → 192.168.1.1  DNS 86 Standard query 0x316c PTR 82.221.107.24.in-addr.arpa',\n",
       " '443  75.709612  192.168.1.2 → 192.168.1.1  DNS 85 Standard query 0x316d PTR 159.3.145.72.in-addr.arpa',\n",
       " '444  76.307442  192.168.1.1 → 192.168.1.2  DNS 86 Standard query response 0x3157 PTR 141.8.215.195.in-addr.arpa',\n",
       " '445  76.308857  192.168.1.2 → 217.41.176.118 UDP 464 60589 → 33435 Len=422',\n",
       " '446  76.314543  192.168.1.1 → 192.168.1.2  DNS 139 Standard query response 0x3158 PTR 206.171.147.83.in-addr.arpa PTR ip-83-147-171-206.lmk.metro.digiweb.ie',\n",
       " '447  76.339188  192.168.1.1 → 192.168.1.2  DNS 142 Standard query response 0x315d PTR 244.163.253.82.in-addr.arpa PTR lns-bzn-30-82-253-163-244.adsl.proxad.net',\n",
       " '448  76.344776  192.168.1.1 → 192.168.1.2  DNS 87 Standard query response 0x3160 PTR 31.145.244.130.in-addr.arpa',\n",
       " '449  76.349674  192.168.1.1 → 192.168.1.2  DNS 85 Standard query response 0x3161 PTR 30.73.47.217.in-addr.arpa',\n",
       " '450  76.354941  192.168.1.1 → 192.168.1.2  DNS 122 Standard query response 0x3159 PTR 217.190.207.172.in-addr.arpa PTR ACCFBED9.ipt.aol.com',\n",
       " '451  76.365911  192.168.1.1 → 192.168.1.2  DNS 128 Standard query response 0x315c PTR 219.146.5.83.in-addr.arpa PTR aapm219.neoplus.adsl.tpnet.pl',\n",
       " '452  76.371116  192.168.1.1 → 192.168.1.2  DNS 86 Standard query response 0x3162 PTR 21.176.41.217.in-addr.arpa',\n",
       " '453  76.375539  192.168.1.1 → 192.168.1.2  DNS 87 Standard query response 0x3163 PTR 118.176.41.217.in-addr.arpa',\n",
       " '454  76.380209  192.168.1.1 → 192.168.1.2  DNS 133 Standard query response 0x315b PTR 168.238.130.83.in-addr.arpa PTR IGLD-83-130-238-168.inter.net.il',\n",
       " '455  76.385190  192.168.1.1 → 192.168.1.2  DNS 86 Standard query response 0x315a PTR 86.165.44.190.in-addr.arpa',\n",
       " '456  76.389430  192.168.1.1 → 192.168.1.2  DNS 86 Standard query response 0x3164 PTR 142.49.72.212.in-addr.arpa',\n",
       " '457  76.393624  192.168.1.1 → 192.168.1.2  DNS 134 Standard query response 0x3167 PTR 92.109.242.24.in-addr.arpa PTR cpe-24-242-109-92.sport.res.rr.com',\n",
       " '458  76.398367  192.168.1.1 → 192.168.1.2  DNS 135 Standard query response 0x3166 PTR 125.60.190.67.in-addr.arpa PTR c-67-190-60-125.hsd1.co.comcast.net',\n",
       " '459  76.403103  192.168.1.1 → 192.168.1.2  DNS 142 Standard query response 0x3165 PTR 49.248.149.212.in-addr.arpa PTR b-248-49.dsl.kpy.customers.dnainternet.fi',\n",
       " '460  76.407536  192.168.1.1 → 192.168.1.2  DNS 134 Standard query response 0x316a PTR 44.61.67.66.in-addr.arpa PTR cpe-66-67-61-44.rochester.res.rr.com',\n",
       " '461  76.411812  192.168.1.1 → 192.168.1.2  DNS 88 Standard query response 0x315e PTR 147.177.139.202.in-addr.arpa',\n",
       " '462  76.416057  192.168.1.1 → 192.168.1.2  DNS 147 Standard query response 0x3168 PTR 169.125.11.129.in-addr.arpa PTR student-halls-boddington-pc125-169.leeds.ac.uk',\n",
       " '463  76.420242  192.168.1.1 → 192.168.1.2  DNS 155 Standard query response 0x3169 PTR 152.67.192.69.in-addr.arpa PTR CPE0016ec35ac27-CM00159a41912e.cpe.net.cable.rogers.com',\n",
       " '464  76.424344  192.168.1.1 → 192.168.1.2  DNS 129 Standard query response 0x316b PTR 13.5.61.24.in-addr.arpa PTR c-24-61-5-13.hsd1.ma.comcast.net',\n",
       " '465  76.428258  192.168.1.1 → 192.168.1.2  DNS 131 Standard query response 0x316d PTR 159.3.145.72.in-addr.arpa PTR adsl-145-3-159.mia.bellsouth.net',\n",
       " '466  76.487595  192.168.1.2 → 192.168.1.1  DNS 98 Standard query 0x316e A ip-83-147-171-206.lmk.metro.digiweb.ie',\n",
       " '467  76.487665  192.168.1.2 → 192.168.1.1  DNS 101 Standard query 0x316f A lns-bzn-30-82-253-163-244.adsl.proxad.net',\n",
       " '468  76.487703  192.168.1.2 → 192.168.1.1  DNS 80 Standard query 0x3170 A ACCFBED9.ipt.aol.com',\n",
       " '469  76.487736  192.168.1.2 → 192.168.1.1  DNS 89 Standard query 0x3171 A aapm219.neoplus.adsl.tpnet.pl',\n",
       " '470  76.487772  192.168.1.2 → 192.168.1.1  DNS 92 Standard query 0x3172 A IGLD-83-130-238-168.inter.net.il',\n",
       " '471  76.487808  192.168.1.2 → 192.168.1.1  DNS 94 Standard query 0x3173 A cpe-24-242-109-92.sport.res.rr.com',\n",
       " '472  76.487840  192.168.1.2 → 192.168.1.1  DNS 95 Standard query 0x3174 A c-67-190-60-125.hsd1.co.comcast.net',\n",
       " '473  76.487874  192.168.1.2 → 192.168.1.1  DNS 101 Standard query 0x3175 A b-248-49.dsl.kpy.customers.dnainternet.fi',\n",
       " '474  76.487906  192.168.1.2 → 192.168.1.1  DNS 96 Standard query 0x3176 A cpe-66-67-61-44.rochester.res.rr.com',\n",
       " '475  76.487941  192.168.1.2 → 192.168.1.1  DNS 106 Standard query 0x3177 A student-halls-boddington-pc125-169.leeds.ac.uk',\n",
       " '476  76.487974  192.168.1.2 → 192.168.1.1  DNS 115 Standard query 0x3178 A CPE0016ec35ac27-CM00159a41912e.cpe.net.cable.rogers.com',\n",
       " '477  76.488006  192.168.1.2 → 192.168.1.1  DNS 92 Standard query 0x3179 A c-24-61-5-13.hsd1.ma.comcast.net',\n",
       " '478  76.488038  192.168.1.2 → 192.168.1.1  DNS 92 Standard query 0x317a A adsl-145-3-159.mia.bellsouth.net',\n",
       " '479  76.493670  192.168.1.1 → 192.168.1.2  DNS 114 Standard query response 0x316e A ip-83-147-171-206.lmk.metro.digiweb.ie A 83.147.171.206',\n",
       " '480  76.496845  192.168.1.1 → 192.168.1.2  DNS 117 Standard query response 0x316f A lns-bzn-30-82-253-163-244.adsl.proxad.net A 82.253.163.244',\n",
       " '481  76.499867  192.168.1.1 → 192.168.1.2  DNS 96 Standard query response 0x3170 A ACCFBED9.ipt.aol.com A 172.207.190.217',\n",
       " '482  76.502997  192.168.1.1 → 192.168.1.2  DNS 105 Standard query response 0x3171 A aapm219.neoplus.adsl.tpnet.pl A 83.5.146.219',\n",
       " '483  76.506197  192.168.1.1 → 192.168.1.2  DNS 108 Standard query response 0x3172 A IGLD-83-130-238-168.inter.net.il A 83.130.238.168',\n",
       " '484  76.509241  192.168.1.1 → 192.168.1.2  DNS 110 Standard query response 0x3173 A cpe-24-242-109-92.sport.res.rr.com A 24.242.109.92',\n",
       " '485  76.512540  192.168.1.1 → 192.168.1.2  DNS 111 Standard query response 0x3174 A c-67-190-60-125.hsd1.co.comcast.net A 67.190.60.125',\n",
       " '486  76.515794  192.168.1.1 → 192.168.1.2  DNS 117 Standard query response 0x3175 A b-248-49.dsl.kpy.customers.dnainternet.fi A 212.149.248.49',\n",
       " '487  76.518246  192.168.1.2 → 192.168.1.1  DNS 72 Standard query 0x9bb7 AAAA ui.skype.com',\n",
       " '488  76.519483  192.168.1.1 → 192.168.1.2  DNS 112 Standard query response 0x3176 A cpe-66-67-61-44.rochester.res.rr.com A 66.67.61.44',\n",
       " '489  76.522717  192.168.1.1 → 192.168.1.2  DNS 122 Standard query response 0x3177 A student-halls-boddington-pc125-169.leeds.ac.uk A 129.11.125.169',\n",
       " '490  76.526199  192.168.1.1 → 192.168.1.2  DNS 131 Standard query response 0x3178 A CPE0016ec35ac27-CM00159a41912e.cpe.net.cable.rogers.com A 69.192.67.152',\n",
       " '491  76.529367  192.168.1.1 → 192.168.1.2  DNS 108 Standard query response 0x3179 A c-24-61-5-13.hsd1.ma.comcast.net A 24.61.5.13',\n",
       " '492  76.532740  192.168.1.1 → 192.168.1.2  DNS 108 Standard query response 0x317a A adsl-145-3-159.mia.bellsouth.net A 72.145.3.159',\n",
       " '493  76.536082  192.168.1.1 → 192.168.1.2  DNS 138 Standard query response 0x316c PTR 82.221.107.24.in-addr.arpa PTR 24-107-221-82.dhcp.stls.mo.charter.com',\n",
       " '494  76.550736  192.168.1.2 → 212.149.248.49 UDP 72 35990 → 62738 Len=30',\n",
       " '495  76.641630  192.168.1.1 → 192.168.1.2  DNS 124 Standard query response 0x315f PTR 123.205.232.202.in-addr.arpa PTR bmdj7123.bmobile.ne.jp',\n",
       " '496  77.254941  192.168.1.2 → 212.149.248.49 UDP 63 35990 → 62738 Len=21',\n",
       " '497  77.262663  192.168.1.2 → 192.168.1.1  DNS 98 Standard query 0x317b A 24-107-221-82.dhcp.stls.mo.charter.com',\n",
       " '498  77.262703  192.168.1.2 → 192.168.1.1  DNS 82 Standard query 0x317c A bmdj7123.bmobile.ne.jp',\n",
       " '499  77.280335  192.168.1.1 → 192.168.1.2  DNS 114 Standard query response 0x317b A 24-107-221-82.dhcp.stls.mo.charter.com A 24.107.221.82',\n",
       " '500  77.283454  192.168.1.1 → 192.168.1.2  DNS 98 Standard query response 0x317c A bmdj7123.bmobile.ne.jp A 202.232.205.123',\n",
       " '501  77.339743  192.168.1.1 → 192.168.1.2  DNS 136 Standard query response 0x9bb7 AAAA ui.skype.com SOA ns1.skype.net',\n",
       " '502  78.018964  192.168.1.2 → 192.168.1.1  DNS 72 Standard query 0x9bb7 AAAA ui.skype.com',\n",
       " '503  78.354365  192.168.1.1 → 192.168.1.2  DNS 136 Standard query response 0x9bb7 AAAA ui.skype.com SOA ns1.skype.net',\n",
       " '504  78.442236 24.177.122.79 → 192.168.1.2  ASAP 92 Unknown ASAP type [Packet size limited during capture]',\n",
       " '505  78.442286  192.168.1.2 → 24.177.122.79 TCP 66 3863 → 8022 [ACK] Seq=77 Ack=128 Win=761 Len=0 TSval=14294206 TSecr=3340539',\n",
       " '506  79.303387 172.200.160.242 → 192.168.1.2  TCP 109 11352 → 4984 [PSH, ACK] Seq=304 Ack=76 Win=65052 Len=43 TSval=1745375 TSecr=14283040',\n",
       " '507  79.303436  192.168.1.2 → 172.200.160.242 TCP 66 4984 → 11352 [ACK] Seq=76 Ack=347 Win=756 Len=0 TSval=14295067 TSecr=1745375',\n",
       " '508  79.357523  192.168.1.2 → 217.41.176.118 UDP 464 60592 → 33435 Len=422',\n",
       " '509  79.519719  192.168.1.2 → 192.168.1.1  DNS 72 Standard query 0x9bb7 AAAA ui.skype.com',\n",
       " '510  80.008776  192.168.1.1 → 192.168.1.2  DNS 127 Standard query response 0x9bb7 AAAA ui.skype.com SOA ns1.skype.net',\n",
       " '511  80.009134  192.168.1.2 → 192.168.1.1  DNS 72 Standard query 0x9bb8 AAAA ui.skype.com',\n",
       " '512  80.497511  192.168.1.1 → 192.168.1.2  DNS 127 Standard query response 0x9bb8 AAAA ui.skype.com SOA ns1.skype.net',\n",
       " '513  80.558648  192.168.1.2 → 212.149.248.49 UDP 72 35990 → 62738 Len=30',\n",
       " '514  80.612716  192.168.1.2 → 212.204.214.114 IRC 96 Request (ISON)',\n",
       " '515  80.679902 212.204.214.114 → 192.168.1.2  IRC 112 Response (303)',\n",
       " '516  80.679959  192.168.1.2 → 212.204.214.114 TCP 66 2848 → 6667 [ACK] Seq=179 Ack=25313 Win=8011 Len=0 TSval=14296444 TSecr=2196044619',\n",
       " '517  81.258524  192.168.1.2 → 212.149.248.49 UDP 63 35990 → 62738 Len=21',\n",
       " '518  81.364477  192.168.1.2 → 217.41.176.118 UDP 464 60595 → 33435 Len=422',\n",
       " '519  82.191476 71.10.179.129 → 192.168.1.2  TCP 108 14232 → 4026 [PSH, ACK] Seq=311 Ack=75 Win=63733 Len=42 TSval=1888736 TSecr=14285901',\n",
       " '520  82.191522  192.168.1.2 → 71.10.179.129 TCP 66 4026 → 14232 [ACK] Seq=75 Ack=353 Win=751 Len=0 TSval=14297956 TSecr=1888736',\n",
       " '521  83.194062 212.204.214.114 → 192.168.1.2  IRC 267 Response (PRIVMSG)',\n",
       " '522  83.194125  192.168.1.2 → 212.204.214.114 TCP 66 2848 → 6667 [ACK] Seq=179 Ack=25514 Win=8011 Len=0 TSval=14298959 TSecr=2196044870',\n",
       " '523  83.764906 193.150.239.120 → 192.168.1.2  TCP 231 11421 → 3544 [PSH, ACK] Seq=1 Ack=1 Win=65422 Len=165 TSval=98347 TSecr=14019711',\n",
       " '524  83.764959  192.168.1.2 → 193.150.239.120 TCP 66 3544 → 11421 [ACK] Seq=1 Ack=166 Win=998 Len=0 TSval=14299529 TSecr=98347',\n",
       " '525  84.102096  192.168.1.2 → 192.168.1.1  DNS 88 Standard query 0x317d PTR 120.239.150.193.in-addr.arpa',\n",
       " '526  84.156309  192.168.1.1 → 192.168.1.2  DNS 135 Standard query response 0x317d PTR 120.239.150.193.in-addr.arpa PTR c193-150-239-120.cm-upc.chello.se',\n",
       " '527  84.851915  192.168.1.2 → 192.168.1.1  DNS 93 Standard query 0x317e A c193-150-239-120.cm-upc.chello.se',\n",
       " '528  84.855116  192.168.1.1 → 192.168.1.2  DNS 109 Standard query response 0x317e A c193-150-239-120.cm-upc.chello.se A 193.150.239.120',\n",
       " '529  85.267187  192.168.1.2 → 24.107.221.82 UDP 63 35990 → 55335 Len=21',\n",
       " '530  85.397481 24.107.221.82 → 192.168.1.2  UDP 118 55335 → 35990 Len=76',\n",
       " '531  85.398576  192.168.1.2 → 68.84.140.103 UDP 72 35990 → 47070 Len=30',\n",
       " '532  85.398617  192.168.1.2 → 72.181.61.199 UDP 72 35990 → 7150 Len=30',\n",
       " '533  85.398665  192.168.1.2 → 24.225.155.47 UDP 72 35990 → 53311 Len=30',\n",
       " '534  85.511109 24.225.155.47 → 192.168.1.2  UDP 60 53311 → 35990 Len=18',\n",
       " '535  85.538882 68.84.140.103 → 192.168.1.2  UDP 60 47070 → 35990 Len=18',\n",
       " '536  85.558095  192.168.1.2 → 82.216.129.118 UDP 72 35990 → 39085 Len=30',\n",
       " '537  85.558532  192.168.1.2 → 24.243.179.113 UDP 72 35990 → 56792 Len=30',\n",
       " '538  85.566065 72.181.61.199 → 192.168.1.2  UDP 60 7150 → 35990 Len=18',\n",
       " '539  85.567201  192.168.1.2 → 67.162.133.209 UDP 72 35990 → 56626 Len=30',\n",
       " '540  85.604441 82.216.129.118 → 192.168.1.2  UDP 60 39085 → 35990 Len=18',\n",
       " '541  85.604924  192.168.1.2 → 212.30.7.170 UDP 72 35990 → 30241 Len=30',\n",
       " '542  85.664092 212.30.7.170 → 192.168.1.2  UDP 60 30241 → 35990 Len=18',\n",
       " '543  85.733021 67.162.133.209 → 192.168.1.2  UDP 60 56626 → 35990 Len=18',\n",
       " '544  85.735519 24.243.179.113 → 192.168.1.2  UDP 60 56792 → 35990 Len=18',\n",
       " '545  85.736202  192.168.1.2 → 67.162.133.209 UDP 388 35990 → 56626 Len=346',\n",
       " '546  85.736275  192.168.1.2 → 82.216.129.118 UDP 388 35990 → 39085 Len=346',\n",
       " '547  85.736318  192.168.1.2 → 72.181.61.199 UDP 388 35990 → 7150 Len=346',\n",
       " '548  85.736361  192.168.1.2 → 68.84.140.103 UDP 388 35990 → 47070 Len=346',\n",
       " '549  85.736390  192.168.1.2 → 24.107.221.82 UDP 388 35990 → 55335 Len=346',\n",
       " '550  85.736439  192.168.1.2 → 66.67.61.44  UDP 388 35990 → 58546 Len=346',\n",
       " '551  85.736488  192.168.1.2 → 24.242.109.92 UDP 388 35990 → 44872 Len=346',\n",
       " '552  85.736574  192.168.1.2 → 67.190.60.125 UDP 388 35990 → 3944 Len=346',\n",
       " '553  85.803409 82.216.129.118 → 192.168.1.2  UDP 60 39085 → 35990 Len=11',\n",
       " '554  85.912364 67.162.133.209 → 192.168.1.2  UDP 60 56626 → 35990 Len=11',\n",
       " '555  85.915983 68.84.140.103 → 192.168.1.2  UDP 60 47070 → 35990 Len=11',\n",
       " '556  85.924372 24.107.221.82 → 192.168.1.2  UDP 60 55335 → 35990 Len=11',\n",
       " '557  85.935467 72.181.61.199 → 192.168.1.2  UDP 60 7150 → 35990 Len=11',\n",
       " '558  85.937936  66.67.61.44 → 192.168.1.2  UDP 60 58546 → 35990 Len=11',\n",
       " '559  85.963366 24.242.109.92 → 192.168.1.2  UDP 60 44872 → 35990 Len=11',\n",
       " '560  86.002955 67.190.60.125 → 192.168.1.2  UDP 60 3944 → 35990 Len=11',\n",
       " '561  89.963533 130.117.72.70 → 192.168.1.2  UDP 63 51318 → 35990 Len=21',\n",
       " '562  89.963826  192.168.1.2 → 130.117.72.70 UDP 53 35990 → 51318 Len=11',\n",
       " '563  90.028395  192.168.1.2 → 212.72.49.142 UDP 69 35990 → 12350 Len=27',\n",
       " '564  90.105133  192.168.1.2 → 192.168.1.1  DNS 86 Standard query 0x317f PTR 103.140.84.68.in-addr.arpa',\n",
       " '565  90.105183  192.168.1.2 → 192.168.1.1  DNS 86 Standard query 0x3180 PTR 199.61.181.72.in-addr.arpa',\n",
       " '566  90.105211  192.168.1.2 → 192.168.1.1  DNS 86 Standard query 0x3181 PTR 47.155.225.24.in-addr.arpa',\n",
       " '567  90.105238  192.168.1.2 → 192.168.1.1  DNS 87 Standard query 0x3182 PTR 118.129.216.82.in-addr.arpa',\n",
       " '568  90.105265  192.168.1.2 → 192.168.1.1  DNS 87 Standard query 0x3183 PTR 113.179.243.24.in-addr.arpa',\n",
       " '569  90.105292  192.168.1.2 → 192.168.1.1  DNS 87 Standard query 0x3184 PTR 209.133.162.67.in-addr.arpa',\n",
       " '570  90.105318  192.168.1.2 → 192.168.1.1  DNS 85 Standard query 0x3185 PTR 170.7.30.212.in-addr.arpa',\n",
       " '571  90.105345  192.168.1.2 → 192.168.1.1  DNS 86 Standard query 0x3186 PTR 70.72.117.130.in-addr.arpa',\n",
       " '572  90.124580 212.72.49.142 → 192.168.1.2  UDP 64 12350 → 35990 Len=22',\n",
       " '573  90.124947  192.168.1.2 → 212.72.49.142 TCP 74 2576 → 12350 [SYN] Seq=0 Win=5840 Len=0 MSS=1460 SACK_PERM=1 TSval=14305890 TSecr=0 WS=8',\n",
       " '574  90.168698 212.72.49.142 → 192.168.1.2  TCP 74 12350 → 2576 [SYN, ACK] Seq=0 Ack=1 Win=5792 Len=0 MSS=1460 SACK_PERM=1 TSval=132450189 TSecr=14305890 WS=1',\n",
       " '575  90.168751  192.168.1.2 → 212.72.49.142 TCP 66 2576 → 12350 [ACK] Seq=1 Ack=1 Win=5840 Len=0 TSval=14305934 TSecr=132450189',\n",
       " '576  90.168874  192.168.1.2 → 212.72.49.142 TCP 71 2576 → 12350 [PSH, ACK] Seq=1 Ack=1 Win=5840 Len=5 TSval=14305934 TSecr=132450189',\n",
       " '577  90.185704  192.168.1.1 → 192.168.1.2  DNS 141 Standard query response 0x3182 PTR 118.129.216.82.in-addr.arpa PTR ip-118.net-82-216-129.rev.numericable.fr',\n",
       " '578  90.203297  192.168.1.1 → 192.168.1.2  DNS 86 Standard query response 0x3186 PTR 70.72.117.130.in-addr.arpa',\n",
       " '579  90.214508 212.72.49.142 → 192.168.1.2  TCP 66 12350 → 2576 [ACK] Seq=1 Ack=6 Win=5792 Len=0 TSval=132450193 TSecr=14305934',\n",
       " '580  90.215657  192.168.1.1 → 192.168.1.2  DNS 135 Standard query response 0x317f PTR 103.140.84.68.in-addr.arpa PTR c-68-84-140-103.hsd1.md.comcast.net',\n",
       " '581  90.229845  192.168.1.1 → 192.168.1.2  DNS 136 Standard query response 0x3180 PTR 199.61.181.72.in-addr.arpa PTR cpe-72-181-61-199.houston.res.rr.com',\n",
       " '582  90.233751  192.168.1.1 → 192.168.1.2  DNS 120 Standard query response 0x3185 PTR 170.7.30.212.in-addr.arpa PTR bbd933.home.cwgsy.net',\n",
       " '583  90.247249  192.168.1.1 → 192.168.1.2  DNS 134 Standard query response 0x3183 PTR 113.179.243.24.in-addr.arpa PTR cpe-24-243-179-113.hot.res.rr.com',\n",
       " '584  90.251579  192.168.1.1 → 192.168.1.2  DNS 137 Standard query response 0x3184 PTR 209.133.162.67.in-addr.arpa PTR c-67-162-133-209.hsd1.co.comcast.net',\n",
       " '585  90.319206 212.72.49.142 → 192.168.1.2  TCP 71 12350 → 2576 [PSH, ACK] Seq=1 Ack=6 Win=5792 Len=5 TSval=132450204 TSecr=14305934',\n",
       " '586  90.319256  192.168.1.2 → 212.72.49.142 TCP 66 2576 → 12350 [ACK] Seq=6 Ack=6 Win=5840 Len=0 TSval=14306085 TSecr=132450204',\n",
       " '587  90.320290  192.168.1.2 → 212.72.49.142 TCP 326 2576 → 12350 [PSH, ACK] Seq=6 Ack=6 Win=5840 Len=260 TSval=14306086 TSecr=132450204',\n",
       " '588  90.324366  192.168.1.1 → 192.168.1.2  DNS 131 Standard query response 0x3181 PTR 47.155.225.24.in-addr.arpa PTR host-24-225-155-47.patmedia.net',\n",
       " '589  90.373699 212.72.49.142 → 192.168.1.2  TCP 66 12350 → 2576 [ACK] Seq=6 Ack=266 Win=6432 Len=0 TSval=132450209 TSecr=14306086',\n",
       " '590  90.478625 212.72.49.142 → 192.168.1.2  TCP 82 12350 → 2576 [PSH, ACK] Seq=6 Ack=266 Win=6432 Len=16 TSval=132450220 TSecr=14306086',\n",
       " '591  90.518005  192.168.1.2 → 212.72.49.142 TCP 66 2576 → 12350 [ACK] Seq=266 Ack=22 Win=5840 Len=0 TSval=14306284 TSecr=132450220',\n",
       " '592  90.562099 212.72.49.142 → 192.168.1.2  TCP 134 12350 → 2576 [PSH, ACK] Seq=22 Ack=266 Win=6432 Len=68 TSval=132450228 TSecr=14306284',\n",
       " '593  90.562150  192.168.1.2 → 212.72.49.142 TCP 66 2576 → 12350 [ACK] Seq=266 Ack=90 Win=5840 Len=0 TSval=14306328 TSecr=132450228',\n",
       " '594  90.570408  192.168.1.2 → 212.72.49.142 TCP 91 2576 → 12350 [PSH, ACK] Seq=266 Ack=90 Win=5840 Len=25 TSval=14306336 TSecr=132450228',\n",
       " '595  90.640703 212.72.49.142 → 192.168.1.2  TCP 66 12350 → 2576 [ACK] Seq=90 Ack=291 Win=6432 Len=0 TSval=132450236 TSecr=14306336',\n",
       " '596  90.681556 212.72.49.142 → 192.168.1.2  TCP 87 12350 → 2576 [PSH, ACK] Seq=90 Ack=291 Win=6432 Len=21 TSval=132450240 TSecr=14306336',\n",
       " '597  90.720974  192.168.1.2 → 212.72.49.142 TCP 66 2576 → 12350 [ACK] Seq=291 Ack=111 Win=5840 Len=0 TSval=14306487 TSecr=132450240',\n",
       " '598  90.866992  192.168.1.2 → 192.168.1.1  DNS 100 Standard query 0x3187 A ip-118.net-82-216-129.rev.numericable.fr',\n",
       " '599  90.867037  192.168.1.2 → 192.168.1.1  DNS 95 Standard query 0x3188 A c-68-84-140-103.hsd1.md.comcast.net',\n",
       " '600  90.867061  192.168.1.2 → 192.168.1.1  DNS 96 Standard query 0x3189 A cpe-72-181-61-199.houston.res.rr.com',\n",
       " '601  90.867085  192.168.1.2 → 192.168.1.1  DNS 81 Standard query 0x318a A bbd933.home.cwgsy.net',\n",
       " '602  90.867109  192.168.1.2 → 192.168.1.1  DNS 93 Standard query 0x318b A cpe-24-243-179-113.hot.res.rr.com',\n",
       " '603  90.867134  192.168.1.2 → 192.168.1.1  DNS 96 Standard query 0x318c A c-67-162-133-209.hsd1.co.comcast.net',\n",
       " '604  90.867157  192.168.1.2 → 192.168.1.1  DNS 91 Standard query 0x318d A host-24-225-155-47.patmedia.net',\n",
       " '605  90.871388  192.168.1.1 → 192.168.1.2  DNS 116 Standard query response 0x3187 A ip-118.net-82-216-129.rev.numericable.fr A 82.216.129.118',\n",
       " '606  90.874401  192.168.1.1 → 192.168.1.2  DNS 111 Standard query response 0x3188 A c-68-84-140-103.hsd1.md.comcast.net A 68.84.140.103',\n",
       " '607  90.877360  192.168.1.1 → 192.168.1.2  DNS 112 Standard query response 0x3189 A cpe-72-181-61-199.houston.res.rr.com A 72.181.61.199',\n",
       " '608  90.880212  192.168.1.1 → 192.168.1.2  DNS 97 Standard query response 0x318a A bbd933.home.cwgsy.net A 212.30.7.170',\n",
       " '609  90.883257  192.168.1.1 → 192.168.1.2  DNS 109 Standard query response 0x318b A cpe-24-243-179-113.hot.res.rr.com A 24.243.179.113',\n",
       " '610  90.886255  192.168.1.1 → 192.168.1.2  DNS 112 Standard query response 0x318c A c-67-162-133-209.hsd1.co.comcast.net A 67.162.133.209',\n",
       " '611  90.889141  192.168.1.1 → 192.168.1.2  DNS 107 Standard query response 0x318d A host-24-225-155-47.patmedia.net A 24.225.155.47',\n",
       " '612  91.359191 172.200.160.242 → 192.168.1.2  TCP 110 11352 → 4984 [PSH, ACK] Seq=347 Ack=76 Win=65052 Len=44 TSval=1745495 TSecr=14295067',\n",
       " '613  91.359259  192.168.1.2 → 172.200.160.242 TCP 66 4984 → 11352 [ACK] Seq=76 Ack=391 Win=751 Len=0 TSval=14307125 TSecr=1745495',\n",
       " '614  93.366228 71.10.179.129 → 192.168.1.2  TCP 92 14232 → 4026 [PSH, ACK] Seq=353 Ack=75 Win=63733 Len=26 TSval=1888847 TSecr=14297956',\n",
       " '615  93.366294  192.168.1.2 → 71.10.179.129 TCP 66 4026 → 14232 [ACK] Seq=75 Ack=379 Win=748 Len=0 TSval=14309132 TSecr=1888847',\n",
       " '616  93.488632 24.177.122.79 → 192.168.1.2  ASAP 91 Unknown ASAP type [Packet size limited during capture]',\n",
       " '617  93.488694  192.168.1.2 → 24.177.122.79 TCP 66 3863 → 8022 [ACK] Seq=77 Ack=153 Win=758 Len=0 TSval=14309255 TSecr=3340690',\n",
       " '618  93.565632  192.168.1.2 → 71.10.179.129 TCP 90 4026 → 14232 [PSH, ACK] Seq=75 Ack=379 Win=768 Len=24 TSval=14309332 TSecr=1888847',\n",
       " '619  93.688606  192.168.1.2 → 24.177.122.79 ASAP 91 Unknown ASAP type [Packet size limited during capture]',\n",
       " '620  93.874732 71.10.179.129 → 192.168.1.2  TCP 66 14232 → 4026 [ACK] Seq=379 Ack=99 Win=63709 Len=0 TSval=1888853 TSecr=14309332',\n",
       " '621  93.962697 24.177.122.79 → 192.168.1.2  TCP 66 8022 → 3863 [ACK] Seq=153 Ack=102 Win=16220 Len=0 TSval=3340696 TSecr=14309455',\n",
       " '622  94.178774 71.10.179.129 → 192.168.1.2  TCP 109 14232 → 4026 [PSH, ACK] Seq=379 Ack=99 Win=63709 Len=43 TSval=1888855 TSecr=14309332',\n",
       " '623  94.178824  192.168.1.2 → 71.10.179.129 TCP 66 4026 → 14232 [ACK] Seq=99 Ack=422 Win=762 Len=0 TSval=14309945 TSecr=1888855',\n",
       " '624  95.657407 212.204.214.114 → 192.168.1.2  IRC 168 Response (PRIVMSG)',\n",
       " '625  95.657472  192.168.1.2 → 212.204.214.114 TCP 66 2848 → 6667 [ACK] Seq=179 Ack=25616 Win=8011 Len=0 TSval=14311424 TSecr=2196046117',\n",
       " '626  98.021024  192.168.1.1 → 224.0.0.1    IGMPv2 60 Membership Query, general',\n",
       " '627  98.395860  192.168.1.2 → 192.168.1.1  DNS 82 Standard query 0x318e PTR 1.0.0.224.in-addr.arpa',\n",
       " '628  98.465162  192.168.1.1 → 192.168.1.2  DNS 117 Standard query response 0x318e PTR 1.0.0.224.in-addr.arpa PTR ALL-SYSTEMS.MCAST.NET',\n",
       " '629  99.145847  192.168.1.2 → 192.168.1.1  DNS 81 Standard query 0x318f A ALL-SYSTEMS.MCAST.NET',\n",
       " '630  99.149064  192.168.1.1 → 192.168.1.2  DNS 97 Standard query response 0x318f A ALL-SYSTEMS.MCAST.NET A 224.0.0.1',\n",
       " '631 100.743665  192.168.1.2 → 212.204.214.114 IRC 96 Request (ISON)',\n",
       " '632 100.819343 212.204.214.114 → 192.168.1.2  IRC 112 Response (303)',\n",
       " '633 100.819396  192.168.1.2 → 212.204.214.114 TCP 66 2848 → 6667 [ACK] Seq=209 Ack=25662 Win=8011 Len=0 TSval=14316586 TSecr=2196046633',\n",
       " '634 102.873476 172.200.160.242 → 192.168.1.2  TCP 93 11352 → 4984 [PSH, ACK] Seq=391 Ack=76 Win=65052 Len=27 TSval=1745611 TSecr=14307125',\n",
       " '635 102.873526  192.168.1.2 → 172.200.160.242 TCP 66 4984 → 11352 [ACK] Seq=76 Ack=418 Win=748 Len=0 TSval=14318641 TSecr=1745611',\n",
       " '636 103.072189  192.168.1.2 → 172.200.160.242 TCP 90 4984 → 11352 [PSH, ACK] Seq=76 Ack=418 Win=768 Len=24 TSval=14318840 TSecr=1745611',\n",
       " '637 103.315468 172.200.160.242 → 192.168.1.2  TCP 66 11352 → 4984 [ACK] Seq=418 Ack=100 Win=65028 Len=0 TSval=1745616 TSecr=14318840',\n",
       " '638 103.406337 172.200.160.242 → 192.168.1.2  TCP 107 11352 → 4984 [PSH, ACK] Seq=418 Ack=100 Win=65028 Len=41 TSval=1745616 TSecr=14318840',\n",
       " '639 103.406382  192.168.1.2 → 172.200.160.242 TCP 66 4984 → 11352 [ACK] Seq=100 Ack=459 Win=762 Len=0 TSval=14319174 TSecr=1745616',\n",
       " '640 104.480031  192.168.1.2 → 195.215.8.141 TCP 66 1325 → 33033 [FIN, ACK] Seq=475 Ack=305 Win=6912 Len=0 TSval=14320248 TSecr=1049909411',\n",
       " '641 104.487480 195.215.8.141 → 192.168.1.2  TCP 66 33033 → 1325 [FIN, ACK] Seq=305 Ack=475 Win=6432 Len=0 TSval=1049912414 TSecr=14290261',\n",
       " '642 104.487545  192.168.1.2 → 195.215.8.141 TCP 66 1325 → 33033 [ACK] Seq=476 Ack=306 Win=6912 Len=0 TSval=14320255 TSecr=1049912414',\n",
       " '643 104.552536 195.215.8.141 → 192.168.1.2  TCP 66 33033 → 1325 [ACK] Seq=306 Ack=476 Win=6432 Len=0 TSval=1049912420 TSecr=14320248',\n",
       " '644 105.803854  192.168.1.2 → 212.204.214.114 IRC 82 Request (WHO)',\n",
       " '645 105.929250 212.204.214.114 → 192.168.1.2  IRC 1090 Response (352) (352) (352) (352) (352) (352) (352) (352)',\n",
       " '646 105.929307  192.168.1.2 → 212.204.214.114 TCP 66 2848 → 6667 [ACK] Seq=225 Ack=26686 Win=8011 Len=0 TSval=14321697 TSecr=2196047144',\n",
       " '647 105.965731 212.204.214.114 → 192.168.1.2  IRC 1152 Response (aul) (352) (352) (352) (352) (352) (352) (352) (352) (315)',\n",
       " '648 105.965781  192.168.1.2 → 212.204.214.114 TCP 66 2848 → 6667 [ACK] Seq=225 Ack=27772 Win=8011 Len=0 TSval=14321734 TSecr=2196047147',\n",
       " '649 106.705057 71.10.179.129 → 192.168.1.2  TCP 109 14232 → 4026 [PSH, ACK] Seq=422 Ack=99 Win=63709 Len=43 TSval=1888976 TSecr=14309945',\n",
       " '650 106.705106  192.168.1.2 → 71.10.179.129 TCP 66 4026 → 14232 [ACK] Seq=99 Ack=465 Win=757 Len=0 TSval=14322473 TSecr=1888976',\n",
       " '651 106.705386 71.10.179.129 → 192.168.1.2  TCP 109 [TCP Spurious Retransmission] 14232 → 4026 [PSH, ACK] Seq=422 Ack=99 Win=63709 Len=43 TSval=1888982 TSecr=14309945',\n",
       " '652 106.705407  192.168.1.2 → 71.10.179.129 TCP 78 [TCP Window Update] 4026 → 14232 [ACK] Seq=99 Ack=465 Win=768 Len=0 TSval=14322473 TSecr=1888982 SLE=422 SRE=465',\n",
       " '653 108.280177 212.204.214.114 → 192.168.1.2  IRC 156 Response (QUIT)',\n",
       " '654 108.280231  192.168.1.2 → 212.204.214.114 TCP 66 2848 → 6667 [ACK] Seq=225 Ack=27862 Win=8011 Len=0 TSval=14324048 TSecr=2196047379',\n",
       " '655 115.420367 172.200.160.242 → 192.168.1.2  TCP 111 11352 → 4984 [PSH, ACK] Seq=459 Ack=100 Win=65028 Len=45 TSval=1745736 TSecr=14319174',\n",
       " '656 115.420420  192.168.1.2 → 172.200.160.242 TCP 66 4984 → 11352 [ACK] Seq=100 Ack=504 Win=757 Len=0 TSval=14331190 TSecr=1745736',\n",
       " '657 116.233946 212.204.214.114 → 192.168.1.2  IRC 158 Response (PRIVMSG)',\n",
       " '658 116.233994  192.168.1.2 → 212.204.214.114 TCP 66 2848 → 6667 [ACK] Seq=225 Ack=27954 Win=8011 Len=0 TSval=14332003 TSecr=2196048175',\n",
       " '659 118.311437 71.10.179.129 → 192.168.1.2  TCP 110 14232 → 4026 [PSH, ACK] Seq=465 Ack=99 Win=63709 Len=44 TSval=1889097 TSecr=14322473',\n",
       " '660 118.311483  192.168.1.2 → 71.10.179.129 TCP 66 4026 → 14232 [ACK] Seq=99 Ack=509 Win=762 Len=0 TSval=14334081 TSecr=1889097',\n",
       " '661 118.759630 212.204.214.114 → 192.168.1.2  IRC 203 Response (PRIVMSG)',\n",
       " '662 118.759686  192.168.1.2 → 212.204.214.114 TCP 66 2848 → 6667 [ACK] Seq=225 Ack=28091 Win=8011 Len=0 TSval=14334529 TSecr=2196048427',\n",
       " '663 119.995277  192.168.1.2 → 67.162.133.209 UDP 388 35990 → 56626 Len=346',\n",
       " '664 119.995351  192.168.1.2 → 82.216.129.118 UDP 388 35990 → 39085 Len=346',\n",
       " '665 119.995393  192.168.1.2 → 72.181.61.199 UDP 388 35990 → 7150 Len=346',\n",
       " '666 119.995468  192.168.1.2 → 68.84.140.103 UDP 388 35990 → 47070 Len=346',\n",
       " '667 119.995522  192.168.1.2 → 24.107.221.82 UDP 388 35990 → 55335 Len=346',\n",
       " '668 119.995595  192.168.1.2 → 66.67.61.44  UDP 388 35990 → 58546 Len=346',\n",
       " '669 119.995643  192.168.1.2 → 24.242.109.92 UDP 388 35990 → 44872 Len=346',\n",
       " '670 119.995687  192.168.1.2 → 67.190.60.125 UDP 388 35990 → 3944 Len=346',\n",
       " '671 119.995855  192.168.1.2 → 68.206.150.243 TCP 79 1312 → 57322 [PSH, ACK] Seq=138 Ack=1728 Win=9512 Len=13 TSval=14335766 TSecr=2294372',\n",
       " '672 120.060452 82.216.129.118 → 192.168.1.2  UDP 60 39085 → 35990 Len=11',\n",
       " '673 120.169387 67.162.133.209 → 192.168.1.2  UDP 60 56626 → 35990 Len=11',\n",
       " '674 120.176028 68.84.140.103 → 192.168.1.2  UDP 60 47070 → 35990 Len=11',\n",
       " '675 120.183411 24.107.221.82 → 192.168.1.2  UDP 60 55335 → 35990 Len=11',\n",
       " '676 120.194977  66.67.61.44 → 192.168.1.2  UDP 60 58546 → 35990 Len=11',\n",
       " '677 120.196914 72.181.61.199 → 192.168.1.2  UDP 60 7150 → 35990 Len=11',\n",
       " '678 120.231919 24.242.109.92 → 192.168.1.2  UDP 60 44872 → 35990 Len=11',\n",
       " '679 120.237354 68.206.150.243 → 192.168.1.2  TCP 114 57322 → 1312 [PSH, ACK] Seq=1728 Ack=151 Win=65385 Len=48 TSval=2294826 TSecr=14335766',\n",
       " '680 120.237391  192.168.1.2 → 68.206.150.243 TCP 66 1312 → 57322 [ACK] Seq=151 Ack=1776 Win=9512 Len=0 TSval=14336007 TSecr=2294826',\n",
       " '681 120.240269  192.168.1.2 → 67.190.177.7 UDP 388 35990 → 10421 Len=346',\n",
       " '682 120.240388  192.168.1.2 → 24.50.144.100 UDP 388 35990 → 57683 Len=346',\n",
       " '683 120.240443  192.168.1.2 → 88.134.27.180 UDP 388 35990 → 23830 Len=346',\n",
       " '684 120.240507  192.168.1.2 → 24.93.232.92 UDP 388 35990 → 11827 Len=346',\n",
       " '685 120.263511 67.190.60.125 → 192.168.1.2  UDP 60 3944 → 35990 Len=11',\n",
       " '686 120.348028 88.134.27.180 → 192.168.1.2  UDP 60 23830 → 35990 Len=11',\n",
       " '687 120.404470 67.190.177.7 → 192.168.1.2  UDP 60 10421 → 35990 Len=11',\n",
       " '688 120.409666 24.50.144.100 → 192.168.1.2  UDP 60 57683 → 35990 Len=11',\n",
       " '689 120.415981 AskeyCom_19:27:15 → 3Com_96:7b:da ARP 60 Who has 192.168.1.2? Tell 192.168.1.1',\n",
       " '690 120.415998 3Com_96:7b:da → AskeyCom_19:27:15 ARP 42 192.168.1.2 is at 00:04:76:96:7b:da',\n",
       " '691 120.429622 24.93.232.92 → 192.168.1.2  UDP 60 11827 → 35990 Len=11',\n",
       " '692 120.679544  192.168.1.2 → 212.72.49.142 TCP 66 2576 → 12350 [FIN, ACK] Seq=291 Ack=111 Win=5840 Len=0 TSval=14336450 TSecr=132450240',\n",
       " '693 120.740451 212.72.49.142 → 192.168.1.2  TCP 66 12350 → 2576 [FIN, ACK] Seq=111 Ack=292 Win=6432 Len=0 TSval=132453246 TSecr=14336450',\n",
       " '694 120.740500  192.168.1.2 → 212.72.49.142 TCP 66 2576 → 12350 [ACK] Seq=292 Ack=112 Win=5840 Len=0 TSval=14336511 TSecr=132453246',\n",
       " '695 120.874578  192.168.1.2 → 212.204.214.114 IRC 96 Request (ISON)',\n",
       " '696 120.919712 212.204.214.114 → 192.168.1.2  IRC 112 Response (303)',\n",
       " '697 120.919752  192.168.1.2 → 212.204.214.114 TCP 66 2848 → 6667 [ACK] Seq=255 Ack=28137 Win=8011 Len=0 TSval=14336690 TSecr=2196048643',\n",
       " '698 120.921424  192.168.1.2 → 192.168.1.1  DNS 85 Standard query 0x3190 PTR 7.177.190.67.in-addr.arpa',\n",
       " '699 120.921472  192.168.1.2 → 192.168.1.1  DNS 86 Standard query 0x3191 PTR 100.144.50.24.in-addr.arpa',\n",
       " '700 120.921500  192.168.1.2 → 192.168.1.1  DNS 86 Standard query 0x3192 PTR 180.27.134.88.in-addr.arpa',\n",
       " '701 120.921526  192.168.1.2 → 192.168.1.1  DNS 85 Standard query 0x3193 PTR 92.232.93.24.in-addr.arpa',\n",
       " '702 120.977761  192.168.1.1 → 192.168.1.2  DNS 130 Standard query response 0x3193 PTR 92.232.93.24.in-addr.arpa PTR cpe-24-93-232-92.neo.res.rr.com',\n",
       " '703 121.005244  192.168.1.1 → 192.168.1.2  DNS 133 Standard query response 0x3192 PTR 180.27.134.88.in-addr.arpa PTR 88-134-27-180-dynip.superkabel.de',\n",
       " '704 121.029106  192.168.1.1 → 192.168.1.2  DNS 133 Standard query response 0x3190 PTR 7.177.190.67.in-addr.arpa PTR c-67-190-177-7.hsd1.co.comcast.net',\n",
       " '705 121.055216  192.168.1.1 → 192.168.1.2  DNS 152 Standard query response 0x3191 PTR 100.144.50.24.in-addr.arpa PTR montpeliervt-cuda1-24-50-144-100.sbtnvt.adelphia.net',\n",
       " '706 121.671417  192.168.1.2 → 192.168.1.1  DNS 91 Standard query 0x3194 A cpe-24-93-232-92.neo.res.rr.com',\n",
       " '707 121.671456  192.168.1.2 → 192.168.1.1  DNS 93 Standard query 0x3195 A 88-134-27-180-dynip.superkabel.de',\n",
       " '708 121.671481  192.168.1.2 → 192.168.1.1  DNS 94 Standard query 0x3196 A c-67-190-177-7.hsd1.co.comcast.net',\n",
       " '709 121.671504  192.168.1.2 → 192.168.1.1  DNS 112 Standard query 0x3197 A montpeliervt-cuda1-24-50-144-100.sbtnvt.adelphia.net',\n",
       " '710 121.675257  192.168.1.1 → 192.168.1.2  DNS 107 Standard query response 0x3194 A cpe-24-93-232-92.neo.res.rr.com A 24.93.232.92',\n",
       " '711 121.678313  192.168.1.1 → 192.168.1.2  DNS 109 Standard query response 0x3195 A 88-134-27-180-dynip.superkabel.de A 88.134.27.180',\n",
       " '712 121.681409  192.168.1.1 → 192.168.1.2  DNS 110 Standard query response 0x3196 A c-67-190-177-7.hsd1.co.comcast.net A 67.190.177.7',\n",
       " '713 121.684399  192.168.1.1 → 192.168.1.2  DNS 128 Standard query response 0x3197 A montpeliervt-cuda1-24-50-144-100.sbtnvt.adelphia.net A 24.50.144.100',\n",
       " '714 123.000156 212.204.214.114 → 192.168.1.2  IRC 135 Response (PRIVMSG)',\n",
       " '715 123.000206  192.168.1.2 → 212.204.214.114 TCP 66 2848 → 6667 [ACK] Seq=255 Ack=28206 Win=8011 Len=0 TSval=14338771 TSecr=2196048851',\n",
       " '716 125.513220 24.177.122.79 → 192.168.1.2  ASAP 91 Unknown ASAP type [Packet size limited during capture]',\n",
       " '717 125.513271  192.168.1.2 → 24.177.122.79 TCP 66 3863 → 8022 [ACK] Seq=102 Ack=178 Win=764 Len=0 TSval=14341284 TSecr=3341011',\n",
       " '718 125.711743  192.168.1.2 → 24.177.122.79 ASAP 91 Unknown ASAP type [Packet size limited during capture]',\n",
       " '719 125.963558 24.177.122.79 → 192.168.1.2  TCP 66 8022 → 3863 [ACK] Seq=178 Ack=127 Win=16195 Len=0 TSval=3341016 TSecr=14341483',\n",
       " '720 126.269158 212.204.214.114 → 192.168.1.2  IRC 164 Response (PRIVMSG)',\n",
       " '721 126.269204  192.168.1.2 → 212.204.214.114 TCP 66 2848 → 6667 [ACK] Seq=255 Ack=28304 Win=8011 Len=0 TSval=14342040 TSecr=2196049178',\n",
       " '722 127.423200 172.200.160.242 → 192.168.1.2  TCP 109 11352 → 4984 [PSH, ACK] Seq=504 Ack=100 Win=65028 Len=43 TSval=1745857 TSecr=14331190',\n",
       " '723 127.423246  192.168.1.2 → 172.200.160.242 TCP 66 4984 → 11352 [ACK] Seq=100 Ack=547 Win=751 Len=0 TSval=14343194 TSecr=1745857',\n",
       " '724 128.905308  192.168.1.2 → 212.204.214.114 IRC 78 Request (WHO)',\n",
       " '725 128.977507 212.204.214.114 → 192.168.1.2  IRC 1090 Response (352) (352) (352) (352) (352) (352) (352) (352)',\n",
       " '726 128.977560  192.168.1.2 → 212.204.214.114 TCP 66 2848 → 6667 [ACK] Seq=267 Ack=29328 Win=8011 Len=0 TSval=14344749 TSecr=2196049449',\n",
       " '727 128.983470 212.204.214.114 → 192.168.1.2  IRC 1514 Response (t) (352) (352) (352) (352) (352) (352) (352) (352) (352) (352) (352) (352)',\n",
       " '728 128.983499  192.168.1.2 → 212.204.214.114 TCP 66 2848 → 6667 [ACK] Seq=267 Ack=30776 Win=8011 Len=0 TSval=14344755 TSecr=2196049449',\n",
       " '729 129.016514 212.204.214.114 → 192.168.1.2  IRC 1514 Response (216-054-105.hsi.kabelbw.de) (352) (352) (352) (352) (352) (352) (352) (352) (352) (352) (352)',\n",
       " '730 129.016555  192.168.1.2 → 212.204.214.114 TCP 66 2848 → 6667 [ACK] Seq=267 Ack=32224 Win=8011 Len=0 TSval=14344788 TSecr=2196049452',\n",
       " '731 129.022412 212.204.214.114 → 192.168.1.2  IRC 1514 Response (g.freenode.net) (352) (352) (352) (352) (352) (352) (352) (352) (352) (352) (352)',\n",
       " '732 129.022456  192.168.1.2 → 212.204.214.114 TCP 66 2848 → 6667 [ACK] Seq=267 Ack=33672 Win=8011 Len=0 TSval=14344794 TSecr=2196049452',\n",
       " '733 129.028564 212.204.214.114 → 192.168.1.2  IRC 1514 Response (spisaacs) (352) (352) (352) (352) (352) (352) (352) (352) (352) (352) (352) (352)',\n",
       " '734 129.028592  192.168.1.2 → 212.204.214.114 TCP 66 2848 → 6667 [ACK] Seq=267 Ack=35120 Win=8011 Len=0 TSval=14344800 TSecr=2196049453',\n",
       " '735 129.055926 212.204.214.114 → 192.168.1.2  IRC 1514 Response (amarok) (352) (352) (352) (352) (352) (352) (352) (352) (352) (352) (352) (352)',\n",
       " '736 129.055957  192.168.1.2 → 212.204.214.114 TCP 66 2848 → 6667 [ACK] Seq=267 Ack=36568 Win=8011 Len=0 TSval=14344827 TSecr=2196049456',\n",
       " '737 129.062157 212.204.214.114 → 192.168.1.2  IRC 1514 Response (marok) (352) (352) (352) (352) (352) (352) (352) (352) (352) (352) (352)',\n",
       " '738 129.062186  192.168.1.2 → 212.204.214.114 TCP 66 2848 → 6667 [ACK] Seq=267 Ack=38016 Win=8011 Len=0 TSval=14344834 TSecr=2196049457',\n",
       " '739 129.068569 212.204.214.114 → 192.168.1.2  IRC 1514 Response (is_) (352) (352) (352) (352) (352) (352) (352) (352) (352) (352) (352)',\n",
       " '740 129.068590  192.168.1.2 → 212.204.214.114 TCP 66 2848 → 6667 [ACK] Seq=267 Ack=39464 Win=8011 Len=0 TSval=14344840 TSecr=2196049457',\n",
       " '741 129.074467 212.204.214.114 → 192.168.1.2  IRC 1514 Response (ode.net) (352) (352) (352) (352) (352) (352) (352) (352) (352) (352) (352) (352)',\n",
       " '742 129.074498  192.168.1.2 → 212.204.214.114 TCP 66 2848 → 6667 [ACK] Seq=267 Ack=40912 Win=8011 Len=0 TSval=14344846 TSecr=2196049457',\n",
       " '743 129.096129 212.204.214.114 → 192.168.1.2  IRC 1514 Response (t) (352) (352) (352) (352) (352) (352) (352) (352) (352) (352) (352) (352) (352)',\n",
       " '744 129.096167  192.168.1.2 → 212.204.214.114 TCP 66 2848 → 6667 [ACK] Seq=267 Ack=42360 Win=8011 Len=0 TSval=14344868 TSecr=2196049460',\n",
       " '745 129.102493 212.204.214.114 → 192.168.1.2  IRC 1514 Response (nsinns.de) (352) (352) (352) (352) (352) (352) (352) (352) (352) (352) (352) (352)',\n",
       " '746 129.102517  192.168.1.2 → 212.204.214.114 TCP 66 2848 → 6667 [ACK] Seq=267 Ack=43808 Win=8011 Len=0 TSval=14344874 TSecr=2196049461',\n",
       " '747 129.108400 212.204.214.114 → 192.168.1.2  IRC 1514 Response (.net) (352) (352) (352) (352) (352) (352) (352) (352) (352) (352) (352) (352)',\n",
       " '748 129.108428  192.168.1.2 → 212.204.214.114 TCP 66 2848 → 6667 [ACK] Seq=267 Ack=45256 Win=8011 Len=0 TSval=14344880 TSecr=2196049461',\n",
       " '749 129.114557 212.204.214.114 → 192.168.1.2  IRC 1514 Response (n) (352) (352) (352) (352) (352) (352) (352) (352) (352) (352) (352) (352)',\n",
       " '750 129.114584  192.168.1.2 → 212.204.214.114 TCP 66 2848 → 6667 [ACK] Seq=267 Ack=46704 Win=8011 Len=0 TSval=14344886 TSecr=2196049462',\n",
       " '751 129.120463 212.204.214.114 → 192.168.1.2  IRC 1514 Response (KiLL) (352) (352) (352) (352) (352) (352) (352) (352) (352) (352) (352) (352) (352)',\n",
       " '752 129.120500  192.168.1.2 → 212.204.214.114 TCP 66 2848 → 6667 [ACK] Seq=267 Ack=48152 Win=8011 Len=0 TSval=14344892 TSecr=2196049462',\n",
       " '753 129.136011 212.204.214.114 → 192.168.1.2  IRC 1514 Response (vmlemon) (352) (352) (352) (352) (352) (352) (352) (352) (352) (352) (352) (352) (35)',\n",
       " '754 129.136040  192.168.1.2 → 212.204.214.114 TCP 66 2848 → 6667 [ACK] Seq=267 Ack=49600 Win=8011 Len=0 TSval=14344907 TSecr=2196049464',\n",
       " '755 129.171894 212.204.214.114 → 192.168.1.2  IRC 737 Response (2) (352) (352) (352) (352) (315)',\n",
       " '756 129.171933  192.168.1.2 → 212.204.214.114 TCP 66 2848 → 6667 [ACK] Seq=267 Ack=50271 Win=8011 Len=0 TSval=14344943 TSecr=2196049468',\n",
       " '757 129.221281  192.168.1.2 → 212.72.49.142 TCP 74 2577 → 12350 [SYN] Seq=0 Win=5840 Len=0 MSS=1460 SACK_PERM=1 TSval=14344993 TSecr=0 WS=8',\n",
       " '758 129.264143 212.72.49.142 → 192.168.1.2  TCP 74 12350 → 2577 [SYN, ACK] Seq=0 Ack=1 Win=5792 Len=0 MSS=1460 SACK_PERM=1 TSval=132454098 TSecr=14344993 WS=1',\n",
       " '759 129.264189  192.168.1.2 → 212.72.49.142 TCP 66 2577 → 12350 [ACK] Seq=1 Ack=1 Win=5840 Len=0 TSval=14345036 TSecr=132454098',\n",
       " '760 129.264282  192.168.1.2 → 212.72.49.142 TCP 71 2577 → 12350 [PSH, ACK] Seq=1 Ack=1 Win=5840 Len=5 TSval=14345036 TSecr=132454098',\n",
       " '761 129.310179 212.72.49.142 → 192.168.1.2  TCP 66 12350 → 2577 [ACK] Seq=1 Ack=6 Win=5792 Len=0 TSval=132454103 TSecr=14345036',\n",
       " '762 129.382097 212.72.49.142 → 192.168.1.2  TCP 71 12350 → 2577 [PSH, ACK] Seq=1 Ack=6 Win=5792 Len=5 TSval=132454110 TSecr=14345036',\n",
       " '763 129.382140  192.168.1.2 → 212.72.49.142 TCP 66 2577 → 12350 [ACK] Seq=6 Ack=6 Win=5840 Len=0 TSval=14345154 TSecr=132454110',\n",
       " '764 129.383240  192.168.1.2 → 212.72.49.142 TCP 323 2577 → 12350 [PSH, ACK] Seq=6 Ack=6 Win=5840 Len=257 TSval=14345155 TSecr=132454110',\n",
       " '765 129.435380 212.72.49.142 → 192.168.1.2  TCP 66 12350 → 2577 [ACK] Seq=6 Ack=263 Win=6432 Len=0 TSval=132454115 TSecr=14345155',\n",
       " '766 129.542754 212.72.49.142 → 192.168.1.2  TCP 82 12350 → 2577 [PSH, ACK] Seq=6 Ack=263 Win=6432 Len=16 TSval=132454126 TSecr=14345155',\n",
       " '767 129.582058  192.168.1.2 → 212.72.49.142 TCP 66 2577 → 12350 [ACK] Seq=263 Ack=22 Win=5840 Len=0 TSval=14345354 TSecr=132454126',\n",
       " '768 129.721722 212.72.49.142 → 192.168.1.2  TCP 90 12350 → 2577 [PSH, ACK] Seq=22 Ack=263 Win=6432 Len=24 TSval=132454144 TSecr=14345354',\n",
       " '769 129.721777  192.168.1.2 → 212.72.49.142 TCP 66 2577 → 12350 [ACK] Seq=263 Ack=46 Win=5840 Len=0 TSval=14345493 TSecr=132454144',\n",
       " '770 130.276357 71.10.179.129 → 192.168.1.2  TCP 108 14232 → 4026 [PSH, ACK] Seq=509 Ack=99 Win=63709 Len=42 TSval=1889217 TSecr=14334081',\n",
       " '771 130.276407  192.168.1.2 → 71.10.179.129 TCP 66 4026 → 14232 [ACK] Seq=99 Ack=551 Win=757 Len=0 TSval=14346048 TSecr=1889217',\n",
       " '772 130.631919 3Com_96:7b:da → Broadcast    AoE 32 Query Config Information Request',\n",
       " '773 133.277752  192.168.1.2 → 68.206.150.243 TCP 123 1312 → 57322 [PSH, ACK] Seq=151 Ack=1776 Win=9512 Len=57 TSval=14349050 TSecr=2294826',\n",
       " '774 133.566079 84.228.208.91 → 192.168.1.2  UDP 62 22619 → 35990 Len=20',\n",
       " '775 133.566316  192.168.1.2 → 84.228.208.91 UDP 53 35990 → 22619 Len=11',\n",
       " '776 133.566415  192.168.1.2 → 212.72.49.142 TCP 97 2577 → 12350 [PSH, ACK] Seq=263 Ack=46 Win=5840 Len=31 TSval=14349338 TSecr=132454144',\n",
       " '777 133.603994 68.206.150.243 → 192.168.1.2  TCP 66 57322 → 1312 [ACK] Seq=1776 Ack=208 Win=65328 Len=0 TSval=2294960 TSecr=14349050',\n",
       " '778 133.611807 212.72.49.142 → 192.168.1.2  TCP 66 12350 → 2577 [ACK] Seq=46 Ack=294 Win=6432 Len=0 TSval=132454533 TSecr=14349338',\n",
       " '779 133.697619 84.228.208.91 → 192.168.1.2  TCP 66 4464 → 35990 [SYN] Seq=0 Win=65535 Len=0 MSS=1408 WS=8 SACK_PERM=1',\n",
       " '780 133.697697  192.168.1.2 → 84.228.208.91 TCP 66 35990 → 4464 [SYN, ACK] Seq=0 Ack=1 Win=5840 Len=0 MSS=1460 SACK_PERM=1 WS=8',\n",
       " '781 133.698204 68.206.150.243 → 192.168.1.2  TCP 87 57322 → 1312 [PSH, ACK] Seq=1776 Ack=208 Win=65328 Len=21 TSval=2294960 TSecr=14349050',\n",
       " '782 133.698246  192.168.1.2 → 68.206.150.243 TCP 66 1312 → 57322 [ACK] Seq=208 Ack=1797 Win=9512 Len=0 TSval=14349470 TSecr=2294960',\n",
       " '783 133.701328 212.72.49.142 → 192.168.1.2  TCP 84 12350 → 2577 [PSH, ACK] Seq=46 Ack=294 Win=6432 Len=18 TSval=132454542 TSecr=14349338',\n",
       " '784 133.701377  192.168.1.2 → 212.72.49.142 TCP 66 2577 → 12350 [ACK] Seq=294 Ack=64 Win=5840 Len=0 TSval=14349473 TSecr=132454542',\n",
       " '785 133.711044  192.168.1.2 → 192.168.1.1  DNS 86 Standard query 0x3198 PTR 91.208.228.84.in-addr.arpa',\n",
       " '786 133.753534  192.168.1.1 → 192.168.1.2  DNS 86 Standard query response 0x3198 PTR 91.208.228.84.in-addr.arpa',\n",
       " '787 134.052404 84.228.208.91 → 192.168.1.2  TCP 60 4464 → 35990 [ACK] Seq=1 Ack=1 Win=109824 Len=0',\n",
       " '788 134.088293 84.228.208.91 → 192.168.1.2  TCP 83 4464 → 35990 [PSH, ACK] Seq=1 Ack=1 Win=109824 Len=29',\n",
       " '789 134.088355  192.168.1.2 → 84.228.208.91 TCP 54 35990 → 4464 [ACK] Seq=1 Ack=30 Win=5840 Len=0',\n",
       " '790 134.088690  192.168.1.2 → 84.228.208.91 TCP 68 35990 → 4464 [PSH, ACK] Seq=1 Ack=30 Win=5840 Len=14',\n",
       " '791 134.390929 84.228.208.91 → 192.168.1.2  TCP 66 4464 → 35990 [PSH, ACK] Seq=30 Ack=15 Win=109824 Len=12',\n",
       " '792 134.391160  192.168.1.2 → 84.228.208.91 TCP 58 35990 → 4464 [PSH, ACK] Seq=15 Ack=42 Win=5840 Len=4',\n",
       " '793 134.638525 84.228.208.91 → 192.168.1.2  TCP 60 4464 → 35990 [FIN, ACK] Seq=42 Ack=15 Win=109824 Len=0',\n",
       " '794 134.638673  192.168.1.2 → 84.228.208.91 TCP 54 35990 → 4464 [FIN, ACK] Seq=19 Ack=43 Win=5840 Len=0',\n",
       " '795 134.770862 84.228.208.91 → 192.168.1.2  TCP 60 4464 → 35990 [RST, ACK] Seq=43 Ack=19 Win=0 Len=0',\n",
       " '796 135.035887 84.228.208.91 → 192.168.1.2  TCP 60 4464 → 35990 [RST] Seq=43 Win=0 Len=0',\n",
       " '797 138.404060 71.10.179.129 → 192.168.1.2  TCP 93 14232 → 4026 [PSH, ACK] Seq=551 Ack=99 Win=63709 Len=27 TSval=1889298 TSecr=14346048',\n",
       " '798 138.404108  192.168.1.2 → 71.10.179.129 TCP 66 4026 → 14232 [ACK] Seq=99 Ack=578 Win=753 Len=0 TSval=14354177 TSecr=1889298',\n",
       " '799 138.602780  192.168.1.2 → 71.10.179.129 TCP 90 4026 → 14232 [PSH, ACK] Seq=99 Ack=578 Win=768 Len=24 TSval=14354376 TSecr=1889298',\n",
       " '800 138.836672 71.10.179.129 → 192.168.1.2  TCP 66 14232 → 4026 [ACK] Seq=578 Ack=123 Win=63685 Len=0 TSval=1889303 TSecr=14354376',\n",
       " '801 139.484691 172.200.160.242 → 192.168.1.2  TCP 108 11352 → 4984 [PSH, ACK] Seq=547 Ack=100 Win=65028 Len=42 TSval=1745977 TSecr=14343194',\n",
       " '802 139.484737  192.168.1.2 → 172.200.160.242 TCP 66 4984 → 11352 [ACK] Seq=100 Ack=589 Win=746 Len=0 TSval=14355258 TSecr=1745977',\n",
       " '803 141.005520  192.168.1.2 → 212.204.214.114 IRC 96 Request (ISON)',\n",
       " '804 141.130522 212.204.214.114 → 192.168.1.2  IRC 112 Response (303)',\n",
       " '805 141.130573  192.168.1.2 → 212.204.214.114 TCP 66 2848 → 6667 [ACK] Seq=297 Ack=50317 Win=8011 Len=0 TSval=14356904 TSecr=2196050664',\n",
       " '806 143.614848 71.10.179.129 → 192.168.1.2  TCP 106 14232 → 4026 [PSH, ACK] Seq=578 Ack=123 Win=63685 Len=40 TSval=1889350 TSecr=14354376',\n",
       " '807 143.614907  192.168.1.2 → 71.10.179.129 TCP 66 4026 → 14232 [ACK] Seq=123 Ack=618 Win=763 Len=0 TSval=14359388 TSecr=1889350',\n",
       " '808 147.917940 172.200.160.242 → 192.168.1.2  TCP 93 11352 → 4984 [PSH, ACK] Seq=589 Ack=100 Win=65028 Len=27 TSval=1746062 TSecr=14355258',\n",
       " '809 147.917989  192.168.1.2 → 172.200.160.242 TCP 66 4984 → 11352 [ACK] Seq=100 Ack=616 Win=743 Len=0 TSval=14363692 TSecr=1746062',\n",
       " '810 148.117334  192.168.1.2 → 172.200.160.242 TCP 90 4984 → 11352 [PSH, ACK] Seq=100 Ack=616 Win=768 Len=24 TSval=14363892 TSecr=1746062',\n",
       " '811 148.124873 212.204.214.114 → 192.168.1.2  IRC 173 Response (PRIVMSG)',\n",
       " '812 148.124904  192.168.1.2 → 212.204.214.114 TCP 66 2848 → 6667 [ACK] Seq=297 Ack=50424 Win=8011 Len=0 TSval=14363899 TSecr=2196051364',\n",
       " '813 148.272466 172.200.160.242 → 192.168.1.2  TCP 66 11352 → 4984 [ACK] Seq=616 Ack=124 Win=65004 Len=0 TSval=1746066 TSecr=14363892',\n",
       " '814 148.328494  192.168.1.2 → 68.32.70.119 TCP 70 3563 → 1215 [PSH, ACK] Seq=9 Ack=21 Win=864 Len=4 TSval=14364103 TSecr=14269407',\n",
       " '815 148.456805 68.32.70.119 → 192.168.1.2  TCP 82 1215 → 3563 [PSH, ACK] Seq=21 Ack=13 Win=16316 Len=16 TSval=14270605 TSecr=14364103',\n",
       " '816 148.456876  192.168.1.2 → 68.32.70.119 TCP 70 3563 → 1215 [PSH, ACK] Seq=13 Ack=37 Win=864 Len=4 TSval=14364231 TSecr=14270605',\n",
       " '817 148.585821 68.32.70.119 → 192.168.1.2  TCP 70 1215 → 3563 [PSH, ACK] Seq=37 Ack=17 Win=16312 Len=4 TSval=14270607 TSecr=14364231',\n",
       " '818 148.625164  192.168.1.2 → 68.32.70.119 TCP 66 3563 → 1215 [ACK] Seq=17 Ack=41 Win=864 Len=0 TSval=14364400 TSecr=14270607',\n",
       " '819 151.555552 172.200.160.242 → 192.168.1.2  TCP 107 11352 → 4984 [PSH, ACK] Seq=616 Ack=124 Win=65004 Len=41 TSval=1746098 TSecr=14363892',\n",
       " '820 151.555607  192.168.1.2 → 172.200.160.242 TCP 66 4984 → 11352 [ACK] Seq=124 Ack=657 Win=762 Len=0 TSval=14367330 TSecr=1746098',\n",
       " '821 152.529057 212.204.214.114 → 192.168.1.2  IRC 154 Response (PRIVMSG)',\n",
       " '822 152.529104  192.168.1.2 → 212.204.214.114 TCP 66 2848 → 6667 [ACK] Seq=297 Ack=50512 Win=8011 Len=0 TSval=14368304 TSecr=2196051804',\n",
       " '823 155.787206 71.10.179.129 → 192.168.1.2  TCP 112 14232 → 4026 [PSH, ACK] Seq=618 Ack=123 Win=63685 Len=46 TSval=1889472 TSecr=14359388',\n",
       " '824 155.787256  192.168.1.2 → 71.10.179.129 TCP 66 4026 → 14232 [ACK] Seq=123 Ack=664 Win=757 Len=0 TSval=14371563 TSecr=1889472',\n",
       " '825 157.569536 24.177.122.79 → 192.168.1.2  ASAP 91 Unknown ASAP type [Packet size limited during capture]',\n",
       " '826 157.569591  192.168.1.2 → 24.177.122.79 TCP 66 3863 → 8022 [ACK] Seq=127 Ack=203 Win=764 Len=0 TSval=14373345 TSecr=3341331',\n",
       " '827 157.768880  192.168.1.2 → 24.177.122.79 ASAP 91 Unknown ASAP type [Packet size limited during capture]',\n",
       " '828 158.070156 24.177.122.79 → 192.168.1.2  TCP 66 8022 → 3863 [ACK] Seq=203 Ack=152 Win=16170 Len=0 TSval=3341337 TSecr=14373545',\n",
       " '829 158.440731  192.168.1.2 → 68.95.198.126 TCP 67 2996 → 1928 [PSH, ACK] Seq=2 Ack=9 Win=1452 Len=1 TSval=14374217 TSecr=71567',\n",
       " '830 158.966598  192.168.1.2 → 68.95.198.126 TCP 67 [TCP Keep-Alive] 2996 → 1928 [PSH, ACK] Seq=2 Ack=9 Win=1452 Len=1 TSval=14374743 TSecr=71567',\n",
       " '831 160.018436  192.168.1.2 → 68.95.198.126 TCP 67 [TCP Keep-Alive] 2996 → 1928 [PSH, ACK] Seq=2 Ack=9 Win=1452 Len=1 TSval=14375795 TSecr=71567',\n",
       " '832 161.136412  192.168.1.2 → 212.204.214.114 IRC 96 Request (ISON)',\n",
       " '833 161.261329 212.204.214.114 → 192.168.1.2  TCP 66 6667 → 2848 [ACK] Seq=50512 Ack=327 Win=57890 Len=0 TSval=2196052678 TSecr=14376913',\n",
       " '834 161.305167 212.204.214.114 → 192.168.1.2  IRC 112 Response (303)',\n",
       " '835 161.305189  192.168.1.2 → 212.204.214.114 TCP 66 2848 → 6667 [ACK] Seq=327 Ack=50558 Win=8011 Len=0 TSval=14377081 TSecr=2196052682',\n",
       " '836 162.122116  192.168.1.2 → 68.95.198.126 TCP 67 [TCP Keep-Alive] 2996 → 1928 [PSH, ACK] Seq=2 Ack=9 Win=1452 Len=1 TSval=14377899 TSecr=71567',\n",
       " '837 163.310009  192.168.1.2 → 84.228.208.91 UDP 60 35990 → 22619 Len=18',\n",
       " '838 163.451177 84.228.208.91 → 192.168.1.2  UDP 68 22619 → 35990 Len=26',\n",
       " '839 163.573972 172.200.160.242 → 192.168.1.2  TCP 106 11352 → 4984 [PSH, ACK] Seq=657 Ack=124 Win=65004 Len=40 TSval=1746218 TSecr=14367330',\n",
       " '840 163.574022  192.168.1.2 → 172.200.160.242 TCP 66 4984 → 11352 [ACK] Seq=124 Ack=697 Win=757 Len=0 TSval=14379351 TSecr=1746218',\n",
       " '841 163.751016  192.168.1.2 → 212.72.49.142 TCP 66 2577 → 12350 [FIN, ACK] Seq=294 Ack=64 Win=5840 Len=0 TSval=14379528 TSecr=132454542',\n",
       " '842 163.812894 212.72.49.142 → 192.168.1.2  TCP 66 12350 → 2577 [FIN, ACK] Seq=64 Ack=295 Win=6432 Len=0 TSval=132457553 TSecr=14379528',\n",
       " '843 163.812945  192.168.1.2 → 212.72.49.142 TCP 66 2577 → 12350 [ACK] Seq=295 Ack=65 Win=5840 Len=0 TSval=14379590 TSecr=132457553',\n",
       " '844 165.763297 69.205.247.140 → 192.168.1.2  TCP 66 9908 → 1782 [FIN, ACK] Seq=1 Ack=1 Win=65374 Len=0 TSval=142167 TSecr=14087006',\n",
       " '845 165.763592  192.168.1.2 → 69.205.247.140 TCP 66 1782 → 9908 [FIN, ACK] Seq=1 Ack=2 Win=864 Len=0 TSval=14381541 TSecr=142167',\n",
       " '846 165.763794  192.168.1.2 → 69.205.247.140 TCP 74 1630 → 9908 [SYN] Seq=0 Win=5840 Len=0 MSS=1460 SACK_PERM=1 TSval=14381541 TSecr=0 WS=8',\n",
       " '847 165.763873  192.168.1.2 → 81.184.127.148 TCP 74 1367 → 29344 [SYN] Seq=0 Win=5840 Len=0 MSS=1460 SACK_PERM=1 TSval=14381541 TSecr=0 WS=8',\n",
       " '848 165.763937  192.168.1.2 → 66.161.193.72 TCP 74 1040 → 33155 [SYN] Seq=0 Win=5840 Len=0 MSS=1460 SACK_PERM=1 TSval=14381541 TSecr=0 WS=8',\n",
       " '849 165.764010  192.168.1.2 → 200.55.99.252 TCP 74 2533 → 59605 [SYN] Seq=0 Win=5840 Len=0 MSS=1460 SACK_PERM=1 TSval=14381541 TSecr=0 WS=8',\n",
       " '850 165.764079  192.168.1.2 → 68.74.190.205 TCP 74 4264 → 18050 [SYN] Seq=0 Win=5840 Len=0 MSS=1460 SACK_PERM=1 TSval=14381541 TSecr=0 WS=8',\n",
       " '851 165.764143  192.168.1.2 → 74.130.44.22 TCP 74 1136 → 33667 [SYN] Seq=0 Win=5840 Len=0 MSS=1460 SACK_PERM=1 TSval=14381541 TSecr=0 WS=8',\n",
       " '852 165.764205  192.168.1.2 → 196.40.10.146 TCP 74 2327 → 29832 [SYN] Seq=0 Win=5840 Len=0 MSS=1460 SACK_PERM=1 TSval=14381541 TSecr=0 WS=8',\n",
       " '853 165.764269  192.168.1.2 → 84.121.82.31 TCP 74 2946 → 32333 [SYN] Seq=0 Win=5840 Len=0 MSS=1460 SACK_PERM=1 TSval=14381541 TSecr=0 WS=8',\n",
       " '854 165.764338  192.168.1.2 → 213.165.187.162 TCP 74 2627 → 60229 [SYN] Seq=0 Win=5840 Len=0 MSS=1460 SACK_PERM=1 TSval=14381541 TSecr=0 WS=8',\n",
       " '855 165.764404  192.168.1.2 → 218.111.60.108 TCP 74 2167 → 17197 [SYN] Seq=0 Win=5840 Len=0 MSS=1460 SACK_PERM=1 TSval=14381541 TSecr=0 WS=8',\n",
       " '856 165.905046 68.74.190.205 → 192.168.1.2  TCP 78 18050 → 4264 [SYN, ACK] Seq=0 Ack=1 Win=17424 Len=0 MSS=1452 WS=1 TSval=0 TSecr=0 SACK_PERM=1',\n",
       " '857 165.905116  192.168.1.2 → 68.74.190.205 TCP 66 4264 → 18050 [ACK] Seq=1 Ack=1 Win=5840 Len=0 TSval=14381682 TSecr=0',\n",
       " '858 165.905374  192.168.1.2 → 68.74.190.205 TCP 72 4264 → 18050 [PSH, ACK] Seq=1 Ack=1 Win=5840 Len=6 TSval=14381682 TSecr=0',\n",
       " '859 165.928434 213.165.187.162 → 192.168.1.2  TCP 78 60229 → 2627 [SYN, ACK] Seq=0 Ack=1 Win=65535 Len=0 MSS=1460 WS=1 TSval=0 TSecr=0 SACK_PERM=1',\n",
       " '860 165.928492  192.168.1.2 → 213.165.187.162 TCP 66 2627 → 60229 [ACK] Seq=1 Ack=1 Win=5840 Len=0 TSval=14381705 TSecr=0',\n",
       " '861 165.928712  192.168.1.2 → 213.165.187.162 TCP 72 2627 → 60229 [PSH, ACK] Seq=1 Ack=1 Win=5840 Len=6 TSval=14381706 TSecr=0',\n",
       " '862 165.930347 81.184.127.148 → 192.168.1.2  TCP 78 29344 → 1367 [SYN, ACK] Seq=0 Ack=1 Win=65535 Len=0 MSS=1452 WS=1 TSval=0 TSecr=0 SACK_PERM=1',\n",
       " '863 165.930370  192.168.1.2 → 81.184.127.148 TCP 66 1367 → 29344 [ACK] Seq=1 Ack=1 Win=5840 Len=0 TSval=14381707 TSecr=0',\n",
       " '864 165.930463  192.168.1.2 → 81.184.127.148 TCP 72 1367 → 29344 [PSH, ACK] Seq=1 Ack=1 Win=5840 Len=6 TSval=14381707 TSecr=0',\n",
       " '865 165.935490 69.205.247.140 → 192.168.1.2  TCP 78 9908 → 1630 [SYN, ACK] Seq=0 Ack=1 Win=65535 Len=0 MSS=1460 WS=1 TSval=0 TSecr=0 SACK_PERM=1',\n",
       " '866 165.935516  192.168.1.2 → 69.205.247.140 TCP 66 1630 → 9908 [ACK] Seq=1 Ack=1 Win=5840 Len=0 TSval=14381713 TSecr=0',\n",
       " '867 165.935612  192.168.1.2 → 69.205.247.140 TCP 72 1630 → 9908 [PSH, ACK] Seq=1 Ack=1 Win=5840 Len=6 TSval=14381713 TSecr=0',\n",
       " '868 165.936095 69.205.247.140 → 192.168.1.2  TCP 66 9908 → 1782 [ACK] Seq=2 Ack=2 Win=65374 Len=0 TSval=142172 TSecr=14381541',\n",
       " '869 166.062559  192.168.1.2 → 192.168.1.1  DNS 87 Standard query 0x3199 PTR 140.247.205.69.in-addr.arpa',\n",
       " '870 166.077986 84.121.82.31 → 192.168.1.2  TCP 60 32333 → 2946 [RST, ACK] Seq=1 Ack=1 Win=0 Len=0',\n",
       " '871 166.078269  192.168.1.2 → 190.37.32.155 TCP 74 4244 → 8075 [SYN] Seq=0 Win=5840 Len=0 MSS=1460 SACK_PERM=1 TSval=14381855 TSecr=0 WS=8',\n",
       " '872 166.109933 68.74.190.205 → 192.168.1.2  TCP 204 18050 → 4264 [PSH, ACK] Seq=1 Ack=7 Win=17418 Len=138 TSval=54774 TSecr=14381682',\n",
       " '873 166.109976  192.168.1.2 → 68.74.190.205 TCP 66 4264 → 18050 [ACK] Seq=7 Ack=139 Win=6912 Len=0 TSval=14381887 TSecr=54774',\n",
       " '874 166.110637  192.168.1.2 → 213.165.187.162 TCP 66 2627 → 60229 [FIN, ACK] Seq=7 Ack=1 Win=5840 Len=0 TSval=14381888 TSecr=0',\n",
       " '875 166.110750  192.168.1.2 → 81.184.127.148 TCP 66 1367 → 29344 [FIN, ACK] Seq=7 Ack=1 Win=5840 Len=0 TSval=14381888 TSecr=0',\n",
       " '876 166.110782  192.168.1.2 → 69.205.247.140 TCP 66 1630 → 9908 [FIN, ACK] Seq=7 Ack=1 Win=5840 Len=0 TSval=14381888 TSecr=0',\n",
       " '877 166.110843  192.168.1.2 → 68.74.190.205 TCP 125 4264 → 18050 [PSH, ACK] Seq=7 Ack=139 Win=6912 Len=59 TSval=14381888 TSecr=54774',\n",
       " '878 166.142500 81.184.127.148 → 192.168.1.2  TCP 204 29344 → 1367 [PSH, ACK] Seq=1 Ack=7 Win=65529 Len=138 TSval=956892 TSecr=14381707',\n",
       " '879 166.142547  192.168.1.2 → 81.184.127.148 TCP 54 1367 → 29344 [RST] Seq=7 Win=0 Len=0',\n",
       " '880 166.173817  192.168.1.1 → 192.168.1.2  DNS 135 Standard query response 0x3199 PTR 140.247.205.69.in-addr.arpa PTR cpe-69-205-247-140.stny.res.rr.com',\n",
       " '881 166.221846 213.165.187.162 → 192.168.1.2  TCP 66 [TCP Previous segment not captured] 60229 → 2627 [ACK] Seq=139 Ack=8 Win=65529 Len=0 TSval=698366 TSecr=14381888',\n",
       " '882 166.235300 213.165.187.162 → 192.168.1.2  TCP 66 60229 → 2627 [FIN, ACK] Seq=139 Ack=8 Win=65529 Len=0 TSval=698366 TSecr=14381888',\n",
       " '883 166.235321  192.168.1.2 → 213.165.187.162 TCP 54 2627 → 60229 [RST] Seq=8 Win=0 Len=0',\n",
       " '884 166.237285 81.184.127.148 → 192.168.1.2  TCP 66 29344 → 1367 [ACK] Seq=139 Ack=8 Win=65529 Len=0 TSval=956893 TSecr=14381888',\n",
       " '885 166.237297  192.168.1.2 → 81.184.127.148 TCP 54 1367 → 29344 [RST] Seq=8 Win=0 Len=0',\n",
       " '886 166.238372 81.184.127.148 → 192.168.1.2  TCP 66 29344 → 1367 [FIN, ACK] Seq=139 Ack=8 Win=65529 Len=0 TSval=956893 TSecr=14381888',\n",
       " '887 166.238382  192.168.1.2 → 81.184.127.148 TCP 54 1367 → 29344 [RST] Seq=8 Win=0 Len=0',\n",
       " '888 166.300841 69.205.247.140 → 192.168.1.2  TCP 66 [TCP Previous segment not captured] 9908 → 1630 [ACK] Seq=139 Ack=8 Win=65529 Len=0 TSval=142176 TSecr=14381888',\n",
       " '889 166.301317 69.205.247.140 → 192.168.1.2  TCP 66 9908 → 1630 [FIN, ACK] Seq=139 Ack=8 Win=65529 Len=0 TSval=142176 TSecr=14381888',\n",
       " '890 166.301337  192.168.1.2 → 69.205.247.140 TCP 54 1630 → 9908 [RST] Seq=8 Win=0 Len=0',\n",
       " '891 166.323753 68.74.190.205 → 192.168.1.2  TCP 81 18050 → 4264 [PSH, ACK] Seq=139 Ack=66 Win=17359 Len=15 TSval=54777 TSecr=14381888',\n",
       " '892 166.329462  192.168.1.2 → 68.95.198.126 TCP 67 [TCP Keep-Alive] 2996 → 1928 [PSH, ACK] Seq=2 Ack=9 Win=1452 Len=1 TSval=14382107 TSecr=71567',\n",
       " '893 166.363453  192.168.1.2 → 68.74.190.205 TCP 66 4264 → 18050 [ACK] Seq=66 Ack=154 Win=6912 Len=0 TSval=14382141 TSecr=54777',\n",
       " '894 166.396594 196.40.10.146 → 192.168.1.2  TCP 78 29832 → 2327 [SYN, ACK] Seq=0 Ack=1 Win=65535 Len=0 MSS=1460 WS=1 TSval=0 TSecr=0 SACK_PERM=1',\n",
       " '895 166.396650  192.168.1.2 → 196.40.10.146 TCP 54 2327 → 29832 [RST] Seq=1 Win=0 Len=0',\n",
       " '896 166.467068 74.130.44.22 → 192.168.1.2  TCP 78 33667 → 1136 [SYN, ACK] Seq=0 Ack=1 Win=65535 Len=0 MSS=1460 WS=1 TSval=0 TSecr=0 SACK_PERM=1',\n",
       " '897 166.467124  192.168.1.2 → 74.130.44.22 TCP 54 1136 → 33667 [RST] Seq=1 Win=0 Len=0',\n",
       " '898 166.489826 68.74.190.205 → 192.168.1.2  TCP 97 18050 → 4264 [PSH, ACK] Seq=154 Ack=66 Win=17359 Len=31 TSval=54779 TSecr=14382141',\n",
       " '899 166.489877  192.168.1.2 → 68.74.190.205 TCP 66 4264 → 18050 [ACK] Seq=66 Ack=185 Win=6912 Len=0 TSval=14382267 TSecr=54779',\n",
       " '900 166.561397 218.111.60.108 → 192.168.1.2  TCP 78 17197 → 2167 [SYN, ACK] Seq=0 Ack=1 Win=65535 Len=0 MSS=1440 WS=1 TSval=0 TSecr=0 SACK_PERM=1',\n",
       " '901 166.561465  192.168.1.2 → 218.111.60.108 TCP 54 2167 → 17197 [RST] Seq=1 Win=0 Len=0',\n",
       " '902 166.685064 69.205.247.140 → 192.168.1.2  TCP 204 [TCP Retransmission] 9908 → 1630 [PSH, ACK] Seq=1 Ack=7 Win=65529 Len=138 TSval=142175 TSecr=14381713',\n",
       " '903 166.685112  192.168.1.2 → 69.205.247.140 TCP 54 1630 → 9908 [RST] Seq=7 Win=0 Len=0',\n",
       " '904 166.812441  192.168.1.2 → 192.168.1.1  DNS 87 Standard query 0x319a PTR 148.127.184.81.in-addr.arpa',\n",
       " '905 166.812502  192.168.1.2 → 192.168.1.1  DNS 94 Standard query 0x319b A cpe-69-205-247-140.stny.res.rr.com',\n",
       " '906 166.812526  192.168.1.2 → 192.168.1.1  DNS 86 Standard query 0x319c PTR 72.193.161.66.in-addr.arpa',\n",
       " '907 166.812553  192.168.1.2 → 192.168.1.1  DNS 86 Standard query 0x319d PTR 252.99.55.200.in-addr.arpa',\n",
       " '908 166.812580  192.168.1.2 → 192.168.1.1  DNS 86 Standard query 0x319e PTR 205.190.74.68.in-addr.arpa',\n",
       " '909 166.812607  192.168.1.2 → 192.168.1.1  DNS 85 Standard query 0x319f PTR 22.44.130.74.in-addr.arpa',\n",
       " '910 166.812634  192.168.1.2 → 192.168.1.1  DNS 86 Standard query 0x31a0 PTR 146.10.40.196.in-addr.arpa',\n",
       " '911 166.812661  192.168.1.2 → 192.168.1.1  DNS 85 Standard query 0x31a1 PTR 31.82.121.84.in-addr.arpa',\n",
       " '912 166.812687  192.168.1.2 → 192.168.1.1  DNS 88 Standard query 0x31a2 PTR 162.187.165.213.in-addr.arpa',\n",
       " '913 166.812714  192.168.1.2 → 192.168.1.1  DNS 87 Standard query 0x31a3 PTR 108.60.111.218.in-addr.arpa',\n",
       " '914 166.812741  192.168.1.2 → 192.168.1.1  DNS 86 Standard query 0x31a4 PTR 155.32.37.190.in-addr.arpa',\n",
       " '915 166.824955  192.168.1.1 → 192.168.1.2  DNS 110 Standard query response 0x319b A cpe-69-205-247-140.stny.res.rr.com A 69.205.247.140',\n",
       " '916 166.898125  192.168.1.1 → 192.168.1.2  DNS 133 Standard query response 0x319a PTR 148.127.184.81.in-addr.arpa PTR 148.red-81-184-127.user.auna.net',\n",
       " '917 166.929555  192.168.1.1 → 192.168.1.2  DNS 86 Standard query response 0x31a4 PTR 155.32.37.190.in-addr.arpa',\n",
       " '918 166.939330  192.168.1.1 → 192.168.1.2  DNS 128 Standard query response 0x31a1 PTR 31.82.121.84.in-addr.arpa PTR 84-121-82-31.onocable.ono.com',\n",
       " '919 166.967474  192.168.1.1 → 192.168.1.2  DNS 143 Standard query response 0x319e PTR 205.190.74.68.in-addr.arpa PTR adsl-68-74-190-205.dsl.emhril.ameritech.net',\n",
       " '920 166.972704 190.37.32.155 → 192.168.1.2  TCP 78 8075 → 4244 [SYN, ACK] Seq=0 Ack=1 Win=17520 Len=0 MSS=1460 WS=1 TSval=0 TSecr=0 SACK_PERM=1',\n",
       " '921 166.972758  192.168.1.2 → 190.37.32.155 TCP 54 4244 → 8075 [RST] Seq=1 Win=0 Len=0',\n",
       " '922 166.977754  192.168.1.1 → 192.168.1.2  DNS 126 Standard query response 0x31a2 PTR 162.187.165.213.in-addr.arpa PTR c187-162.i02-7.onvol.net',\n",
       " '923 166.993707 86.128.194.14 → 192.168.1.2  TCP 78 1845 → 445 [SYN] Seq=0 Win=53760 Len=0 MSS=1452 WS=8 TSval=0 TSecr=0 SACK_PERM=1',\n",
       " '924 166.993764  192.168.1.2 → 86.128.194.14 TCP 54 445 → 1845 [RST, ACK] Seq=1 Ack=1 Win=0 Len=0',\n",
       " '925 166.998197  192.168.1.1 → 192.168.1.2  DNS 130 Standard query response 0x319f PTR 22.44.130.74.in-addr.arpa PTR DHCP-74-130-44-22.insightbb.com',\n",
       " '926 167.042434  192.168.1.1 → 192.168.1.2  DNS 117 Standard query response 0x31a0 PTR 146.10.40.196.in-addr.arpa PTR ip146-10.ct.co.cr',\n",
       " '927 167.047109  192.168.1.1 → 192.168.1.2  DNS 127 Standard query response 0x319c PTR 72.193.161.66.in-addr.arpa PTR nr14-66-161-193-72.fuse.net',\n",
       " '928 167.069897  192.168.1.1 → 192.168.1.2  DNS 130 Standard query response 0x319d PTR 252.99.55.200.in-addr.arpa PTR 200-55-99-252.dsl.prima.net.ar',\n",
       " '929 167.277701  192.168.1.1 → 192.168.1.2  DNS 110 Standard query response 0x31a3 PTR 108.60.111.218.in-addr.arpa PTR tm.net.my',\n",
       " '930 167.438183 86.128.194.14 → 192.168.1.2  TCP 78 [TCP Retransmission] 1845 → 445 [SYN] Seq=0 Win=53760 Len=0 MSS=1452 WS=8 TSval=0 TSecr=0 SACK_PERM=1',\n",
       " '931 167.438231  192.168.1.2 → 86.128.194.14 TCP 54 445 → 1845 [RST, ACK] Seq=1 Ack=1 Win=0 Len=0',\n",
       " '932 167.470278 190.38.33.17 → 192.168.1.2  TCP 62 2201 → 59049 [SYN] Seq=0 Win=65535 Len=0 MSS=1460 SACK_PERM=1',\n",
       " '933 167.470359  192.168.1.2 → 190.38.33.17 TCP 62 59049 → 2201 [SYN, ACK] Seq=0 Ack=1 Win=5840 Len=0 MSS=1460 SACK_PERM=1',\n",
       " '934 167.485076 200.55.99.252 → 192.168.1.2  TCP 78 59605 → 2533 [SYN, ACK] Seq=0 Ack=1 Win=17328 Len=0 MSS=1444 WS=1 TSval=0 TSecr=0 SACK_PERM=1',\n",
       " '935 167.485124  192.168.1.2 → 200.55.99.252 TCP 54 2533 → 59605 [RST] Seq=1 Win=0 Len=0',\n",
       " '936 167.562336  192.168.1.2 → 192.168.1.1  DNS 86 Standard query 0x31a5 PTR 14.194.128.86.in-addr.arpa',\n",
       " '937 167.562407  192.168.1.2 → 192.168.1.1  DNS 92 Standard query 0x31a6 A 148.red-81-184-127.user.auna.net',\n",
       " '938 167.562435  192.168.1.2 → 192.168.1.1  DNS 89 Standard query 0x31a7 A 84-121-82-31.onocable.ono.com',\n",
       " '939 167.562459  192.168.1.2 → 192.168.1.1  DNS 103 Standard query 0x31a8 A adsl-68-74-190-205.dsl.emhril.ameritech.net',\n",
       " '940 167.562483  192.168.1.2 → 192.168.1.1  DNS 84 Standard query 0x31a9 A c187-162.i02-7.onvol.net',\n",
       " '941 167.562507  192.168.1.2 → 192.168.1.1  DNS 91 Standard query 0x31aa A DHCP-74-130-44-22.insightbb.com',\n",
       " '942 167.562531  192.168.1.2 → 192.168.1.1  DNS 77 Standard query 0x31ab A ip146-10.ct.co.cr',\n",
       " '943 167.562555  192.168.1.2 → 192.168.1.1  DNS 87 Standard query 0x31ac A nr14-66-161-193-72.fuse.net',\n",
       " '944 167.562578  192.168.1.2 → 192.168.1.1  DNS 90 Standard query 0x31ad A 200-55-99-252.dsl.prima.net.ar',\n",
       " '945 167.562601  192.168.1.2 → 192.168.1.1  DNS 69 Standard query 0x31ae A tm.net.my',\n",
       " '946 167.574768  192.168.1.1 → 192.168.1.2  DNS 108 Standard query response 0x31a6 A 148.red-81-184-127.user.auna.net A 81.184.127.148',\n",
       " '947 167.578022  192.168.1.1 → 192.168.1.2  DNS 105 Standard query response 0x31a7 A 84-121-82-31.onocable.ono.com A 84.121.82.31',\n",
       " '948 167.581307  192.168.1.1 → 192.168.1.2  DNS 119 Standard query response 0x31a8 A adsl-68-74-190-205.dsl.emhril.ameritech.net A 68.74.190.205',\n",
       " '949 167.584546  192.168.1.1 → 192.168.1.2  DNS 100 Standard query response 0x31a9 A c187-162.i02-7.onvol.net A 213.165.187.162',\n",
       " '950 167.587950  192.168.1.1 → 192.168.1.2  DNS 107 Standard query response 0x31aa A DHCP-74-130-44-22.insightbb.com A 74.130.44.22',\n",
       " '951 167.591171  192.168.1.1 → 192.168.1.2  DNS 93 Standard query response 0x31ab A ip146-10.ct.co.cr A 196.40.10.146',\n",
       " '952 167.594583  192.168.1.1 → 192.168.1.2  DNS 103 Standard query response 0x31ac A nr14-66-161-193-72.fuse.net A 66.161.193.72',\n",
       " '953 167.598314  192.168.1.1 → 192.168.1.2  DNS 106 Standard query response 0x31ad A 200-55-99-252.dsl.prima.net.ar A 200.55.99.252',\n",
       " '954 167.601562  192.168.1.1 → 192.168.1.2  DNS 85 Standard query response 0x31ae A tm.net.my A 218.111.60.108',\n",
       " '955 167.604693  192.168.1.1 → 192.168.1.2  DNS 147 Standard query response 0x31a5 PTR 14.194.128.86.in-addr.arpa PTR host86-128-194-14.range86-128.btcentralplus.com',\n",
       " '956 168.312291  192.168.1.2 → 192.168.1.1  DNS 107 Standard query 0x31af A host86-128-194-14.range86-128.btcentralplus.com',\n",
       " '957 168.315868  192.168.1.1 → 192.168.1.2  DNS 123 Standard query response 0x31af A host86-128-194-14.range86-128.btcentralplus.com A 86.128.194.14',\n",
       " '958 168.829550 190.38.33.17 → 192.168.1.2  TCP 60 2201 → 59049 [ACK] Seq=1 Ack=1 Win=65535 Len=0',\n",
       " '959 169.062120  192.168.1.2 → 192.168.1.1  DNS 85 Standard query 0x31b0 PTR 17.33.38.190.in-addr.arpa',\n",
       " '960 169.097591 190.38.33.17 → 192.168.1.2  TCP 60 2201 → 59049 [FIN, ACK] Seq=1 Ack=1 Win=65535 Len=0',\n",
       " '961 169.097777  192.168.1.2 → 190.38.33.17 TCP 54 59049 → 2201 [FIN, ACK] Seq=1 Ack=2 Win=5840 Len=0',\n",
       " '962 169.103681  192.168.1.1 → 192.168.1.2  DNS 85 Standard query response 0x31b0 PTR 17.33.38.190.in-addr.arpa',\n",
       " '963 169.140982 68.74.190.205 → 192.168.1.2  TCP 72 18050 → 4264 [PSH, ACK] Seq=185 Ack=66 Win=17359 Len=6 TSval=54805 TSecr=14382267',\n",
       " '964 169.141009  192.168.1.2 → 68.74.190.205 TCP 66 4264 → 18050 [ACK] Seq=66 Ack=191 Win=6912 Len=0 TSval=14384918 TSecr=54805',\n",
       " '965 169.302593 71.10.179.129 → 192.168.1.2  TCP 109 14232 → 4026 [PSH, ACK] Seq=664 Ack=123 Win=63685 Len=43 TSval=1889607 TSecr=14371563',\n",
       " '966 169.302642  192.168.1.2 → 71.10.179.129 TCP 66 4026 → 14232 [ACK] Seq=123 Ack=707 Win=751 Len=0 TSval=14385080 TSecr=1889607',\n",
       " '967 170.687541 190.38.33.17 → 192.168.1.2  TCP 60 2201 → 59049 [ACK] Seq=2 Ack=2 Win=65535 Len=0',\n",
       " '968 173.870687 69.248.108.13 → 192.168.1.2  TCP 151 22960 → 3663 [PSH, ACK] Seq=1 Ack=1 Win=65470 Len=85 TSval=540366 TSecr=14025903',\n",
       " '969 173.870754  192.168.1.2 → 69.248.108.13 TCP 66 3663 → 22960 [ACK] Seq=1 Ack=86 Win=864 Len=0 TSval=14389649 TSecr=540366',\n",
       " '970 174.324316  192.168.1.2 → 192.168.1.1  DNS 86 Standard query 0x31b1 PTR 13.108.248.69.in-addr.arpa',\n",
       " '971 174.487012  192.168.1.1 → 192.168.1.2  DNS 135 Standard query response 0x31b1 PTR 13.108.248.69.in-addr.arpa PTR c-69-248-108-13.hsd1.pa.comcast.net',\n",
       " '972 174.744204  192.168.1.2 → 68.95.198.126 TCP 67 [TCP Keep-Alive] 2996 → 1928 [PSH, ACK] Seq=2 Ack=9 Win=1452 Len=1 TSval=14390523 TSecr=71567',\n",
       " '973 174.835724 212.204.214.114 → 192.168.1.2  IRC 132 Response (PRIVMSG)',\n",
       " '974 174.835783  192.168.1.2 → 212.204.214.114 TCP 66 2848 → 6667 [ACK] Seq=327 Ack=50624 Win=8011 Len=0 TSval=14390614 TSecr=2196054035',\n",
       " '975 175.090886  192.168.1.2 → 192.168.1.1  DNS 95 Standard query 0x31b2 A c-69-248-108-13.hsd1.pa.comcast.net',\n",
       " '976 175.094619  192.168.1.1 → 192.168.1.2  DNS 111 Standard query response 0x31b2 A c-69-248-108-13.hsd1.pa.comcast.net A 69.248.108.13',\n",
       " '977 177.555745 172.200.160.242 → 192.168.1.2  TCP 100 11352 → 4984 [PSH, ACK] Seq=697 Ack=124 Win=65004 Len=34 TSval=1746357 TSecr=14379351',\n",
       " '978 177.555796  192.168.1.2 → 172.200.160.242 TCP 66 4984 → 11352 [ACK] Seq=124 Ack=731 Win=753 Len=0 TSval=14393335 TSecr=1746357',\n",
       " '979 177.878804 212.204.214.114 → 192.168.1.2  IRC 217 Response (PRIVMSG)',\n",
       " '980 177.878853  192.168.1.2 → 212.204.214.114 TCP 66 2848 → 6667 [ACK] Seq=327 Ack=50775 Win=8011 Len=0 TSval=14393658 TSecr=2196054339',\n",
       " '981 178.440768  192.168.1.2 → 68.95.198.126 TCP 66 2996 → 1928 [FIN, ACK] Seq=3 Ack=9 Win=1452 Len=0 TSval=14394220 TSecr=71567',\n",
       " '982 178.441275  192.168.1.2 → 70.161.237.88 TCP 74 2015 → 1546 [SYN] Seq=0 Win=5840 Len=0 MSS=1460 SACK_PERM=1 TSval=14394220 TSecr=0 WS=8',\n",
       " '983 178.441447  192.168.1.2 → 24.48.150.22 TCP 74 1113 → 2023 [SYN] Seq=0 Win=5840 Len=0 MSS=1460 SACK_PERM=1 TSval=14394220 TSecr=0 WS=8',\n",
       " '984 178.441592  192.168.1.2 → 70.181.220.80 TCP 74 3938 → 3336 [SYN] Seq=0 Win=5840 Len=0 MSS=1460 SACK_PERM=1 TSval=14394220 TSecr=0 WS=8',\n",
       " '985 178.441752  192.168.1.2 → 24.191.115.185 TCP 74 1531 → 3315 [SYN] Seq=0 Win=5840 Len=0 MSS=1460 SACK_PERM=1 TSval=14394221 TSecr=0 WS=8',\n",
       " '986 178.441897  192.168.1.2 → 70.160.92.135 TCP 74 3445 → 2267 [SYN] Seq=0 Win=5840 Len=0 MSS=1460 SACK_PERM=1 TSval=14394221 TSecr=0 WS=8',\n",
       " '987 178.442007  192.168.1.2 → 70.160.94.139 UDP 54 1214 → 2362 Len=12',\n",
       " '988 178.442038  192.168.1.2 → 69.174.241.72 H.248 54 1214 → 2945 Len=12',\n",
       " '989 178.442061  192.168.1.2 → 70.36.75.98  UDP 54 1214 → 1214 Len=12',\n",
       " '990 178.442083  192.168.1.2 → 24.22.73.206 UDP 54 1214 → 1742 Len=12',\n",
       " '991 178.442104  192.168.1.2 → 82.40.35.124 UDP 54 1214 → 2133 Len=12',\n",
       " '992 178.442126  192.168.1.2 → 24.247.87.5  UDP 54 1214 → 2680 Len=12',\n",
       " '993 178.442148  192.168.1.2 → 69.160.6.18  UDP 54 1214 → 3908 Len=12',\n",
       " '994 178.442171  192.168.1.2 → 69.114.183.8 UDP 54 1214 → 2997 Len=12',\n",
       " '995 178.442193  192.168.1.2 → 69.160.83.193 UDP 54 1214 → 1325 Len=12',\n",
       " '996 178.442216  192.168.1.2 → 72.40.37.213 UDP 54 1214 → 1759 Len=12',\n",
       " '997 178.557371 70.161.237.88 → 192.168.1.2  TCP 78 1546 → 2015 [SYN, ACK] Seq=0 Ack=1 Win=65535 Len=0 MSS=1460 WS=1 TSval=0 TSecr=0 SACK_PERM=1',\n",
       " '998 178.557440  192.168.1.2 → 70.161.237.88 TCP 66 2015 → 1546 [ACK] Seq=1 Ack=1 Win=5840 Len=0 TSval=14394336 TSecr=0',\n",
       " '999 178.557668  192.168.1.2 → 70.161.237.88 TCP 78 2015 → 1546 [PSH, ACK] Seq=1 Ack=1 Win=5840 Len=12 TSval=14394337 TSecr=0',\n",
       " '1000 178.567932 70.160.92.135 → 192.168.1.2  TCP 78 2267 → 3445 [SYN, ACK] Seq=0 Ack=1 Win=65535 Len=0 MSS=1460 WS=1 TSval=0 TSecr=0 SACK_PERM=1',\n",
       " ...]"
      ]
     },
     "execution_count": 144,
     "metadata": {},
     "output_type": "execute_result"
    }
   ],
   "source": [
    "skype = open('SkypeIRC.txt', 'r', encoding='UTF-8')\n",
    "packets = [item.strip() for item in skype]\n",
    "n_packets = len(packets)\n",
    "packets"
   ]
  },
  {
   "cell_type": "code",
   "execution_count": 145,
   "metadata": {
    "deletable": false,
    "editable": false,
    "nbgrader": {
     "cell_type": "code",
     "checksum": "953782a6e8dc82fbe1c820e735edb9ec",
     "grade": true,
     "grade_id": "cell-83e4582bb7634be7",
     "locked": true,
     "points": 1,
     "schema_version": 3,
     "solution": false,
     "task": false
    }
   },
   "outputs": [],
   "source": [
    "assert type(n_packets) == int\n",
    "assert type(packets) == list"
   ]
  },
  {
   "cell_type": "markdown",
   "metadata": {
    "deletable": false,
    "editable": false,
    "nbgrader": {
     "cell_type": "markdown",
     "checksum": "bfffda5d7bd6c5090e1e7a61e39549cc",
     "grade": false,
     "grade_id": "cell-af4935edc41b73f3",
     "locked": true,
     "schema_version": 3,
     "solution": false,
     "task": false
    }
   },
   "source": [
    "### Part 2 (2 points)\n",
    "\n",
    "An IP address consists of four numbers, which are displayed as `A.B.C.D` where `A,B,C`, and `D` are each numbers between 0 and 255 inclusive.\n",
    "\n",
    "Use regular expressions to extract all the IP addresses from the file and collect them in a Python list. How many unique IP addresses appear in the data set? Save the answer in a variable `n_ip_addresses`. \n",
    "\n",
    "__Note:__ there are a few pieces of text in the file that _look_ like IP addresses but aren't (e.g., they are of the form `A.B.C.D`, but one or more of `A,B,C`, and `D` are outside the range 0 to 255). You should try to craft a regex that matches as few of these as you can, but of course it will not be possible to avoid certain edge cases."
   ]
  },
  {
   "cell_type": "code",
   "execution_count": 146,
   "metadata": {
    "deletable": false,
    "nbgrader": {
     "cell_type": "code",
     "checksum": "92b4d13f6545a143d35f7971039d3ef7",
     "grade": false,
     "grade_id": "cell-93c89971beafd000",
     "locked": false,
     "schema_version": 3,
     "solution": true,
     "task": false
    }
   },
   "outputs": [
    {
     "data": {
      "text/plain": [
       "368"
      ]
     },
     "execution_count": 146,
     "metadata": {},
     "output_type": "execute_result"
    },
    {
     "name": "stderr",
     "output_type": "stream",
     "text": [
      "1:13: E222 multiple spaces after operator\n",
      "1:100: E501 line too long (237 > 99 characters)\n"
     ]
    }
   ],
   "source": [
    "ip_compile =  re.compile(r'((25[0-5]|2[0-4][0-9]|1[0-9][0-9]|[1-9][0-9]|[0-9])\\.(25[0-5]|2[0-4][0-9]|1[0-9][0-9]|[1-9][0-9]|[0-9])\\.(25[0-5]|2[0-4][0-9]|1[0-9][0-9]|[1-9][0-9]|[0-9])\\.(25[0-5]|2[0-4][0-9]|1[0-9][0-9]|[1-9][0-9]|[0-9]))')\n",
    "unique_ip = set()\n",
    "for item in packets:\n",
    "    ip_info = ip_compile.findall(item)\n",
    "    for ip in ip_info:\n",
    "        unique_ip.add(ip)\n",
    "n_ip_addresses = len(unique_ip)\n",
    "n_ip_addresses"
   ]
  },
  {
   "cell_type": "code",
   "execution_count": 147,
   "metadata": {
    "deletable": false,
    "editable": false,
    "nbgrader": {
     "cell_type": "code",
     "checksum": "ddf0cd2a06e2d72372d4d0030858b423",
     "grade": true,
     "grade_id": "cell-c4430ca17a9bc917",
     "locked": true,
     "points": 2,
     "schema_version": 3,
     "solution": false,
     "task": false
    }
   },
   "outputs": [],
   "source": [
    "assert type(n_ip_addresses) == int"
   ]
  },
  {
   "cell_type": "markdown",
   "metadata": {
    "deletable": false,
    "editable": false,
    "nbgrader": {
     "cell_type": "markdown",
     "checksum": "5cf78ac8bd02a8f5090949ab0fa37fd5",
     "grade": false,
     "grade_id": "cell-134a680ceac6ea2c",
     "locked": true,
     "schema_version": 3,
     "solution": false,
     "task": false
    }
   },
   "source": [
    "### Part 3 (1 points) \n",
    "\n",
    "Write a function called `get_packets_by_regex` that takes a single raw string as its argument and returns a list of all the lines from the input file `SkypeIRC.txt` that match the input raw string as a regular expression. \n",
    "\n",
    "So, for example, `get_packets_by_regex(r\"comcast\")` will return all lines from the file containing the string `\"comcast\"`. You can assume that your input is a raw string."
   ]
  },
  {
   "cell_type": "code",
   "execution_count": 148,
   "metadata": {
    "deletable": false,
    "nbgrader": {
     "cell_type": "code",
     "checksum": "1cf9f5a43fa3cc8331fee758fc92bf81",
     "grade": false,
     "grade_id": "prob2-part3-ans",
     "locked": false,
     "schema_version": 3,
     "solution": true,
     "task": false
    }
   },
   "outputs": [],
   "source": [
    "def get_packets_by_regex(s):\n",
    "    s_compile = re.compile(s)\n",
    "    match = []\n",
    "    for line in packets:\n",
    "        if re.search(s_compile, line) is not None:\n",
    "            match.append(line)\n",
    "    return match"
   ]
  },
  {
   "cell_type": "code",
   "execution_count": 149,
   "metadata": {
    "deletable": false,
    "editable": false,
    "nbgrader": {
     "cell_type": "code",
     "checksum": "1da33b7df05f181fcda79bfbe8555f4a",
     "grade": true,
     "grade_id": "prob2-part3-test",
     "locked": true,
     "points": 1,
     "schema_version": 3,
     "solution": false,
     "task": false
    }
   },
   "outputs": [],
   "source": [
    "assert type(get_packets_by_regex(r'114.214.204.212')) == list\n",
    "assert len(get_packets_by_regex(r'114.214.204.212')) == 2"
   ]
  },
  {
   "cell_type": "markdown",
   "metadata": {
    "deletable": false,
    "editable": false,
    "nbgrader": {
     "cell_type": "markdown",
     "checksum": "ab1f5b48b18c27509292831e59aa6d6b",
     "grade": false,
     "grade_id": "cell-c99ad9a96df3dc43",
     "locked": true,
     "points": 2,
     "schema_version": 3,
     "solution": false,
     "task": true
    }
   },
   "source": [
    "### Part 4 (2 points) \n",
    "The second piece of text (i.e., non-whitespace) on each line is a time stamp, counting the time (in seconds) since the beginning of the traffic recording. Using `matplotlib`, create a plot displaying how many packets appeared in each second of the recording. Be sure to label your plot with appropriate axes labels. \n",
    "\n",
    "A histogram or line plot is the most obvious way to do this, but you should feel free to use a more creative way of displaying this information if you wish to do so. The plot should display in your ipython notebook after running the cell below. \n",
    "\n",
    "__Note:__ There is no need to use a regular expression for this subproblem if you do not want to."
   ]
  },
  {
   "cell_type": "code",
   "execution_count": 150,
   "metadata": {
    "deletable": false,
    "nbgrader": {
     "cell_type": "code",
     "checksum": "6be8791b12c4112e0f1a252f38a28e60",
     "grade": false,
     "grade_id": "cell-7cb593eab90c8cbe",
     "locked": false,
     "schema_version": 3,
     "solution": true,
     "task": false
    }
   },
   "outputs": [
    {
     "data": {
      "text/plain": [
       "Text(0, 0.5, 'Number of packets each second')"
      ]
     },
     "execution_count": 150,
     "metadata": {},
     "output_type": "execute_result"
    },
    {
     "data": {
      "image/png": "[encoded data removed]",
      "text/plain": [
       "<Figure size 432x288 with 1 Axes>"
      ]
     },
     "metadata": {
      "needs_background": "light"
     },
     "output_type": "display_data"
    }
   ],
   "source": [
    "%matplotlib inline\n",
    "import matplotlib.pyplot as plt\n",
    "import math\n",
    "\n",
    "\n",
    "time_data = []\n",
    "for i in range(0, n_packets):\n",
    "    time_stamp = float((packets[i].split())[1])\n",
    "    time_data.append(time_stamp)\n",
    "    \n",
    "bins = math.ceil(time_data[-1])\n",
    "plt.hist(time_data, bins)\n",
    "plt.xlabel('Time Stamp')\n",
    "plt.ylabel('Number of packets each second')"
   ]
  },
  {
   "cell_type": "markdown",
   "metadata": {
    "deletable": false,
    "editable": false,
    "nbgrader": {
     "cell_type": "markdown",
     "checksum": "d6535b5f049b6210707f8e033149d2d9",
     "grade": false,
     "grade_id": "cell-d8a9f74b335628bc",
     "locked": true,
     "schema_version": 3,
     "solution": false,
     "task": false
    }
   },
   "source": [
    "## 3 Retrieving Data from the Web (3 points)\n",
    "In this problem, we'll scrape data from Wikipedia using __BeautifulSoup__. Documentation for BeauitfulSoup can be found at https://www.crummy.com/software/BeautifulSoup/bs4/doc/. As mentioned in lecture, there is another package, called __requests__, which is becoming quite popular, which you are welcome to use for this problem instead, if you wish. Documentation for the `requests` package can be found at http://docs.python-requests.org/en/master/."
   ]
  },
  {
   "cell_type": "markdown",
   "metadata": {
    "deletable": false,
    "editable": false,
    "nbgrader": {
     "cell_type": "markdown",
     "checksum": "9c68377a8940ad41d3e310875641151a",
     "grade": false,
     "grade_id": "cell-04ff02235bd6315d",
     "locked": true,
     "schema_version": 3,
     "solution": false,
     "task": false
    }
   },
   "source": [
    "### Part 1 (2 points) \n",
    "\n",
    "Look at a few Wikipedia pages corresponding to cities. For example:\n",
    " - https://en.wikipedia.org/wiki/Ann_Arbor,_Michigan\n",
    " - https://en.wikipedia.org/wiki/Buenos_Aires\n",
    " - https://en.wikipedia.org/wiki/Harbin\n",
    " \n",
    "Each place in Wikipedia has a GPS location located at the top which links to a page on Geohack.\n",
    "\n",
    "![](./wiki_geohacks.png)\n",
    "\n",
    "Write a function called `get_geohack_wiki` which takes a Wikipedia link as input and returns a string of the url pointing to the Geohack page."
   ]
  },
  {
   "cell_type": "code",
   "execution_count": 151,
   "metadata": {
    "deletable": false,
    "nbgrader": {
     "cell_type": "code",
     "checksum": "2768fe7f9bbc8a246cbf8a513db4ed01",
     "grade": false,
     "grade_id": "cell-e466e8079cbfc0ab",
     "locked": false,
     "schema_version": 3,
     "solution": true,
     "task": false
    }
   },
   "outputs": [
    {
     "data": {
      "text/plain": [
       "'https://geohack.toolforge.org/geohack.php?pagename=Ann_Arbor,_Michigan&params=42_16_53_N_83_44_54_W_region:US-MI_type:city(113934)'"
      ]
     },
     "execution_count": 151,
     "metadata": {},
     "output_type": "execute_result"
    },
    {
     "name": "stderr",
     "output_type": "stream",
     "text": [
      "1:22: W291 trailing whitespace\n",
      "19:1: E305 expected 2 blank lines after class or function definition, found 1\n"
     ]
    }
   ],
   "source": [
    "import urllib.request \n",
    "import re\n",
    "from bs4 import BeautifulSoup\n",
    "from urllib.request import urlopen\n",
    "\n",
    "\n",
    "def get_geohack_wiki(url):\n",
    "    response = urlopen(url)\n",
    "    soup = BeautifulSoup(response, 'html.parser')\n",
    "    if (soup.find('span', id=\"coordinates\") is not None):\n",
    "        gcs = soup.find('span', id=\"coordinates\")\n",
    "        geo = gcs.find('a', class_=\"external text\")\n",
    "        geo_site = geo.get('href')\n",
    "        ret = \"https:\" + geo_site\n",
    "        return ret\n",
    "    else:\n",
    "        raise ValueError(\"Not a location\")\n",
    "\n",
    "get_geohack_wiki(\"https://en.wikipedia.org/wiki/Ann_Arbor,_Michigan\")"
   ]
  },
  {
   "cell_type": "code",
   "execution_count": 152,
   "metadata": {
    "deletable": false,
    "editable": false,
    "nbgrader": {
     "cell_type": "code",
     "checksum": "d7b08c6a65f2db7d4bf3534e80b0a5f2",
     "grade": true,
     "grade_id": "cell-17e639acea13620f",
     "locked": true,
     "points": 1,
     "schema_version": 3,
     "solution": false,
     "task": false
    }
   },
   "outputs": [],
   "source": [
    "assert get_geohack_wiki(\n",
    "    'https://en.wikipedia.org/wiki/Ann_Arbor,_Michigan'\n",
    ") == 'https://geohack.toolforge.org/geohack.php?pagename=Ann_Arbor,_Michigan&params=42_16_53_N_83_44_54_W_region:US-MI_type:city(113934)'  # noqa:  E501\n",
    "assert get_geohack_wiki(\n",
    "    'https://en.wikipedia.org/wiki/Buenos_Aires'\n",
    ") == 'https://geohack.toolforge.org/geohack.php?pagename=Buenos_Aires&params=34_36_12_S_58_22_54_W_region:AR_type:city'  # noqa: E501\n",
    "assert get_geohack_wiki(\n",
    "    'https://en.wikipedia.org/wiki/Harbin'\n",
    ") == 'https://geohack.toolforge.org/geohack.php?pagename=Harbin&params=45.7576_N_126.6409_E_type:adm2nd_region:CN-23_source:Gaode'  # noqa: E501\n",
    "assert get_geohack_wiki(\n",
    "    'https://en.wikipedia.org/wiki/Monte_Carlo'\n",
    ") == 'https://geohack.toolforge.org/geohack.php?pagename=Monte_Carlo&params=43_44_23_N_7_25_38_E_region:MC_type:city'  # noqa: E501\n",
    "try:\n",
    "    get_geohack_wiki('https://en.wikipedia.org/wiki/Google')\n",
    "    assert False\n",
    "except ValueError:\n",
    "    assert True\n",
    "except:  # noqa: E722\n",
    "    assert False"
   ]
  },
  {
   "cell_type": "code",
   "execution_count": 153,
   "metadata": {
    "deletable": false,
    "editable": false,
    "nbgrader": {
     "cell_type": "code",
     "checksum": "0a2d9bda96d7b6eb6cbbbb1efce2b4cd",
     "grade": true,
     "grade_id": "cell-77890209e904b287",
     "locked": true,
     "points": 1,
     "schema_version": 3,
     "solution": false,
     "task": false
    }
   },
   "outputs": [],
   "source": [
    "# pylint: disable=E501\n",
    "assert get_geohack_wiki(\n",
    "    'https://en.wikipedia.org/wiki/University_of_Michigan'\n",
    ") == 'https://geohack.toolforge.org/geohack.php?pagename=University_of_Michigan&params=42_16_37_N_83_44_17_W_'  # noqa: E501\n",
    "assert get_geohack_wiki(\n",
    "    'https://en.wikipedia.org/wiki/Michigan_State_University'\n",
    ") == 'https://geohack.toolforge.org/geohack.php?pagename=Michigan_State_University&params=42_43_30_N_84_28_48_W_region:US_type:edu'  # noqa: E501"
   ]
  },
  {
   "cell_type": "markdown",
   "metadata": {},
   "source": [
    "### Part 2 (1 point) \n",
    "\n",
    "Now, we want to extract just the Decimal GPS Coordiates on the Geohack website:\n",
    "\n",
    "![](./geohack_decimal.png)\n",
    "\n",
    "Write a function called `get_gps_wiki` which takes **a Wikipedia link** as input and returns a tuple of the Decimal GPS coordinates from the associated Geohack Website.\n",
    "\n",
    "#### Hints\n",
    "- Use the```get_geohack_wiki``` function from Part 1.\n",
    "- It will most likely be easiest to find and parse the \"Geo URI\"."
   ]
  },
  {
   "cell_type": "code",
   "execution_count": 154,
   "metadata": {
    "deletable": false,
    "nbgrader": {
     "cell_type": "code",
     "checksum": "cb2841130bea70eb74327b39c6b0b53e",
     "grade": false,
     "grade_id": "cell-e0382175b679b792",
     "locked": false,
     "schema_version": 3,
     "solution": true,
     "task": false
    }
   },
   "outputs": [
    {
     "data": {
      "text/plain": [
       "(42.281389, -83.748333)"
      ]
     },
     "execution_count": 154,
     "metadata": {},
     "output_type": "execute_result"
    },
    {
     "name": "stderr",
     "output_type": "stream",
     "text": [
      "17:1: E305 expected 2 blank lines after class or function definition, found 1\n"
     ]
    }
   ],
   "source": [
    "def get_gps_wiki(wiki_url):\n",
    "    url = get_geohack_wiki(wiki_url)\n",
    "    response = urlopen(url)\n",
    "    soup1 = BeautifulSoup(response, 'html.parser')\n",
    "    if soup1.find(\"span\", class_=\"latitude p-latitude\") is not None:\n",
    "        lat = soup1.find(\"span\", class_=\"latitude p-latitude\")\n",
    "        lat_lst = lat.find_all_next(string=True)\n",
    "        lat_num = float(lat_lst[0])\n",
    "        long = soup1.find(\"span\", class_=\"longitude p-longitude\")\n",
    "        long_lst = long.find_all_next(string=True)\n",
    "        long_num = float(long_lst[0])\n",
    "        ret = (lat_num, long_num)\n",
    "        return ret\n",
    "    else:\n",
    "        raise ValueError(\"Not a location\")\n",
    "\n",
    "get_gps_wiki('https://en.wikipedia.org/wiki/Ann_Arbor,_Michigan')"
   ]
  },
  {
   "cell_type": "code",
   "execution_count": 155,
   "metadata": {
    "deletable": false,
    "editable": false,
    "nbgrader": {
     "cell_type": "code",
     "checksum": "ccb5b4f6321bbca47960b3f131930933",
     "grade": true,
     "grade_id": "cell-852c5ed169ebe62a",
     "locked": true,
     "points": 1,
     "schema_version": 3,
     "solution": false,
     "task": false
    }
   },
   "outputs": [],
   "source": [
    "assert get_gps_wiki(\n",
    "    'https://en.wikipedia.org/wiki/Ann_Arbor,_Michigan'\n",
    ") == (42.281389, -83.748333)\n",
    "assert get_gps_wiki(\n",
    "    'https://en.wikipedia.org/wiki/Monte_Carlo'\n",
    ") == (43.739722, 7.427222)\n",
    "assert get_gps_wiki(\n",
    "    'https://en.wikipedia.org/wiki/Johannesburg'\n",
    ") == (-26.204444, 28.045556)\n",
    "try:\n",
    "    get_gps_wiki('https://en.wikipedia.org/wiki/Google')\n",
    "    assert False\n",
    "except ValueError:\n",
    "    assert True\n",
    "except:  # noqa: E722\n",
    "    assert False"
   ]
  },
  {
   "cell_type": "markdown",
   "metadata": {
    "deletable": false,
    "editable": false,
    "nbgrader": {
     "cell_type": "markdown",
     "checksum": "61d3d3b8b300585feffc587db7550d31",
     "grade": false,
     "grade_id": "cell-a207a650f2d1ef94",
     "locked": true,
     "schema_version": 3,
     "solution": false,
     "task": false
    }
   },
   "source": [
    "## 4 Relational Databases and SQL (8 points)\n",
    "In this problem, you'll interact with a toy SQL database using Python's built-in `sqlite3` package. Documentation can be found at https://docs.python.org/3/library/sqlite3.html. For this problem, we'll use a popular toy SQLite database, called `Chinook`, which represents a digital music collection. See the documentation at:\n",
    " \n",
    " https://github.com/lerocha/chinook-database/blob/master/ChinookDatabase/DataSources/Chinook_Sqlite.sqlite\n",
    "\n",
    "for a more detailed explanation. We'll use the `.sqlite` file `Chinook_Sqlite.sqlite`, which should have been included along with this hwk in the `hw7.zip` file. "
   ]
  },
  {
   "cell_type": "markdown",
   "metadata": {
    "deletable": false,
    "editable": false,
    "nbgrader": {
     "cell_type": "markdown",
     "checksum": "368eeb7c5659d75036a2a3580e2d8a85",
     "grade": false,
     "grade_id": "cell-56ee4373a5efce0e",
     "locked": true,
     "schema_version": 3,
     "solution": false,
     "task": false
    }
   },
   "source": [
    "### Part 1 (1 points) \n",
    "Load the database using the Python `sqlite3` package. How many tables are in the database? Save the answer in the variable `n_tables`."
   ]
  },
  {
   "cell_type": "code",
   "execution_count": 156,
   "metadata": {
    "deletable": false,
    "nbgrader": {
     "cell_type": "code",
     "checksum": "717efcdb0ac4920899edbdf6028b5e80",
     "grade": false,
     "grade_id": "cell-84893af64498c3cc",
     "locked": false,
     "schema_version": 3,
     "solution": true,
     "task": false
    }
   },
   "outputs": [
    {
     "data": {
      "text/plain": [
       "11"
      ]
     },
     "execution_count": 156,
     "metadata": {},
     "output_type": "execute_result"
    }
   ],
   "source": [
    "import sqlite3\n",
    "\n",
    "\n",
    "conn = sqlite3.connect('Chinook_Sqlite.sqlite')\n",
    "c = conn.cursor()\n",
    "n_tables = 0\n",
    "for r in c.execute('''SELECT * FROM sqlite_master WHERE type = 'table' '''):\n",
    "    n_tables += 1\n",
    "n_tables"
   ]
  },
  {
   "cell_type": "code",
   "execution_count": 157,
   "metadata": {
    "deletable": false,
    "editable": false,
    "nbgrader": {
     "cell_type": "code",
     "checksum": "633e11ed35b1dd8bb42e882d16b1444e",
     "grade": true,
     "grade_id": "cell-68ac85fd573d6251",
     "locked": true,
     "points": 1,
     "schema_version": 3,
     "solution": false,
     "task": false
    }
   },
   "outputs": [],
   "source": [
    "assert type(n_tables) == int\n",
    "assert n_tables > 2"
   ]
  },
  {
   "cell_type": "markdown",
   "metadata": {
    "deletable": false,
    "editable": false,
    "nbgrader": {
     "cell_type": "markdown",
     "checksum": "90fc7812cc2533e748dfdd236f08b8a2",
     "grade": false,
     "grade_id": "cell-ac8e505b743d93d5",
     "locked": true,
     "schema_version": 3,
     "solution": false,
     "task": false
    }
   },
   "source": [
    "### Part 2 (1 points) \n",
    "What are the names of the tables in the database? Save the answer as a list of strings, `table_names`. \n",
    "\n",
    "__Note:__ you should write Python `sqlite3` code to answer this; don't just look up the answer in the documentation!"
   ]
  },
  {
   "cell_type": "code",
   "execution_count": 158,
   "metadata": {
    "deletable": false,
    "nbgrader": {
     "cell_type": "code",
     "checksum": "d135eed4a4357a65679aa62439c15c78",
     "grade": false,
     "grade_id": "cell-ce5f6a6581833d60",
     "locked": false,
     "schema_version": 3,
     "solution": true,
     "task": false
    }
   },
   "outputs": [],
   "source": [
    "table_names = []\n",
    "for r in c.execute('''SELECT * FROM sqlite_master WHERE type = 'table' '''):\n",
    "    table_names.append(r[1])\n"
   ]
  },
  {
   "cell_type": "code",
   "execution_count": 159,
   "metadata": {
    "deletable": false,
    "editable": false,
    "nbgrader": {
     "cell_type": "code",
     "checksum": "4dd747b0404b7fae7bbcfa557d3f81f0",
     "grade": true,
     "grade_id": "cell-34217dd8ef66ceae",
     "locked": true,
     "points": 1,
     "schema_version": 3,
     "solution": false,
     "task": false
    }
   },
   "outputs": [],
   "source": [
    "assert type(table_names) == list\n",
    "assert len(table_names) > 2\n",
    "assert 'Album' in table_names and 'Employee' in table_names"
   ]
  },
  {
   "cell_type": "markdown",
   "metadata": {
    "deletable": false,
    "editable": false,
    "nbgrader": {
     "cell_type": "markdown",
     "checksum": "10f1d5cf28cd614c455f3885f5a4582f",
     "grade": false,
     "grade_id": "cell-28f3508b1cf8bebb",
     "locked": true,
     "schema_version": 3,
     "solution": false,
     "task": false
    }
   },
   "source": [
    "### Part 3 (2 points)\n",
    "\n",
    "Write a function `list_album_ids_by_letter` that takes as an argument a single character and returns a list of the primary keys of all the albums whose titles start with that character. Your function should ignore case, so that the inputs \"a\" and \"A\" yield the same results. \n",
    "\n",
    "Include error checking that raises an error in the event that the input is not a single character.\n",
    "\n",
    "**Note:** If no album starts with the given letter, the output should be an empty list."
   ]
  },
  {
   "cell_type": "code",
   "execution_count": 160,
   "metadata": {
    "deletable": false,
    "nbgrader": {
     "cell_type": "code",
     "checksum": "243ea8d20c6e41936e3b01a71448b6d0",
     "grade": false,
     "grade_id": "cell-978a04358ba1be71",
     "locked": false,
     "schema_version": 3,
     "solution": true,
     "task": false
    }
   },
   "outputs": [],
   "source": [
    "def list_album_ids_by_letter(s):\n",
    "    if (type(s) != str):\n",
    "        raise TypeError('Input not a char')\n",
    "    if (len(s) != 1):\n",
    "        raise ValueError('Input not a char')\n",
    "    ret = []\n",
    "    for r in c.execute('''SELECT * FROM Album '''):\n",
    "        if r[1][0].lower() == s.lower():\n",
    "            ret.append(r[0])\n",
    "    return ret"
   ]
  },
  {
   "cell_type": "code",
   "execution_count": 161,
   "metadata": {
    "deletable": false,
    "editable": false,
    "nbgrader": {
     "cell_type": "code",
     "checksum": "3a1f1748e5b34f968940f553c67e75be",
     "grade": true,
     "grade_id": "cell-d403320337a4b928",
     "locked": true,
     "points": 1,
     "schema_version": 3,
     "solution": false,
     "task": false
    }
   },
   "outputs": [],
   "source": [
    "try:\n",
    "    list_album_ids_by_letter('ndf')\n",
    "    assert False\n",
    "except ValueError:\n",
    "    assert True"
   ]
  },
  {
   "cell_type": "code",
   "execution_count": 162,
   "metadata": {
    "deletable": false,
    "editable": false,
    "nbgrader": {
     "cell_type": "code",
     "checksum": "05a41f6049aea7fe634f9c2cca212d20",
     "grade": true,
     "grade_id": "cell-0d4f64e117432d87",
     "locked": true,
     "points": 1,
     "schema_version": 3,
     "solution": false,
     "task": false
    }
   },
   "outputs": [],
   "source": [
    "assert list_album_ids_by_letter('n') == [28, 105, 164, 173, 186, 189, 217, 338]"
   ]
  },
  {
   "cell_type": "markdown",
   "metadata": {
    "deletable": false,
    "editable": false,
    "nbgrader": {
     "cell_type": "markdown",
     "checksum": "1ba31b3793e00e7e009604c2bab142ba",
     "grade": false,
     "grade_id": "cell-3d203c8a56231a2d",
     "locked": true,
     "schema_version": 3,
     "solution": false,
     "task": false
    }
   },
   "source": [
    "### Part 4 (2 points)\n",
    "Write a function `list_song_ids_by_album_letter` that takes as an argument a single character and returns a list of the primary keys of all the songs whose album names begin with that letter. \n",
    "\n",
    "Again, your function should ignore case and perform error checking as in `list_album_ids_by_letter`. Just like before, your function should return an empty list if there are no matches.\n",
    "\n",
    "__Hint:__ you'll need a `JOIN` statement here. Don't forget that you can use the `cursor.description` attribute to find out about tables and the names of their columns."
   ]
  },
  {
   "cell_type": "code",
   "execution_count": 163,
   "metadata": {
    "deletable": false,
    "nbgrader": {
     "cell_type": "code",
     "checksum": "6e78c016aae8b050bf67c334fbaac7a0",
     "grade": false,
     "grade_id": "cell-923e58005cc15786",
     "locked": false,
     "schema_version": 3,
     "solution": true,
     "task": false
    }
   },
   "outputs": [
    {
     "name": "stderr",
     "output_type": "stream",
     "text": [
      "7:100: E501 line too long (107 > 99 characters)\n"
     ]
    }
   ],
   "source": [
    "def list_song_ids_by_album_letter(s):\n",
    "    if (type(s) != str):\n",
    "        raise TypeError('Input not a char')\n",
    "    if (len(s) != 1):\n",
    "        raise ValueError('Input not a char')\n",
    "    ret = []\n",
    "    for r in c.execute('''SELECT T.TrackId, A.Title FROM Album A JOIN Track T ON A.AlbumId = T.AlbumId'''):\n",
    "        if (r[1][0].lower() == s.lower()):\n",
    "            ret.append(r[0])\n",
    "    return ret"
   ]
  },
  {
   "cell_type": "code",
   "execution_count": 164,
   "metadata": {
    "deletable": false,
    "editable": false,
    "nbgrader": {
     "cell_type": "code",
     "checksum": "861842e205471937802b11a3e320adc3",
     "grade": true,
     "grade_id": "prob4-4-test1",
     "locked": true,
     "points": 1,
     "schema_version": 3,
     "solution": false,
     "task": false
    }
   },
   "outputs": [],
   "source": [
    "try:\n",
    "    list_song_ids_by_album_letter('ndf')\n",
    "    assert False\n",
    "except ValueError:\n",
    "    assert True"
   ]
  },
  {
   "cell_type": "code",
   "execution_count": 165,
   "metadata": {
    "deletable": false,
    "editable": false,
    "nbgrader": {
     "cell_type": "code",
     "checksum": "fae65620a2dc7ebf47882529f044c127",
     "grade": true,
     "grade_id": "prob4-4-test2",
     "locked": true,
     "points": 1,
     "schema_version": 3,
     "solution": false,
     "task": false
    }
   },
   "outputs": [],
   "source": [
    "assert list_song_ids_by_album_letter('z') == [3028, 3029, 3030, 3031,\n",
    "                                              3032, 3033, 3034, 3035,\n",
    "                                              3036, 3037]"
   ]
  },
  {
   "cell_type": "markdown",
   "metadata": {
    "deletable": false,
    "editable": false,
    "nbgrader": {
     "cell_type": "markdown",
     "checksum": "533f6fc60cec695457cab1e142bc08e9",
     "grade": false,
     "grade_id": "cell-d2888e63a0623e2a",
     "locked": true,
     "schema_version": 3,
     "solution": false,
     "task": false
    }
   },
   "source": [
    "### Part 5 (2 points)\n",
    "\n",
    "Write a function `total_cost_by_album_letter` that takes as an argument a single character and returns the cost of buying every song whose album begins with that letter. This cost should be based on the tracks' unit prices, so that the cost of buying a set of tracks is simply the sum of the unit prices of all the tracks in the set. Assume input is always a single lower case chracter."
   ]
  },
  {
   "cell_type": "code",
   "execution_count": 166,
   "metadata": {
    "deletable": false,
    "nbgrader": {
     "cell_type": "code",
     "checksum": "9969a3fe2392ae3cffb83920a9e10b82",
     "grade": false,
     "grade_id": "cell-0c65ee406ac0ffe4",
     "locked": false,
     "schema_version": 3,
     "solution": true,
     "task": false
    }
   },
   "outputs": [
    {
     "name": "stderr",
     "output_type": "stream",
     "text": [
      "3:100: E501 line too long (109 > 99 characters)\n"
     ]
    }
   ],
   "source": [
    "def total_cost_by_album_letter(s):\n",
    "    sum_price = 0\n",
    "    for r in c.execute('''SELECT A.Title, T.UnitPrice FROM Album A JOIN Track T ON A.AlbumId = T.AlbumId'''):\n",
    "        if r[0][0].lower() == s.lower():\n",
    "            sum_price += r[1]\n",
    "    return sum_price"
   ]
  },
  {
   "cell_type": "code",
   "execution_count": 167,
   "metadata": {
    "deletable": false,
    "editable": false,
    "nbgrader": {
     "cell_type": "code",
     "checksum": "7bd7821fda608ef4516861101c87ec6a",
     "grade": true,
     "grade_id": "cell-c7a96ed82a24e685",
     "locked": true,
     "points": 1,
     "schema_version": 3,
     "solution": false,
     "task": false
    }
   },
   "outputs": [],
   "source": [
    "assert total_cost_by_album_letter('z') == 9.9"
   ]
  },
  {
   "cell_type": "code",
   "execution_count": 168,
   "metadata": {
    "deletable": false,
    "editable": false,
    "nbgrader": {
     "cell_type": "code",
     "checksum": "1b556a4f10da1add2a057b17ec6e14cb",
     "grade": true,
     "grade_id": "cell-8ee5f3e15e1fc42b",
     "locked": true,
     "points": 1,
     "schema_version": 3,
     "solution": false,
     "task": false
    }
   },
   "outputs": [],
   "source": [
    "assert round(total_cost_by_album_letter('a'), 0) == 366"
   ]
  },
  {
   "cell_type": "code",
   "execution_count": null,
   "metadata": {},
   "outputs": [],
   "source": []
  }
 ],
 "metadata": {
  "kernelspec": {
   "display_name": "Python 3",
   "language": "python",
   "name": "python3"
  },
  "language_info": {
   "codemirror_mode": {
    "name": "ipython",
    "version": 3
   },
   "file_extension": ".py",
   "mimetype": "text/x-python",
   "name": "python",
   "nbconvert_exporter": "python",
   "pygments_lexer": "ipython3",
   "version": "3.8.7"
  },
  "latex_envs": {
   "LaTeX_envs_menu_present": true,
   "autoclose": false,
   "autocomplete": true,
   "bibliofile": "biblio.bib",
   "cite_by": "apalike",
   "current_citInitial": 1,
   "eqLabelWithNumbers": true,
   "eqNumInitial": 1,
   "hotkeys": {
    "equation": "meta-shift-y"
   },
   "labels_anchors": false,
   "latex_user_defs": false,
   "report_style_numbering": false,
   "user_envs_cfg": false
  },
  "toc": {
   "base_numbering": 1,
   "nav_menu": {},
   "number_sections": false,
   "sideBar": true,
   "skip_h1_title": false,
   "title_cell": "Table of Contents",
   "title_sidebar": "Contents",
   "toc_cell": false,
   "toc_position": {
    "height": "calc(100% - 180px)",
    "left": "10px",
    "top": "150px",
    "width": "353.483px"
   },
   "toc_section_display": true,
   "toc_window_display": true
  }
 },
 "nbformat": 4,
 "nbformat_minor": 2
}
